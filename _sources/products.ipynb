{
 "cells": [
  {
   "cell_type": "markdown",
   "metadata": {},
   "source": [
    "# Products\n",
    "\n",
    "> There is no point in being precise if you do not even know what you are talking about. --_John von Neumann_"
   ]
  },
  {
   "cell_type": "code",
   "execution_count": 1,
   "metadata": {
    "tags": [
     "hide-output"
    ]
   },
   "outputs": [
    {
     "data": {
      "text/html": [
       "<span style=\"white-space:pre; font-family: monospace\">Was ON -style=min\n",
       "</span>"
      ]
     },
     "execution_count": 1,
     "metadata": {},
     "output_type": "execute_result"
    },
    {
     "data": {
      "text/html": [
       "<span style=\"white-space:pre; font-family: monospace\">Was OFF\n",
       "</span>"
      ]
     },
     "execution_count": 1,
     "metadata": {},
     "output_type": "execute_result"
    }
   ],
   "source": [
    "⎕IO ← 0\n",
    "]box on\n",
    "]rows on"
   ]
  },
  {
   "cell_type": "markdown",
   "metadata": {},
   "source": [
    "We'll talk about outer and inner products in APL, two powerful features. Other resources on these topics: \n",
    "\n",
    "* [Mastering Dyalog APL](https://www.dyalog.com/uploads/documents/MasteringDyalogAPL.pdf) has an excellent section on products, from around page 387. \n",
    "* Dyalog docs on [outer product](http://help.dyalog.com/18.0/index.htm#Language/Primitive%20Operators/Outer%20Product.htm) and [inner product](http://help.dyalog.com/18.0/index.htm#Language/Primitive%20Operators/Inner%20Product.htm)\n",
    "* Marshall Lochbaum's talk on [outer products](https://mlochbaum.github.io/OuterProduct/)\n",
    "\n",
    "## Outer product"
   ]
  },
  {
   "cell_type": "markdown",
   "metadata": {},
   "source": [
    "Let's look at APL's dyadic [_Outer product_](https://help.dyalog.com/latest/#Language/Primitive%20Operators/Outer%20Product.htm) operator `∘.` - and by \"product\" in this case we don't mean multiplication, but as in outer product in the linear algebra sense. The canonical example of an outer product is to build a \"times table\":"
   ]
  },
  {
   "cell_type": "code",
   "execution_count": 2,
   "metadata": {},
   "outputs": [
    {
     "data": {
      "text/html": [
       "<span style=\"white-space:pre; font-family: monospace\">0 0  0  0  0  0  0  0  0  0\n",
       "0 1  2  3  4  5  6  7  8  9\n",
       "0 2  4  6  8 10 12 14 16 18\n",
       "0 3  6  9 12 15 18 21 24 27\n",
       "0 4  8 12 16 20 24 28 32 36\n",
       "0 5 10 15 20 25 30 35 40 45\n",
       "0 6 12 18 24 30 36 42 48 54\n",
       "0 7 14 21 28 35 42 49 56 63\n",
       "0 8 16 24 32 40 48 56 64 72\n",
       "0 9 18 27 36 45 54 63 72 81\n",
       "</span>"
      ]
     },
     "execution_count": 2,
     "metadata": {},
     "output_type": "execute_result"
    }
   ],
   "source": [
    "∘.×⍨⍳10"
   ]
  },
  {
   "cell_type": "markdown",
   "metadata": {},
   "source": [
    "To all intents and purposes, that's a nested for-loop which we could write out in Python along the lines of:\n",
    "\n",
    "```python\n",
    "for j in range(10):\n",
    "    for i in range(10):\n",
    "        print(f\"{i*j} \", end=\"\")\n",
    "    print()\n",
    "```\n",
    "apart from the fact that in APL, outer products are vectorised and operate on the whole arrays.\n",
    "\n",
    "The right side operand can be any dyadic function, including user-defined ones. For example:"
   ]
  },
  {
   "cell_type": "code",
   "execution_count": 3,
   "metadata": {},
   "outputs": [
    {
     "data": {
      "text/html": [
       "<span style=\"white-space:pre; font-family: monospace\">0 1 1 1 1 1 1 1 1 1\n",
       "0 0 1 1 1 1 1 1 1 1\n",
       "0 0 0 1 1 1 1 1 1 1\n",
       "0 0 0 0 1 1 1 1 1 1\n",
       "0 0 0 0 0 1 1 1 1 1\n",
       "0 0 0 0 0 0 1 1 1 1\n",
       "0 0 0 0 0 0 0 1 1 1\n",
       "0 0 0 0 0 0 0 0 1 1\n",
       "0 0 0 0 0 0 0 0 0 1\n",
       "0 0 0 0 0 0 0 0 0 0\n",
       "</span>"
      ]
     },
     "execution_count": 3,
     "metadata": {},
     "output_type": "execute_result"
    }
   ],
   "source": [
    "∘.<⍨⍳10"
   ]
  },
  {
   "cell_type": "markdown",
   "metadata": {},
   "source": [
    "The eagle-eyed reader might interject that we can achieve the same thing with [_Rank_](./rank.ipynb):"
   ]
  },
  {
   "cell_type": "code",
   "execution_count": 4,
   "metadata": {},
   "outputs": [
    {
     "data": {
      "text/html": [
       "<span style=\"white-space:pre; font-family: monospace\">0 1 1 1 1 1 1 1 1 1\n",
       "0 0 1 1 1 1 1 1 1 1\n",
       "0 0 0 1 1 1 1 1 1 1\n",
       "0 0 0 0 1 1 1 1 1 1\n",
       "0 0 0 0 0 1 1 1 1 1\n",
       "0 0 0 0 0 0 1 1 1 1\n",
       "0 0 0 0 0 0 0 1 1 1\n",
       "0 0 0 0 0 0 0 0 1 1\n",
       "0 0 0 0 0 0 0 0 0 1\n",
       "0 0 0 0 0 0 0 0 0 0\n",
       "</span>"
      ]
     },
     "execution_count": 4,
     "metadata": {},
     "output_type": "execute_result"
    }
   ],
   "source": [
    "(⍳10) <⍤0 1 ⊢ ⍳10"
   ]
  },
  {
   "cell_type": "markdown",
   "metadata": {},
   "source": [
    "If you realised that unprompted: well done -- this is a deep insight.\n",
    "\n",
    "```{tip}\n",
    "Outer product can be defined in terms of Rank:\n",
    "\n",
    "    ∘.f → f¨⍤0 99\n",
    "```\n",
    "\n",
    "The performance characteristics will differ though, for example"
   ]
  },
  {
   "cell_type": "code",
   "execution_count": 5,
   "metadata": {},
   "outputs": [
    {
     "data": {
      "text/html": [
       "<span style=\"white-space:pre; font-family: monospace\">                                                                    \n",
       "  x prod x → 5.1E¯4 |   0% ⎕⎕⎕⎕⎕⎕⎕⎕⎕⎕⎕⎕⎕⎕⎕⎕⎕⎕⎕⎕⎕⎕⎕⎕⎕⎕⎕              \n",
       "  x rank x → 7.6E¯4 | +49% ⎕⎕⎕⎕⎕⎕⎕⎕⎕⎕⎕⎕⎕⎕⎕⎕⎕⎕⎕⎕⎕⎕⎕⎕⎕⎕⎕⎕⎕⎕⎕⎕⎕⎕⎕⎕⎕⎕⎕⎕ \n",
       "</span>"
      ]
     },
     "execution_count": 5,
     "metadata": {},
     "output_type": "execute_result"
    }
   ],
   "source": [
    "prod ← ∘.×\n",
    "rank ← ×⍤0 1\n",
    "x←⍳1000\n",
    "]runtime -c \"x prod x\" \"x rank x\""
   ]
  },
  {
   "cell_type": "markdown",
   "metadata": {},
   "source": [
    "Here's an expression using an outer product that picks out the prime numbers between 0 and 20. Can you figure out how it works?"
   ]
  },
  {
   "cell_type": "code",
   "execution_count": 6,
   "metadata": {},
   "outputs": [
    {
     "data": {
      "text/html": [
       "<span style=\"white-space:pre; font-family: monospace\">2 3 5 7 11 13 17 19\n",
       "</span>"
      ]
     },
     "execution_count": 6,
     "metadata": {},
     "output_type": "execute_result"
    }
   ],
   "source": [
    "(2=+⌿0=x∘.|x)/x←⍳20"
   ]
  },
  {
   "cell_type": "markdown",
   "metadata": {},
   "source": [
    "## Inner product\n",
    "\n",
    "The [_Inner product_](https://help.dyalog.com/latest/#Language/Primitive%20Operators/Inner%20Product.htm), `f.g` is perhaps less obvious. An example of an inner product is actual [matrix multiplication](https://en.wikipedia.org/wiki/Matrix_multiplication):"
   ]
  },
  {
   "cell_type": "code",
   "execution_count": 1,
   "metadata": {},
   "outputs": [
    {
     "data": {
      "text/html": [
       "<span style=\"white-space:pre; font-family: monospace\">┌→────────┐\n",
       "↓ 3 2 0  8│\n",
       "│11 7 5  1│\n",
       "│ 4 9 6 10│\n",
       "└~────────┘\n",
       "</span>"
      ]
     },
     "execution_count": 1,
     "metadata": {},
     "output_type": "execute_result"
    },
    {
     "data": {
      "text/html": [
       "<span style=\"white-space:pre; font-family: monospace\">┌→──────┐\n",
       "↓8 10 11│\n",
       "│2  4  6│\n",
       "│5  1  7│\n",
       "│9  3  0│\n",
       "└~──────┘\n",
       "</span>"
      ]
     },
     "execution_count": 1,
     "metadata": {},
     "output_type": "execute_result"
    },
    {
     "data": {
      "text/html": [
       "<span style=\"white-space:pre; font-family: monospace\">┌→──────────┐\n",
       "↓100  62  45│\n",
       "│136 146 198│\n",
       "│170 112 140│\n",
       "└~──────────┘\n",
       "</span>"
      ]
     },
     "execution_count": 1,
     "metadata": {},
     "output_type": "execute_result"
    }
   ],
   "source": [
    "]DISPLAY A ← 3 4⍴3 2 0 8 11 7 5 1 4 9 6 10\n",
    "]DISPLAY B ← 4 3⍴8 10 11 2 4 6 5 1 7 9 3 0\n",
    "]DISPLAY A +.× B"
   ]
  },
  {
   "cell_type": "markdown",
   "metadata": {},
   "source": [
    "If you know how to multiply matrices, you'll understand what the inner product operator does: consider the top left element of the result, 100. How did we get that? First we multiply each number in the first row of A with the corresponding element in the first col of B:"
   ]
  },
  {
   "cell_type": "code",
   "execution_count": 8,
   "metadata": {},
   "outputs": [
    {
     "data": {
      "text/html": [
       "<span style=\"white-space:pre; font-family: monospace\">24 4 0 72\n",
       "</span>"
      ]
     },
     "execution_count": 8,
     "metadata": {},
     "output_type": "execute_result"
    }
   ],
   "source": [
    "⎕ ← row0col0prod ← A[0;]×B[;0]"
   ]
  },
  {
   "cell_type": "markdown",
   "metadata": {},
   "source": [
    "Then sum it:"
   ]
  },
  {
   "cell_type": "code",
   "execution_count": 9,
   "metadata": {},
   "outputs": [
    {
     "data": {
      "text/html": [
       "<span style=\"white-space:pre; font-family: monospace\">100\n",
       "</span>"
      ]
     },
     "execution_count": 9,
     "metadata": {},
     "output_type": "execute_result"
    }
   ],
   "source": [
    "+/row0col0prod"
   ]
  },
  {
   "cell_type": "markdown",
   "metadata": {},
   "source": [
    "Next element:"
   ]
  },
  {
   "cell_type": "code",
   "execution_count": 10,
   "metadata": {},
   "outputs": [
    {
     "data": {
      "text/html": [
       "<span style=\"white-space:pre; font-family: monospace\">62\n",
       "</span>"
      ]
     },
     "execution_count": 10,
     "metadata": {},
     "output_type": "execute_result"
    }
   ],
   "source": [
    "+/A[0;]×B[;1]"
   ]
  },
  {
   "cell_type": "markdown",
   "metadata": {},
   "source": [
    "We can apply inner product to many common problems where the impulse is to \"first apply one function, then reduce another over the result\". For example, given two strings of equal lengths, how many letters are the same? You might try first:"
   ]
  },
  {
   "cell_type": "code",
   "execution_count": 11,
   "metadata": {},
   "outputs": [
    {
     "data": {
      "text/html": [
       "<span style=\"white-space:pre; font-family: monospace\">3\n",
       "</span>"
      ]
     },
     "execution_count": 11,
     "metadata": {},
     "output_type": "execute_result"
    }
   ],
   "source": [
    "+/'GATTACA' = 'TATTCAG' ⍝ Equal-then-sum-reduce"
   ]
  },
  {
   "cell_type": "markdown",
   "metadata": {},
   "source": [
    "but this fits the inner product pattern nicely:"
   ]
  },
  {
   "cell_type": "code",
   "execution_count": 12,
   "metadata": {},
   "outputs": [
    {
     "data": {
      "text/html": [
       "<span style=\"white-space:pre; font-family: monospace\">3\n",
       "</span>"
      ]
     },
     "execution_count": 12,
     "metadata": {},
     "output_type": "execute_result"
    }
   ],
   "source": [
    "'GATTACA' +.= 'TATTCAG'"
   ]
  },
  {
   "cell_type": "markdown",
   "metadata": {},
   "source": [
    "## Calculating expected offspring"
   ]
  },
  {
   "cell_type": "markdown",
   "metadata": {},
   "source": [
    "Here's a problem from Project Rosalind, a bioinformatics problem collection, [Calculating Expected Offspring](http://rosalind.info/problems/iev/). \n",
    "\n",
    "We're given six integers, corresponding to the number of couples in a population possessing each genotype pairing for a given factor. In order, the six given integers represent the number of couples having the following genotypes:\n",
    "\n",
    "1. AA-AA\n",
    "1. AA-Aa\n",
    "1. AA-aa\n",
    "1. Aa-Aa\n",
    "1. Aa-aa\n",
    "1. aa-aa\n",
    "\n",
    "If each couple have two offspring, what is the expected number of offspring displaying the dominant phenotype (`A`) in the next generation?\n",
    "\n",
    "Let's say we're given the couples distribution as"
   ]
  },
  {
   "cell_type": "code",
   "execution_count": 1,
   "metadata": {},
   "outputs": [],
   "source": [
    "data ← 19083 17341 19657 16896 16197 18256"
   ]
  },
  {
   "cell_type": "markdown",
   "metadata": {},
   "source": [
    "I'm no biologist, but the way this works is that for each of the 6 possible genotype pairings we can see the probability of an offspring displaying the dominant phenotype, which is 1, 1, 1, 0.75, 0.5 and 0 respectively."
   ]
  },
  {
   "cell_type": "code",
   "execution_count": 3,
   "metadata": {},
   "outputs": [],
   "source": [
    "prob ← 1 1 1 0.75 0.5 0"
   ]
  },
  {
   "cell_type": "markdown",
   "metadata": {},
   "source": [
    "We need to multiply the data with the corresponding probabilities, and sum that up, and finally multiply by 2, as we have two offspring per couple. This can be neatly formulated as an inner product:"
   ]
  },
  {
   "cell_type": "code",
   "execution_count": 6,
   "metadata": {},
   "outputs": [
    {
     "data": {
      "text/html": [
       "<span style=\"white-space:pre; font-family: monospace\">153703\n",
       "</span>"
      ]
     },
     "execution_count": 6,
     "metadata": {},
     "output_type": "execute_result"
    }
   ],
   "source": [
    "2×data+.×prob ⍝ Same as 2× +/ data×prob"
   ]
  },
  {
   "cell_type": "markdown",
   "metadata": {},
   "source": [
    "## eXplanation operator\n",
    "\n",
    "A handy trick when figuring out products is to use the \"eXplanation\" operator, that [Adám Brudzewsky](https://aplwiki.com/wiki/Ad%C3%A1m_Brudzewsky) demonstrated in one of the [Cultivations](https://chat.stackexchange.com/transcript/52405?m=43945029#43945029):"
   ]
  },
  {
   "cell_type": "code",
   "execution_count": 13,
   "metadata": {},
   "outputs": [],
   "source": [
    "X ← {f←⍺⍺ ⋄ ⍺←⊢ ⋄ '(',⍺,(⎕CR'f'),⍵,')'} ⍝ The product eXplanation operator"
   ]
  },
  {
   "cell_type": "markdown",
   "metadata": {},
   "source": [
    "Using this we can visualise how Dyalog will calculate each element in a product -- inner and outer. For example, given "
   ]
  },
  {
   "cell_type": "code",
   "execution_count": 7,
   "metadata": {},
   "outputs": [
    {
     "data": {
      "text/html": [
       "<span style=\"white-space:pre; font-family: monospace\">┌→───────┐\n",
       "↓ 4  3 20│\n",
       "│17 12  5│\n",
       "└~───────┘\n",
       "</span>"
      ]
     },
     "execution_count": 7,
     "metadata": {},
     "output_type": "execute_result"
    },
    {
     "data": {
      "text/html": [
       "<span style=\"white-space:pre; font-family: monospace\">┌→────┐\n",
       "↓19 18│\n",
       "│10  8│\n",
       "│ 4  2│\n",
       "└~────┘\n",
       "</span>"
      ]
     },
     "execution_count": 7,
     "metadata": {},
     "output_type": "execute_result"
    },
    {
     "data": {
      "text/html": [
       "<span style=\"white-space:pre; font-family: monospace\">┌→──────┐\n",
       "↓186 136│\n",
       "│463 412│\n",
       "└~──────┘\n",
       "</span>"
      ]
     },
     "execution_count": 7,
     "metadata": {},
     "output_type": "execute_result"
    }
   ],
   "source": [
    "]DISPLAY A ← 2 3⍴6?20\n",
    "]DISPLAY B ← 3 2⍴6?20\n",
    "]DISPLAY A +.× B"
   ]
  },
  {
   "cell_type": "markdown",
   "metadata": {},
   "source": [
    "We can show how this was derived with `X`:"
   ]
  },
  {
   "cell_type": "code",
   "execution_count": 15,
   "metadata": {},
   "outputs": [
    {
     "data": {
      "text/html": [
       "<span style=\"white-space:pre; font-family: monospace\">┌────────────────────────────────────┬────────────────────────────────────┐\n",
       "│(( 3 × 18 )+(( 2 × 9 )+( 19 × 3 ))) │(( 3 × 17 )+(( 2 × 7 )+( 19 × 1 ))) │\n",
       "├────────────────────────────────────┼────────────────────────────────────┤\n",
       "│(( 16 × 18 )+(( 11 × 9 )+( 4 × 3 )))│(( 16 × 17 )+(( 11 × 7 )+( 4 × 1 )))│\n",
       "└────────────────────────────────────┴────────────────────────────────────┘\n",
       "</span>"
      ]
     },
     "execution_count": 15,
     "metadata": {},
     "output_type": "execute_result"
    }
   ],
   "source": [
    "A +X.(×X) B"
   ]
  },
  {
   "cell_type": "code",
   "execution_count": null,
   "metadata": {},
   "outputs": [],
   "source": []
  }
 ],
 "metadata": {
  "kernelspec": {
   "display_name": "Dyalog APL",
   "language": "apl",
   "name": "dyalog-kernel"
  },
  "language_info": {
   "file_extension": ".apl",
   "mimetype": "text/apl",
   "name": "APL"
  }
 },
 "nbformat": 4,
 "nbformat_minor": 4
}
