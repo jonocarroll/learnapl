{
 "cells": [
  {
   "cell_type": "markdown",
   "metadata": {},
   "source": [
    "# User commands\n",
    "\n",
    "> You know what your trouble is? You're the kind who\n",
    "always reads the handbook. Anything people build,\n",
    "any kind of technology, it's going to have some specific\n",
    "purpose. It's for doing something that somebody already\n",
    "understands. But if it's new technology, it'll open\n",
    "areas nobody's ever thought of before. You read the manual,\n",
    "man, and you won't play around with it, not the same way.\n",
    "And you get all funny when somebody else uses it to do\n",
    "something you never thought of. --_Willam Gibson_"
   ]
  },
  {
   "cell_type": "code",
   "execution_count": 1,
   "metadata": {
    "tags": [
     "hide-output"
    ]
   },
   "outputs": [
    {
     "data": {
      "text/html": [
       "<span style=\"white-space:pre; font-family: monospace\">\n",
       "Rebuilding user command cache... done\n",
       "\n",
       "Rebuilding user command cache... done\n",
       "</span>"
      ]
     },
     "execution_count": 1,
     "metadata": {},
     "output_type": "execute_result"
    },
    {
     "data": {
      "text/html": [
       "<span style=\"white-space:pre; font-family: monospace\">Was ON -style=min -trains=tree -fns=on\n",
       "</span>"
      ]
     },
     "execution_count": 1,
     "metadata": {},
     "output_type": "execute_result"
    },
    {
     "data": {
      "text/html": [
       "<span style=\"white-space:pre; font-family: monospace\">Was OFF\n",
       "</span>"
      ]
     },
     "execution_count": 1,
     "metadata": {},
     "output_type": "execute_result"
    }
   ],
   "source": [
    "⎕IO ← 0\n",
    "]box on -s=min -t=tree -f=on\n",
    "]rows on"
   ]
  },
  {
   "cell_type": "markdown",
   "metadata": {},
   "source": [
    "A Dyalog user command (UCMD) is a function called with a leading closing square bracket. There are two examples of such user commands in the previous cell, and we've seen a few others, like `]map` when we talked about namespaces and JSON. We can think of user commands as convenient short cuts to pieces of code that can be run without having to load up a workspace or `]link` (see, there's another one!) a directory on disk. \n",
    "\n",
    "It turns out we can write our own such commands, sporting a shell-like argument passing convention. Custom user commands are implemented as Dyalog scripted namespaces containing a set of _tradfns_, which we originally weren't supposed to cover. Consider this an exception. Dyalog has a guide to how you make and use user commands, unfortunately only as a [pdf](https://docs.dyalog.com/18.0/User%20Commands%20User%20Guide.pdf).\n",
    "\n",
    "```{note}\n",
    "UCMDs are written in the tradfn style which we haven't covered. You'll find tradfns easy to read -- the style is similar to Pascal or Modula2 with loops and the full set of conditionals. Take this chapter at face value, or read a bit of Dyalog's docs on the topic.\n",
    "```\n",
    "\n",
    "User commands that you create will be stored in a configurable directory, the default on MacOS being `~/MyUCMDs`. Once you start a new Dyalog session, each file in this directory will be loaded and cached. If you've ever wondered what\n",
    "\n",
    "    Rebuilding user command cache... done\n",
    "    \n",
    "means when you start Dyalog, well, now you know.\n",
    "\n",
    "## Our first UCMD\n",
    "\n",
    "Dyalog helpfully provides scaffolding for user commands:"
   ]
  },
  {
   "cell_type": "code",
   "execution_count": 2,
   "metadata": {},
   "outputs": [
    {
     "data": {
      "text/html": [
       "<span style=\"white-space:pre; font-family: monospace\">───────────────────────────────────────────────────────────────────────────────      \n",
       "                                                                                     \n",
       "]UCMD.UNew                                                                           \n",
       "                                                                                     \n",
       "Create one or more new user commands                                                 \n",
       "    ]UNew [[&lt;group&gt;.]&lt;name&gt;]                                                         \n",
       "                                                                                     \n",
       "[&lt;group&gt;.]&lt;name&gt;  name, optionally with group name, for new user command             \n",
       "                                                                                     \n",
       "NOTE:  this command will open an Edit window comprising skeleton code for development\n",
       "                                                                                     \n",
       "Example:                                                                             \n",
       "    To create a new command named \"Spiffy\":                                          \n",
       "        ]UNew Spiffy                                                                 \n",
       "                                                                                     \n",
       "</span>"
      ]
     },
     "execution_count": 2,
     "metadata": {},
     "output_type": "execute_result"
    }
   ],
   "source": [
    "]UNew -??"
   ]
  },
  {
   "cell_type": "markdown",
   "metadata": {},
   "source": [
    "Our first UCMD will allow us to retrieve pearls of wisdom from Kanye -- and -- drumroll -- optionally from country pop crossover Goddess Taylor Swift (via https://api.taylor.rest). So let's get the scaffolding up:"
   ]
  },
  {
   "cell_type": "code",
   "execution_count": 3,
   "metadata": {},
   "outputs": [
    {
     "data": {
      "text/html": [
       "<span style=\"white-space:pre; font-family: monospace\">/Users/stefan/MyUCMDs/MyCmd.dyalog\n",
       "</span>"
      ]
     },
     "execution_count": 3,
     "metadata": {},
     "output_type": "execute_result"
    }
   ],
   "source": [
    "]UNew Quote"
   ]
  },
  {
   "cell_type": "markdown",
   "metadata": {},
   "source": [
    "This should open an edit window with the following scaffolded namespace:"
   ]
  },
  {
   "cell_type": "code",
   "execution_count": null,
   "metadata": {},
   "outputs": [],
   "source": [
    "]dinput\n",
    ":Namespace MyCmd\n",
    "⍝ Custom user command\n",
    "\n",
    "    ⎕IO←1 ⋄ ⎕ML←1\n",
    "\n",
    "    ∇ r←List\n",
    "      r←⎕NS¨1⍴⊂⍬\n",
    "    ⍝ Name, group, short description and parsing rules\n",
    "      r.Name←⊂'Quote'\n",
    "      r.Group←⊂'MyCmds'\n",
    "      r[1].Desc←'Help text to appear for ] -?? and ]MYCMDS -?'\n",
    "      r.Parse←⊂'' ⍝ ENTER NUMBER OF ARGS AND OPTIONALLY -modifiers HERE\n",
    "    ∇\n",
    "\n",
    "    ∇ r←Run(cmd input)\n",
    "      :Select cmd\n",
    "      :Case 'Quote'\n",
    "          r←'command Quote in construction' ⍝ ENTER COMMAND CODE HERE\n",
    "      :EndSelect\n",
    "    ∇\n",
    "\n",
    "    ∇ r←level Help cmd\n",
    "      :Select cmd\n",
    "      :Case 'Quote'\n",
    "          r←'Help text to appear for ]MYCMDS.Quote -?'\n",
    "      :EndSelect\n",
    "    ∇\n",
    "\n",
    ":EndNamespace"
   ]
  },
  {
   "cell_type": "markdown",
   "metadata": {},
   "source": [
    "We should be able to run it directly via `]Quote`, or in a Notebook we may need to reset the cache first:"
   ]
  },
  {
   "cell_type": "code",
   "execution_count": 7,
   "metadata": {},
   "outputs": [
    {
     "data": {
      "text/html": [
       "<span style=\"white-space:pre; font-family: monospace\">\n",
       "Rebuilding user command cache... done\n",
       "93 commands reloaded\n",
       "</span>"
      ]
     },
     "execution_count": 7,
     "metadata": {},
     "output_type": "execute_result"
    }
   ],
   "source": [
    "]UReset"
   ]
  },
  {
   "cell_type": "code",
   "execution_count": 8,
   "metadata": {},
   "outputs": [
    {
     "data": {
      "text/html": [
       "<span style=\"white-space:pre; font-family: monospace\">command Quote in construction\n",
       "</span>"
      ]
     },
     "execution_count": 8,
     "metadata": {},
     "output_type": "execute_result"
    }
   ],
   "source": [
    "]Quote"
   ]
  },
  {
   "cell_type": "markdown",
   "metadata": {},
   "source": [
    "Let's tweak the `Run` function to get a quote from `kanye.rest` like we did in the chapter on `HttpCommand`:"
   ]
  },
  {
   "cell_type": "code",
   "execution_count": 9,
   "metadata": {},
   "outputs": [],
   "source": [
    "∇ r←Run(cmd input);hc\n",
    "  hc←⎕SE.SALT.Load'HttpCommand'\n",
    "  :Select cmd\n",
    "  :Case 'Quote'\n",
    "      r←(_←hc.GetJSON 'GET' 'https://api.kanye.rest/').Data.quote\n",
    "  :EndSelect\n",
    "∇"
   ]
  },
  {
   "cell_type": "code",
   "execution_count": 10,
   "metadata": {},
   "outputs": [
    {
     "data": {
      "text/html": [
       "<span style=\"white-space:pre; font-family: monospace\">\n",
       "Rebuilding user command cache... done\n",
       "93 commands reloaded\n",
       "</span>"
      ]
     },
     "execution_count": 10,
     "metadata": {},
     "output_type": "execute_result"
    }
   ],
   "source": [
    "]UReset"
   ]
  },
  {
   "cell_type": "code",
   "execution_count": 11,
   "metadata": {},
   "outputs": [
    {
     "data": {
      "text/html": [
       "<span style=\"white-space:pre; font-family: monospace\">I need an army of angels to cover me while I pull this sword out of the stone\n",
       "</span>"
      ]
     },
     "execution_count": 11,
     "metadata": {},
     "output_type": "execute_result"
    }
   ],
   "source": [
    "]Quote"
   ]
  },
  {
   "cell_type": "code",
   "execution_count": null,
   "metadata": {},
   "outputs": [],
   "source": []
  }
 ],
 "metadata": {
  "kernelspec": {
   "display_name": "Dyalog APL",
   "language": "apl",
   "name": "dyalog-kernel"
  },
  "language_info": {
   "file_extension": ".apl",
   "mimetype": "text/apl",
   "name": "APL"
  }
 },
 "nbformat": 4,
 "nbformat_minor": 4
}
