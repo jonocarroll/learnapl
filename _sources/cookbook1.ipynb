{
 "cells": [
  {
   "cell_type": "markdown",
   "metadata": {},
   "source": [
    "# Partitions\n",
    "\n",
    "> It's harder to read code than to write it. --_Joel Spolsky_"
   ]
  },
  {
   "cell_type": "code",
   "execution_count": 1,
   "metadata": {
    "tags": [
     "hide-output"
    ],
    "vscode": {
     "languageId": "apl"
    }
   },
   "outputs": [
    {
     "data": {
      "text/html": [
       "<span style=\"white-space:pre; font-family: monospace\">Was ON\n",
       "</span>"
      ]
     },
     "execution_count": 1,
     "metadata": {},
     "output_type": "execute_result"
    }
   ],
   "source": [
    "]box on"
   ]
  },
  {
   "attachments": {},
   "cell_type": "markdown",
   "metadata": {},
   "source": [
    "We often need to group or select items in an array based on some criterion -- perhaps stretches of items that are equal, or perhaps we have a boolean mask indicating which stretches of elements should be joined up.\n",
    "\n",
    "Other resources:\n",
    "* Dyalog docs [Partition](http://help.dyalog.com/latest/index.htm#Language/Primitive%20Functions/Partition.htm), [Partitioned enclose](http://help.dyalog.com/latest/index.htm#Language/Primitive%20Functions/Partitioned%20Enclose.htm)\n",
    "* [APLWiki](https://aplwiki.com/wiki/Partition_representations)\n",
    "* Cultivations: [partitioned enclose](https://xpqz.github.io/cultivations/Functions5.html#partitioned-enclose), [partition](https://xpqz.github.io/cultivations/Functions5.html#partition)\n",
    "\n",
    "```{note}\n",
    "This is a feature that different APL dialects treat differently. Dyalog's `⎕ML` setting allows a degree of conformity if you need it: if `⎕ML≥3`, the symbol `⊂` means the same as `⊆`. We'll use the default Dyalog approach throughout.\n",
    "```"
   ]
  },
  {
   "cell_type": "markdown",
   "metadata": {},
   "source": [
    "## Partition `⊆`\n",
    "\n",
    "The glyph [_Partition_](http://help.dyalog.com/18.0/index.htm#Language/Primitive%20Functions/Partition.htm), `⊆`, selects groups elements based on a vector where new selections are started where the corresponding element is larger than its predecessor. In its simplest form it's like _Compress_, but enclosing elements corresponding to stretches of 1s. Compare:"
   ]
  },
  {
   "cell_type": "code",
   "execution_count": 2,
   "metadata": {
    "vscode": {
     "languageId": "apl"
    }
   },
   "outputs": [
    {
     "data": {
      "text/html": [
       "<span style=\"white-space:pre; font-family: monospace\">┌───┬─┬────┬──┐\n",
       "│1 2│4│9 10│12│\n",
       "└───┴─┴────┴──┘\n",
       "</span>"
      ]
     },
     "execution_count": 2,
     "metadata": {},
     "output_type": "execute_result"
    },
    {
     "data": {
      "text/html": [
       "<span style=\"white-space:pre; font-family: monospace\">1 2 4 9 10 12\n",
       "</span>"
      ]
     },
     "execution_count": 2,
     "metadata": {},
     "output_type": "execute_result"
    }
   ],
   "source": [
    "1 1 0 1 0 0 0 0 1 1 0 1⊆⍳12 ⍝ Partition\n",
    "1 1 0 1 0 0 0 0 1 1 0 1/⍳12 ⍝ Compress"
   ]
  },
  {
   "cell_type": "markdown",
   "metadata": {},
   "source": [
    "This can be supremely handy: apply some predicate to an array to give a boolean vector. Use enclose to get the matching elements, grouped. As we noted above, the left argument array doesn't have to be Boolean, just integer. That gives us a bit more flexibility in our mapping."
   ]
  },
  {
   "cell_type": "markdown",
   "metadata": {},
   "source": [
    "## Partitioned enclose `A⊂B`\n",
    "\n",
    "[_Partitioned enclose_](http://help.dyalog.com/18.0/index.htm#Language/Primitive%20Functions/Partitioned%20Enclose.htm), `A⊂B`, groups items based on a Boolean mask where enclosures start on 1. For example:"
   ]
  },
  {
   "cell_type": "code",
   "execution_count": 5,
   "metadata": {
    "vscode": {
     "languageId": "apl"
    }
   },
   "outputs": [
    {
     "data": {
      "text/html": [
       "<span style=\"white-space:pre; font-family: monospace\">┌───┬───┬───┬───┬────┐\n",
       "│1 2│3 4│5 6│7 8│9 10│\n",
       "└───┴───┴───┴───┴────┘\n",
       "</span>"
      ]
     },
     "execution_count": 5,
     "metadata": {},
     "output_type": "execute_result"
    }
   ],
   "source": [
    "1 0 1 0 1 0 1 0 1 0⊂⍳10"
   ]
  },
  {
   "cell_type": "markdown",
   "metadata": {},
   "source": [
    "We can use this to group stretches of elements which are equal:"
   ]
  },
  {
   "cell_type": "code",
   "execution_count": 6,
   "metadata": {
    "vscode": {
     "languageId": "apl"
    }
   },
   "outputs": [
    {
     "data": {
      "text/html": [
       "<span style=\"white-space:pre; font-family: monospace\">┌─────────┬───┬─┬───────┬───┬───┐\n",
       "│1 1 1 1 1│2 2│1│4 4 4 4│1 1│2 2│\n",
       "└─────────┴───┴─┴───────┴───┴───┘\n",
       "</span>"
      ]
     },
     "execution_count": 6,
     "metadata": {},
     "output_type": "execute_result"
    }
   ],
   "source": [
    "{⍵⊂⍨1,2≠/⍵} 1 1 1 1 1 2 2 1 4 4 4 4 1 1 2 2"
   ]
  },
  {
   "cell_type": "markdown",
   "metadata": {},
   "source": [
    "We can apply the same technique to group based on sign:"
   ]
  },
  {
   "cell_type": "code",
   "execution_count": 7,
   "metadata": {
    "vscode": {
     "languageId": "apl"
    }
   },
   "outputs": [
    {
     "data": {
      "text/html": [
       "<span style=\"white-space:pre; font-family: monospace\">┌───┬─────┬─┬────────┬───┬─────┐\n",
       "│0 0│1 2 3│0│¯1 ¯7 ¯8│0 0│1 2 3│\n",
       "└───┴─────┴─┴────────┴───┴─────┘\n",
       "</span>"
      ]
     },
     "execution_count": 7,
     "metadata": {},
     "output_type": "execute_result"
    }
   ],
   "source": [
    "{⍵⊂⍨1,2≠/×⍵} 0 0 1 2 3 0 ¯1 ¯7 ¯8 0 0 1 2 3"
   ]
  },
  {
   "cell_type": "markdown",
   "metadata": {},
   "source": [
    "In the above two examples we generate the mask by a windowed reduction of size 2:"
   ]
  },
  {
   "cell_type": "code",
   "execution_count": 8,
   "metadata": {
    "vscode": {
     "languageId": "apl"
    }
   },
   "outputs": [
    {
     "data": {
      "text/html": [
       "<span style=\"white-space:pre; font-family: monospace\">0 1 0 0 1 1 0 0 1 0 1 0 0\n",
       "</span>"
      ]
     },
     "execution_count": 8,
     "metadata": {},
     "output_type": "execute_result"
    }
   ],
   "source": [
    "{2≠/×⍵} 0 0 1 2 3 0 ¯1 ¯7 ¯8 0 0 1 2 3"
   ]
  },
  {
   "cell_type": "markdown",
   "metadata": {},
   "source": [
    "but we also need to prepend a 1, as we want the first partition to start at the beginning.\n",
    "\n",
    "Note that the left argument doesn't have to be the same length as the right. If it's shorter, it will be padded with zeros, allowing us a convenient way to chop a vector into a head and tail:"
   ]
  },
  {
   "cell_type": "code",
   "execution_count": 22,
   "metadata": {
    "vscode": {
     "languageId": "apl"
    }
   },
   "outputs": [
    {
     "data": {
      "text/html": [
       "<span style=\"white-space:pre; font-family: monospace\">┌─┬─────────────────┐\n",
       "│0│1 2 3 4 5 6 7 8 9│\n",
       "└─┴─────────────────┘\n",
       "</span>"
      ]
     },
     "execution_count": 22,
     "metadata": {},
     "output_type": "execute_result"
    }
   ],
   "source": [
    "1 1⊂⍳10"
   ]
  },
  {
   "cell_type": "markdown",
   "metadata": {},
   "source": [
    "## Non-boolean left `⊂`\n",
    "\n",
    "From v18 of Dyalog, the left argument is no longer restricted to a Boolean array, which allows us to generate empty partitions:"
   ]
  },
  {
   "cell_type": "code",
   "execution_count": 23,
   "metadata": {
    "vscode": {
     "languageId": "apl"
    }
   },
   "outputs": [
    {
     "data": {
      "text/html": [
       "<span style=\"white-space:pre; font-family: monospace\">┌─────┬┬─────┬┬┬───┬─────────────────────────────────┐\n",
       "│0 1 2││3 4 5│││6 7│8 9 10 11 12 13 14 15 16 17 18 19│\n",
       "└─────┴┴─────┴┴┴───┴─────────────────────────────────┘\n",
       "</span>"
      ]
     },
     "execution_count": 23,
     "metadata": {},
     "output_type": "execute_result"
    }
   ],
   "source": [
    "1 0 0 2 0 0 3 0 1 ⊂ ⍳20"
   ]
  },
  {
   "cell_type": "markdown",
   "metadata": {},
   "source": [
    "We can think of each number as specifying how many partitions beyond its neighbor to the left it is. So 0 means same partition, 1 means new partition, 2 means \"skip one\", 3 means \"skip two\" etc. "
   ]
  },
  {
   "cell_type": "code",
   "execution_count": null,
   "metadata": {
    "vscode": {
     "languageId": "apl"
    }
   },
   "outputs": [],
   "source": []
  }
 ],
 "metadata": {
  "kernelspec": {
   "display_name": "Dyalog APL",
   "language": "apl",
   "name": "dyalog-kernel"
  },
  "language_info": {
   "file_extension": ".apl",
   "mimetype": "text/apl",
   "name": "APL"
  }
 },
 "nbformat": 4,
 "nbformat_minor": 4
}
