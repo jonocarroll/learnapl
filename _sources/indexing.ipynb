{
 "cells": [
  {
   "cell_type": "markdown",
   "metadata": {},
   "source": [
    "![indexing](./IMG/indexing.jpg)\n",
    "<span>Photo by <a href=\"https://unsplash.com/@jbsinger1970?utm_source=unsplash&amp;utm_medium=referral&amp;utm_content=creditCopyText\">Jonathan Singer</a> on <a href=\"https://unsplash.com/s/photos/bookshelf?utm_source=unsplash&amp;utm_medium=referral&amp;utm_content=creditCopyText\">Unsplash</a></span>\n",
    "\n",
    "# Indexing\n",
    "\n",
    "> Elegance is not a dispensable luxury but a factor that decides between success and failure. --_Edsger Dijkstra_\n",
    "\n",
    "There are several ways of indexing into arrays and vectors. Some might even say \"too many\". A good start point is to read up on [indexing](https://help.dyalog.com/latest/#Language/Primitive%20Functions/Indexing.htm) in Dyalog's documentation, and Richard Park's [webinar](https://dyalog.tv/Webinar/?v=AgYDvSF2FfU) on the topic is extremely helpful, too.\n",
    "\n",
    "But as before, we begin by setting our _index origin_, extra important as we're about to discuss indexing. Whilst we're at it, let's also ensure we have output boxing turned on."
   ]
  },
  {
   "cell_type": "code",
   "execution_count": 1,
   "metadata": {},
   "outputs": [],
   "source": [
    "⎕IO ← 0"
   ]
  },
  {
   "cell_type": "code",
   "execution_count": 1,
   "metadata": {
    "tags": [
     "hide-output"
    ]
   },
   "outputs": [
    {
     "data": {
      "text/html": [
       "<span style=\"white-space:pre; font-family: monospace\">Was ON\n",
       "</span>"
      ]
     },
     "execution_count": 1,
     "metadata": {},
     "output_type": "execute_result"
    }
   ],
   "source": [
    "]box on"
   ]
  },
  {
   "cell_type": "markdown",
   "metadata": {},
   "source": [
    "Anyway -- back to indexing. Crucially, elements of vectors and matrices are always scalars, but a scalar can be an enclosed vector or matrix. Indexing with `[]` or `⌷` returns the _box_, not the element _in_ the box. However, if the element is a simple scalar, it's the same thing.\n",
    "\n",
    "Let's look at _bracket indexing_ first."
   ]
  },
  {
   "cell_type": "markdown",
   "metadata": {},
   "source": [
    "## Bracket indexing `[ ]`\n",
    "\n",
    "[_Bracket indexing_](http://help.dyalog.com/18.0/index.htm#Language/Primitive%20Functions/Indexing.htm) is similar to how C-like languages index into arrays:"
   ]
  },
  {
   "cell_type": "code",
   "execution_count": 7,
   "metadata": {},
   "outputs": [
    {
     "data": {
      "text/html": [
       "<span style=\"white-space:pre; font-family: monospace\">9 2 6 3 5 8 7 4 0 1\n",
       "</span>"
      ]
     },
     "execution_count": 7,
     "metadata": {},
     "output_type": "execute_result"
    },
    {
     "data": {
      "text/html": [
       "<span style=\"white-space:pre; font-family: monospace\">8\n",
       "</span>"
      ]
     },
     "execution_count": 7,
     "metadata": {},
     "output_type": "execute_result"
    }
   ],
   "source": [
    "⎕ ← v ← 9 2 6 3 5 8 7 4 0 1\n",
    "v[5]    ⍝ Grab the cell at index 5"
   ]
  },
  {
   "cell_type": "markdown",
   "metadata": {},
   "source": [
    "However, unlike C (and its ilk), the indexing expression can be a vector, or even a higher-rank array:"
   ]
  },
  {
   "cell_type": "code",
   "execution_count": 8,
   "metadata": {},
   "outputs": [
    {
     "data": {
      "text/html": [
       "<span style=\"white-space:pre; font-family: monospace\">8 6\n",
       "</span>"
      ]
     },
     "execution_count": 8,
     "metadata": {},
     "output_type": "execute_result"
    }
   ],
   "source": [
    "v[5 2]  ⍝ Grab the cells at indices 5 and 2"
   ]
  },
  {
   "cell_type": "markdown",
   "metadata": {},
   "source": [
    "We can mutate the vector or array via a bracket index, too:"
   ]
  },
  {
   "cell_type": "code",
   "execution_count": 7,
   "metadata": {},
   "outputs": [
    {
     "data": {
      "text/html": [
       "<span style=\"white-space:pre; font-family: monospace\">┌→───────────────────┐\n",
       "│9 1 7 ¯1 3 6 2 5 8 0│\n",
       "└~───────────────────┘\n",
       "</span>"
      ]
     },
     "execution_count": 7,
     "metadata": {},
     "output_type": "execute_result"
    }
   ],
   "source": [
    "v[3] ← ¯1\n",
    "v"
   ]
  },
  {
   "cell_type": "markdown",
   "metadata": {},
   "source": [
    "Of course, this being APL, this idea extends to any shape of array, either by separating the axes by semi-colon:"
   ]
  },
  {
   "cell_type": "code",
   "execution_count": 9,
   "metadata": {},
   "outputs": [
    {
     "data": {
      "text/html": [
       "<span style=\"white-space:pre; font-family: monospace\">┌→────┐\n",
       "↓4 1 6│\n",
       "│5 2 9│\n",
       "│7 8 3│\n",
       "└~────┘\n",
       "</span>"
      ]
     },
     "execution_count": 9,
     "metadata": {},
     "output_type": "execute_result"
    },
    {
     "data": {
      "text/html": [
       "<span style=\"white-space:pre; font-family: monospace\">2\n",
       "</span>"
      ]
     },
     "execution_count": 9,
     "metadata": {},
     "output_type": "execute_result"
    },
    {
     "data": {
      "text/html": [
       "<span style=\"white-space:pre; font-family: monospace\">5 2 9\n",
       "</span>"
      ]
     },
     "execution_count": 9,
     "metadata": {},
     "output_type": "execute_result"
    },
    {
     "data": {
      "text/html": [
       "<span style=\"white-space:pre; font-family: monospace\">1 2 8\n",
       "</span>"
      ]
     },
     "execution_count": 9,
     "metadata": {},
     "output_type": "execute_result"
    }
   ],
   "source": [
    "]DISPLAY m ← 3 3⍴4 1 6 5 2 9 7 8 3 ⍝ a 3×3 matrix\n",
    "m[1;1]  ⍝ Row 1, col 1\n",
    "m[1;]   ⍝ Row 1\n",
    "m[;1]   ⍝ Col 1"
   ]
  },
  {
   "cell_type": "markdown",
   "metadata": {},
   "source": [
    "or by supplying one or more _enclosed vectors_, each with shape equal to the _rank of the array_:"
   ]
  },
  {
   "cell_type": "code",
   "execution_count": 50,
   "metadata": {},
   "outputs": [
    {
     "data": {
      "text/html": [
       "<span style=\"white-space:pre; font-family: monospace\">┌─────┐\n",
       "│5 6 8│\n",
       "└─────┘\n",
       "</span>"
      ]
     },
     "execution_count": 50,
     "metadata": {},
     "output_type": "execute_result"
    }
   ],
   "source": [
    "m[⊂1 1] ⍝ Centre"
   ]
  },
  {
   "cell_type": "code",
   "execution_count": 23,
   "metadata": {},
   "outputs": [
    {
     "data": {
      "text/html": [
       "<span style=\"white-space:pre; font-family: monospace\">┌─────┬─────┬─────┐\n",
       "│1 2 3│5 6 8│4 5 1│\n",
       "└─────┴─────┴─────┘\n",
       "</span>"
      ]
     },
     "execution_count": 23,
     "metadata": {},
     "output_type": "execute_result"
    }
   ],
   "source": [
    "m[(0 0)(1 1)(2 2)] ⍝ Three points along the main diagonal"
   ]
  },
  {
   "cell_type": "markdown",
   "metadata": {},
   "source": [
    "As indicated above, bracket indexing references _cells_, not the _values_ enclosed in the cells. For numeric or character scalars, there is no difference, but the difference is clear for a nested array:"
   ]
  },
  {
   "cell_type": "code",
   "execution_count": 51,
   "metadata": {},
   "outputs": [
    {
     "data": {
      "text/html": [
       "<span style=\"white-space:pre; font-family: monospace\">┌─────┬─────┬─────┐\n",
       "│1 2 3│3 2 1│4 5 6│\n",
       "├─────┼─────┼─────┤\n",
       "│5 3 1│5 6 8│7 1 2│\n",
       "├─────┼─────┼─────┤\n",
       "│4 3 9│3 7 6│4 5 1│\n",
       "└─────┴─────┴─────┘\n",
       "</span>"
      ]
     },
     "execution_count": 51,
     "metadata": {},
     "output_type": "execute_result"
    }
   ],
   "source": [
    "⎕ ← m ← 3 3⍴(1 2 3)(3 2 1)(4 5 6)(5 3 1)(5 6 8)(7 1 2)(4 3 9)(3 7 6)(4 5 1)"
   ]
  },
  {
   "cell_type": "code",
   "execution_count": 11,
   "metadata": {},
   "outputs": [
    {
     "data": {
      "text/html": [
       "<span style=\"white-space:pre; font-family: monospace\">┌─────────┐\n",
       "│ ┌→────┐ │\n",
       "│ │5 6 8│ │\n",
       "│ └~────┘ │\n",
       "└∊────────┘\n",
       "</span>"
      ]
     },
     "execution_count": 11,
     "metadata": {},
     "output_type": "execute_result"
    }
   ],
   "source": [
    "]DISPLAY m[1;1] ⍝ Note the returned enclosure."
   ]
  },
  {
   "cell_type": "markdown",
   "metadata": {},
   "source": [
    "## Functional indexing `⌷`\n",
    "\n",
    "Whilst bracket-style indexing feels immediately familiar for those of us coming from a different programming language tradition, it is somewhat frowned upon amongst APLers. One reason for this is that it doesn't follow APL's normal strict right-to-left evaluation order as the indexing expression always must be evaluated first. As a consequence, it just stands out a bit: it's neither a monadic or dyadic function call. Another reason is that bracket indexing doesn't work in _tacit_ functions, a topic we'll cover in a [later chapter](./tacit.ipynb)."
   ]
  },
  {
   "cell_type": "markdown",
   "metadata": {},
   "source": [
    "There is an alternative native indexing method: _functional_, or [_Squad indexing_](https://aplwiki.com/wiki/Index_(function)). [_Squad_](http://help.dyalog.com/18.0/index.htm#Language/Primitive%20Functions/Index.htm), \"squashed quad\", is the glyph `⌷`. It can be seen mnemonically as the two square indexing brackets pushed together. _Squad_ fixes some of the issues surrounding the bracket indexing method above (but introduces some new ones, too). As _Squad_ is a normal dyadic function, it behaves just like any other of APL's dyadic functions:"
   ]
  },
  {
   "cell_type": "code",
   "execution_count": 25,
   "metadata": {},
   "outputs": [
    {
     "data": {
      "text/html": [
       "<span style=\"white-space:pre; font-family: monospace\">┌─────┬─────┬─────┐\n",
       "│1 2 3│3 2 1│4 5 6│\n",
       "├─────┼─────┼─────┤\n",
       "│5 3 1│5 6 8│7 1 2│\n",
       "├─────┼─────┼─────┤\n",
       "│4 3 9│3 7 6│4 5 1│\n",
       "└─────┴─────┴─────┘\n",
       "</span>"
      ]
     },
     "execution_count": 25,
     "metadata": {},
     "output_type": "execute_result"
    }
   ],
   "source": [
    "⎕ ← m ← 3 3⍴(1 2 3)(3 2 1)(4 5 6)(5 3 1)(5 6 8)(7 1 2)(4 3 9)(3 7 6)(4 5 1)"
   ]
  },
  {
   "cell_type": "code",
   "execution_count": 26,
   "metadata": {},
   "outputs": [
    {
     "data": {
      "text/html": [
       "<span style=\"white-space:pre; font-family: monospace\">┌─────┬─────┬─────┐\n",
       "│5 3 1│5 6 8│7 1 2│\n",
       "└─────┴─────┴─────┘\n",
       "</span>"
      ]
     },
     "execution_count": 26,
     "metadata": {},
     "output_type": "execute_result"
    }
   ],
   "source": [
    "1⌷m       ⍝ Row 1"
   ]
  },
  {
   "cell_type": "code",
   "execution_count": 27,
   "metadata": {},
   "outputs": [
    {
     "data": {
      "text/html": [
       "<span style=\"white-space:pre; font-family: monospace\">┌─────┐\n",
       "│5 6 8│\n",
       "└─────┘\n",
       "</span>"
      ]
     },
     "execution_count": 27,
     "metadata": {},
     "output_type": "execute_result"
    }
   ],
   "source": [
    "1 1⌷m     ⍝ Cell 1 1"
   ]
  },
  {
   "cell_type": "code",
   "execution_count": 28,
   "metadata": {},
   "outputs": [
    {
     "data": {
      "text/html": [
       "<span style=\"white-space:pre; font-family: monospace\">┌─────┬─────┬─────┐\n",
       "│5 3 1│5 6 8│7 1 2│\n",
       "├─────┼─────┼─────┤\n",
       "│4 3 9│3 7 6│4 5 1│\n",
       "└─────┴─────┴─────┘\n",
       "</span>"
      ]
     },
     "execution_count": 28,
     "metadata": {},
     "output_type": "execute_result"
    }
   ],
   "source": [
    "(⊂1 2)⌷m  ⍝ Rows 1 and 2"
   ]
  },
  {
   "cell_type": "markdown",
   "metadata": {},
   "source": [
    "However, selecting cells from other axes than the first requires you to specify the axes explicitly with square brackets, which arguably looks a bit clumsy. Note that this isn't a bracket index, even though it looks like one. For example, here's how we select cell 2 from axis 1 (i.e. third column): "
   ]
  },
  {
   "cell_type": "code",
   "execution_count": 53,
   "metadata": {},
   "outputs": [
    {
     "data": {
      "text/html": [
       "<span style=\"white-space:pre; font-family: monospace\">┌─────┬─────┬─────┐\n",
       "│4 5 6│7 1 2│4 5 1│\n",
       "└─────┴─────┴─────┘\n",
       "</span>"
      ]
     },
     "execution_count": 53,
     "metadata": {},
     "output_type": "execute_result"
    }
   ],
   "source": [
    "2⌷[1]m"
   ]
  },
  {
   "cell_type": "markdown",
   "metadata": {},
   "source": [
    "or we could avoid the bracketed axis specification by picking the row from the matrix's _Transpose_, `⍉`:"
   ]
  },
  {
   "cell_type": "code",
   "execution_count": 54,
   "metadata": {},
   "outputs": [
    {
     "data": {
      "text/html": [
       "<span style=\"white-space:pre; font-family: monospace\">┌─────┬─────┬─────┐\n",
       "│4 5 6│7 1 2│4 5 1│\n",
       "└─────┴─────┴─────┘\n",
       "</span>"
      ]
     },
     "execution_count": 54,
     "metadata": {},
     "output_type": "execute_result"
    }
   ],
   "source": [
    "2⌷⍉m"
   ]
  },
  {
   "cell_type": "markdown",
   "metadata": {},
   "source": [
    "_Squad index_ does not let you mutate the array.\n",
    "\n",
    "Another issue with _Squad_ is that it flips the conventions established by the bracket indexing method. Let's return to a couple of our examples from the bracket indexing section, and compare those with how you'd achieve the same thing with _Squad_:"
   ]
  },
  {
   "cell_type": "code",
   "execution_count": 29,
   "metadata": {},
   "outputs": [],
   "source": [
    "n ← 3 3⍴4 1 6 5 2 9 7 8 3"
   ]
  },
  {
   "cell_type": "code",
   "execution_count": 30,
   "metadata": {},
   "outputs": [
    {
     "data": {
      "text/html": [
       "<span style=\"white-space:pre; font-family: monospace\">2\n",
       "</span>"
      ]
     },
     "execution_count": 30,
     "metadata": {},
     "output_type": "execute_result"
    }
   ],
   "source": [
    "n[⊂1 1] ⍝ Centre"
   ]
  },
  {
   "cell_type": "code",
   "execution_count": 31,
   "metadata": {},
   "outputs": [
    {
     "data": {
      "text/html": [
       "<span style=\"white-space:pre; font-family: monospace\">4 2 3\n",
       "</span>"
      ]
     },
     "execution_count": 31,
     "metadata": {},
     "output_type": "execute_result"
    }
   ],
   "source": [
    "n[(0 0)(1 1)(2 2)] ⍝ Three points along the main diagonal"
   ]
  },
  {
   "cell_type": "markdown",
   "metadata": {},
   "source": [
    "_Squad_'s indexing expression, unlike that of bracket indexing's, specifies the coordinate for each axis in turn:"
   ]
  },
  {
   "cell_type": "code",
   "execution_count": 14,
   "metadata": {},
   "outputs": [
    {
     "data": {
      "text/html": [
       "<span style=\"white-space:pre; font-family: monospace\">2\n",
       "</span>"
      ]
     },
     "execution_count": 14,
     "metadata": {},
     "output_type": "execute_result"
    }
   ],
   "source": [
    "1 1⌷n ⍝ Centre"
   ]
  },
  {
   "cell_type": "markdown",
   "metadata": {},
   "source": [
    "If we enclose the indexing expression we pick major cells, which arguably \"feels\" odd compared with how bracket indexing behaves:"
   ]
  },
  {
   "cell_type": "code",
   "execution_count": 52,
   "metadata": {},
   "outputs": [
    {
     "data": {
      "text/html": [
       "<span style=\"white-space:pre; font-family: monospace\">5 2 9\n",
       "5 2 9\n",
       "</span>"
      ]
     },
     "execution_count": 52,
     "metadata": {},
     "output_type": "execute_result"
    }
   ],
   "source": [
    "(⊂1 1)⌷n ⍝ Repeat row 1"
   ]
  },
  {
   "cell_type": "markdown",
   "metadata": {},
   "source": [
    "So, how do we choose the three diagonal cells with _Squad_? With great difficulty, as it turns out. For this we need _Sane indexing_, up next."
   ]
  },
  {
   "cell_type": "markdown",
   "metadata": {},
   "source": [
    "## Sane indexing\n",
    "\n",
    "Some APLers are unhappy with _Squad_'s semantics, and have proposed yet another mechanism, called _Sane indexing_ or [_Select_](https://aplwiki.com/wiki/Select). It's not yet built into Dyalog, but it can be defined as:"
   ]
  },
  {
   "cell_type": "code",
   "execution_count": 35,
   "metadata": {},
   "outputs": [],
   "source": [
    "I←⌷⍨∘⊃⍨⍤0 99 ⍝ Sane indexing"
   ]
  },
  {
   "cell_type": "markdown",
   "metadata": {},
   "source": [
    "For the purposes of this explanation, it matters less how that incantation hangs together (we'll return to how this works in the section on the [_Rank_](./rank.ipynb) operator, `⍤`, later), but it does have a set of nice properties for the user.\n",
    "\n",
    "Compare and contrast _Squad_ and _Sane indexing_:"
   ]
  },
  {
   "cell_type": "code",
   "execution_count": 36,
   "metadata": {},
   "outputs": [
    {
     "data": {
      "text/html": [
       "<span style=\"white-space:pre; font-family: monospace\">┌─────┬─────┬─────┐\n",
       "│1 2 3│3 2 1│4 5 6│\n",
       "├─────┼─────┼─────┤\n",
       "│5 3 1│5 6 8│7 1 2│\n",
       "├─────┼─────┼─────┤\n",
       "│4 3 9│3 7 6│4 5 1│\n",
       "└─────┴─────┴─────┘\n",
       "</span>"
      ]
     },
     "execution_count": 36,
     "metadata": {},
     "output_type": "execute_result"
    }
   ],
   "source": [
    "⎕ ← m ← 3 3⍴(1 2 3)(3 2 1)(4 5 6)(5 3 1)(5 6 8)(7 1 2)(4 3 9)(3 7 6)(4 5 1)"
   ]
  },
  {
   "cell_type": "markdown",
   "metadata": {},
   "source": [
    "Index with a vector:"
   ]
  },
  {
   "cell_type": "code",
   "execution_count": 37,
   "metadata": {},
   "outputs": [
    {
     "data": {
      "text/html": [
       "<span style=\"white-space:pre; font-family: monospace\">┌─────┬─────┬─────┐\n",
       "│5 3 1│5 6 8│7 1 2│\n",
       "├─────┼─────┼─────┤\n",
       "│4 3 9│3 7 6│4 5 1│\n",
       "└─────┴─────┴─────┘\n",
       "</span>"
      ]
     },
     "execution_count": 37,
     "metadata": {},
     "output_type": "execute_result"
    },
    {
     "data": {
      "text/html": [
       "<span style=\"white-space:pre; font-family: monospace\">┌─────┐\n",
       "│7 1 2│\n",
       "└─────┘\n",
       "</span>"
      ]
     },
     "execution_count": 37,
     "metadata": {},
     "output_type": "execute_result"
    }
   ],
   "source": [
    "1 2I m   ⍝ Sane:  select leading axis cells 1 and 2, or m[1 2;]\n",
    "1 2⌷ m   ⍝ Squad: select m[⊂1 2]"
   ]
  },
  {
   "cell_type": "markdown",
   "metadata": {},
   "source": [
    "Index with an _enclosed_ vector:"
   ]
  },
  {
   "cell_type": "code",
   "execution_count": 39,
   "metadata": {},
   "outputs": [
    {
     "data": {
      "text/html": [
       "<span style=\"white-space:pre; font-family: monospace\">┌─────┐\n",
       "│7 1 2│\n",
       "└─────┘\n",
       "</span>"
      ]
     },
     "execution_count": 39,
     "metadata": {},
     "output_type": "execute_result"
    },
    {
     "data": {
      "text/html": [
       "<span style=\"white-space:pre; font-family: monospace\">┌─────┬─────┬─────┐\n",
       "│5 3 1│5 6 8│7 1 2│\n",
       "├─────┼─────┼─────┤\n",
       "│4 3 9│3 7 6│4 5 1│\n",
       "└─────┴─────┴─────┘\n",
       "</span>"
      ]
     },
     "execution_count": 39,
     "metadata": {},
     "output_type": "execute_result"
    }
   ],
   "source": [
    "(⊂1 2)I m  ⍝ Sane:  select m[⊂1 2]\n",
    "(⊂1 2)⌷ m  ⍝ Squad: select m[1 2;]"
   ]
  },
  {
   "cell_type": "markdown",
   "metadata": {},
   "source": [
    "So you can think of _Sane indexing_ as _Squad_, but closer to the behaviour of the bracket indexing expression. We can finally select a bunch of cells by index:"
   ]
  },
  {
   "cell_type": "code",
   "execution_count": 40,
   "metadata": {},
   "outputs": [
    {
     "data": {
      "text/html": [
       "<span style=\"white-space:pre; font-family: monospace\">┌─────┬─────┬─────┐\n",
       "│1 2 3│7 1 2│4 5 1│\n",
       "└─────┴─────┴─────┘\n",
       "</span>"
      ]
     },
     "execution_count": 40,
     "metadata": {},
     "output_type": "execute_result"
    }
   ],
   "source": [
    "(0 0)(1 2)(2 2)I m ⍝ Multiple cells by index, like m[(0 0)(1 2)(2 2)]"
   ]
  },
  {
   "cell_type": "markdown",
   "metadata": {},
   "source": [
    "## Boolean indexing: compress"
   ]
  },
  {
   "cell_type": "markdown",
   "metadata": {},
   "source": [
    "But wait! There's more to APL indexing. In fact, much of APL's expressive power comes from its central application of bit-Boolean arrays, and it's typically highly optimised. It's a concept you don't often see in non-array languages, but you may have been exposed to limited forms of it from bolt-on array libraries such as Python's [NumPy](https://numpy.org/). Similar functionality can be achieved using a [filter](https://docs.python.org/3/library/functions.html#filter) function taking a predicate in other languages.\n",
    "\n",
    "The core idea is actually quite simple: select cells from an array by using a Boolean array as the indexing method, where a 1 means \"yes, this one\" and a 0 means \"nope, not this one\". We use [_Compress_](http://help.dyalog.com/18.0/index.htm#Language/Primitive%20Functions/Replicate.htm) to do this in APL, one of the several things represented by a forward slash `/`."
   ]
  },
  {
   "cell_type": "code",
   "execution_count": 41,
   "metadata": {},
   "outputs": [
    {
     "data": {
      "text/html": [
       "<span style=\"white-space:pre; font-family: monospace\">2 4 5 7 8\n",
       "</span>"
      ]
     },
     "execution_count": 41,
     "metadata": {},
     "output_type": "execute_result"
    }
   ],
   "source": [
    "data   ← 0 1 2 3 4 5 6 7 8 9\n",
    "select ← 0 0 1 0 1 1 0 1 1 0 ⍝ Select elements 2, 4, 5, 7 and 8\n",
    "select/data"
   ]
  },
  {
   "cell_type": "markdown",
   "metadata": {},
   "source": [
    "_Compress_ is really a special case of the _Replicate_ function, where the left argument is a Boolean vector. However, we can view the left argument more generally as a specification of how many times we should pick each element. In the compression case, that's either 1 or 0. In the more general case we need not constrain ourselves to binary -- we can pick _any_ number:"
   ]
  },
  {
   "cell_type": "code",
   "execution_count": 16,
   "metadata": {},
   "outputs": [
    {
     "data": {
      "text/html": [
       "<span style=\"white-space:pre; font-family: monospace\">┌→────────────────────────────────┐\n",
       "│0 1 1 1 4 4 4 4 4 6 6 6 6 6 6 6 9│\n",
       "└~────────────────────────────────┘\n",
       "</span>"
      ]
     },
     "execution_count": 16,
     "metadata": {},
     "output_type": "execute_result"
    }
   ],
   "source": [
    "select ← 1 3 0 0 5 0 7 0 0 1\n",
    "select/data"
   ]
  },
  {
   "cell_type": "markdown",
   "metadata": {},
   "source": [
    "_Replicate_ and _Compress_ apply along the given axis in higher-rank arrays, either via _Replicate first_ (`⌿`) or by specifiying the axis explicitly with the [_bracket axis notation_](https://help.dyalog.com/latest/#Language/Primitive%20Operators/Axis%20with%20Dyadic%20Operand.htm), `/[axis]`:"
   ]
  },
  {
   "cell_type": "code",
   "execution_count": 42,
   "metadata": {},
   "outputs": [
    {
     "data": {
      "text/html": [
       "<span style=\"white-space:pre; font-family: monospace\">┌→────┐\n",
       "↓0 6 3│\n",
       "│2 5 1│\n",
       "│4 7 8│\n",
       "└~────┘\n",
       "</span>"
      ]
     },
     "execution_count": 42,
     "metadata": {},
     "output_type": "execute_result"
    }
   ],
   "source": [
    "m ← 3 3⍴9?9\n",
    "]DISPLAY m"
   ]
  },
  {
   "cell_type": "code",
   "execution_count": 43,
   "metadata": {},
   "outputs": [],
   "source": [
    "select ← 0 1 0"
   ]
  },
  {
   "cell_type": "code",
   "execution_count": 44,
   "metadata": {},
   "outputs": [
    {
     "data": {
      "text/html": [
       "<span style=\"white-space:pre; font-family: monospace\">2 5 1\n",
       "</span>"
      ]
     },
     "execution_count": 44,
     "metadata": {},
     "output_type": "execute_result"
    }
   ],
   "source": [
    "select⌿m ⍝ Replicate first"
   ]
  },
  {
   "cell_type": "code",
   "execution_count": 45,
   "metadata": {},
   "outputs": [
    {
     "data": {
      "text/html": [
       "<span style=\"white-space:pre; font-family: monospace\">6\n",
       "5\n",
       "7\n",
       "</span>"
      ]
     },
     "execution_count": 45,
     "metadata": {},
     "output_type": "execute_result"
    }
   ],
   "source": [
    "select/m ⍝ Replicate"
   ]
  },
  {
   "cell_type": "markdown",
   "metadata": {},
   "source": [
    "## Pick `⊃`"
   ]
  },
  {
   "cell_type": "markdown",
   "metadata": {},
   "source": [
    "Yet another way to index into arrays is to use [_Pick_](http://help.dyalog.com/18.0/index.htm#Language/Primitive%20Functions/Pick.htm). _Pick_ eh... picks _elements_, not boxes, which often comes in handy. A monadic _Pick_ picks the first element."
   ]
  },
  {
   "cell_type": "code",
   "execution_count": 49,
   "metadata": {},
   "outputs": [
    {
     "data": {
      "text/html": [
       "<span style=\"white-space:pre; font-family: monospace\">┌─────┬─────┬─────┐\n",
       "│1 2 3│3 2 1│4 5 6│\n",
       "├─────┼─────┼─────┤\n",
       "│5 3 1│5 6 8│7 1 2│\n",
       "├─────┼─────┼─────┤\n",
       "│4 3 9│3 7 6│4 5 1│\n",
       "└─────┴─────┴─────┘\n",
       "</span>"
      ]
     },
     "execution_count": 49,
     "metadata": {},
     "output_type": "execute_result"
    }
   ],
   "source": [
    "⎕ ← m ← 3 3⍴(1 2 3)(3 2 1)(4 5 6)(5 3 1)(5 6 8)(7 1 2)(4 3 9)(3 7 6)(4 5 1)"
   ]
  },
  {
   "cell_type": "markdown",
   "metadata": {},
   "source": [
    "Element at 1;1 - note, no box:"
   ]
  },
  {
   "cell_type": "code",
   "execution_count": 48,
   "metadata": {},
   "outputs": [
    {
     "data": {
      "text/html": [
       "<span style=\"white-space:pre; font-family: monospace\">5\n",
       "</span>"
      ]
     },
     "execution_count": 48,
     "metadata": {},
     "output_type": "execute_result"
    }
   ],
   "source": [
    "(⊂1 1)⊃m"
   ]
  },
  {
   "cell_type": "markdown",
   "metadata": {},
   "source": [
    "First element - note, no box:"
   ]
  },
  {
   "cell_type": "code",
   "execution_count": 46,
   "metadata": {},
   "outputs": [
    {
     "data": {
      "text/html": [
       "<span style=\"white-space:pre; font-family: monospace\">0\n",
       "</span>"
      ]
     },
     "execution_count": 46,
     "metadata": {},
     "output_type": "execute_result"
    }
   ],
   "source": [
    "⊃m"
   ]
  },
  {
   "cell_type": "markdown",
   "metadata": {},
   "source": [
    "## Reach indexing\n",
    "\n",
    "_Reach indexing_ is how you access elements of nested arrays. Note that nested arrays carry with them performance penalties and are best avoided if at all possible."
   ]
  },
  {
   "cell_type": "code",
   "execution_count": 21,
   "metadata": {},
   "outputs": [
    {
     "data": {
      "text/html": [
       "<span style=\"white-space:pre; font-family: monospace\">┌─────────┬───────┬─────────┐\n",
       "│┌────┬─┐ │┌───┬─┐│┌────┬─┐ │\n",
       "││Adam│1│ ││Bob│2│││Carl│3│ │\n",
       "│└────┴─┘ │└───┴─┘│└────┴─┘ │\n",
       "├─────────┼───────┼─────────┤\n",
       "│┌─────┬─┐│┌───┬─┐│┌─────┬─┐│\n",
       "││Danni│4│││Eve│5│││Frank│6││\n",
       "│└─────┴─┘│└───┴─┘│└─────┴─┘│\n",
       "└─────────┴───────┴─────────┘\n",
       "</span>"
      ]
     },
     "execution_count": 21,
     "metadata": {},
     "output_type": "execute_result"
    },
    {
     "data": {
      "text/html": [
       "<span style=\"white-space:pre; font-family: monospace\">┌───┐\n",
       "│Bob│\n",
       "└───┘\n",
       "</span>"
      ]
     },
     "execution_count": 21,
     "metadata": {},
     "output_type": "execute_result"
    },
    {
     "data": {
      "text/html": [
       "<span style=\"white-space:pre; font-family: monospace\">┌────┬─┐\n",
       "│Adam│6│\n",
       "└────┴─┘\n",
       "</span>"
      ]
     },
     "execution_count": 21,
     "metadata": {},
     "output_type": "execute_result"
    }
   ],
   "source": [
    "⎕ ← G ← 2 3⍴('Adam' 1)('Bob' 2)('Carl' 3)('Danni' 4)('Eve' 5)('Frank' 6)\n",
    "G[⊂(0 1)0] ⍝ First element of the vector nested at ⊂0 1 of G\n",
    "G[((0 0)0)((1 2)1)]"
   ]
  },
  {
   "cell_type": "markdown",
   "metadata": {},
   "source": [
    "## Assignable indexing expressions"
   ]
  },
  {
   "cell_type": "markdown",
   "metadata": {},
   "source": [
    "As we saw above, bracket indexing is _assignable_, meaning that we can mutate the array. It is not the only assignable indexing expression in APL. The full list of _selective assignment functions_ is available from the Dyalog [documentation](http://help.dyalog.com/latest/index.htm#Language/Primitive%20Functions/Assignment%20Selective.htm). It's worth studying this manual page, as it unlocks quite a few crafty ways of getting data into arrays.\n",
    "\n",
    "For example, we can change the diagonal of a matrix by assigning directly to a [dyadic _Transpose_](./dyadictrn.ipynb) by noting that `0 0⍉m` is the main diagonal of the matrix `m`:"
   ]
  },
  {
   "cell_type": "code",
   "execution_count": 19,
   "metadata": {},
   "outputs": [
    {
     "data": {
      "text/html": [
       "<span style=\"white-space:pre; font-family: monospace\">┌→────┐\n",
       "↓5 7 8│\n",
       "│4 3 6│\n",
       "│1 0 2│\n",
       "└~────┘\n",
       "</span>"
      ]
     },
     "execution_count": 19,
     "metadata": {},
     "output_type": "execute_result"
    },
    {
     "data": {
      "text/html": [
       "<span style=\"white-space:pre; font-family: monospace\">┌→───────┐\n",
       "↓¯1  7  8│\n",
       "│ 4 ¯1  6│\n",
       "│ 1  0 ¯1│\n",
       "└~───────┘\n",
       "</span>"
      ]
     },
     "execution_count": 19,
     "metadata": {},
     "output_type": "execute_result"
    }
   ],
   "source": [
    "]DISPLAY m ← 3 3⍴9?9\n",
    "(0 0⍉m) ← ¯1 ¯1 ¯1 ⍝ 0 0⍉m is the main diagonal.\n",
    "]DISPLAY m"
   ]
  },
  {
   "cell_type": "markdown",
   "metadata": {},
   "source": [
    "Indeed, we can even assign via Boolean indexing expressions, which might not be immediately obvious:"
   ]
  },
  {
   "cell_type": "code",
   "execution_count": 20,
   "metadata": {},
   "outputs": [
    {
     "data": {
      "text/html": [
       "<span style=\"white-space:pre; font-family: monospace\">┌→───────────────────────┐\n",
       "│0 1 ¯1 3 ¯1 ¯1 6 ¯1 ¯1 9│\n",
       "└~───────────────────────┘\n",
       "</span>"
      ]
     },
     "execution_count": 20,
     "metadata": {},
     "output_type": "execute_result"
    }
   ],
   "source": [
    "data   ← 0 1 2 3 4 5 6 7 8 9\n",
    "select ← 0 0 1 0 1 1 0 1 1 0\n",
    "\n",
    "(select/data) ← ¯1 ¯1 ¯1 ¯1 ¯1\n",
    "data"
   ]
  },
  {
   "cell_type": "markdown",
   "metadata": {},
   "source": [
    "Perhaps even less obvious is assigning to _Take_:"
   ]
  },
  {
   "cell_type": "code",
   "execution_count": 1,
   "metadata": {},
   "outputs": [
    {
     "data": {
      "text/html": [
       "<span style=\"white-space:pre; font-family: monospace\">This is a string\n",
       "</span>"
      ]
     },
     "execution_count": 1,
     "metadata": {},
     "output_type": "execute_result"
    },
    {
     "data": {
      "text/html": [
       "<span style=\"white-space:pre; font-family: monospace\">**is is a string\n",
       "</span>"
      ]
     },
     "execution_count": 1,
     "metadata": {},
     "output_type": "execute_result"
    }
   ],
   "source": [
    "⎕ ← s ← 'This is a string'\n",
    "(2↑s) ← '**'\n",
    "s"
   ]
  },
  {
   "cell_type": "markdown",
   "metadata": {},
   "source": [
    "...or even _Compress each_:"
   ]
  },
  {
   "cell_type": "code",
   "execution_count": 22,
   "metadata": {},
   "outputs": [
    {
     "data": {
      "text/html": [
       "<span style=\"white-space:pre; font-family: monospace\">┌→─────────────────────────────────────────┐\n",
       "│ ┌→───┐ ┌→─┐ ┌→┐ ┌→─────┐ ┌→──────┐ ┌→──┐ │\n",
       "│ │Th*s│ │*s│ │a│ │str*ng│ │w*thout│ │*s.│ │\n",
       "│ └────┘ └──┘ └─┘ └──────┘ └───────┘ └───┘ │\n",
       "└∊─────────────────────────────────────────┘\n",
       "</span>"
      ]
     },
     "execution_count": 22,
     "metadata": {},
     "output_type": "execute_result"
    }
   ],
   "source": [
    "s←'This' 'is' (,'a') 'string' 'without' 'is.'\n",
    "((s='i')/¨s)←'*'\n",
    "s"
   ]
  }
 ],
 "metadata": {
  "kernelspec": {
   "display_name": "Dyalog APL",
   "language": "apl",
   "name": "dyalog-kernel"
  },
  "language_info": {
   "file_extension": ".apl",
   "mimetype": "text/apl",
   "name": "APL"
  }
 },
 "nbformat": 4,
 "nbformat_minor": 4
}
