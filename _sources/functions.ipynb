{
 "cells": [
  {
   "cell_type": "markdown",
   "metadata": {},
   "source": [
    "<meta name=\"format-detection\" content=\"telephone=no\">\n",
    "\n",
    "# Direct functions and operators\n",
    "\n",
    ">  I made up the term \"object-oriented,\" and I can tell you I did not have C++ in mind.\n",
    "\\--_Alan Kay_"
   ]
  },
  {
   "cell_type": "markdown",
   "metadata": {},
   "source": [
    "Until now, we've mainly used APL as a toolkit for array manipulation using its built-in primitives. Sure, it goes a long way, but to fully take advantage of it, we also need to be able to create our own functions and operators. Fortunately, the syntax -- if we can even call it that -- for user-defined functions, is super-simple. As someone said on the APL Orchard chat room, all you need to do is \"slap curly braces around your code, and you're done\". It's not _quite_ that simple, but not too far off.\n",
    "\n",
    "The definition of a _dfn_ (direct function) is enclosed in a pair of curly braces. It's what's known as an anonymous function, or a lambda, in other languages, meaning that there is no syntactic sugar for naming a function beyond ordinary assignment using _Gets_, `←`:\n",
    "\n",
    "```apl\n",
    "name ← { \n",
    "   ⍝ expressions\n",
    "}\n",
    "```\n",
    "\n",
    "First a bit of unavoidable [yak shaving](https://xkcd.com/349/): if a dfn fits entirely on a single line, you can type it out directly in the RIDE IDE. So far, so expected. If your dfn extends across multiple lines, you can't (at the time of writing) just type it in. Dyalog is working on enhancing this. \n",
    "\n",
    "Instead, the most convenient way to enter such a function is to say\n",
    "\n",
    "    )ed name\n",
    "   \n",
    "if you want to create a function called `name`. RIDE will open its function editor and let you enter your code there. Once you want to test your function, you first need to save it, which in APL-speak is called \"to fix your function\". The default way (and you're unlikely to ever discover this by yourself) to fix (save) your function is to hit <kbd>esc</kbd>. Yes, really. Fortunately -- and I recommend you do so right now -- RIDE allows you to re-bind keystrokes by clicking on the little keyboard symbol in the top-right corner.\n",
    "\n",
    "Locate the row that says \"Fix the current function\" and map that to the key combo that is `save` on your platform. And whilst you're there, make a note of the keys binding to \"Forward\" and \"Backward\" -- they default to <kbd>ctrl-shift-enter</kbd> and <kbd>ctrl-shift-backspace</kbd>. In the REPL, these mean forward/back in the history of executed lines, like the arrow keys in the shell. The arrow keys instead move up and down spatially, in the _output_, still, to me an incomprehensible design decision. You might also want to rebind \"Strong interrupt\" to <kbd>ctrl-c</kbd> while you're at it.\n",
    "\n",
    "The other thing to note is that in RIDE there is no visual cue that an editor window contains unsaved changes. This is sure to bite you sooner or later.\n",
    "\n",
    "In a Jupyter notebook, like here, entering functions might feel a bit more familiar: just type them into a cell. The only quirk is that in order to enter a multi-line dfn, you need to start the cell with `]dinput` (which isn't needed in a RIDE edit window). You _can_ actually use the `]dinput` way of entering a multi-line function in the interpreter REPL, too, but (in my opinion) it's rather cumbersome unless you're just cutting and pasting from somewhere else. In the upcoming (at the time of writing) version 18.1 there is experimental support for being able to type in multi-line functions directly in the REPL, similar to how that works in Python's REPL.\n",
    "\n",
    "First, our now familiar prelude:"
   ]
  },
  {
   "cell_type": "code",
   "execution_count": 1,
   "metadata": {
    "tags": [
     "hide-output"
    ]
   },
   "outputs": [
    {
     "data": {
      "text/html": [
       "<span style=\"white-space:pre; font-family: monospace\">Was ON\n",
       "</span>"
      ]
     },
     "execution_count": 1,
     "metadata": {},
     "output_type": "execute_result"
    },
    {
     "data": {
      "text/html": [
       "<span style=\"white-space:pre; font-family: monospace\">Was OFF\n",
       "</span>"
      ]
     },
     "execution_count": 1,
     "metadata": {},
     "output_type": "execute_result"
    }
   ],
   "source": [
    "⎕IO ← 0\n",
    "]box on\n",
    "]rows on"
   ]
  },
  {
   "cell_type": "markdown",
   "metadata": {},
   "source": [
    "We're also going to make some assertions, so let's have a helper function for that, courtesy of APL legend Roger Hui (and not speculating on its inner workings for now):"
   ]
  },
  {
   "cell_type": "code",
   "execution_count": 17,
   "metadata": {},
   "outputs": [],
   "source": [
    "assert ← {⍺ ← 'assertion failure' ⋄ 0∊⍵: ⍺ ⎕signal 8 ⋄ shy ← 0}"
   ]
  },
  {
   "cell_type": "markdown",
   "metadata": {},
   "source": [
    "## Left and right arguments: `⍺`, `⍵`"
   ]
  },
  {
   "cell_type": "code",
   "execution_count": 11,
   "metadata": {},
   "outputs": [],
   "source": [
    "]dinput\n",
    "MyFirstFunction ← {\n",
    "    ⍝ Add left and right\n",
    "    ⍺+⍵\n",
    "}"
   ]
  },
  {
   "cell_type": "code",
   "execution_count": 12,
   "metadata": {},
   "outputs": [
    {
     "data": {
      "text/html": [
       "<span style=\"white-space:pre; font-family: monospace\">130\n",
       "</span>"
      ]
     },
     "execution_count": 12,
     "metadata": {},
     "output_type": "execute_result"
    }
   ],
   "source": [
    "32 MyFirstFunction 98"
   ]
  },
  {
   "cell_type": "markdown",
   "metadata": {},
   "source": [
    "The first thing to note is the glyphs `⍺` and `⍵`; the Greek letters alpha and omega. Alpha, the first letter of the Greek alphabet, is bound to the function's left argument, and omega, the last letter of the Greek alphabet, is bound to the function's right argument."
   ]
  },
  {
   "cell_type": "markdown",
   "metadata": {},
   "source": [
    "The second thing to learn is that APL expressions are separated by newline (or the diamond glyph, `⋄` which we'll get to later). We could rewrite the above function to use an intermediate variable:"
   ]
  },
  {
   "cell_type": "code",
   "execution_count": 4,
   "metadata": {},
   "outputs": [],
   "source": [
    "]dinput\n",
    "Sum ← {\n",
    "    ⍝ Add left and right\n",
    "    total ← ⍺+⍵\n",
    "    total\n",
    "}"
   ]
  },
  {
   "cell_type": "code",
   "execution_count": 5,
   "metadata": {},
   "outputs": [
    {
     "data": {
      "text/html": [
       "<span style=\"white-space:pre; font-family: monospace\">130\n",
       "</span>"
      ]
     },
     "execution_count": 5,
     "metadata": {},
     "output_type": "execute_result"
    }
   ],
   "source": [
    "32 Sum 98"
   ]
  },
  {
   "cell_type": "markdown",
   "metadata": {},
   "source": [
    "The third thing is that there is no \"return\" statement. The function returns the first non-assigned value. It's worth letting this sink in: a function returns at the first point you do anything that isn't an assignment. In the function above, the return point is us just stating the variable `total`.\n",
    "\n",
    "## Default left argument\n",
    "\n",
    "A useful feature is that you can set a default value for the left argument, `⍺`. Compare: "
   ]
  },
  {
   "cell_type": "code",
   "execution_count": 13,
   "metadata": {},
   "outputs": [
    {
     "data": {
      "text/html": [
       "<span style=\"white-space:pre; font-family: monospace\">0\n",
       "</span>"
      ]
     },
     "execution_count": 13,
     "metadata": {},
     "output_type": "execute_result"
    },
    {
     "data": {
      "text/html": [
       "<span style=\"white-space:pre; font-family: monospace\">156\n",
       "</span>"
      ]
     },
     "execution_count": 13,
     "metadata": {},
     "output_type": "execute_result"
    }
   ],
   "source": [
    "{⍺ ← ¯99 ⋄ ⍺+⍵} 99\n",
    "57 {⍺ ← ¯99 ⋄ ⍺+⍵} 99"
   ]
  },
  {
   "cell_type": "markdown",
   "metadata": {},
   "source": [
    "This way a function can behave in different ways depending on if it is called monadically or dyadically. If you give a value to `⍺` with `←`, then `⍺` will have this value if you didn't pass a left argument to the function. On the other hand, if you _do_ pass a left argument, the \"alpha gets\" line has no effect. When defaulting the left argument this way, note that this only works for the _first_ time you give a value to alpha, which is perhaps obvious when you think of it:"
   ]
  },
  {
   "cell_type": "code",
   "execution_count": 14,
   "metadata": {},
   "outputs": [
    {
     "data": {
      "text/html": [
       "<span style=\"white-space:pre; font-family: monospace\">0\n",
       "</span>"
      ]
     },
     "execution_count": 14,
     "metadata": {},
     "output_type": "execute_result"
    }
   ],
   "source": [
    "{⍺ ← ¯99 ⋄ ⍺ ← ¯999999 ⋄ ⍺+⍵} 99"
   ]
  },
  {
   "cell_type": "markdown",
   "metadata": {},
   "source": [
    "Setting a default value for the left argument is a useful tool if you write recursive dfns, which typically accumulate their result on the left argument. This way you can call the function monadically to start, but subsequent iterations can use the left argument to build up the result. We'll talk more about recursion later in the chapter on [iteration techniques](./iteration.ipynb), but here's a taster to demonstrate the default left argument technique. The glyph _Del_ (`∇`) is a reference to the innermost function:"
   ]
  },
  {
   "cell_type": "code",
   "execution_count": 16,
   "metadata": {},
   "outputs": [],
   "source": [
    "]dinput\n",
    "sum ← {\n",
    "    ⍺ ← 0       ⍝ Initialise the accumulator\n",
    "    0=≢⍵:⍺      ⍝ If right arg empty vector, return accumulator, see below!\n",
    "    (⍺+⊃⍵)∇1↓⍵  ⍝ Add head to accumulator, recurse over tail\n",
    "}"
   ]
  },
  {
   "cell_type": "code",
   "execution_count": 17,
   "metadata": {},
   "outputs": [
    {
     "data": {
      "text/html": [
       "<span style=\"white-space:pre; font-family: monospace\">55\n",
       "</span>"
      ]
     },
     "execution_count": 17,
     "metadata": {},
     "output_type": "execute_result"
    },
    {
     "data": {
      "text/html": [
       "<span style=\"white-space:pre; font-family: monospace\">155\n",
       "</span>"
      ]
     },
     "execution_count": 17,
     "metadata": {},
     "output_type": "execute_result"
    }
   ],
   "source": [
    "sum ⍳10\n",
    "100 sum ⍳10"
   ]
  },
  {
   "cell_type": "markdown",
   "metadata": {},
   "source": [
    "## Alternation"
   ]
  },
  {
   "cell_type": "markdown",
   "metadata": {},
   "source": [
    "What about alternation? We got a brief view of a conditional return in the example just above -- a [_guard statement_](https://help.dyalog.com/latest/#Language/Defined%20Functions%20and%20Operators/DynamicFunctions/Guards.htm). Recall that there is no if-statement for us. A _guard_, defined with a colon, says, if the expression to the left of the colon is true, return from the function with the value to the right of the colon. A contrived example:"
   ]
  },
  {
   "cell_type": "code",
   "execution_count": 18,
   "metadata": {},
   "outputs": [],
   "source": [
    "]dinput\n",
    "Palinish ← {\n",
    "    rev ← ⊖⍵ ⍝ Reverse the right arg\n",
    "    rev≡⍵: 1 ⍝ If right arg matches its own reverse, return 1\n",
    "    0        ⍝ Else, return 0\n",
    "}"
   ]
  },
  {
   "cell_type": "code",
   "execution_count": 19,
   "metadata": {},
   "outputs": [
    {
     "data": {
      "text/html": [
       "<span style=\"white-space:pre; font-family: monospace\">1\n",
       "</span>"
      ]
     },
     "execution_count": 19,
     "metadata": {},
     "output_type": "execute_result"
    },
    {
     "data": {
      "text/html": [
       "<span style=\"white-space:pre; font-family: monospace\">0\n",
       "</span>"
      ]
     },
     "execution_count": 19,
     "metadata": {},
     "output_type": "execute_result"
    },
    {
     "data": {
      "text/html": [
       "<span style=\"white-space:pre; font-family: monospace\">1\n",
       "</span>"
      ]
     },
     "execution_count": 19,
     "metadata": {},
     "output_type": "execute_result"
    }
   ],
   "source": [
    "Palinish 1 2 3 2 1\n",
    "Palinish 1 2 3 4 5\n",
    "Palinish 3"
   ]
  },
  {
   "cell_type": "markdown",
   "metadata": {},
   "source": [
    "For the avoidance of doubt, we could of course have written that as"
   ]
  },
  {
   "cell_type": "code",
   "execution_count": 21,
   "metadata": {},
   "outputs": [
    {
     "data": {
      "text/html": [
       "<span style=\"white-space:pre; font-family: monospace\">1\n",
       "</span>"
      ]
     },
     "execution_count": 21,
     "metadata": {},
     "output_type": "execute_result"
    }
   ],
   "source": [
    "{⍵≡⊖⍵} 1 2 3 2 1 ⍝ Anonymous (unnamed) version"
   ]
  },
  {
   "cell_type": "markdown",
   "metadata": {},
   "source": [
    "Note that execution flow does _not_ carry on after a guard expression, even if that was an assignment. This requires some thought when writing code that needs to conditionally \"do something\" and then carry on, as illustrated in the following meaningless Python-like snippet:\n",
    "\n",
    "```python\n",
    "def foo(arg):\n",
    "    fum = 57\n",
    "    fee = 8\n",
    "    if flerp(arg) < 47:\n",
    "        fee = 92\n",
    "        fum = flumm(arg)\n",
    "    return fee + fum\n",
    "```"
   ]
  },
  {
   "cell_type": "markdown",
   "metadata": {},
   "source": [
    "Actually, we can turn that into APL trivially, using only what we already know:"
   ]
  },
  {
   "cell_type": "code",
   "execution_count": 23,
   "metadata": {},
   "outputs": [],
   "source": [
    "foo ← {47>flerp ⍵: 92+flumm ⍵ ⋄ 57+8} ⍝ Note: diamond separator"
   ]
  },
  {
   "cell_type": "markdown",
   "metadata": {},
   "source": [
    "Let's investigate some possible patterns for achieving a flow where execution carries on following an \"if-then-else\" branch. On way is to use an anonymous function, in essence like Python's\n",
    "\n",
    "```python\n",
    "a = 42 if answer else -99\n",
    "```"
   ]
  },
  {
   "cell_type": "code",
   "execution_count": 26,
   "metadata": {},
   "outputs": [],
   "source": [
    "]dinput\n",
    "foo ← {\n",
    "    answer ← ⍵\n",
    "    a ← {⍵:42 ⋄ ¯99} answer\n",
    "    ⍝ ...execution follows here\n",
    "    ⍝ do something with a\n",
    "}"
   ]
  },
  {
   "cell_type": "markdown",
   "metadata": {},
   "source": [
    "In this case, as `answer` is a boolean, we could have avoided the inner function entirely by simply picking the values from a 2-element vector (note: need `⎕IO←0` for this to work):"
   ]
  },
  {
   "cell_type": "code",
   "execution_count": null,
   "metadata": {},
   "outputs": [],
   "source": [
    "]dinput\n",
    "foo ← {⎕IO←0\n",
    "    answer ← ⍵\n",
    "    a ← answer⊃¯99 42\n",
    "    ⍝ ...execution follows here\n",
    "    ⍝ do something with a\n",
    "}"
   ]
  },
  {
   "cell_type": "markdown",
   "metadata": {},
   "source": [
    "With the first technique (the anonymous function) we have scope to extend the work done in each branch by making the function more complex, but ultimately it still returns a value. What if we need to modify multiple values? We could of course return an array of things, that's a perfectly valid approach. \n",
    "\n",
    "Name scoping rules in Dyalog are a mixture between dynamic and lexical scope. Here's what Dyalog's [docs](http://help.dyalog.com/18.0/index.htm#Language/Defined%20Functions%20and%20Operators/DynamicFunctions/Static%20Name%20Scope.htm) say about it:\n",
    "\n",
    "> When an inner (nested) dfn refers to a name, the interpreter searches for it by looking outwards through enclosing dfns, rather than searching back along the state indicator.\n",
    "\n",
    "Lexical scope is almost certainly \"what you expect\". However, as Dyalog has no dedicated syntax for declaring a variable beyond giving it a value, if you need to modify a variable not introduced in the innermost dfn, we need a way to indicate this.\n",
    "\n",
    "Consider the following:"
   ]
  },
  {
   "cell_type": "code",
   "execution_count": 15,
   "metadata": {},
   "outputs": [],
   "source": [
    "]dinput\n",
    "foo ← {\n",
    "    a ← 45\n",
    "    _ ← {a←¯99}⍬\n",
    "    a\n",
    "}"
   ]
  },
  {
   "cell_type": "code",
   "execution_count": 19,
   "metadata": {},
   "outputs": [
    {
     "data": {
      "text/html": [
       "<span style=\"white-space:pre; font-family: monospace\">45\n",
       "</span>"
      ]
     },
     "execution_count": 19,
     "metadata": {},
     "output_type": "execute_result"
    }
   ],
   "source": [
    "foo ⍬ ⍝ Note: 45, not ¯99"
   ]
  },
  {
   "cell_type": "markdown",
   "metadata": {},
   "source": [
    "The innermost function creates a _new_ variable with lexical scope, with the name _a_. So how _do_ you modify state defined outside a function? This is where _modified assignment_ comes in. \n",
    "\n",
    "## Modified Assignment\n",
    "\n",
    "[_Modified assignment_](https://help.dyalog.com/latest/#Language/Primitive%20Operators/Assignment%20Modified.htm) should feel familiar to any C or Python programmers amongst you:\n",
    "\n",
    "```python\n",
    "# Modified assignment, Python-style\n",
    "a = 45\n",
    "a += 45 # a is now 90\n",
    "```\n",
    "In APL, we can also modify an existing variable's value via a function, for example:"
   ]
  },
  {
   "cell_type": "code",
   "execution_count": 18,
   "metadata": {},
   "outputs": [],
   "source": [
    "]dinput\n",
    "foo ← {\n",
    "    a ← 45\n",
    "    _ ← {a +← 45}⍬\n",
    "    a\n",
    "}"
   ]
  },
  {
   "cell_type": "code",
   "execution_count": 19,
   "metadata": {},
   "outputs": [
    {
     "data": {
      "text/html": [
       "<span style=\"white-space:pre; font-family: monospace\">90\n",
       "</span>"
      ]
     },
     "execution_count": 19,
     "metadata": {},
     "output_type": "execute_result"
    }
   ],
   "source": [
    "⎕ ← r ← foo ⍬\n",
    "assert r=90"
   ]
  },
  {
   "cell_type": "markdown",
   "metadata": {},
   "source": [
    "The supremely useful, but perhaps non-intuitive kicker: you can use modified assignment with _Right tack_ (`⊢`) to _set_ values:"
   ]
  },
  {
   "cell_type": "code",
   "execution_count": 2,
   "metadata": {},
   "outputs": [],
   "source": [
    "]dinput\n",
    "foo ← {\n",
    "    a ← 45\n",
    "    _ ← {a ⊢← ¯99}⍬\n",
    "    a\n",
    "}"
   ]
  },
  {
   "cell_type": "code",
   "execution_count": 5,
   "metadata": {},
   "outputs": [
    {
     "data": {
      "text/html": [
       "<span style=\"white-space:pre; font-family: monospace\">¯99\n",
       "</span>"
      ]
     },
     "execution_count": 5,
     "metadata": {},
     "output_type": "execute_result"
    }
   ],
   "source": [
    "⎕ ← r ← foo ⍬\n",
    "assert r=¯99"
   ]
  },
  {
   "cell_type": "markdown",
   "metadata": {},
   "source": [
    "We've already met a bunch of [selectable assignment](http://help.dyalog.com/18.0/Content/Language/Primitive%20Functions/Assignment%20Selective.htm#SelectiveAssignment) expressions when we talked about [indexing](./indexing.ipynb). We can use all of those here. For example, we can mutate cells in a matrix using bracket indexing:"
   ]
  },
  {
   "cell_type": "code",
   "execution_count": 53,
   "metadata": {},
   "outputs": [],
   "source": [
    "]dinput\n",
    "foo ← {\n",
    "    a ← 3 3⍴1 ⍝ 3×3 matrix of all 1\n",
    "    _ ← {a[1;1] ← 0}⍬\n",
    "    a\n",
    "}"
   ]
  },
  {
   "cell_type": "code",
   "execution_count": 54,
   "metadata": {},
   "outputs": [
    {
     "data": {
      "text/html": [
       "<span style=\"white-space:pre; font-family: monospace\">┌→────┐\n",
       "↓1 1 1│\n",
       "│1 0 1│\n",
       "│1 1 1│\n",
       "└~────┘\n",
       "</span>"
      ]
     },
     "execution_count": 54,
     "metadata": {},
     "output_type": "execute_result"
    }
   ],
   "source": [
    "⎕ ← r ← foo ⍬\n",
    "assert r≡3 3⍴1 1 1 1 0 1 1 1 1 "
   ]
  },
  {
   "cell_type": "markdown",
   "metadata": {},
   "source": [
    "## Direct operators\n",
    "\n",
    "We've met some of APL's built-in operators already, like _Reduce_ and _Selfie_. Operators are perhaps the closest APL gets to the functional programming paradigm. An _operator_ is a function that returns a derived function. An operator can take other functions as its _operands_.\n",
    "\n",
    "Consider _Reduce_, `/`. It's a _monadic_ operator that returns a derived function that can be called both monadically and dyadically:"
   ]
  },
  {
   "cell_type": "code",
   "execution_count": 2,
   "metadata": {},
   "outputs": [
    {
     "data": {
      "text/html": [
       "<span style=\"white-space:pre; font-family: monospace\">3 5 7 9 11 13 15 17 19\n",
       "</span>"
      ]
     },
     "execution_count": 2,
     "metadata": {},
     "output_type": "execute_result"
    }
   ],
   "source": [
    "2 (+/) ⍳10 ⍝ Parentheses not required, added for illustrative purposes"
   ]
  },
  {
   "cell_type": "markdown",
   "metadata": {},
   "source": [
    "Here we see the monadic reduction operator, its sole operand being the plus function. The derived function it returns, plus-reduce, is called dyadically, with 2 to its left and `⍳10` to its right. In this case, a windowed reduction. We could have said"
   ]
  },
  {
   "cell_type": "code",
   "execution_count": 3,
   "metadata": {},
   "outputs": [
    {
     "data": {
      "text/html": [
       "<span style=\"white-space:pre; font-family: monospace\">3 5 7 9 11 13 15 17 19\n",
       "</span>"
      ]
     },
     "execution_count": 3,
     "metadata": {},
     "output_type": "execute_result"
    }
   ],
   "source": [
    "sumred ← +/\n",
    "2 sumred ⍳10"
   ]
  },
  {
   "cell_type": "markdown",
   "metadata": {},
   "source": [
    "to emphasize the fact that the operator really returns a function. \n",
    "\n",
    "Dyalog lets us write our own operators, too, in a very similar way to how we write dfns. We call our own operators [_direct operators_](https://help.dyalog.com/latest/#Language/Defined%20Functions%20and%20Operators/DynamicFunctions/Dynamic%20Operators.htm), henceforth just _dops_. Operators can be powerful, but the need for them actually rarely arises in practice. The reason for this is that the built-in operators already let you apply your own functions in various ways.\n",
    "\n",
    "A few things to note with operators: \n",
    "\n",
    "* In a _dop_, `⍺⍺` represents the left operand, and `⍵⍵` is the right operand.\n",
    "* Unlike a monadic _dfn_, which takes a _right_ argument, a monadic _dop_ takes a _left_ argument, like we just saw in the case of reduce.\n",
    "* The operator can refer to itself for recursion using `∇∇`, analogously to the dfn's `∇`.\n",
    "\n",
    "Here's an example monadic dop from the [dfns](http://dfns.dyalog.com/n_foldl.htm) workspace, a left-to-right version of reduce:"
   ]
  },
  {
   "cell_type": "code",
   "execution_count": 6,
   "metadata": {},
   "outputs": [],
   "source": [
    "]dinput\n",
    "foldl ← {                 ⍝ Fold (reduce) from the left.\n",
    "    ⍺ ← ⊃0⍴⍵              ⍝ Default initial value for accumulator\n",
    "    ↑⍺⍺⍨/(⌽⍵),⊂⍺        \n",
    "}"
   ]
  },
  {
   "cell_type": "markdown",
   "metadata": {},
   "source": [
    "This implements `foldl` in terms of the standard `foldr` by reversing the list and appending an accumulator element."
   ]
  },
  {
   "cell_type": "code",
   "execution_count": 7,
   "metadata": {},
   "outputs": [
    {
     "data": {
      "text/html": [
       "<span style=\"white-space:pre; font-family: monospace\">45\n",
       "</span>"
      ]
     },
     "execution_count": 7,
     "metadata": {},
     "output_type": "execute_result"
    },
    {
     "data": {
      "text/html": [
       "<span style=\"white-space:pre; font-family: monospace\">45\n",
       "</span>"
      ]
     },
     "execution_count": 7,
     "metadata": {},
     "output_type": "execute_result"
    },
    {
     "data": {
      "text/html": [
       "<span style=\"white-space:pre; font-family: monospace\">¯45\n",
       "</span>"
      ]
     },
     "execution_count": 7,
     "metadata": {},
     "output_type": "execute_result"
    },
    {
     "data": {
      "text/html": [
       "<span style=\"white-space:pre; font-family: monospace\">¯5\n",
       "</span>"
      ]
     },
     "execution_count": 7,
     "metadata": {},
     "output_type": "execute_result"
    }
   ],
   "source": [
    "+foldl ⍳10\n",
    "+/⍳10\n",
    "-foldl ⍳10\n",
    "-/⍳10"
   ]
  },
  {
   "cell_type": "markdown",
   "metadata": {},
   "source": [
    "This version takes an optional left argument that can be used to initialise the accumulator:"
   ]
  },
  {
   "cell_type": "code",
   "execution_count": 9,
   "metadata": {},
   "outputs": [
    {
     "data": {
      "text/html": [
       "<span style=\"white-space:pre; font-family: monospace\">154\n",
       "</span>"
      ]
     },
     "execution_count": 9,
     "metadata": {},
     "output_type": "execute_result"
    }
   ],
   "source": [
    "99 +foldl ⍳10"
   ]
  },
  {
   "cell_type": "markdown",
   "metadata": {},
   "source": [
    "Whilst there isn't anything overly complex about writing your own operators as such, we probably won't need to use many of them for the rest of this book, but at least now you have seen them."
   ]
  },
  {
   "cell_type": "code",
   "execution_count": null,
   "metadata": {},
   "outputs": [],
   "source": []
  }
 ],
 "metadata": {
  "kernelspec": {
   "display_name": "Dyalog APL",
   "language": "apl",
   "name": "dyalog-kernel"
  },
  "language_info": {
   "file_extension": ".apl",
   "mimetype": "text/apl",
   "name": "APL"
  }
 },
 "nbformat": 4,
 "nbformat_minor": 4
}
