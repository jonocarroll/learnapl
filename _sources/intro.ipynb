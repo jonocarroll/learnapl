{
 "cells": [
  {
   "cell_type": "markdown",
   "metadata": {},
   "source": [
    "# Introduction\n",
    "\n",
    "> A language that doesn't affect the way you think about programming is not worth knowing.\n",
    "\\--_Alan Perlis_\n",
    "\n",
    "## Who is this for?\n",
    "\n",
    "I wrote this to be the book I would have wanted to read when I started to learn APL. An introduction to APL for an experienced practitioner from a different programming language or two. We all learn in different ways, and I prefer the fundamental concepts laid bare first, and then learn by example. \n",
    "\n",
    "I came to APL after discovering a file of [solutions](https://github.com/KxSystems/kdb/blob/master/ad.k) to the [Advent of Code](https://adventofcode.com/) 2015 challenge in [K](https://en.wikipedia.org/wiki/K_(programming_language)), an APL derivative. That's around 100 lines of actual code, and whilst I didn't understand any of it, I kept looking at it, trying to figure out which of the 50 problems (well, 49) this was a solution to. Each of my Python solutions typically ran to 50-100 lines+ for the bulk of the problems.\n",
    "\n",
    "Turns out it was the whole lot. That blew my mind.\n"
   ]
  },
  {
   "cell_type": "markdown",
   "metadata": {},
   "source": [
    "## What is APL?\n",
    "\n",
    "APL is an [array language](https://en.wikipedia.org/wiki/Array_programming), and one of the oldest programming languages still in use today, next to [FORTRAN](https://fortran-lang.org/), [Lisp](https://lisp-lang.org/) and [COBOL](https://en.wikipedia.org/wiki/COBOL). APL uses its own curious-looking symbols, like `⍨↓∩⊤|⍎⎕`, rather than reserved words written out in English like most other languages, like [C](https://en.wikipedia.org/wiki/C_(programming_language)) or [Python](https://www.python.org/). As a language, APL sits at a very high level of abstraction, making it well suited to ultra-concise formulations of algorithms. \n",
    "\n",
    "APL is a language that time is only now beginning to catch up with. Modern processors sport dedicated vector-oriented instructions and APL presents a high degree of mechanical sympathy ideally suited to [SIMD instructions](https://en.wikipedia.org/wiki/SIMD) and by often being completely branchless in nature. APL, and its more punk rock little sister, K, really _fly_. APL can offer unprecedented programmer efficiency, as well as all-out execution speed. \n",
    "\n",
    "But isn't [APL dead](https://www.sacrideo.us/is-apl-dead/)? APL is alive and well.\n",
    "\n",
    "## Why should I learn APL?\n",
    "\n",
    "You will have your own motivations for wanting to learn APL. If you're searching for the hottest thing on the market right now, to land a job at a [FAANG](https://www.investopedia.com/terms/f/faang-stocks.asp) or pad your resumé with the most marketable skills, there are many other programming languages that will offer a better return: [Go](https://golang.org/), [Java](https://docs.oracle.com/javase/7/docs/technotes/guides/language/), [Rust](https://www.rust-lang.org/)... APL doesn't make a show in the [TIOBE index](https://www.tiobe.com/tiobe-index/) in the top 100 \"most popular\" programming languages. Apparently, COBOL, [Logo](https://el.media.mit.edu/logo-foundation/what_is_logo/logo_programming.html) and [AWK](https://en.wikipedia.org/wiki/AWK) are all more \"popular\" than APL, at the time of writing. That's not to say there aren't extremely well-paid jobs around for engineers with skills in the \"Iverson-family\" languages ([APL](https://www.dyalog.com), [J](https://www.jsoftware.com/#/), [K](https://shakti.sh/), [Q](https://code.kx.com/q/learn/startingkdb/language/) etc), especially in finance. There are.\n",
    "\n",
    "However, learning APL will reward you in other ways. Perhaps the old trope about \"expanding your mind\" is tired, but if your background is \"C-like\" -- C, [C++](https://www.cplusplus.com/), Java, Python etc -- you will be exposed to a new way of solving problems. In fact, learning new programming languages that come from a different paradigm is a force multiplier for your brain.\n",
    "\n",
    "Talking about Lisp, but equally applicable to APL, [Eric S. Raymond](http://www.catb.org/~esr/) says in his essay [How to become a hacker](http://www.catb.org/~esr/faqs/hacker-howto.html):\n",
    "\n",
    "> Lisp is worth learning for a different reason — the profound enlightenment experience you will have when you finally get it. That experience will make you a better programmer for the rest of your days, even if you never actually use Lisp itself a lot.\n",
    "\n",
    "On the topic of Lisp, one of my [favorite xkcd strips](https://xkcd.com/297/) talks about Lisp's parentheses as 'elegant weapons for a more civilized age', paraphrasing [Star Wars](https://www.youtube.com/watch?v=7hb8AYnRb-4). It could also have been said about APL.\n",
    "\n",
    "![lisp](https://imgs.xkcd.com/comics/lisp_cycles.png)\n",
    "\n",
    "APL was conceived as a _notation for thought_. It actually took years before it even had an actual implementation as a programming language. APL is a very natural way to express algorithms. [Ken Iverson](https://en.wikipedia.org/wiki/Kenneth_E._Iverson), the creator of APL, was awarded the [ACM Turing Award](https://amturing.acm.org/award_winners/iverson_9147499.cfm) in 1979 for his work on APL, and his accompanying paper, [Notation as a Tool of Thought](https://dl.acm.org/doi/pdf/10.1145/358896.358899) is somewhat of a computer science milestone. [Dyalog](https://www.dyalog.com), a leading commercial APL solutions provider, make a reference to this in their corporate tag-line: \"The Tool of Thought for Software Solutions\".\n",
    "\n",
    "If you persist, you may discover an added bonus: code you write in _other_ languages suddenly becomes more concise and efficient, too.\n",
    "\n",
    "\n",
    "## ...but it's unreadable!\n",
    "\n",
    "Every time APL gets a mention on [Hacker News](https://hn.algolia.com/?dateRange=all&page=0&prefix=false&query=apl&sort=byDate&type=story) (it happens regularly), someone chirps up in the comments that \"APL is unreadable\", so let's deal with that upfront."
   ]
  },
  {
   "cell_type": "code",
   "execution_count": 14,
   "metadata": {
    "tags": [
     "hide-output"
    ]
   },
   "outputs": [],
   "source": [
    "crt←{m|⍵+.×⍺(⊣×⊢|∘⊃{0=⍵:1 0 ⋄ (⍵∇⍵|⍺)+.×0 1,⍪1,-⌊⍺÷⍵})¨⍨⍺÷⍨m←×/⍺} ⍝ From APL Cart"
   ]
  },
  {
   "cell_type": "markdown",
   "metadata": {},
   "source": [
    "There it is -- perfectly readable: squiggle, squiggle, greek letter, weird symbol....\n",
    "\n",
    "The key is that readability is in the eye of the beholder. To an APL programmer, the above implementation of the [Chinese Remainder Theorem](https://en.wikipedia.org/wiki/Chinese_remainder_theorem) is perfectly readable. Claiming that something is unreadable because _you_ can't read it is intellectually dishonest. I don't speak, or indeed read, Japanese, but that doesn't make Japanese in any way unreadable. As master haiku smith, Bashō (松尾 金作), exclaimed:\n",
    "\n",
    "<p><center>\n",
    "夏草や　兵どもが　夢の跡\n",
    "</center></p>\n",
    "\n",
    "The summer grasses. // All that remains // Of warriors’ dreams.\n",
    "\n",
    "What is a fairer observation is that APL _doesn't look anything like_ the other programming languages you know, and yes, learning APL sure presents a different kind of challenge. If you're a seasoned (say) Python programmer, and you decide to pick up [Ruby](https://www.ruby-lang.org/en/), you can reasonably expect to follow code written by others from day 1, and learn enough syntax within a day or two to write code yourself. Sure, it takes a bit longer to find your way around the standard library and learn how to write idiomatic Ruby, but still. If you've learned a few languages like that, picking up another represents known and quantifiable effort.\n",
    "\n",
    "Let's be honest: there _will_ be more initial friction when learning APL -- for starters, your keyboard doesn't even have the squiggly symbols! Having said that, APL is a _tiny_ language -- there is negligible amounts of syntax to pick up, and believe it or not, actually quite easy to learn at a superficial level, once you get past the practical barriers. \n",
    "\n",
    "What takes longer is to grasp the [APL _way_](https://www.youtube.com/watch?v=myoK22rq1jk) -- how to wield it idiomatically, if you like. Learning how to solve problems the data-parallel way, no loops, no branching, is the key to writing APL that rocks.\n",
    "\n",
    "Once you get used to it, APL is _more_ readable than more verbose languages [ _citation needed_ ]. It strips away all the fluff, leaving only the algorithmic intent. [John Earnest](https://beyondloom.com/about/index.html), creator of [oK](http://johnearnest.github.io/ok/index.html), wrote a humorous [blog post](http://beyondloom.com/blog/denial.html) on the topic, and [Aaron Hsu](https://www.sacrideo.us/)'s presentation on [APL patterns and anti-patterns](https://www.sacrideo.us/apl-style-patterns-and-anti-patterns-in-apl/) make some of the same points in a more serious vein.\n",
    "\n",
    "The last example from John Earnest's blog post poses the hypothetical question -- which is more readable, the JavaScript\n",
    "\n",
    "```js\n",
    "let max = list[0];\n",
    "for (let i=0; i<list.length; i++) {\n",
    "    max = Math.max(list[i], max);\n",
    "}\n",
    "```\n",
    "or the APL (although John used the corresponding K version)\n",
    "```apl\n",
    "⌈/\n",
    "```\n",
    "\n",
    "## Don't I need a lot of mathematics?\n",
    "\n",
    "No, not really, no. \n",
    "\n",
    "Whilst APL can be traced back to Iverson's attempts at fixing some of the shortcomings of traditional mathematical notation, you don't have to be a math-wiz to understand, or benefit from, APL. If you're familiar with sums and products, or if you know another programming language, that's all you need. If you _do_ have a background in maths, especially in linear algebra, you'll no doubt recognize some concepts along the way.\n",
    "\n",
    "## A note on our APL subset\n",
    "\n",
    "Dyalog's APL dialect, which we'll chiefly work with here, has been around for a long time, and carries with it a lot of history in the shape of backwards compatibility. APL has also evolved a lot over the years. Dyalog's APL is really two rather different languages rolled into one: _traditional_ style, which is procedural, and the newer _dfn_ (pronouced _DEE-fun_) style, which is functional(ish, but let's not quibble). For the purposes of this exercise, we're going to pretend that the traditional style doesn't exist.\n",
    "\n",
    "When we claim that there are no if-statements or loops in APL, how come one can write"
   ]
  },
  {
   "cell_type": "code",
   "execution_count": 15,
   "metadata": {},
   "outputs": [],
   "source": [
    "∇ FizzBuzz end;i\n",
    ":For i :In ⍳end\n",
    "    :If 0=15|i\n",
    "        ⎕←'FizzBuzz'\n",
    "    :ElseIf 0=3|i\n",
    "        ⎕←'Fizz'\n",
    "    :ElseIf 0=5|i\n",
    "        ⎕←'Buzz'\n",
    "    :Else\n",
    "        ⎕←i\n",
    "    :EndIf\n",
    ":EndFor\n",
    "∇"
   ]
  },
  {
   "cell_type": "markdown",
   "metadata": {},
   "source": [
    "which certainly looks both iffy and loopy -- and dare I say even moderately readable, almost [Pascal](https://en.wikipedia.org/wiki/Pascal_(programming_language))-chic? This is an example of an APL trad-function, which we from now onwards will pretend doesn't exist. This isn't a value judgment so much as a practical one in the context of this book. We will not cover the traditional style, nor Dyalog's object orientation extensions, and for simplicity's sake, when we from now on talk about APL, take that to mean \"our subset of APL\".\n",
    "\n",
    "As an historical aside, the \"newer\" [dfn style](http://archive.vector.org.uk/art10007770) first appeared in Dyalog 8.1, from early 1997, according to [John Scholes](https://en.wikipedia.org/wiki/John_M._Scholes). So not _that_ new.\n",
    "\n",
    "### Not covered\n",
    "\n",
    "Specifically, we're not going to cover tradfns, OO, inverses, the trigonometric functions, complex numbers, variant, I-beams, spawn, threads, isolates, format, most of the ⎕-fns, .NET integration and probably many more."
   ]
  },
  {
   "cell_type": "markdown",
   "metadata": {},
   "source": [
    "## Is terser better?\n",
    "\n",
    "APL's _raison d'être_ is to cut out the noise, to become an extension of thought. A lofty aim, for sure. APL code can be exceptionally compact; no other general-purpose programming language (apart from its siblings) gets close. No bit of code we write here will likely be longer than a few lines, and anecdotally, from personal experience, the difference runs to perhaps an order of magnitude compared with Python.\n",
    "\n",
    "Is terser better? Opinions differ here. APLers, only half-jokingly, say they never scroll. [Arthur Whitney](https://en.wikipedia.org/wiki/Arthur_Whitney_(computer_scientist)), the creator of K, reputedly _hates_ scrolling, even when writing in C:\n",
    "\n",
    "> The K binary weighs in at about 50Kb. Someone asked about the interpreter source code. A frown flickered across the face of our visitor from Microsoft: what could be interesting about that? “The source is currently 264 lines of C,” said Arthur. I thought I heard a sotto voce “that’s not possible.” Arthur showed us how he had arranged his source code in five files so that he could edit any one of them without scrolling. “Hate scrolling,” he mumbled. \n",
    "\n",
    "(from [Vector](http://archive.vector.org.uk/art10500700))\n",
    "\n",
    "Being able to see your whole implementation on a single page of code cuts down on context switching, and at least anecdotally makes mistakes easier to spot. "
   ]
  },
  {
   "cell_type": "markdown",
   "metadata": {},
   "source": [
    "## Other resources\n",
    "\n",
    "If you're interested in the history of APL, a good read is Kromberg and Hui's weighty paper [APL since 1978](https://dl.acm.org/doi/pdf/10.1145/3386319). Morten and Roger do all their own stunts. \n",
    "\n",
    "[J Software](https://www.jsoftware.com) maintains a rich collection of APL-related [publications](https://www.jsoftware.com/papers/).\n",
    "\n",
    "[Vector](https://vector.org.uk/) is the journal of the British APL Association. \n",
    "\n",
    "A comprehensive, but now a bit outdated, reference is Legrand's door stopper [Mastering Dyalog APL](https://www.dyalog.com/uploads/documents/MasteringDyalogAPL.pdf), all 800+ pages of it. It covers a lot of ground that we're not touching upon here. Work is afoot to update [MDAPL](https://mastering.dyalog.com) to cover a more recent version of Dyalog.\n",
    "\n",
    "As you get a bit further along your path to APL mastery, the [APL Cart](https://aplcart.info/?w) indexed idiom collection is an _amazing_ resource. \n",
    "\n",
    "The chat room [APL Orchard](https://chat.stackexchange.com/rooms/52405/the-apl-orchard) on Stack Exchange features some of the sharpest minds on the array programming circuit. It's a welcoming place for newbies, too, and every now and then hosts so called _cultivations_ -- impromptu interactive lessons. A list of old cultivations is [here](https://chat.stackexchange.com/rooms/info/52405/the-apl-orchard?tab=conversations). Drop in and say 'hi' -- chances are that you will be given a private APL intro lesson (in public). \n",
    "\n",
    "The [APL Wiki](https://aplwiki.com/) is a rich and growing source of knowledge.\n",
    "\n",
    "Dyalog's own developer [documentation](http://help.dyalog.com/18.0/index.htm) is a reference - rich depth, but not the easiest place to learn new things from. [Dyalog TV](https://dyalog.tv/) hosts Dyalog's back catalog of webinars and lots of conference presentations with a lot of varied nuggets. There is also the Dyalog [forums](https://forums.dyalog.com/) although a bit low-volume.\n",
    "\n",
    "Dyalog's docs for the [dfns](http://dfns.dyalog.com/) workspace is a treasure trove of APL exotica. It's what passes as a \"standard library\" for Dyalog, and some of it is useful for everyday coding (like [segs](http://dfns.dyalog.com/n_segs.htm) and [iotag](http://dfns.dyalog.com/n_iotag.htm)), and other stuff perhaps less so -- but you can learn a lot by looking at its implementations to see what \"real APL\" looks like.\n",
    "\n",
    "Speaking of \"real APL\", Dyalog has a lot of public code in their [github](https://github.com/Dyalog), which is a great resource."
   ]
  },
  {
   "cell_type": "markdown",
   "metadata": {},
   "source": [
    "## Ok, I'm convinced, how do I get started?"
   ]
  },
  {
   "cell_type": "markdown",
   "metadata": {},
   "source": [
    "There are a couple of options. To get started right now, you can head to [TryAPL](https://tryapl.org/), which is a web version of Dyalog APL's latest and greatest release. That should work for most of the stuff we'll do here.\n",
    "\n",
    "```{note}\n",
    "Dyalog APL is a commercial product, not open source. Fortunately, they offer a generous non-commercial free to use clause in their licensing terms, so you can [download and install Dyalog APL](https://www.dyalog.com/download-zone.htm) locally without cost, as long as you're not making money from it.\n",
    "```\n",
    "\n",
    "Dyalog consists of the APL interpreter itself, and an IDE. You'll also need to install a font with the APL glyphs (as the \"squiggles\" are actually called) and a keyboard layout, depending on your platform. I am using Dyalog version 18 on MacOS, which comes with an IDE called [RIDE](https://github.com/Dyalog/ride). On Windows you get a different IDE.\n",
    "\n",
    "There is also [GNU APL](https://www.gnu.org/software/apl/), and whilst there are similarities, its dialect is a bit different. GNU APL was made to be a _libre_ software reimplementation of IBM's APL2, and Dyalog has moved on quite a bit from this. The examples we present here are unlikely to all function as-is in GNU APL. Other options are [ngn/apl](https://aplwiki.com/wiki/Ngn/apl) and [dzaima/apl](https://github.com/dzaima/APL), both hobbyist implementations that roughly implement the subset we're interested in.\n",
    "\n",
    "Dyalog also has an excellent [Jupyter](https://jupyter.org/) [kernel](https://github.com/Dyalog/dyalog-jupyter-kernel) that allows you to use APL in the Jupyter notebook interface -- which indeed is how this book is written.\n",
    "\n",
    "Assuming you've managed to get the APL keyboard layout installed, you'll be hunting and pecking for a while. It takes a few days to learn where the most useful glyphs reside. The Dyalog IDE has the _language bar_ at the top which you can also use -- and hovering over a glyph will indicate where it resides on the keyboard. Here's what my RIDE shows in terms of keyboard layout:\n",
    "\n",
    "![keys](keyboard.png)\n",
    "\n",
    "Are you ready? Let's begin."
   ]
  },
  {
   "cell_type": "markdown",
   "metadata": {},
   "source": [
    "## Our first tentative steps\n",
    "\n",
    "The first thing we'll do is to specify our _index origin_. In most programming languages in use today, arrays are indexed starting from 0, with a few notable exceptions (for example [Julia](https://julialang.org/) and [Lua](http://www.lua.org/)). In APL, the index origin is a configurable option. Leaving aside for a moment as to if this is a good idea or not, it's one of those things that sooner or later will catch you out. We'll try to always be explicit. If, when trying to run code someone else wrote, you're faced with an `INDEX ERROR`, it's worth changing the index origin to see if that makes a difference.\n",
    "\n",
    "Dyalog's default index origin is 1, but we'll set it to 0 for the least possible surprise. We won't use anything where this actually matters for a while, but let's get used to it from the beginning."
   ]
  },
  {
   "cell_type": "code",
   "execution_count": 3,
   "metadata": {},
   "outputs": [],
   "source": [
    "⎕IO ← 0 ⍝ Index origin gets 0"
   ]
  },
  {
   "cell_type": "markdown",
   "metadata": {},
   "source": [
    "We pronounce this as \"quad-eye-oh gets zero\". The left-arrow, `←`, called _Gets_, is the symbol for assignment. The green text following the `⍝` symbol is a comment. APL's comment symbol is called _Lamp_ -- and a bit of an _aide-memoire_ -- comments should illuminate the code. On my keyboard, it lives on the comma-key, and is a useful first APL key sequence to memorise. Does it look like a lamp? "
   ]
  },
  {
   "cell_type": "markdown",
   "metadata": {},
   "source": [
    "![lamps](./IMG/threelamps.png)"
   ]
  },
  {
   "cell_type": "markdown",
   "metadata": {},
   "source": [
    "Maybe an LED? Or a kerosene lamp, depending on how long you've been doing APL for. Anyway - a comment."
   ]
  },
  {
   "cell_type": "code",
   "execution_count": 1,
   "metadata": {
    "tags": [
     "hide-output"
    ]
   },
   "outputs": [
    {
     "data": {
      "text/html": [
       "<span style=\"white-space:pre; font-family: monospace\">done\n",
       "\n",
       "Rebuilding user command cache... done\n",
       "</span>"
      ]
     },
     "execution_count": 1,
     "metadata": {},
     "output_type": "execute_result"
    }
   ],
   "source": [
    "⍝ This line does nothing!"
   ]
  },
  {
   "cell_type": "markdown",
   "metadata": {},
   "source": [
    "The usual arithmetic operations work as expected, don't they?"
   ]
  },
  {
   "cell_type": "code",
   "execution_count": 5,
   "metadata": {},
   "outputs": [
    {
     "data": {
      "text/html": [
       "<span style=\"white-space:pre; font-family: monospace\">32\n",
       "</span>"
      ]
     },
     "execution_count": 5,
     "metadata": {},
     "output_type": "execute_result"
    }
   ],
   "source": [
    "2*5 ⍝ Wait... wot?"
   ]
  },
  {
   "cell_type": "markdown",
   "metadata": {},
   "source": [
    "Ok, that may have come as a surprise. It turns out that `*` is the symbol for exponentiation, not multiplication. If we want to multiply, we need to use `×` (which lives on the `-` key):"
   ]
  },
  {
   "cell_type": "code",
   "execution_count": 6,
   "metadata": {},
   "outputs": [
    {
     "data": {
      "text/html": [
       "<span style=\"white-space:pre; font-family: monospace\">10\n",
       "</span>"
      ]
     },
     "execution_count": 6,
     "metadata": {},
     "output_type": "execute_result"
    }
   ],
   "source": [
    "2×5"
   ]
  },
  {
   "cell_type": "markdown",
   "metadata": {},
   "source": [
    "Ok, what about division?"
   ]
  },
  {
   "cell_type": "code",
   "execution_count": 16,
   "metadata": {},
   "outputs": [
    {
     "data": {
      "text/html": [
       "<span style=\"white-space:pre; font-family: monospace\">2 2 2 2 2 2\n",
       "</span>"
      ]
     },
     "execution_count": 16,
     "metadata": {},
     "output_type": "execute_result"
    }
   ],
   "source": [
    "6/2 ⍝....?"
   ]
  },
  {
   "cell_type": "markdown",
   "metadata": {},
   "source": [
    "Nope. The slash does something decidedly not-division. We'll get back to that one later. Division is `÷`, not `/`:"
   ]
  },
  {
   "cell_type": "code",
   "execution_count": 17,
   "metadata": {},
   "outputs": [
    {
     "data": {
      "text/html": [
       "<span style=\"white-space:pre; font-family: monospace\">5\n",
       "</span>"
      ]
     },
     "execution_count": 17,
     "metadata": {},
     "output_type": "execute_result"
    }
   ],
   "source": [
    "20÷4 ⍝ Division is ÷, not /"
   ]
  },
  {
   "cell_type": "markdown",
   "metadata": {},
   "source": [
    "Negative numbers are not written with the traditional minus-sign, but with a special glyph, the _High minus_: `¯`"
   ]
  },
  {
   "cell_type": "code",
   "execution_count": 8,
   "metadata": {},
   "outputs": [
    {
     "data": {
      "text/html": [
       "<span style=\"white-space:pre; font-family: monospace\">¯87\n",
       "</span>"
      ]
     },
     "execution_count": 8,
     "metadata": {},
     "output_type": "execute_result"
    }
   ],
   "source": [
    "¯87 ⍝ Note: not -87"
   ]
  },
  {
   "cell_type": "markdown",
   "metadata": {},
   "source": [
    "Here's another surprise:"
   ]
  },
  {
   "cell_type": "code",
   "execution_count": 9,
   "metadata": {},
   "outputs": [
    {
     "data": {
      "text/html": [
       "<span style=\"white-space:pre; font-family: monospace\">24\n",
       "</span>"
      ]
     },
     "execution_count": 9,
     "metadata": {},
     "output_type": "execute_result"
    }
   ],
   "source": [
    "2×5+7 "
   ]
  },
  {
   "cell_type": "markdown",
   "metadata": {},
   "source": [
    "In any other language, or indeed on a calculator, that would have given 17. So what's going on here? We're taught that multiplication goes before addition since year 1 in school. We've stumbled on one of the things in mathematical notation that motivated Iverson to create APL: in mathematics, operator precedence is kind of awkward and irregular.\n",
    "\n",
    "In APL, everything evaluates strictly right to left. If you want to bend this evaluation order, you'll need parentheses."
   ]
  },
  {
   "cell_type": "code",
   "execution_count": 10,
   "metadata": {},
   "outputs": [
    {
     "data": {
      "text/html": [
       "<span style=\"white-space:pre; font-family: monospace\">17\n",
       "</span>"
      ]
     },
     "execution_count": 10,
     "metadata": {},
     "output_type": "execute_result"
    }
   ],
   "source": [
    "(2×5)+7"
   ]
  },
  {
   "cell_type": "markdown",
   "metadata": {},
   "source": [
    "We can assign a value to a variable using _Gets_ (`←`) that we met earlier:"
   ]
  },
  {
   "cell_type": "code",
   "execution_count": 11,
   "metadata": {},
   "outputs": [],
   "source": [
    "a ← (2×5)+7 ⍝ a gets 17. "
   ]
  },
  {
   "cell_type": "code",
   "execution_count": 12,
   "metadata": {},
   "outputs": [
    {
     "data": {
      "text/html": [
       "<span style=\"white-space:pre; font-family: monospace\">17\n",
       "</span>"
      ]
     },
     "execution_count": 12,
     "metadata": {},
     "output_type": "execute_result"
    }
   ],
   "source": [
    "a ⍝ Just evaluating the variable returns its value"
   ]
  },
  {
   "cell_type": "code",
   "execution_count": 2,
   "metadata": {},
   "outputs": [
    {
     "data": {
      "text/html": [
       "<span style=\"white-space:pre; font-family: monospace\">42\n",
       "</span>"
      ]
     },
     "execution_count": 2,
     "metadata": {},
     "output_type": "execute_result"
    }
   ],
   "source": [
    "⊢a ← 42 ⍝ a gets 42, and please evaluate it so I can see the value"
   ]
  },
  {
   "cell_type": "markdown",
   "metadata": {},
   "source": [
    "The glyph `⊢` is called [_Right tack_](http://help.dyalog.com/18.0/index.htm#Language/Symbols/Right%20Tack.htm), and is a function referred to as _Same_. It simply returns its argument. Used like this it allows us to show the result of an expression even if the expression itself wouldn't normally return a result. _Right tack_ might seem like a pretty pointless function, but we'll put it to good use later in different contexts. To \"print\" the value of a variable we can also use _Quad gets_, `⎕ ←`:"
   ]
  },
  {
   "cell_type": "code",
   "execution_count": 3,
   "metadata": {},
   "outputs": [
    {
     "data": {
      "text/html": [
       "<span style=\"white-space:pre; font-family: monospace\">42\n",
       "</span>"
      ]
     },
     "execution_count": 3,
     "metadata": {},
     "output_type": "execute_result"
    }
   ],
   "source": [
    "⎕ ← a"
   ]
  },
  {
   "cell_type": "markdown",
   "metadata": {},
   "source": [
    "As a mnemonic, you can think of the _Quad_ (`⎕`) glyph representing your computer screen (or a piece of printer paper) in this context. And for the avoidance of any doubt, the _Quad_ glyph really _is_ a little rectangle, and not the symbol used to show a character set mismatch on badly formed web pages. \n",
    "\n",
    "APL variable names follow mostly similar rules to other programming languages -- any combination of letters (upper, and lower case), digits (apart from the first character), and the underscore symbol (`_`):"
   ]
  },
  {
   "cell_type": "code",
   "execution_count": 2,
   "metadata": {},
   "outputs": [
    {
     "data": {
      "text/html": [
       "<span style=\"white-space:pre; font-family: monospace\">57\n",
       "</span>"
      ]
     },
     "execution_count": 2,
     "metadata": {},
     "output_type": "execute_result"
    },
    {
     "data": {
      "text/html": [
       "<span style=\"white-space:pre; font-family: monospace\">538\n",
       "</span>"
      ]
     },
     "execution_count": 2,
     "metadata": {},
     "output_type": "execute_result"
    },
    {
     "data": {
      "text/html": [
       "<span style=\"white-space:pre; font-family: monospace\">hello world\n",
       "</span>"
      ]
     },
     "execution_count": 2,
     "metadata": {},
     "output_type": "execute_result"
    }
   ],
   "source": [
    "⎕ ← fiftySeven ← 57\n",
    "⎕ ← five38 ← 538\n",
    "⎕ ← My_Variable_Name ← 'hello world'"
   ]
  },
  {
   "cell_type": "markdown",
   "metadata": {},
   "source": [
    "One convention you'll occasionally see is the `_` variable, which is sometimes used to denote a value we don't care about. There is nothing special about a variable called `_` -- it's just a convention."
   ]
  },
  {
   "cell_type": "code",
   "execution_count": 2,
   "metadata": {},
   "outputs": [
    {
     "data": {
      "text/html": [
       "<span style=\"white-space:pre; font-family: monospace\">3 1 1\n",
       "</span>"
      ]
     },
     "execution_count": 2,
     "metadata": {},
     "output_type": "execute_result"
    }
   ],
   "source": [
    "(a b _ d) ← 3 1 4 1 ⍝ Don't care about the third value\n",
    "a b d"
   ]
  },
  {
   "cell_type": "markdown",
   "metadata": {},
   "source": [
    "There are two additional characters you can use in names, `⍙` and `∆`, if you feel the need to add extra spice in the lives of others reading your code. An advantage of APL's use of glyphs instead of reserved words is that it's impossible to create names that clash with internal or reserved words in APL.\n",
    "\n",
    "You can of course use whatever naming convention that pleases you, but [Adám](https://aplwiki.com/wiki/Ad%C3%A1m_Brudzewsky) from Dyalog has written up an informal [style guide](https://abrudz.github.io/style/) that's useful reading. As APL lends itself to a terse style, long, rambling, Java-esque variable names are frowned upon. Here are some [opinionated home truths](https://github.com/the-carlisle-group/Dado/wiki/How-Not-To-Code-In-Dyalog-APL) from the Carlisle Group, too, to consider on your APL journey.\n",
    "\n",
    "## Valence\n",
    "\n",
    "_Valence_ (sometimes called _arity_, too) refers to the way that functions expect arguments. In APL, we talk about _monadic_ and _dyadic_ functions and operators (and occasionally _niladic_, too).\n",
    "\n",
    "There is a central tenet when writing about programming that for every mention of the word [monad](https://stackoverflow.com/questions/44965/what-is-a-monad) you lose half your readership. We can blame Team [Haskell](http://learnyouahaskell.com) for that. Fear not -- we're staying right out of [category theory](https://en.wikipedia.org/wiki/Category_theory). Whilst APL has monadic functions and operators, the term predates Haskell by some margin, and really refers to something different altogether. Hey, Haskell, make up your own words, will you? Just kidding, we're huge Haskell fans.\n",
    "\n",
    "APL functions can take arguments on either side, just like you're perfectly used to with arithmetic operators in many other languages (not Lisps):"
   ]
  },
  {
   "cell_type": "code",
   "execution_count": 22,
   "metadata": {},
   "outputs": [
    {
     "data": {
      "text/html": [
       "<span style=\"white-space:pre; font-family: monospace\">2\n",
       "</span>"
      ]
     },
     "execution_count": 22,
     "metadata": {},
     "output_type": "execute_result"
    }
   ],
   "source": [
    "1 + 1 ⍝ Infix function application, dyadic +"
   ]
  },
  {
   "cell_type": "markdown",
   "metadata": {},
   "source": [
    "In a Lispy language, function application is always monadic, even for arithmetic, so you'd write\n",
    "\n",
    "```scheme\n",
    "(+ 1 1)\n",
    "```"
   ]
  },
  {
   "cell_type": "markdown",
   "metadata": {},
   "source": [
    "When we say that a function is `dyadic` in APL, all we mean is that the function takes both a left, and a right argument, like the `+` example above. A `monadic` function, conversely, is a function that only takes a right argument, for example, _Factorial_, `!`:"
   ]
  },
  {
   "cell_type": "code",
   "execution_count": 15,
   "metadata": {},
   "outputs": [
    {
     "data": {
      "text/html": [
       "<span style=\"white-space:pre; font-family: monospace\">5040\n",
       "</span>"
      ]
     },
     "execution_count": 15,
     "metadata": {},
     "output_type": "execute_result"
    }
   ],
   "source": [
    "!7 ⍝ Monadic ! is factorial: 1×2×3×4×5×6×7"
   ]
  },
  {
   "cell_type": "markdown",
   "metadata": {},
   "source": [
    "Some APL functions can be either monadic or dyadic, and in many cases these have different meanings -- an endless source of <s>confusion</s> joy for the beginner. For example:"
   ]
  },
  {
   "cell_type": "code",
   "execution_count": 17,
   "metadata": {},
   "outputs": [
    {
     "data": {
      "text/html": [
       "<span style=\"white-space:pre; font-family: monospace\">21\n",
       "</span>"
      ]
     },
     "execution_count": 17,
     "metadata": {},
     "output_type": "execute_result"
    },
    {
     "data": {
      "text/html": [
       "<span style=\"white-space:pre; font-family: monospace\">¯1\n",
       "</span>"
      ]
     },
     "execution_count": 17,
     "metadata": {},
     "output_type": "execute_result"
    }
   ],
   "source": [
    "7×3 ⍝ Dyadic × is multiplication\n",
    "×¯7 ⍝ Monadic × is 'direction', or signum (the sign, in our case). Thanks."
   ]
  },
  {
   "cell_type": "markdown",
   "metadata": {},
   "source": [
    "```{tip}\n",
    "In the Dyalog IDE, if you hover over a glyph in the language bar, it will show brief examples of both its monadic and dyadic uses, where applicable. Some claim you can learn the whole language by hovering over this bar.\n",
    "```"
   ]
  },
  {
   "cell_type": "code",
   "execution_count": null,
   "metadata": {},
   "outputs": [],
   "source": []
  }
 ],
 "metadata": {
  "kernelspec": {
   "display_name": "Dyalog APL",
   "language": "apl",
   "name": "dyalog-kernel"
  },
  "language_info": {
   "file_extension": ".apl",
   "mimetype": "text/apl",
   "name": "APL"
  }
 },
 "nbformat": 4,
 "nbformat_minor": 4
}
