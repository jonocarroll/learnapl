{
 "cells": [
  {
   "cell_type": "markdown",
   "metadata": {},
   "source": [
    "# Glyphiary\n",
    "\n",
    "> Are you quite sure that all those bells and whistles, all those wonderful facilities of your so called powerful programming languages, belong to the solution set rather than the problem set?\n",
    "\\--_Edsger Dijkstra_\n",
    "\n",
    "Learning what each glyph does is an unavoidable chunk of time investment. However, there are some mnemonic cues sometimes based on where they sit on the keyboard, or that related functions sometimes have glyphs that are visually similar. Other times all bets are off: here's looking at you, `/`...\n",
    "\n",
    "We're not going to cover them all. Learn them a few at a time as the need arises. Use the language bar in RIDE. But let's run through some of the immediately handy ones. \n",
    "\n",
    "But first, the usual dance:"
   ]
  },
  {
   "cell_type": "code",
   "execution_count": 5,
   "metadata": {
    "tags": [
     "hide-output"
    ]
   },
   "outputs": [
    {
     "data": {
      "text/html": [
       "<span style=\"white-space:pre; font-family: monospace\">┌→────────────────┐\n",
       "│Was ON -style=min│\n",
       "└─────────────────┘\n",
       "</span>"
      ]
     },
     "execution_count": 5,
     "metadata": {},
     "output_type": "execute_result"
    },
    {
     "data": {
      "text/html": [
       "<span style=\"white-space:pre; font-family: monospace\">┌→──────┐\n",
       "│Was OFF│\n",
       "└───────┘\n",
       "</span>"
      ]
     },
     "execution_count": 5,
     "metadata": {},
     "output_type": "execute_result"
    }
   ],
   "source": [
    "⎕IO ← 0            ⍝ Index origin is zero\n",
    "]box on -style=max ⍝ Show boxes at max verbosity\n",
    "]rows on           ⍝ Don't wrap long output lines"
   ]
  },
  {
   "cell_type": "markdown",
   "metadata": {},
   "source": [
    "Let's have a random matrix for our demonstration purposes. We've met _Shape_ (`⍴`) already, but we'll get dyadic `?` -- called [_Deal_](http://help.dyalog.com/18.0/index.htm#Language/Primitive%20Functions/Deal.htm) -- for free. It gives us a random selection of numbers from a set, without replacement:"
   ]
  },
  {
   "cell_type": "code",
   "execution_count": 2,
   "metadata": {},
   "outputs": [
    {
     "data": {
      "text/html": [
       "<span style=\"white-space:pre; font-family: monospace\">┌→────────┐\n",
       "↓3  0  5 1│\n",
       "│7  9  8 6│\n",
       "│2 10 11 4│\n",
       "└~────────┘\n",
       "</span>"
      ]
     },
     "execution_count": 2,
     "metadata": {},
     "output_type": "execute_result"
    }
   ],
   "source": [
    "⎕ ← mat ← 3 4⍴12?12 ⍝ Ladies and gentlemen: our matrix"
   ]
  },
  {
   "cell_type": "markdown",
   "metadata": {},
   "source": [
    "## Tally, Depth, Match: `≢≡`\n",
    "\n",
    "[_Tally_](http://help.dyalog.com/18.0/index.htm#Language/Primitive%20Functions/Tally.htm), monadic `≢`, gives the number of major cells in an array, kind of like Python's [len()](https://docs.python.org/3/library/functions.html#len):"
   ]
  },
  {
   "cell_type": "code",
   "execution_count": 97,
   "metadata": {},
   "outputs": [
    {
     "data": {
      "text/html": [
       "<span style=\"white-space:pre; font-family: monospace\"> \n",
       "5\n",
       " \n",
       "</span>"
      ]
     },
     "execution_count": 97,
     "metadata": {},
     "output_type": "execute_result"
    },
    {
     "data": {
      "text/html": [
       "<span style=\"white-space:pre; font-family: monospace\">  \n",
       "11\n",
       "  \n",
       "</span>"
      ]
     },
     "execution_count": 97,
     "metadata": {},
     "output_type": "execute_result"
    },
    {
     "data": {
      "text/html": [
       "<span style=\"white-space:pre; font-family: monospace\"> \n",
       "3\n",
       " \n",
       "</span>"
      ]
     },
     "execution_count": 97,
     "metadata": {},
     "output_type": "execute_result"
    }
   ],
   "source": [
    "≢7 5 1 2 9\n",
    "≢'Hello world'\n",
    "≢mat"
   ]
  },
  {
   "cell_type": "markdown",
   "metadata": {},
   "source": [
    "Pretty straight-forward. Monadic _Equal underbar_, `≡` is [_Depth_](http://help.dyalog.com/18.0/index.htm#Language/Primitive%20Functions/Depth.htm) -- the max level of nesting:"
   ]
  },
  {
   "cell_type": "code",
   "execution_count": 100,
   "metadata": {},
   "outputs": [
    {
     "data": {
      "text/html": [
       "<span style=\"white-space:pre; font-family: monospace\"> \n",
       "1\n",
       " \n",
       "</span>"
      ]
     },
     "execution_count": 100,
     "metadata": {},
     "output_type": "execute_result"
    },
    {
     "data": {
      "text/html": [
       "<span style=\"white-space:pre; font-family: monospace\"> \n",
       "2\n",
       " \n",
       "</span>"
      ]
     },
     "execution_count": 100,
     "metadata": {},
     "output_type": "execute_result"
    },
    {
     "data": {
      "text/html": [
       "<span style=\"white-space:pre; font-family: monospace\"> \n",
       "3\n",
       " \n",
       "</span>"
      ]
     },
     "execution_count": 100,
     "metadata": {},
     "output_type": "execute_result"
    },
    {
     "data": {
      "text/html": [
       "<span style=\"white-space:pre; font-family: monospace\">  \n",
       "¯2\n",
       "  \n",
       "</span>"
      ]
     },
     "execution_count": 100,
     "metadata": {},
     "output_type": "execute_result"
    }
   ],
   "source": [
    "≡1 2 3 4\n",
    "≡(1 2)(3 4)\n",
    "≡((1 2)(2 3))((4 5)(6 7))\n",
    "≡(1 2)(3 4)3"
   ]
  },
  {
   "cell_type": "markdown",
   "metadata": {},
   "source": [
    "The last case, giving `¯2`, means that the max depth is 2, but that not all cells are at the same depth. Depth is not rank. Say it with me: depth is not rank, depth is not rank, depth is not rank...\n",
    "\n",
    "Turning to the dyadic forms, `≡` is [_Match_](http://help.dyalog.com/18.0/index.htm#Language/Primitive%20Functions/Match.htm), and with a pleasing visual symmetry, `≢` is [_Not match_](http://help.dyalog.com/18.0/index.htm#Language/Primitive%20Functions/Not%20Match.htm). We can think of _Match_ being \"deep equals for arrays\": same rank, same order, same depth, every element the same:"
   ]
  },
  {
   "cell_type": "code",
   "execution_count": 104,
   "metadata": {},
   "outputs": [
    {
     "data": {
      "text/html": [
       "<span style=\"white-space:pre; font-family: monospace\"> \n",
       "0\n",
       " \n",
       "</span>"
      ]
     },
     "execution_count": 104,
     "metadata": {},
     "output_type": "execute_result"
    },
    {
     "data": {
      "text/html": [
       "<span style=\"white-space:pre; font-family: monospace\"> \n",
       "1\n",
       " \n",
       "</span>"
      ]
     },
     "execution_count": 104,
     "metadata": {},
     "output_type": "execute_result"
    },
    {
     "data": {
      "text/html": [
       "<span style=\"white-space:pre; font-family: monospace\"> \n",
       "0\n",
       " \n",
       "</span>"
      ]
     },
     "execution_count": 104,
     "metadata": {},
     "output_type": "execute_result"
    },
    {
     "data": {
      "text/html": [
       "<span style=\"white-space:pre; font-family: monospace\"> \n",
       "0\n",
       " \n",
       "</span>"
      ]
     },
     "execution_count": 104,
     "metadata": {},
     "output_type": "execute_result"
    }
   ],
   "source": [
    "1 2 3 4 ≡ 1 2 3 4 5\n",
    "1 2 3 4 ≡ 1 2 3 4\n",
    "1 2 3 4 ≡ 4 1 2 3\n",
    "1 2 3 4 ≡ 1 4⍴1 2 3 4"
   ]
  },
  {
   "cell_type": "markdown",
   "metadata": {},
   "source": [
    "## Transpose, Reverse and Rotate: `⍉⊖⌽`\n",
    "\n",
    "Three glyphs used to change arrays around are [_Transpose_](http://help.dyalog.com/18.0/index.htm#Language/Primitive%20Functions/Transpose%20Monadic.htm) (`⍉`), [_Reverse_](http://help.dyalog.com/18.0/index.htm#Language/Primitive%20Functions/Reverse%20First.htm) (`⊖`) and [_Rotate_](http://help.dyalog.com/18.0/index.htm#Language/Primitive%20Functions/Rotate.htm) (`⌽`). They all look like a circle overstruck with a line. For example:"
   ]
  },
  {
   "cell_type": "code",
   "execution_count": 18,
   "metadata": {
    "scrolled": true
   },
   "outputs": [
    {
     "data": {
      "text/html": [
       "<span style=\"white-space:pre; font-family: monospace\">┌→─────┐\n",
       "↓3 7  2│\n",
       "│0 9 10│\n",
       "│5 8 11│\n",
       "│1 6  4│\n",
       "└~─────┘\n",
       "</span>"
      ]
     },
     "execution_count": 18,
     "metadata": {},
     "output_type": "execute_result"
    },
    {
     "data": {
      "text/html": [
       "<span style=\"white-space:pre; font-family: monospace\">┌→────────┐\n",
       "↓1  5  0 3│\n",
       "│6  8  9 7│\n",
       "│4 11 10 2│\n",
       "└~────────┘\n",
       "</span>"
      ]
     },
     "execution_count": 18,
     "metadata": {},
     "output_type": "execute_result"
    },
    {
     "data": {
      "text/html": [
       "<span style=\"white-space:pre; font-family: monospace\">┌→────────┐\n",
       "↓2 10 11 4│\n",
       "│7  9  8 6│\n",
       "│3  0  5 1│\n",
       "└~────────┘\n",
       "</span>"
      ]
     },
     "execution_count": 18,
     "metadata": {},
     "output_type": "execute_result"
    }
   ],
   "source": [
    "⍉mat ⍝ Transpose\n",
    "⌽mat ⍝ Reverse\n",
    "⊖mat ⍝ Reverse first"
   ]
  },
  {
   "cell_type": "markdown",
   "metadata": {},
   "source": [
    "The two reverse glyphs mirror the issue we've seen with _Replicate_ (`/`) vs _Replicate first_ (`⌿`) -- if you can, use the -first versions (the leading axis versions), and if you want to apply them along other axes, use either [_Rank_](./rank.ipynb) `⍤` or the `[axis]` notation:"
   ]
  },
  {
   "cell_type": "code",
   "execution_count": 6,
   "metadata": {},
   "outputs": [
    {
     "data": {
      "text/html": [
       "<span style=\"white-space:pre; font-family: monospace\">┌→────────┐\n",
       "↓1  5  0 3│\n",
       "│6  8  9 7│\n",
       "│4 11 10 2│\n",
       "└~────────┘\n",
       "</span>"
      ]
     },
     "execution_count": 6,
     "metadata": {},
     "output_type": "execute_result"
    },
    {
     "data": {
      "text/html": [
       "<span style=\"white-space:pre; font-family: monospace\">┌→────────┐\n",
       "↓1  5  0 3│\n",
       "│6  8  9 7│\n",
       "│4 11 10 2│\n",
       "└~────────┘\n",
       "</span>"
      ]
     },
     "execution_count": 6,
     "metadata": {},
     "output_type": "execute_result"
    }
   ],
   "source": [
    "⊖⍤1⊢mat ⍝ Apply reverse-first to second axis using Rank\n",
    "⊖[1]mat ⍝ Apply reverse-first to second axis bracket-axis"
   ]
  },
  {
   "cell_type": "markdown",
   "metadata": {},
   "source": [
    "Both _Transpose_ and _Reverse_ can be applied dyadically, too, which presents us with a slight conundrum: the dyadic form of _Transpose_ requires a deeper understanding of APL that we don't yet have -- we'll push that one to its own [chapter](./dyadictrn.ipynb) later on. \n",
    "\n",
    "Dyadic `⊖` is actually _Rotate first_:"
   ]
  },
  {
   "cell_type": "code",
   "execution_count": 9,
   "metadata": {},
   "outputs": [
    {
     "data": {
      "text/html": [
       "<span style=\"white-space:pre; font-family: monospace\">┌→────────┐\n",
       "↓7 10 11 1│\n",
       "│2  0  5 6│\n",
       "│3  9  8 4│\n",
       "└~────────┘\n",
       "</span>"
      ]
     },
     "execution_count": 9,
     "metadata": {},
     "output_type": "execute_result"
    }
   ],
   "source": [
    "1 2 ¯1 0⊖mat"
   ]
  },
  {
   "cell_type": "markdown",
   "metadata": {},
   "source": [
    "Here, the left argument vector specifies the per-column magnitude and direction of the rotation. \n",
    "\n",
    "## Mix, Split, Take and Drop: `↓↑`\n",
    "\n",
    "[_Mix_](http://help.dyalog.com/18.0/index.htm#Language/Primitive%20Functions/Mix.htm) `↑` raises the rank by 1. Easiest to visualise as a means of turning a nested vector into a matrix (but works for any rank):"
   ]
  },
  {
   "cell_type": "code",
   "execution_count": 8,
   "metadata": {},
   "outputs": [
    {
     "data": {
      "text/html": [
       "<span style=\"white-space:pre; font-family: monospace\">┌→────────────────┐\n",
       "│ ┌→────┐ ┌→────┐ │\n",
       "│ │Hello│ │world│ │\n",
       "│ └─────┘ └─────┘ │\n",
       "└∊────────────────┘\n",
       "</span>"
      ]
     },
     "execution_count": 8,
     "metadata": {},
     "output_type": "execute_result"
    },
    {
     "data": {
      "text/html": [
       "<span style=\"white-space:pre; font-family: monospace\">┌→────┐\n",
       "↓Hello│\n",
       "│world│\n",
       "└─────┘\n",
       "</span>"
      ]
     },
     "execution_count": 8,
     "metadata": {},
     "output_type": "execute_result"
    }
   ],
   "source": [
    "⎕ ← v ← 'Hello' 'world'\n",
    "↑v"
   ]
  },
  {
   "cell_type": "markdown",
   "metadata": {},
   "source": [
    "[_Split_](http://help.dyalog.com/18.0/index.htm#Language/Primitive%20Functions/Split.htm) `↓`, unsurprisingly, goes the other way; reducing rank:"
   ]
  },
  {
   "cell_type": "code",
   "execution_count": 9,
   "metadata": {},
   "outputs": [
    {
     "data": {
      "text/html": [
       "<span style=\"white-space:pre; font-family: monospace\">┌→────┐\n",
       "↓8 0 3│\n",
       "│6 5 2│\n",
       "│7 1 4│\n",
       "└~────┘\n",
       "</span>"
      ]
     },
     "execution_count": 9,
     "metadata": {},
     "output_type": "execute_result"
    },
    {
     "data": {
      "text/html": [
       "<span style=\"white-space:pre; font-family: monospace\">┌→────────────────────────┐\n",
       "│ ┌→────┐ ┌→────┐ ┌→────┐ │\n",
       "│ │8 0 3│ │6 5 2│ │7 1 4│ │\n",
       "│ └~────┘ └~────┘ └~────┘ │\n",
       "└∊────────────────────────┘\n",
       "</span>"
      ]
     },
     "execution_count": 9,
     "metadata": {},
     "output_type": "execute_result"
    }
   ],
   "source": [
    "⎕ ← m ← 3 3⍴9?9\n",
    "↓m"
   ]
  },
  {
   "cell_type": "markdown",
   "metadata": {},
   "source": [
    "_Mix_ and _Split_, when combined with _Transpose_, make for a bit of a power-combo, `↓⍉↑`, occasionally dubbed _Remix_, or _Zip_:"
   ]
  },
  {
   "cell_type": "code",
   "execution_count": 10,
   "metadata": {},
   "outputs": [
    {
     "data": {
      "text/html": [
       "<span style=\"white-space:pre; font-family: monospace\">┌→────────────────────────┐\n",
       "│ ┌→────┐ ┌→────┐ ┌→────┐ │\n",
       "│ │0 6 3│ │2 5 1│ │4 7 8│ │\n",
       "│ └~────┘ └~────┘ └~────┘ │\n",
       "└∊────────────────────────┘\n",
       "</span>"
      ]
     },
     "execution_count": 10,
     "metadata": {},
     "output_type": "execute_result"
    },
    {
     "data": {
      "text/html": [
       "<span style=\"white-space:pre; font-family: monospace\">┌→────────────────────────┐\n",
       "│ ┌→────┐ ┌→────┐ ┌→────┐ │\n",
       "│ │0 2 4│ │6 5 7│ │3 1 8│ │\n",
       "│ └~────┘ └~────┘ └~────┘ │\n",
       "└∊────────────────────────┘\n",
       "</span>"
      ]
     },
     "execution_count": 10,
     "metadata": {},
     "output_type": "execute_result"
    }
   ],
   "source": [
    "⎕ ← v ← (0 6 3)(2 5 1)(4 7 8)\n",
    "↓⍉↑v"
   ]
  },
  {
   "cell_type": "markdown",
   "metadata": {},
   "source": [
    "Whilst it's tempting to think of _Remix_ as the [zip()](https://docs.python.org/3/library/functions.html#zip) found in, for example, Python, note that it most likely behaves differently to what you're used to:"
   ]
  },
  {
   "cell_type": "code",
   "execution_count": 21,
   "metadata": {},
   "outputs": [
    {
     "data": {
      "text/html": [
       "<span style=\"white-space:pre; font-family: monospace\">┌→─────────────────────────────────┐\n",
       "│ ┌→────┐ ┌→────┐ ┌→────┐ ┌→─────┐ │\n",
       "│ │1 5 7│ │2 6 8│ │3 0 9│ │4 0 10│ │\n",
       "│ └~────┘ └~────┘ └~────┘ └~─────┘ │\n",
       "└∊─────────────────────────────────┘\n",
       "</span>"
      ]
     },
     "execution_count": 21,
     "metadata": {},
     "output_type": "execute_result"
    }
   ],
   "source": [
    "↓⍉↑(1 2 3 4)(5 6)(7 8 9 10)"
   ]
  },
  {
   "cell_type": "markdown",
   "metadata": {},
   "source": [
    "```python\n",
    "Python 3.9.0 (default, Nov 15 2020, 06:25:35) \n",
    "[Clang 10.0.0 ] :: Anaconda, Inc. on darwin\n",
    "Type \"help\", \"copyright\", \"credits\" or \"license\" for more information.\n",
    ">>> l = [[1,2,3,4],[5,6],[7,8,9,10]]\n",
    ">>> list(zip(*l))\n",
    "[(1, 5, 7), (2, 6, 8)]\n",
    "```"
   ]
  },
  {
   "cell_type": "markdown",
   "metadata": {},
   "source": [
    "APL abhors ragged arrays and will inject the \"prototype\" element for whatever the element type is to ensure that all cells are the same size -- Python has no concept of array as such, and so abandons play if an element can't be filled. Mixing a vector with cells of unequal numbers of elements in each cell will show us what happens:"
   ]
  },
  {
   "cell_type": "code",
   "execution_count": 23,
   "metadata": {},
   "outputs": [
    {
     "data": {
      "text/html": [
       "<span style=\"white-space:pre; font-family: monospace\">┌→───────┐\n",
       "↓1 2 3  4│\n",
       "│5 6 0  0│\n",
       "│7 8 9 10│\n",
       "└~───────┘\n",
       "</span>"
      ]
     },
     "execution_count": 23,
     "metadata": {},
     "output_type": "execute_result"
    }
   ],
   "source": [
    "↑(1 2 3 4)(5 6)(7 8 9 10)"
   ]
  },
  {
   "cell_type": "markdown",
   "metadata": {},
   "source": [
    "Dyadically, _Mix_ and _Split_ become [_Take_](http://help.dyalog.com/18.0/index.htm#Language/Primitive%20Functions/Take.htm) and [_Drop_](http://help.dyalog.com/18.0/index.htm#Language/Primitive%20Functions/Drop.htm). _Take_ ... takes cells: "
   ]
  },
  {
   "cell_type": "code",
   "execution_count": 25,
   "metadata": {},
   "outputs": [
    {
     "data": {
      "text/html": [
       "<span style=\"white-space:pre; font-family: monospace\">┌→──────────┐\n",
       "│ ┌→──────┐ │\n",
       "│ │1 2 3 4│ │\n",
       "│ └~──────┘ │\n",
       "└∊──────────┘\n",
       "</span>"
      ]
     },
     "execution_count": 25,
     "metadata": {},
     "output_type": "execute_result"
    },
    {
     "data": {
      "text/html": [
       "<span style=\"white-space:pre; font-family: monospace\">┌→────────────────┐\n",
       "│ ┌→──────┐ ┌→──┐ │\n",
       "│ │1 2 3 4│ │5 6│ │\n",
       "│ └~──────┘ └~──┘ │\n",
       "└∊────────────────┘\n",
       "</span>"
      ]
     },
     "execution_count": 25,
     "metadata": {},
     "output_type": "execute_result"
    }
   ],
   "source": [
    "1↑(1 2 3 4)(5 6)(7 8 9 10) ⍝ Take 1\n",
    "2↑(1 2 3 4)(5 6)(7 8 9 10) ⍝ Take 2"
   ]
  },
  {
   "cell_type": "markdown",
   "metadata": {},
   "source": [
    "Note carefully the fact that _Take_ returns _cells_, not elements, even if you take 1. Recalling the [indexing](./indexing.ipynb) chapter, _Take_ 1 is equivalent to _Squad_ 0, not _Pick_ 0:"
   ]
  },
  {
   "cell_type": "code",
   "execution_count": 37,
   "metadata": {},
   "outputs": [
    {
     "data": {
      "text/html": [
       "<span style=\"white-space:pre; font-family: monospace\">┌───────────┐\n",
       "│ ┌→──────┐ │\n",
       "│ │1 2 3 4│ │\n",
       "│ └~──────┘ │\n",
       "└∊──────────┘\n",
       "</span>"
      ]
     },
     "execution_count": 37,
     "metadata": {},
     "output_type": "execute_result"
    },
    {
     "data": {
      "text/html": [
       "<span style=\"white-space:pre; font-family: monospace\">┌→──────┐\n",
       "│1 2 3 4│\n",
       "└~──────┘\n",
       "</span>"
      ]
     },
     "execution_count": 37,
     "metadata": {},
     "output_type": "execute_result"
    }
   ],
   "source": [
    "0⌷(1 2 3 4)(5 6)(7 8 9 10) ⍝ Squad 0 returns a cell\n",
    "0⊃(1 2 3 4)(5 6)(7 8 9 10) ⍝ Pick 0 returns an element"
   ]
  },
  {
   "cell_type": "markdown",
   "metadata": {},
   "source": [
    "We can also use negative numbers to take from the rear:"
   ]
  },
  {
   "cell_type": "code",
   "execution_count": 38,
   "metadata": {},
   "outputs": [
    {
     "data": {
      "text/html": [
       "<span style=\"white-space:pre; font-family: monospace\">┌→───────────┐\n",
       "│ ┌→───────┐ │\n",
       "│ │7 8 9 10│ │\n",
       "│ └~───────┘ │\n",
       "└∊───────────┘\n",
       "</span>"
      ]
     },
     "execution_count": 38,
     "metadata": {},
     "output_type": "execute_result"
    }
   ],
   "source": [
    "¯1↑(1 2 3 4)(5 6)(7 8 9 10) ⍝ Take 1 from the back"
   ]
  },
  {
   "cell_type": "markdown",
   "metadata": {},
   "source": [
    "_Drop_ does what we hopefully expect:"
   ]
  },
  {
   "cell_type": "code",
   "execution_count": 28,
   "metadata": {},
   "outputs": [
    {
     "data": {
      "text/html": [
       "<span style=\"white-space:pre; font-family: monospace\">┌→─────────────────┐\n",
       "│ ┌→──┐ ┌→───────┐ │\n",
       "│ │5 6│ │7 8 9 10│ │\n",
       "│ └~──┘ └~───────┘ │\n",
       "└∊─────────────────┘\n",
       "</span>"
      ]
     },
     "execution_count": 28,
     "metadata": {},
     "output_type": "execute_result"
    },
    {
     "data": {
      "text/html": [
       "<span style=\"white-space:pre; font-family: monospace\">┌→────────────────┐\n",
       "│ ┌→──────┐ ┌→──┐ │\n",
       "│ │1 2 3 4│ │5 6│ │\n",
       "│ └~──────┘ └~──┘ │\n",
       "└∊────────────────┘\n",
       "</span>"
      ]
     },
     "execution_count": 28,
     "metadata": {},
     "output_type": "execute_result"
    }
   ],
   "source": [
    "1↓(1 2 3 4)(5 6)(7 8 9 10)  ⍝ Drop 1 from the front\n",
    "¯1↓(1 2 3 4)(5 6)(7 8 9 10) ⍝ Drop 1 from the back"
   ]
  },
  {
   "cell_type": "markdown",
   "metadata": {},
   "source": [
    "_Take_ and _Drop_ work on any rank array:"
   ]
  },
  {
   "cell_type": "code",
   "execution_count": 40,
   "metadata": {},
   "outputs": [
    {
     "data": {
      "text/html": [
       "<span style=\"white-space:pre; font-family: monospace\">┌→────────┐\n",
       "↓3  0  5 1│\n",
       "│7  9  8 6│\n",
       "│2 10 11 4│\n",
       "└~────────┘\n",
       "</span>"
      ]
     },
     "execution_count": 40,
     "metadata": {},
     "output_type": "execute_result"
    },
    {
     "data": {
      "text/html": [
       "<span style=\"white-space:pre; font-family: monospace\">┌→──────┐\n",
       "↓3 0 5 1│\n",
       "└~──────┘\n",
       "</span>"
      ]
     },
     "execution_count": 40,
     "metadata": {},
     "output_type": "execute_result"
    },
    {
     "data": {
      "text/html": [
       "<span style=\"white-space:pre; font-family: monospace\">┌→────────┐\n",
       "↓7  9  8 6│\n",
       "│2 10 11 4│\n",
       "└~────────┘\n",
       "</span>"
      ]
     },
     "execution_count": 40,
     "metadata": {},
     "output_type": "execute_result"
    }
   ],
   "source": [
    "mat\n",
    "1↑mat ⍝ Take first cell\n",
    "1↓mat ⍝ Drop first cell"
   ]
  },
  {
   "cell_type": "markdown",
   "metadata": {},
   "source": [
    "## Index generator and Index of: `⍳`\n",
    "\n",
    "_Iota_, `⍳`, called [_Index generator_](http://help.dyalog.com/18.0/index.htm#Language/Primitive%20Functions/Index%20Generator.htm) (or _Interval_) when used monadically and [_Index of_](http://help.dyalog.com/18.0/index.htm#Language/Primitive%20Functions/Index%20Of.htm) when used dyadically is one to figure out early. Note that there is another glyph that looks similar, _iota underbar_, `⍸`, that does something entirely different, so don't confuse the two!\n",
    "\n",
    "The monadic case generates an integer interval, starting from the currently set `⎕IO` (0 in our case, remember):"
   ]
  },
  {
   "cell_type": "code",
   "execution_count": 41,
   "metadata": {},
   "outputs": [
    {
     "data": {
      "text/html": [
       "<span style=\"white-space:pre; font-family: monospace\">┌→──────────────────┐\n",
       "│0 1 2 3 4 5 6 7 8 9│\n",
       "└~──────────────────┘\n",
       "</span>"
      ]
     },
     "execution_count": 41,
     "metadata": {},
     "output_type": "execute_result"
    }
   ],
   "source": [
    "⍳10"
   ]
  },
  {
   "cell_type": "markdown",
   "metadata": {},
   "source": [
    "Thinking of this as a monadic function taking a shape vector, this generalises to more complex shapes:"
   ]
  },
  {
   "cell_type": "code",
   "execution_count": 48,
   "metadata": {},
   "outputs": [
    {
     "data": {
      "text/html": [
       "<span style=\"white-space:pre; font-family: monospace\">┌→────────────────────────┐\n",
       "↓ ┌→──┐ ┌→──┐ ┌→──┐ ┌→──┐ │\n",
       "│ │0 0│ │0 1│ │0 2│ │0 3│ │\n",
       "│ └~──┘ └~──┘ └~──┘ └~──┘ │\n",
       "│ ┌→──┐ ┌→──┐ ┌→──┐ ┌→──┐ │\n",
       "│ │1 0│ │1 1│ │1 2│ │1 3│ │\n",
       "│ └~──┘ └~──┘ └~──┘ └~──┘ │\n",
       "│ ┌→──┐ ┌→──┐ ┌→──┐ ┌→──┐ │\n",
       "│ │2 0│ │2 1│ │2 2│ │2 3│ │\n",
       "│ └~──┘ └~──┘ └~──┘ └~──┘ │\n",
       "└∊────────────────────────┘\n",
       "</span>"
      ]
     },
     "execution_count": 48,
     "metadata": {},
     "output_type": "execute_result"
    }
   ],
   "source": [
    "⍳3 4"
   ]
  },
  {
   "cell_type": "markdown",
   "metadata": {},
   "source": [
    "In other words, _iota_ generates all possible _indices_ into an array with the shape of its argument.\n",
    "\n",
    "In the dyadic form, _iota_ becomes _Index of_, another useful thing to know. _Index of_ tells us the index of the first occurrence of an element:"
   ]
  },
  {
   "cell_type": "code",
   "execution_count": 43,
   "metadata": {},
   "outputs": [
    {
     "data": {
      "text/html": [
       "<span style=\"white-space:pre; font-family: monospace\"> \n",
       "4\n",
       " \n",
       "</span>"
      ]
     },
     "execution_count": 43,
     "metadata": {},
     "output_type": "execute_result"
    }
   ],
   "source": [
    "'Hello world'⍳'o'"
   ]
  },
  {
   "cell_type": "markdown",
   "metadata": {},
   "source": [
    "The right argument can have any shape, but the left argument is usually a vector."
   ]
  },
  {
   "cell_type": "code",
   "execution_count": 47,
   "metadata": {},
   "outputs": [
    {
     "data": {
      "text/html": [
       "<span style=\"white-space:pre; font-family: monospace\">┌→───┐\n",
       "│4 10│\n",
       "└~───┘\n",
       "</span>"
      ]
     },
     "execution_count": 47,
     "metadata": {},
     "output_type": "execute_result"
    }
   ],
   "source": [
    "'Hello world'⍳'od'"
   ]
  },
  {
   "cell_type": "markdown",
   "metadata": {},
   "source": [
    " A nifty feature is that if the right element isn't found, the returned index is `⎕IO+≢⍺` -- the index origin (which in our case is 0) plus the length of the left argument. This can be used to provide a default match for items not found:"
   ]
  },
  {
   "cell_type": "code",
   "execution_count": 11,
   "metadata": {},
   "outputs": [
    {
     "data": {
      "text/html": [
       "<span style=\"white-space:pre; font-family: monospace\">┌→─────────────────────────┐\n",
       "│ ┌→───┐ ┌→──┐ ┌→────────┐ │\n",
       "│ │Adam│ │Bob│ │Charlotte│ │\n",
       "│ └────┘ └───┘ └─────────┘ │\n",
       "└∊─────────────────────────┘\n",
       "</span>"
      ]
     },
     "execution_count": 11,
     "metadata": {},
     "output_type": "execute_result"
    },
    {
     "data": {
      "text/html": [
       "<span style=\"white-space:pre; font-family: monospace\">┌→──────────────────┐\n",
       "│ ┌→──┐ ┌→────────┐ │\n",
       "│ │Bob│ │Not found│ │\n",
       "│ └───┘ └─────────┘ │\n",
       "└∊──────────────────┘\n",
       "</span>"
      ]
     },
     "execution_count": 11,
     "metadata": {},
     "output_type": "execute_result"
    }
   ],
   "source": [
    "⎕ ← staff ← 'Adam' 'Bob' 'Charlotte'\n",
    "lookup ← staff,⊂'Not found'\n",
    "lookup[staff⍳'Bob' 'David']"
   ]
  },
  {
   "cell_type": "markdown",
   "metadata": {},
   "source": [
    "## Where, Interval Index: `⍸`"
   ]
  },
  {
   "cell_type": "markdown",
   "metadata": {},
   "source": [
    "Iota-underbar, `⍸`, is [_Where_](http://help.dyalog.com/latest/index.htm#Language/Primitive%20Functions/Where.htm) as a monad, and [_Interval Index_](http://help.dyalog.com/latest/index.htm#Language/Primitive%20Functions/Interval%20Index.htm) as a dyad.\n",
    "\n",
    "_Where_ gives the indices of an array where the value is non-zero. For example,"
   ]
  },
  {
   "cell_type": "code",
   "execution_count": 6,
   "metadata": {},
   "outputs": [
    {
     "data": {
      "text/html": [
       "<span style=\"white-space:pre; font-family: monospace\">┌→────────────────┐\n",
       "│0 3 5 7 8 9 11 13│\n",
       "└~────────────────┘\n",
       "</span>"
      ]
     },
     "execution_count": 6,
     "metadata": {},
     "output_type": "execute_result"
    }
   ],
   "source": [
    "⍸1 0 0 1 0 1 0 1 1 1 0 1 0 1"
   ]
  },
  {
   "cell_type": "markdown",
   "metadata": {},
   "source": [
    "This can be combined with indexing to select a subset that matches some criterion:"
   ]
  },
  {
   "cell_type": "code",
   "execution_count": 7,
   "metadata": {},
   "outputs": [
    {
     "data": {
      "text/html": [
       "<span style=\"white-space:pre; font-family: monospace\">┌→────────────────────────────────────────────────┐\n",
       "│0 1 2 3 4 5 6 7 8 9 10 11 12 13 14 15 16 17 18 19│\n",
       "└~────────────────────────────────────────────────┘\n",
       "</span>"
      ]
     },
     "execution_count": 7,
     "metadata": {},
     "output_type": "execute_result"
    },
    {
     "data": {
      "text/html": [
       "<span style=\"white-space:pre; font-family: monospace\">┌→────────┐\n",
       "│0 5 10 15│\n",
       "└~────────┘\n",
       "</span>"
      ]
     },
     "execution_count": 7,
     "metadata": {},
     "output_type": "execute_result"
    }
   ],
   "source": [
    "⎕←nums←⍳20\n",
    "nums[⍸0=5|nums] ⍝ Find all numbers divisible by 5"
   ]
  },
  {
   "cell_type": "markdown",
   "metadata": {},
   "source": [
    "It works for any rank, of course:"
   ]
  },
  {
   "cell_type": "code",
   "execution_count": 8,
   "metadata": {},
   "outputs": [
    {
     "data": {
      "text/html": [
       "<span style=\"white-space:pre; font-family: monospace\">┌→────┐\n",
       "↓1 0 0│\n",
       "│1 1 0│\n",
       "│0 1 0│\n",
       "└~────┘\n",
       "</span>"
      ]
     },
     "execution_count": 8,
     "metadata": {},
     "output_type": "execute_result"
    },
    {
     "data": {
      "text/html": [
       "<span style=\"white-space:pre; font-family: monospace\">┌→────────────────────────┐\n",
       "│ ┌→──┐ ┌→──┐ ┌→──┐ ┌→──┐ │\n",
       "│ │0 0│ │1 0│ │1 1│ │2 1│ │\n",
       "│ └~──┘ └~──┘ └~──┘ └~──┘ │\n",
       "└∊────────────────────────┘\n",
       "</span>"
      ]
     },
     "execution_count": 8,
     "metadata": {},
     "output_type": "execute_result"
    }
   ],
   "source": [
    "3 3⍴1 0 0 1 1 0 0 1 0\n",
    "⍸3 3⍴1 0 0 1 1 0 0 1 0"
   ]
  },
  {
   "cell_type": "markdown",
   "metadata": {},
   "source": [
    "You probably expected that. Perhaps more surprising is that the right argument array does not have to be Boolean:"
   ]
  },
  {
   "cell_type": "code",
   "execution_count": 9,
   "metadata": {},
   "outputs": [
    {
     "data": {
      "text/html": [
       "<span style=\"white-space:pre; font-family: monospace\">┌→────────────────────────────┐\n",
       "│1 3 3 5 5 5 7 7 7 7 9 9 9 9 9│\n",
       "└~────────────────────────────┘\n",
       "</span>"
      ]
     },
     "execution_count": 9,
     "metadata": {},
     "output_type": "execute_result"
    }
   ],
   "source": [
    "⍸0 1 0 2 0 3 0 4 0 5"
   ]
  },
  {
   "cell_type": "markdown",
   "metadata": {},
   "source": [
    "It still finds the indices of non-zero elements, but this time it uses the element itself as the repeat count. In the result in example above, we have a single 1, as the right argument array has a 1 at index 1. We have four 7s, as the array has a 4 in index 7."
   ]
  },
  {
   "cell_type": "markdown",
   "metadata": {},
   "source": [
    "When used dyadically, we have _interval index_. Interval index is a _binning algorithm_ -- given a set of ranged bins in order, it picks the bin corresponding to the arguments. Here's how it works:"
   ]
  },
  {
   "cell_type": "code",
   "execution_count": 10,
   "metadata": {},
   "outputs": [
    {
     "data": {
      "text/html": [
       "<span style=\"white-space:pre; font-family: monospace\">┌→─────┐\n",
       "│3 4 ¯1│\n",
       "└~─────┘\n",
       "</span>"
      ]
     },
     "execution_count": 10,
     "metadata": {},
     "output_type": "execute_result"
    }
   ],
   "source": [
    "1 3 5 7 9⍸8 9 0  ⍝ bin 8, 9 and 0 over the intervals 1 3 5 7 9"
   ]
  },
  {
   "cell_type": "markdown",
   "metadata": {},
   "source": [
    "Consider the gaps between the elements to the left. The first interval is then [1, 3), the second is [3, 5), the third is [5, 7) etc. An element belongs to the bin where it is greater than or equal to the lower end, and less than the upper end."
   ]
  },
  {
   "cell_type": "code",
   "execution_count": 11,
   "metadata": {},
   "outputs": [
    {
     "data": {
      "text/html": [
       "<span style=\"white-space:pre; font-family: monospace\"> \n",
       "2\n",
       " \n",
       "</span>"
      ]
     },
     "execution_count": 11,
     "metadata": {},
     "output_type": "execute_result"
    }
   ],
   "source": [
    "1 3 5 7 9⍸5      ⍝ elements on on boundary goes in the higher bin"
   ]
  },
  {
   "cell_type": "markdown",
   "metadata": {},
   "source": [
    "As we saw above, elements smaller than the first bin gets a bin number one less than the index origin (in our case the index origin is 0 so our \"low bin\" is `¯1`), which is assumed to cover every number lower than the first bin. Similarly, elements greater than the last bin will end up with a bin number equal to the index of the last element to the left:"
   ]
  },
  {
   "cell_type": "code",
   "execution_count": 12,
   "metadata": {},
   "outputs": [
    {
     "data": {
      "text/html": [
       "<span style=\"white-space:pre; font-family: monospace\">┌→───┐\n",
       "│¯1 3│\n",
       "└~───┘\n",
       "</span>"
      ]
     },
     "execution_count": 12,
     "metadata": {},
     "output_type": "execute_result"
    }
   ],
   "source": [
    "3 5 7 9⍸0 100"
   ]
  },
  {
   "cell_type": "markdown",
   "metadata": {},
   "source": [
    "It works for other types, too:"
   ]
  },
  {
   "cell_type": "code",
   "execution_count": 13,
   "metadata": {},
   "outputs": [
    {
     "data": {
      "text/html": [
       "<span style=\"white-space:pre; font-family: monospace\">┌→─────────────────────┐\n",
       "│1 1 2 2 3 ¯1 4 3 3 2 0│\n",
       "└~─────────────────────┘\n",
       "</span>"
      ]
     },
     "execution_count": 13,
     "metadata": {},
     "output_type": "execute_result"
    }
   ],
   "source": [
    "'AEIOU'⍸'HELLO WORLD'"
   ]
  },
  {
   "cell_type": "markdown",
   "metadata": {},
   "source": [
    "In other words, \"H\" comes on or after \"E\" but not after \"I\", \"E\" is on or after \"E\" etc.\n",
    "\n",
    "Typical use cases for _bin search_ involves various kinds of classification. For example, in the UK, alcoholic beverages are [taxed](https://www.gov.uk/government/publications/uk-trade-tariff-excise-duties-reliefs-drawbacks-and-allowances/uk-trade-tariff-excise-duties-reliefs-drawbacks-and-allowances) based on their _alcohol by volume_ (abv) percentage. Let's consider cider and perry:\n",
    "\n",
    "| Class or description                     | Tax type code | Rate of excise duty/hl |\n",
    "| :---                                     |          ---: |                   ---: |\n",
    "| abv does not exceed 1.2%                 |           431 |                     £0 |\n",
    "| abv exceeding 1.2% but less than 6.9%    |           481 |                 £40.38 |\n",
    "| abv at least 6.9% but not exceeding 7.5% |           487 |                 £50.71 |\n",
    "| abv at least 7.5% but not exceeding 8.5% |           483 |                 £61.04 |"
   ]
  },
  {
   "cell_type": "markdown",
   "metadata": {},
   "source": [
    "Given the following ciders with the associated abv, what are their respective tax code and tax rate per hecto-litre?"
   ]
  },
  {
   "cell_type": "code",
   "execution_count": 14,
   "metadata": {},
   "outputs": [],
   "source": [
    "ciders←'Kopparberg Sparkling Rose' 'Bulmers Original' 'Crispin the Jacket' 'Old Mout Cherries & Berries'\n",
    "abv←7.0 4.5 8.3 0.0"
   ]
  },
  {
   "cell_type": "markdown",
   "metadata": {},
   "source": [
    "Let's encode the table above into a set of vectors first:"
   ]
  },
  {
   "cell_type": "code",
   "execution_count": 15,
   "metadata": {},
   "outputs": [],
   "source": [
    "code←431 481 487 486\n",
    "rate←0 40.38 50.71 61.04\n",
    "limits←1.2 6.9 7.5 8.5"
   ]
  },
  {
   "cell_type": "markdown",
   "metadata": {},
   "source": [
    "Let's find the bins from the limits, and add one to capture the -1 bin appropriately:"
   ]
  },
  {
   "cell_type": "code",
   "execution_count": 16,
   "metadata": {},
   "outputs": [
    {
     "data": {
      "text/html": [
       "<span style=\"white-space:pre; font-family: monospace\">┌→──────┐\n",
       "│2 1 3 0│\n",
       "└~──────┘\n",
       "</span>"
      ]
     },
     "execution_count": 16,
     "metadata": {},
     "output_type": "execute_result"
    }
   ],
   "source": [
    "⎕←bin←1+limits⍸abv"
   ]
  },
  {
   "cell_type": "markdown",
   "metadata": {},
   "source": [
    "Now we can lay this out nicely,"
   ]
  },
  {
   "cell_type": "code",
   "execution_count": 17,
   "metadata": {},
   "outputs": [
    {
     "data": {
      "text/html": [
       "<span style=\"white-space:pre; font-family: monospace\">┌→─────────────────────────────────────────┐\n",
       "↓ Name                          Rate  Code │\n",
       "│ Kopparberg Sparkling Rose    50.71   487 │\n",
       "│ Bulmers Original             40.38   481 │\n",
       "│ Crispin the Jacket           61.04   486 │\n",
       "│ Old Mout Cherries &amp; Berries   0      431 │\n",
       "└──────────────────────────────────────────┘\n",
       "</span>"
      ]
     },
     "execution_count": 17,
     "metadata": {},
     "output_type": "execute_result"
    }
   ],
   "source": [
    "⍕('Name' 'Rate' 'Code')⍪⍉↑(ciders (rate[bin]) (code[bin]))"
   ]
  },
  {
   "cell_type": "markdown",
   "metadata": {},
   "source": [
    "## Ravel, Catenate, Enlist, Member: `,⍪∊`"
   ]
  },
  {
   "cell_type": "markdown",
   "metadata": {},
   "source": [
    "[_Ravel_](http://help.dyalog.com/18.0/index.htm#Language/Primitive%20Functions/Ravel.htm), monadic `,` and [_Enlist_](http://help.dyalog.com/18.0/index.htm#Language/Primitive%20Functions/Enlist.htm), monadic `∊`, do related things: _Ravel_ creates a vector of the major cells of its argument, and _Enlist_ creates a vector of the _elements_ of its argument. For non-nested arrays, there is no difference:"
   ]
  },
  {
   "cell_type": "code",
   "execution_count": 12,
   "metadata": {},
   "outputs": [
    {
     "data": {
      "text/html": [
       "<span style=\"white-space:pre; font-family: monospace\">┌→────────────────────────┐\n",
       "│3 0 5 1 7 9 8 6 2 10 11 4│\n",
       "└~────────────────────────┘\n",
       "</span>"
      ]
     },
     "execution_count": 12,
     "metadata": {},
     "output_type": "execute_result"
    },
    {
     "data": {
      "text/html": [
       "<span style=\"white-space:pre; font-family: monospace\">┌→────────────────────────┐\n",
       "│3 0 5 1 7 9 8 6 2 10 11 4│\n",
       "└~────────────────────────┘\n",
       "</span>"
      ]
     },
     "execution_count": 12,
     "metadata": {},
     "output_type": "execute_result"
    }
   ],
   "source": [
    "simple ← 3 4⍴3 0 5 1 7 9 8 6 2 10 11 4\n",
    ",simple ⍝ Ravel\n",
    "∊simple ⍝ Enlist"
   ]
  },
  {
   "cell_type": "markdown",
   "metadata": {},
   "source": [
    "For a nested array, the difference is clearer:"
   ]
  },
  {
   "cell_type": "code",
   "execution_count": 34,
   "metadata": {},
   "outputs": [
    {
     "data": {
      "text/html": [
       "<span style=\"white-space:pre; font-family: monospace\">┌→────────────┐\n",
       "↓ ┌→──┐ ┌→──┐ │\n",
       "│ │2 3│ │4 5│ │\n",
       "│ └~──┘ └~──┘ │\n",
       "│ ┌→──┐ ┌→──┐ │\n",
       "│ │6 7│ │8 9│ │\n",
       "│ └~──┘ └~──┘ │\n",
       "└∊────────────┘\n",
       "</span>"
      ]
     },
     "execution_count": 34,
     "metadata": {},
     "output_type": "execute_result"
    },
    {
     "data": {
      "text/html": [
       "<span style=\"white-space:pre; font-family: monospace\">┌→────────────────────────┐\n",
       "│ ┌→──┐ ┌→──┐ ┌→──┐ ┌→──┐ │\n",
       "│ │2 3│ │4 5│ │6 7│ │8 9│ │\n",
       "│ └~──┘ └~──┘ └~──┘ └~──┘ │\n",
       "└∊────────────────────────┘\n",
       "</span>"
      ]
     },
     "execution_count": 34,
     "metadata": {},
     "output_type": "execute_result"
    },
    {
     "data": {
      "text/html": [
       "<span style=\"white-space:pre; font-family: monospace\">┌→──────────────┐\n",
       "│2 3 4 5 6 7 8 9│\n",
       "└~──────────────┘\n",
       "</span>"
      ]
     },
     "execution_count": 34,
     "metadata": {},
     "output_type": "execute_result"
    }
   ],
   "source": [
    "⎕ ← nested ← ↑((2 3)(4 5))((6 7)(8 9))\n",
    ",nested ⍝ Ravel\n",
    "∊nested ⍝ Enlist"
   ]
  },
  {
   "cell_type": "markdown",
   "metadata": {},
   "source": [
    "In their dyadic guises, `,` becomes [_Catenate_](http://help.dyalog.com/18.0/index.htm#Language/Primitive%20Functions/Catenate%20Laminate.htm), and `∊` becomes [_Membership_](http://help.dyalog.com/18.0/index.htm#Language/Primitive%20Functions/Membership.htm). \n",
    "\n",
    "_Catenate_ merges its left and right arguments:"
   ]
  },
  {
   "cell_type": "code",
   "execution_count": 64,
   "metadata": {},
   "outputs": [
    {
     "data": {
      "text/html": [
       "<span style=\"white-space:pre; font-family: monospace\">┌→────────────────────┐\n",
       "│             ┌→────┐ │\n",
       "│ 1 2 3 4 5 6 │hello│ │\n",
       "│             └─────┘ │\n",
       "└∊────────────────────┘\n",
       "</span>"
      ]
     },
     "execution_count": 64,
     "metadata": {},
     "output_type": "execute_result"
    },
    {
     "data": {
      "text/html": [
       "<span style=\"white-space:pre; font-family: monospace\">┌→────────────────┐\n",
       "│1 2 3 4 5 6 hello│\n",
       "└+────────────────┘\n",
       "</span>"
      ]
     },
     "execution_count": 64,
     "metadata": {},
     "output_type": "execute_result"
    }
   ],
   "source": [
    "1 2 3 4 , 5 6 'hello'\n",
    "1 2 3 4 5 6 , 'hello'"
   ]
  },
  {
   "cell_type": "markdown",
   "metadata": {},
   "source": [
    "The distinction above is perhaps not obvious - and without `]box on` they would look identical. In the first case, _Catenate_'s right argument is a nested vector, whereas in the second case, it's a simple character vector.\n",
    "\n",
    "Note that _Catenate_ is trailling axis. There is a leading axis version, too, `⍪`, called _Laminate_ -- or, perhaps more logically -- [_Catenate first_](http://help.dyalog.com/18.0/index.htm#Language/Primitive%20Functions/Catenate%20First.htm).\n",
    "\n",
    "We can catenate higher-rank arrays, too:"
   ]
  },
  {
   "cell_type": "code",
   "execution_count": 74,
   "metadata": {},
   "outputs": [
    {
     "data": {
      "text/html": [
       "<span style=\"white-space:pre; font-family: monospace\">┌→──────────┐\n",
       "↓0 1 2 0 1 2│\n",
       "│3 4 5 3 4 5│\n",
       "│6 7 8 6 7 8│\n",
       "└~──────────┘\n",
       "</span>"
      ]
     },
     "execution_count": 74,
     "metadata": {},
     "output_type": "execute_result"
    },
    {
     "data": {
      "text/html": [
       "<span style=\"white-space:pre; font-family: monospace\">┌→────┐\n",
       "↓0 1 2│\n",
       "│3 4 5│\n",
       "│6 7 8│\n",
       "│0 1 2│\n",
       "│3 4 5│\n",
       "│6 7 8│\n",
       "└~────┘\n",
       "</span>"
      ]
     },
     "execution_count": 74,
     "metadata": {},
     "output_type": "execute_result"
    }
   ],
   "source": [
    "(3 3⍴⍳9),(3 3⍴⍳9) ⍝ Catenate-last (new cols)\n",
    "(3 3⍴⍳9)⍪(3 3⍴⍳9) ⍝ Catenate-first/laminate (new rows)"
   ]
  },
  {
   "cell_type": "markdown",
   "metadata": {},
   "source": [
    "Dyadic `∊` is _Membership_, another handy glyph in your arsenal:"
   ]
  },
  {
   "cell_type": "code",
   "execution_count": 96,
   "metadata": {},
   "outputs": [
    {
     "data": {
      "text/html": [
       "<span style=\"white-space:pre; font-family: monospace\"> \n",
       "1\n",
       " \n",
       "</span>"
      ]
     },
     "execution_count": 96,
     "metadata": {},
     "output_type": "execute_result"
    }
   ],
   "source": [
    "'l'∊'Hello world'"
   ]
  },
  {
   "cell_type": "markdown",
   "metadata": {},
   "source": [
    "It's not unlike Python's `in`:\n",
    "\n",
    "```python\n",
    ">>> 'l' in 'Hello world'\n",
    "True\n",
    "```\n",
    "at least at a superficial level. The APL version extends naturally to higher-rank arrays:"
   ]
  },
  {
   "cell_type": "code",
   "execution_count": 80,
   "metadata": {},
   "outputs": [
    {
     "data": {
      "text/html": [
       "<span style=\"white-space:pre; font-family: monospace\">┌→──────┐\n",
       "│1 1 1 1│\n",
       "└~──────┘\n",
       "</span>"
      ]
     },
     "execution_count": 80,
     "metadata": {},
     "output_type": "execute_result"
    }
   ],
   "source": [
    "'lo w'∊'Hello world'"
   ]
  },
  {
   "cell_type": "markdown",
   "metadata": {},
   "source": [
    "whereas Python would see that as _is substring_:\n",
    "\n",
    "```python\n",
    ">>> 'lo w' in 'Hello world'\n",
    "True\n",
    "```"
   ]
  },
  {
   "cell_type": "markdown",
   "metadata": {},
   "source": [
    "You can, of course, get a similar substring behaviour in APL, too, but you need a different approach:"
   ]
  },
  {
   "cell_type": "code",
   "execution_count": 78,
   "metadata": {},
   "outputs": [
    {
     "data": {
      "text/html": [
       "<span style=\"white-space:pre; font-family: monospace\">┌→┐\n",
       "│3│\n",
       "└~┘\n",
       "</span>"
      ]
     },
     "execution_count": 78,
     "metadata": {},
     "output_type": "execute_result"
    }
   ],
   "source": [
    "'lo'(⍸⍷)'Hello world' ⍝ Index of start of substring"
   ]
  },
  {
   "cell_type": "markdown",
   "metadata": {},
   "source": [
    "but we need a bit more flesh on our APL bones before we're ready for that -- see the [Finding things](./find.ipynb) section later!"
   ]
  },
  {
   "cell_type": "markdown",
   "metadata": {},
   "source": [
    "## Selfie, Commute, Constant: `⍨`\n",
    "\n",
    "A firm favourite, the [_Selfie_](http://help.dyalog.com/18.0/index.htm#Language/Primitive%20Operators/Commute.htm) (although it's really called _Commute_), mirroring the confused look of the APL neophyte: `⍨`. A monadic operator, the selfie commutes the left and right arguments of its operand function. At first, this seems beyond pointless -- worse, in fact: it seems to offer nothing but added, deliberate obfuscation:"
   ]
  },
  {
   "cell_type": "code",
   "execution_count": 15,
   "metadata": {},
   "outputs": [
    {
     "data": {
      "text/html": [
       "<span style=\"white-space:pre; font-family: monospace\">┌→──────────┐\n",
       "│6 9 5 2 0 9│\n",
       "└~──────────┘\n",
       "</span>"
      ]
     },
     "execution_count": 15,
     "metadata": {},
     "output_type": "execute_result"
    },
    {
     "data": {
      "text/html": [
       "<span style=\"white-space:pre; font-family: monospace\">┌→┐\n",
       "│6│\n",
       "└~┘\n",
       "</span>"
      ]
     },
     "execution_count": 15,
     "metadata": {},
     "output_type": "execute_result"
    }
   ],
   "source": [
    "⎕ ← v ← 6 9 5 2 0 9\n",
    "v↑⍨1     ⍝ Take 1 but commute arguments ⍨"
   ]
  },
  {
   "cell_type": "markdown",
   "metadata": {},
   "source": [
    "As it turns out, it has its legitimate uses. Consider the consequences of APL's right to left evaluation order. If you have a dyadic function application with a complex expression to the _left_, you're forced to introduce parenthesis to ensure that the left side is fully evaluated before it is passed to the function. The commute operator, by shifting the complex expression to the _right_ side, avoids this.\n",
    "\n",
    "Compare the following two equivalent forms (disregarding for the moment what they mean):"
   ]
  },
  {
   "cell_type": "code",
   "execution_count": 30,
   "metadata": {},
   "outputs": [
    {
     "data": {
      "text/html": [
       "<span style=\"white-space:pre; font-family: monospace\">{⍵⊂⍨1,2≠/⍵}\n",
       "</span>"
      ]
     },
     "execution_count": 30,
     "metadata": {},
     "output_type": "execute_result"
    },
    {
     "data": {
      "text/html": [
       "<span style=\"white-space:pre; font-family: monospace\">{(1,2≠/⍵)⊂⍵}\n",
       "</span>"
      ]
     },
     "execution_count": 30,
     "metadata": {},
     "output_type": "execute_result"
    }
   ],
   "source": [
    "{⍵⊂⍨1,2≠/⍵}\n",
    "{(1,2≠/⍵)⊂⍵}"
   ]
  },
  {
   "cell_type": "markdown",
   "metadata": {},
   "source": [
    "So you could say \"big deal, _one_ glyph fewer to type\", and you'd have a point. But the main advantage is that, by commuting, we preserve the right-to-left evaluation order. By having parenthesised part of the expression, we have an unnatural evaluation order. With a few well-placed selfies we can read the expression as Ken intended. \n",
    "\n",
    "As with anything, there's a balance to be struck here. For the learner, selfies do make expressions harder, not easier, to read. The process of \"flipping selfied expressions\" occasionally helps when trying to deconstruct something someone else wrote."
   ]
  },
  {
   "cell_type": "markdown",
   "metadata": {},
   "source": [
    "If we give no left argument to the dyadic function derived by _Selfie_ we echo the right argument to its left:"
   ]
  },
  {
   "cell_type": "code",
   "execution_count": 21,
   "metadata": {},
   "outputs": [
    {
     "data": {
      "text/html": [
       "<span style=\"white-space:pre; font-family: monospace\">┌→────────┐\n",
       "│1 1 1 1 1│\n",
       "└~────────┘\n",
       "</span>"
      ]
     },
     "execution_count": 21,
     "metadata": {},
     "output_type": "execute_result"
    }
   ],
   "source": [
    "=⍨1 2 3 4 5"
   ]
  },
  {
   "cell_type": "markdown",
   "metadata": {},
   "source": [
    "which is the same as saying:"
   ]
  },
  {
   "cell_type": "code",
   "execution_count": 22,
   "metadata": {},
   "outputs": [
    {
     "data": {
      "text/html": [
       "<span style=\"white-space:pre; font-family: monospace\">┌→────────┐\n",
       "│1 1 1 1 1│\n",
       "└~────────┘\n",
       "</span>"
      ]
     },
     "execution_count": 22,
     "metadata": {},
     "output_type": "execute_result"
    }
   ],
   "source": [
    "1 2 3 4 5 = 1 2 3 4 5"
   ]
  },
  {
   "cell_type": "markdown",
   "metadata": {},
   "source": [
    "If APL didn't already have a _Tally_ function built in (`≢`) we could make one as the sum-reduction of self-equals to count the number of elements in a vector, say:"
   ]
  },
  {
   "cell_type": "code",
   "execution_count": 92,
   "metadata": {},
   "outputs": [],
   "source": [
    "tally ← +/=⍨"
   ]
  },
  {
   "cell_type": "code",
   "execution_count": 93,
   "metadata": {},
   "outputs": [
    {
     "data": {
      "text/html": [
       "<span style=\"white-space:pre; font-family: monospace\"> \n",
       "5\n",
       " \n",
       "</span>"
      ]
     },
     "execution_count": 93,
     "metadata": {},
     "output_type": "execute_result"
    }
   ],
   "source": [
    "tally 1 2 3 4 5"
   ]
  },
  {
   "cell_type": "markdown",
   "metadata": {},
   "source": [
    "If _Selfie_ is given an _array_ operand, it becomes [_Constant_](http://help.dyalog.com/18.0/index.htm#Language/Primitive%20Operators/Constant.htm): it always returns its operand:"
   ]
  },
  {
   "cell_type": "code",
   "execution_count": 20,
   "metadata": {},
   "outputs": [
    {
     "data": {
      "text/html": [
       "<span style=\"white-space:pre; font-family: monospace\"> \n",
       "1\n",
       " \n",
       "</span>"
      ]
     },
     "execution_count": 20,
     "metadata": {},
     "output_type": "execute_result"
    },
    {
     "data": {
      "text/html": [
       "<span style=\"white-space:pre; font-family: monospace\"> \n",
       "1\n",
       " \n",
       "</span>"
      ]
     },
     "execution_count": 20,
     "metadata": {},
     "output_type": "execute_result"
    },
    {
     "data": {
      "text/html": [
       "<span style=\"white-space:pre; font-family: monospace\"> \n",
       "1\n",
       " \n",
       "</span>"
      ]
     },
     "execution_count": 20,
     "metadata": {},
     "output_type": "execute_result"
    },
    {
     "data": {
      "text/html": [
       "<span style=\"white-space:pre; font-family: monospace\">┌→──────┐\n",
       "│1 1 1 1│\n",
       "└~──────┘\n",
       "</span>"
      ]
     },
     "execution_count": 20,
     "metadata": {},
     "output_type": "execute_result"
    }
   ],
   "source": [
    "1⍨ 2\n",
    "3 (1⍨) 2\n",
    "1⍨ 2 3 4 5\n",
    "1⍨¨ 2 3 4 5"
   ]
  },
  {
   "cell_type": "markdown",
   "metadata": {},
   "source": [
    "You can be excused for thinking that this is pretty pointless, but you'd be surprised how handy it can be. For example, you often find yourself wanting to create a vector of all the same value matching the shape of some other array:"
   ]
  },
  {
   "cell_type": "code",
   "execution_count": 26,
   "metadata": {},
   "outputs": [
    {
     "data": {
      "text/html": [
       "<span style=\"white-space:pre; font-family: monospace\">┌→────┐\n",
       "↓5 7 8│\n",
       "│4 3 6│\n",
       "│1 0 2│\n",
       "└~────┘\n",
       "</span>"
      ]
     },
     "execution_count": 26,
     "metadata": {},
     "output_type": "execute_result"
    },
    {
     "data": {
      "text/html": [
       "<span style=\"white-space:pre; font-family: monospace\">┌→────┐\n",
       "↓5 5 5│\n",
       "│5 5 5│\n",
       "│5 5 5│\n",
       "└~────┘\n",
       "</span>"
      ]
     },
     "execution_count": 26,
     "metadata": {},
     "output_type": "execute_result"
    }
   ],
   "source": [
    "⎕ ← m ← 3 3⍴9?9 \n",
    "5⍨¨m ⍝ Make an array that looks like m, but will all elements 5"
   ]
  },
  {
   "cell_type": "markdown",
   "metadata": {},
   "source": [
    "There are many other ways we could achieve the same thing, for example"
   ]
  },
  {
   "cell_type": "code",
   "execution_count": 29,
   "metadata": {},
   "outputs": [
    {
     "data": {
      "text/html": [
       "<span style=\"white-space:pre; font-family: monospace\">┌→────┐\n",
       "↓5 5 5│\n",
       "│5 5 5│\n",
       "│5 5 5│\n",
       "└~────┘\n",
       "</span>"
      ]
     },
     "execution_count": 29,
     "metadata": {},
     "output_type": "execute_result"
    }
   ],
   "source": [
    "5⍴⍨⍴m"
   ]
  },
  {
   "cell_type": "markdown",
   "metadata": {},
   "source": [
    "but if you pronounce `5⍨¨m` as \"constant 5 for each element in `m`\" it matches the problem description nicely."
   ]
  },
  {
   "cell_type": "markdown",
   "metadata": {},
   "source": [
    "## Unique, Union, Intersection, Without: `∪∩~`"
   ]
  },
  {
   "cell_type": "markdown",
   "metadata": {},
   "source": [
    "We have the full complement of set operations at our disposal. Starting with [_Unique_](http://help.dyalog.com/18.0/index.htm#Language/Primitive%20Functions/Unique.htm), monadic `∪`, it does exactly what it says on the tin:"
   ]
  },
  {
   "cell_type": "code",
   "execution_count": 106,
   "metadata": {},
   "outputs": [
    {
     "data": {
      "text/html": [
       "<span style=\"white-space:pre; font-family: monospace\">┌→──────────┐\n",
       "│1 2 3 4 5 6│\n",
       "└~──────────┘\n",
       "</span>"
      ]
     },
     "execution_count": 106,
     "metadata": {},
     "output_type": "execute_result"
    },
    {
     "data": {
      "text/html": [
       "<span style=\"white-space:pre; font-family: monospace\">┌→───────┐\n",
       "│helo wrd│\n",
       "└────────┘\n",
       "</span>"
      ]
     },
     "execution_count": 106,
     "metadata": {},
     "output_type": "execute_result"
    }
   ],
   "source": [
    "∪1 1 2 2 3 3 4 4 5 5 6 6\n",
    "∪'hello world'"
   ]
  },
  {
   "cell_type": "markdown",
   "metadata": {},
   "source": [
    "In its dyadic version, `∪` becomes [_Union_](http://help.dyalog.com/18.0/index.htm#Language/Primitive%20Functions/Union.htm):"
   ]
  },
  {
   "cell_type": "code",
   "execution_count": 108,
   "metadata": {},
   "outputs": [
    {
     "data": {
      "text/html": [
       "<span style=\"white-space:pre; font-family: monospace\">┌→────────────┐\n",
       "│1 1 2 3 4 5 6│\n",
       "└~────────────┘\n",
       "</span>"
      ]
     },
     "execution_count": 108,
     "metadata": {},
     "output_type": "execute_result"
    }
   ],
   "source": [
    "1 1 2 3 4 ∪ 1 2 5 6"
   ]
  },
  {
   "cell_type": "markdown",
   "metadata": {},
   "source": [
    "Note that the arguments aren't proper sets. The above says \"take ALL elements in the left argument, and add any element from the right which isn't already present\"."
   ]
  },
  {
   "cell_type": "markdown",
   "metadata": {},
   "source": [
    "[_Intersection_](http://help.dyalog.com/18.0/index.htm#Language/Primitive%20Functions/Intersection.htm), dyadic `∩`, works similarly:"
   ]
  },
  {
   "cell_type": "code",
   "execution_count": 109,
   "metadata": {},
   "outputs": [
    {
     "data": {
      "text/html": [
       "<span style=\"white-space:pre; font-family: monospace\">┌→────┐\n",
       "│1 1 2│\n",
       "└~────┘\n",
       "</span>"
      ]
     },
     "execution_count": 109,
     "metadata": {},
     "output_type": "execute_result"
    }
   ],
   "source": [
    "1 1 2 3 4 ∩ 1 2 5 6"
   ]
  },
  {
   "cell_type": "markdown",
   "metadata": {},
   "source": [
    "For each element to the left, keep it if it's also in the right."
   ]
  },
  {
   "cell_type": "markdown",
   "metadata": {},
   "source": [
    "Dyadic `~` is [_Without_](http://help.dyalog.com/18.0/index.htm#Language/Primitive%20Functions/Excluding.htm) -- set difference:"
   ]
  },
  {
   "cell_type": "code",
   "execution_count": 110,
   "metadata": {},
   "outputs": [
    {
     "data": {
      "text/html": [
       "<span style=\"white-space:pre; font-family: monospace\">┌→──┐\n",
       "│2 4│\n",
       "└~──┘\n",
       "</span>"
      ]
     },
     "execution_count": 110,
     "metadata": {},
     "output_type": "execute_result"
    }
   ],
   "source": [
    "1 1 2 3 4 5 ~ 1 3 5"
   ]
  },
  {
   "cell_type": "markdown",
   "metadata": {},
   "source": [
    "The monadic `~` is Boolean [_Not_](http://help.dyalog.com/18.0/index.htm#Language/Primitive%20Functions/Not.htm):"
   ]
  },
  {
   "cell_type": "code",
   "execution_count": 111,
   "metadata": {},
   "outputs": [
    {
     "data": {
      "text/html": [
       "<span style=\"white-space:pre; font-family: monospace\">┌→────────────┐\n",
       "│0 1 0 0 1 1 0│\n",
       "└~────────────┘\n",
       "</span>"
      ]
     },
     "execution_count": 111,
     "metadata": {},
     "output_type": "execute_result"
    }
   ],
   "source": [
    "~1 0 1 1 0 0 1"
   ]
  },
  {
   "cell_type": "markdown",
   "metadata": {},
   "source": [
    "## Grade up/down: `⍋⍒`"
   ]
  },
  {
   "cell_type": "markdown",
   "metadata": {},
   "source": [
    "To me, it's a Christmas tree and a carrot, but these twins are called [_Grade up_](http://help.dyalog.com/18.0/index.htm#Language/Primitive%20Functions/Grade%20Up%20Monadic.htm) (`⍋`) and [_Grade down_](http://help.dyalog.com/18.0/index.htm#Language/Primitive%20Functions/Grade%20Down%20Monadic.htm) (`⍒`). They are APL's very clever mechanisms for ordering arrays. To sort an array, we do:"
   ]
  },
  {
   "cell_type": "code",
   "execution_count": 31,
   "metadata": {},
   "outputs": [
    {
     "data": {
      "text/html": [
       "<span style=\"white-space:pre; font-family: monospace\">┌→─────────────────────────────────────────────────────────────────────────────────────┐\n",
       "│110 109 204 40 105 201 2 208 160 143 213 31 21 317 132 242 164 176 67 18 75 89 18 7 20│\n",
       "└~─────────────────────────────────────────────────────────────────────────────────────┘\n",
       "</span>"
      ]
     },
     "execution_count": 31,
     "metadata": {},
     "output_type": "execute_result"
    },
    {
     "data": {
      "text/html": [
       "<span style=\"white-space:pre; font-family: monospace\">┌→─────────────────────────────────────────────────────────────────────────────────────┐\n",
       "│2 7 18 18 20 21 31 40 67 75 89 105 109 110 132 143 160 164 176 201 204 208 213 242 317│\n",
       "└~─────────────────────────────────────────────────────────────────────────────────────┘\n",
       "</span>"
      ]
     },
     "execution_count": 31,
     "metadata": {},
     "output_type": "execute_result"
    }
   ],
   "source": [
    "⎕ ← data ← 110 109 204 40 105 201 2 208 160 143 213 31 21 317 132 242 164 176 67 18 75 89 18 7 20\n",
    "data[⍋data]"
   ]
  },
  {
   "cell_type": "markdown",
   "metadata": {},
   "source": [
    "So what does the _Grade-up_ actually do? Let's have a look:"
   ]
  },
  {
   "cell_type": "code",
   "execution_count": 32,
   "metadata": {},
   "outputs": [
    {
     "data": {
      "text/html": [
       "<span style=\"white-space:pre; font-family: monospace\">┌→───────────────────────────────────────────────────────────────┐\n",
       "│6 23 19 22 24 12 11 3 18 20 21 4 1 0 14 9 8 16 17 5 2 7 10 15 13│\n",
       "└~───────────────────────────────────────────────────────────────┘\n",
       "</span>"
      ]
     },
     "execution_count": 32,
     "metadata": {},
     "output_type": "execute_result"
    }
   ],
   "source": [
    "⍋data"
   ]
  },
  {
   "cell_type": "markdown",
   "metadata": {},
   "source": [
    "Grading an array (up or down) produces a set of _indices_, not values. Consider the first element in the grade array. It says: the smallest element is to be found at index 6. The second-smallest is at index 23. The third smallest at index 19 etc.\n",
    "\n",
    "At first blush, this seems like a roundabout way to sort something. First generate an indexing expression, then select elements according to this indexing expression. However, doing it this way -- separating the determining of the order from the reordering of elements -- has a number of advantages, chiefly that we can as easily apply the ordering to another array, not just the one that we generated the ordering from.\n",
    "\n",
    "In any sort of data processing or analysis, this crops up all the time: give the customer names, ordered by contract date. Sort the keys based on the values. That sort of thing. You can also answer questions such as _where_ is the smallest value?"
   ]
  },
  {
   "cell_type": "code",
   "execution_count": 33,
   "metadata": {},
   "outputs": [
    {
     "data": {
      "text/html": [
       "<span style=\"white-space:pre; font-family: monospace\"> \n",
       "6\n",
       " \n",
       "</span>"
      ]
     },
     "execution_count": 33,
     "metadata": {},
     "output_type": "execute_result"
    },
    {
     "data": {
      "text/html": [
       "<span style=\"white-space:pre; font-family: monospace\"> \n",
       "2\n",
       " \n",
       "</span>"
      ]
     },
     "execution_count": 33,
     "metadata": {},
     "output_type": "execute_result"
    }
   ],
   "source": [
    "⎕ ← minidx ← ⊃⍋data ⍝ Index of smallest value: first element of Grade-up\n",
    "data[minidx]"
   ]
  },
  {
   "cell_type": "code",
   "execution_count": null,
   "metadata": {},
   "outputs": [],
   "source": []
  }
 ],
 "metadata": {
  "kernelspec": {
   "display_name": "Dyalog APL",
   "language": "apl",
   "name": "dyalog-kernel"
  },
  "language_info": {
   "file_extension": ".apl",
   "mimetype": "text/apl",
   "name": "APL"
  }
 },
 "nbformat": 4,
 "nbformat_minor": 4
}
