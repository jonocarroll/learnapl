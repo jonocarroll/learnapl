{
 "cells": [
  {
   "cell_type": "markdown",
   "metadata": {},
   "source": [
    "# Error handling\n",
    "\n",
    "> Controlling complexity is the essence of computer programming. --_Brian Kernighan_"
   ]
  },
  {
   "cell_type": "markdown",
   "metadata": {},
   "source": [
    "Other resources on the topic:\n",
    "* Dyalog docs: [Error guards](http://help.dyalog.com/18.0/index.htm#Language/Defined%20Functions%20and%20Operators/DynamicFunctions/Error%20Guards.htm), [Error codes](http://help.dyalog.com/18.0/index.htm#Language/Errors/APL%20Errors.htm), [Signal event](http://help.dyalog.com/18.0/index.htm#Language/System%20Functions/signal.htm)\n",
    "* Dyalog webinars: [Part 1](https://dyalog.tv/Webinar/?v=tDK0AKXXRAk), [Part 2](https://dyalog.tv/Webinar/?v=PSrXyk5tN6o), [Part 3](https://dyalog.tv/Webinar/?v=jkD-iQfjo_Q), [Part 4](https://dyalog.tv/Webinar/?v=G7Ht8iKvDMo)\n",
    "\n",
    "By now you will have encountered a range of errors where Dyalog takes objection to something you wrote, like for example\n"
   ]
  },
  {
   "cell_type": "code",
   "execution_count": 1,
   "metadata": {},
   "outputs": [
    {
     "data": {
      "text/html": [
       "<span style=\"white-space:pre; font-family: monospace\">\n",
       "Rebuilding user command cache... done\n",
       "\n",
       "Rebuilding user command cache... done\n",
       "</span>"
      ]
     },
     "execution_count": 1,
     "metadata": {},
     "output_type": "execute_result"
    },
    {
     "name": "stderr",
     "output_type": "stream",
     "text": [
      "INDEX ERROR\n",
      "      50⊃vec\n",
      "        ∧\n"
     ]
    }
   ],
   "source": [
    "vec ← ⍳10\n",
    "50⊃vec      ⍝ INDEX ERROR"
   ]
  },
  {
   "cell_type": "markdown",
   "metadata": {},
   "source": [
    "If you're used to a Java or Python stack trace, the errors thrown by Dyalog will appear spartan, but after a bit of experience, they're actually _blissfully_ spartan, not unlike APL itself. As an aside, the K language is even more brutal in its simplicity here.\n",
    "\n",
    "So how do you deal with errors? There is no `try-catch-throw` exception mechanism to draw on. What we have instead is the concept of an _error guard_:"
   ]
  },
  {
   "cell_type": "code",
   "execution_count": 4,
   "metadata": {},
   "outputs": [],
   "source": [
    "]dinput\n",
    "pick50 ← {\n",
    "    3::'out of range' ⍝ Error guard, catching INDEX ERROR\n",
    "    50⊃⍵\n",
    "}"
   ]
  },
  {
   "cell_type": "code",
   "execution_count": 5,
   "metadata": {},
   "outputs": [
    {
     "data": {
      "text/html": [
       "<span style=\"white-space:pre; font-family: monospace\">out of range\n",
       "</span>"
      ]
     },
     "execution_count": 5,
     "metadata": {},
     "output_type": "execute_result"
    }
   ],
   "source": [
    "pick50 ⍳10"
   ]
  },
  {
   "cell_type": "markdown",
   "metadata": {},
   "source": [
    "An error guard takes an array of error numbers to the left, and an expression to be returned to the right, separated by two colons. Simple, right? Wrong.\n",
    "\n",
    "Here's a rather contrived function that prepends a 1 to its left argument and then multiplies it with the inverse of its right argument. We want to protect against division by zero, in which case we just want to return the 1 prepended to the left argument, like so:"
   ]
  },
  {
   "cell_type": "code",
   "execution_count": 9,
   "metadata": {},
   "outputs": [],
   "source": [
    "]dinput\n",
    "f ← {\n",
    "    nums←1 ⍺\n",
    "    0=⍵:nums\n",
    "    nums×÷⍵\n",
    "}"
   ]
  },
  {
   "cell_type": "code",
   "execution_count": 11,
   "metadata": {},
   "outputs": [
    {
     "data": {
      "text/html": [
       "<span style=\"white-space:pre; font-family: monospace\">1 4\n",
       "</span>"
      ]
     },
     "execution_count": 11,
     "metadata": {},
     "output_type": "execute_result"
    },
    {
     "data": {
      "text/html": [
       "<span style=\"white-space:pre; font-family: monospace\">0.5 2\n",
       "</span>"
      ]
     },
     "execution_count": 11,
     "metadata": {},
     "output_type": "execute_result"
    }
   ],
   "source": [
    "4 f 0\n",
    "4 f 2"
   ]
  },
  {
   "cell_type": "markdown",
   "metadata": {},
   "source": [
    "This seems like a job for an error guard. Division by zero in this case will throw a `DOMAIN ERROR`, which has a code of 11.\n",
    "\n",
    "Try to predict what happens before revealing the actual result:"
   ]
  },
  {
   "cell_type": "code",
   "execution_count": 18,
   "metadata": {},
   "outputs": [],
   "source": [
    "]dinput\n",
    "fbug ← { ⍝ Can you spot the bug?\n",
    "    11::nums\n",
    "    nums←1 ⍺\n",
    "    nums×÷⍵\n",
    "}"
   ]
  },
  {
   "cell_type": "code",
   "execution_count": 19,
   "metadata": {
    "tags": [
     "hide-output"
    ]
   },
   "outputs": [
    {
     "name": "stderr",
     "output_type": "stream",
     "text": [
      "VALUE ERROR: Undefined name: nums\n",
      "fbug[1] 11::nums\n",
      "            ∧\n"
     ]
    }
   ],
   "source": [
    "4 fbug 0"
   ]
  },
  {
   "cell_type": "markdown",
   "metadata": {},
   "source": [
    "What happens is that the local environment is unwound _before_ the error-guard's body is evaluated. To get the behavior we wanted we'd need to do this:"
   ]
  },
  {
   "cell_type": "code",
   "execution_count": 20,
   "metadata": {},
   "outputs": [],
   "source": [
    "]dinput\n",
    "fnew ← { ⍝ Now correct\n",
    "    nums←1 ⍺\n",
    "    11::nums\n",
    "    nums×÷⍵\n",
    "}"
   ]
  },
  {
   "cell_type": "code",
   "execution_count": 21,
   "metadata": {},
   "outputs": [
    {
     "data": {
      "text/html": [
       "<span style=\"white-space:pre; font-family: monospace\">1 4\n",
       "</span>"
      ]
     },
     "execution_count": 21,
     "metadata": {},
     "output_type": "execute_result"
    }
   ],
   "source": [
    "4 fnew 0"
   ]
  },
  {
   "cell_type": "markdown",
   "metadata": {},
   "source": [
    "The other subtlety is that following the _setting_ of an error guard, subsequent calls disable tail-call optimization:"
   ]
  },
  {
   "cell_type": "code",
   "execution_count": 22,
   "metadata": {},
   "outputs": [],
   "source": [
    "]dinput\n",
    "g ← { \n",
    "    3::'out of range' ⍝ Error guard, catching INDEX ERROR\n",
    "    h ⍺⊃⍵ ⍝ No longer a tail call, due to presense of error guard\n",
    "}"
   ]
  },
  {
   "cell_type": "markdown",
   "metadata": {},
   "source": [
    "This can be worked around by localizing the error guard in its own dfn:"
   ]
  },
  {
   "cell_type": "code",
   "execution_count": 23,
   "metadata": {},
   "outputs": [],
   "source": [
    "]dinput\n",
    "g ← { \n",
    "    val ← ⍺ {3::'out of range' ⋄ ⍺⊃⍵} ⍵\n",
    "    h val ⍝ Tail call\n",
    "}"
   ]
  },
  {
   "cell_type": "markdown",
   "metadata": {},
   "source": [
    "The mapping of numeric error code to error message can be found in Dyalog's documentation, referenced above, or via the system function `⎕EM`:"
   ]
  },
  {
   "cell_type": "code",
   "execution_count": 36,
   "metadata": {},
   "outputs": [
    {
     "data": {
      "text/html": [
       "<span style=\"white-space:pre; font-family: monospace\">┌───────┬────────────┬───────────┬──────────┬────────────┬───────────┬────────────┬───────┬───────┬───────────┐\n",
       "│WS FULL│SYNTAX ERROR│INDEX ERROR│RANK ERROR│LENGTH ERROR│VALUE ERROR│FORMAT ERROR│ERROR 8│ERROR 9│LIMIT ERROR│\n",
       "└───────┴────────────┴───────────┴──────────┴────────────┴───────────┴────────────┴───────┴───────┴───────────┘\n",
       "</span>"
      ]
     },
     "execution_count": 36,
     "metadata": {},
     "output_type": "execute_result"
    }
   ],
   "source": [
    "⎕EM⍳10 ⍝ ...and the rest"
   ]
  },
  {
   "cell_type": "markdown",
   "metadata": {},
   "source": [
    "Error guards can also be stacked if you want to take different actions for different kinds of errors:"
   ]
  },
  {
   "cell_type": "code",
   "execution_count": 25,
   "metadata": {},
   "outputs": [],
   "source": [
    "]dinput\n",
    "g ← { \n",
    "    3::'handle index error'\n",
    "    4::'handle rank error'\n",
    "    11::'handle domain error'\n",
    "    ⍝ error-prone function body here\n",
    "}"
   ]
  },
  {
   "cell_type": "markdown",
   "metadata": {},
   "source": [
    "or if you want a catch-all for the errors you think you might encounter, the guard takes a vector to the left:"
   ]
  },
  {
   "cell_type": "code",
   "execution_count": 26,
   "metadata": {},
   "outputs": [],
   "source": [
    "]dinput\n",
    "g ← { \n",
    "    3 4 11::'it all went pear-shaped in some way'\n",
    "    ⍝ error-prone function body here\n",
    "}"
   ]
  },
  {
   "cell_type": "markdown",
   "metadata": {},
   "source": [
    "You can also (sort of) throw \"exceptions\". You may have noticed the definition for `assert` I've used here and there already:"
   ]
  },
  {
   "cell_type": "code",
   "execution_count": 29,
   "metadata": {},
   "outputs": [],
   "source": [
    "assert ← {⍺←'assertion failure' ⋄ 0∊⍵:⍺ ⎕SIGNAL 8 ⋄ shy←0}"
   ]
  },
  {
   "cell_type": "code",
   "execution_count": 33,
   "metadata": {},
   "outputs": [
    {
     "name": "stderr",
     "output_type": "stream",
     "text": [
      "assertion failure\n",
      "      assert 0=1\n",
      "      ∧\n"
     ]
    }
   ],
   "source": [
    "assert 0=1"
   ]
  },
  {
   "cell_type": "markdown",
   "metadata": {},
   "source": [
    "The `⎕SIGNAL` ambivalent system function _throws_ an error of the number given by its right argument, presenting as the corresponding message from the vector given by `⎕EM` if no left argument is given, or by the left argument if given, as is the case in the `assert` function above. In other words, we could for example claim that the \"workspace is full\" by throwing error 1, somewhat duplicitously:"
   ]
  },
  {
   "cell_type": "code",
   "execution_count": 32,
   "metadata": {},
   "outputs": [
    {
     "name": "stderr",
     "output_type": "stream",
     "text": [
      "WS FULL\n",
      "      ⎕SIGNAL 1\n",
      "      ∧\n"
     ]
    }
   ],
   "source": [
    "⎕SIGNAL 1"
   ]
  },
  {
   "cell_type": "markdown",
   "metadata": {},
   "source": [
    "In the `assert` function we make use of an error code that isn't used by Dyalog normally, error 8:"
   ]
  },
  {
   "cell_type": "code",
   "execution_count": 34,
   "metadata": {},
   "outputs": [
    {
     "name": "stderr",
     "output_type": "stream",
     "text": [
      "ERROR 8\n",
      "      ⎕SIGNAL 8\n",
      "      ∧\n"
     ]
    }
   ],
   "source": [
    "⎕SIGNAL 8"
   ]
  },
  {
   "cell_type": "code",
   "execution_count": null,
   "metadata": {},
   "outputs": [],
   "source": []
  }
 ],
 "metadata": {
  "kernelspec": {
   "display_name": "Dyalog APL",
   "language": "apl",
   "name": "dyalog-kernel"
  },
  "language_info": {
   "file_extension": ".apl",
   "mimetype": "text/apl",
   "name": "APL"
  }
 },
 "nbformat": 4,
 "nbformat_minor": 4
}
