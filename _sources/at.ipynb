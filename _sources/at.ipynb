{
 "cells": [
  {
   "cell_type": "markdown",
   "metadata": {},
   "source": [
    "# The At operator: `@`"
   ]
  },
  {
   "cell_type": "markdown",
   "metadata": {},
   "source": [
    "> Once you understand how to write a program get someone else to write it.\n",
    "\\--_Alan Perlis_\n",
    "\n",
    "Let's look at the powerful immutable array update operator, _At_ (`@`). By \"immutable\" in this context we mean non-destructive -- it creates a new array, rather than mutating in place. Immutability is a good thing.\n",
    "\n",
    "The dyadic `@` operator has a lot of moving parts, and we won't cover all possible combinations here. \n",
    "\n",
    "References for `@`:\n",
    "* [APL Cart](https://aplcart.info/?q=%40#) has loads of examples\n",
    "* The APL Cultivations covered it in [Lesson 4](https://chat.stackexchange.com/rooms/52405/conversation/lesson-4-more-apl-operators--) (amongst other things)\n",
    "* Dyalog [docs](https://help.dyalog.com/latest/#Language/Primitive%20Operators/At.htm)\n",
    "\n",
    "Our usual prelude:"
   ]
  },
  {
   "cell_type": "code",
   "execution_count": 1,
   "metadata": {
    "tags": [
     "hide-output"
    ]
   },
   "outputs": [
    {
     "data": {
      "text/html": [
       "<span style=\"white-space:pre; font-family: monospace\">Was ON\n",
       "</span>"
      ]
     },
     "execution_count": 1,
     "metadata": {},
     "output_type": "execute_result"
    },
    {
     "data": {
      "text/html": [
       "<span style=\"white-space:pre; font-family: monospace\">Was OFF\n",
       "</span>"
      ]
     },
     "execution_count": 1,
     "metadata": {},
     "output_type": "execute_result"
    }
   ],
   "source": [
    "⎕IO ← 0\n",
    "]box on\n",
    "]rows on"
   ]
  },
  {
   "cell_type": "markdown",
   "metadata": {},
   "source": [
    "`@` can take both functions and arrays as either operand. In its simplest form, the left operand specifies values, and the right operand indexes:"
   ]
  },
  {
   "cell_type": "code",
   "execution_count": 2,
   "metadata": {},
   "outputs": [
    {
     "data": {
      "text/html": [
       "<span style=\"white-space:pre; font-family: monospace\">1 0 0 0 1 1 1\n",
       "</span>"
      ]
     },
     "execution_count": 2,
     "metadata": {},
     "output_type": "execute_result"
    }
   ],
   "source": [
    "0@1 2 3⊢1 1 1 1 1 1 1"
   ]
  },
  {
   "cell_type": "markdown",
   "metadata": {},
   "source": [
    "Recall from the introduction to operators that an operator returns a derived function. We inserted a _Right tack_ to make clear the distinction -- to stop stranding -- between the operator's right operand and the derived function's argument. We could equally well have written:"
   ]
  },
  {
   "cell_type": "code",
   "execution_count": 75,
   "metadata": {},
   "outputs": [
    {
     "data": {
      "text/html": [
       "<span style=\"white-space:pre; font-family: monospace\">┌→────────────┐\n",
       "│1 0 0 0 1 1 1│\n",
       "└~────────────┘\n",
       "</span>"
      ]
     },
     "execution_count": 75,
     "metadata": {},
     "output_type": "execute_result"
    }
   ],
   "source": [
    "(0@1 2 3) 1 1 1 1 1 1 1"
   ]
  },
  {
   "cell_type": "markdown",
   "metadata": {},
   "source": [
    "We can think of the right operand as defining a selection criteria. For example, it can be a _function_ that when called with the derived function's argument returns a Boolean array:"
   ]
  },
  {
   "cell_type": "code",
   "execution_count": 76,
   "metadata": {},
   "outputs": [
    {
     "data": {
      "text/html": [
       "<span style=\"white-space:pre; font-family: monospace\">┌→──────────┐\n",
       "│H***o world│\n",
       "└───────────┘\n",
       "</span>"
      ]
     },
     "execution_count": 76,
     "metadata": {},
     "output_type": "execute_result"
    }
   ],
   "source": [
    "'*'@{0 1 1 1 0 0 0 0 0 0 0} 'Hello world' ⍝ Right operand: function returning Boolean array"
   ]
  },
  {
   "cell_type": "markdown",
   "metadata": {},
   "source": [
    "The left operand is either an array providing the new values for every value selected by the right argument, or a function which will be called with each selected element to produce the replacement value. For example, let's add 5 to every even element:"
   ]
  },
  {
   "cell_type": "code",
   "execution_count": 4,
   "metadata": {},
   "outputs": [
    {
     "data": {
      "text/html": [
       "<span style=\"white-space:pre; font-family: monospace\">5 1 7 3 9 5 11 7 13 9 15 11\n",
       "</span>"
      ]
     },
     "execution_count": 4,
     "metadata": {},
     "output_type": "execute_result"
    }
   ],
   "source": [
    "{5+⍵}@{0=2|⍵} ⍳12"
   ]
  },
  {
   "cell_type": "markdown",
   "metadata": {},
   "source": [
    "In this case, the right operand is the function `{0=2|⍵}`, which is called as such:"
   ]
  },
  {
   "cell_type": "code",
   "execution_count": 78,
   "metadata": {},
   "outputs": [
    {
     "data": {
      "text/html": [
       "<span style=\"white-space:pre; font-family: monospace\">┌→──────────────────────┐\n",
       "│1 0 1 0 1 0 1 0 1 0 1 0│\n",
       "└~──────────────────────┘\n",
       "</span>"
      ]
     },
     "execution_count": 78,
     "metadata": {},
     "output_type": "execute_result"
    }
   ],
   "source": [
    "{0=2|⍵} ⍳12 ⍝ Return Boolean mask indicating the even numbers"
   ]
  },
  {
   "cell_type": "markdown",
   "metadata": {},
   "source": [
    "The selected numbers are then:"
   ]
  },
  {
   "cell_type": "code",
   "execution_count": 79,
   "metadata": {},
   "outputs": [
    {
     "data": {
      "text/html": [
       "<span style=\"white-space:pre; font-family: monospace\">┌→───────────┐\n",
       "│0 2 4 6 8 10│\n",
       "└~───────────┘\n",
       "</span>"
      ]
     },
     "execution_count": 79,
     "metadata": {},
     "output_type": "execute_result"
    }
   ],
   "source": [
    "({0=2|⍵} ⍳12)/⍳12 ⍝ Compress"
   ]
  },
  {
   "cell_type": "markdown",
   "metadata": {},
   "source": [
    "which are passed to the left operand:"
   ]
  },
  {
   "cell_type": "code",
   "execution_count": 80,
   "metadata": {},
   "outputs": [
    {
     "data": {
      "text/html": [
       "<span style=\"white-space:pre; font-family: monospace\">┌→─────────────┐\n",
       "│5 7 9 11 13 15│\n",
       "└~─────────────┘\n",
       "</span>"
      ]
     },
     "execution_count": 80,
     "metadata": {},
     "output_type": "execute_result"
    }
   ],
   "source": [
    "{5+⍵} 0 2 4 6 8 10 ⍝ Left operand applied to elements selected by right operand"
   ]
  },
  {
   "cell_type": "markdown",
   "metadata": {},
   "source": [
    "Finally, @ will make the substitution."
   ]
  },
  {
   "cell_type": "markdown",
   "metadata": {},
   "source": [
    "Let's write our own naive, overly verbose, partial implementation of @ for illustrative purposes. "
   ]
  },
  {
   "cell_type": "code",
   "execution_count": 5,
   "metadata": {},
   "outputs": [],
   "source": [
    "]dinput\n",
    "_At_←{ ⍝ Partial @ - left and right operands must be functions, and the right arg a vector\n",
    "    mutator ← ⍺⍺                   ⍝ Left operand -- function only\n",
    "    selector ← ⍵⍵                  ⍝ Right operand -- function only\n",
    "    data ← ⍵                       ⍝ Derived function right argument -- vector only. Note: copy\n",
    "    mask ← selector data\n",
    "    selection ← mask/data          ⍝ Compress the data according to boolean mask\n",
    "    newvals ← mutator selection    ⍝ Mutate our selection\n",
    "    (mask/data) ← newvals          ⍝ Replace with the mutated values in copy\n",
    "    data                           ⍝ Return result\n",
    "}"
   ]
  },
  {
   "cell_type": "code",
   "execution_count": 82,
   "metadata": {},
   "outputs": [
    {
     "data": {
      "text/html": [
       "<span style=\"white-space:pre; font-family: monospace\">┌→──────────────────────────┐\n",
       "│5 1 7 3 9 5 11 7 13 9 15 11│\n",
       "└~──────────────────────────┘\n",
       "</span>"
      ]
     },
     "execution_count": 82,
     "metadata": {},
     "output_type": "execute_result"
    }
   ],
   "source": [
    "{5+⍵}_At_{0=2|⍵} ⍳12"
   ]
  },
  {
   "cell_type": "markdown",
   "metadata": {},
   "source": [
    "We can shrink that down a bit without any real loss of clarity:"
   ]
  },
  {
   "cell_type": "code",
   "execution_count": 83,
   "metadata": {},
   "outputs": [],
   "source": [
    "]dinput\n",
    "_At_←{ ⍝ Partial @ - left and right operands must be functions, and the right arg a vector\n",
    "    data ← ⍵\n",
    "    (mask/data) ← ⍺⍺ (mask←⍵⍵ ⍵)/⍵\n",
    "    data\n",
    "}"
   ]
  },
  {
   "cell_type": "code",
   "execution_count": 84,
   "metadata": {},
   "outputs": [
    {
     "data": {
      "text/html": [
       "<span style=\"white-space:pre; font-family: monospace\">┌→──────────────────────────┐\n",
       "│5 1 7 3 9 5 11 7 13 9 15 11│\n",
       "└~──────────────────────────┘\n",
       "</span>"
      ]
     },
     "execution_count": 84,
     "metadata": {},
     "output_type": "execute_result"
    }
   ],
   "source": [
    "{5+⍵}_At_{0=2|⍵} ⍳12"
   ]
  },
  {
   "cell_type": "markdown",
   "metadata": {},
   "source": [
    "We used leading and trailing underscores when naming our operator to indicate visually that it's a dyad, as suggested by the unofficial [style guide](https://abrudz.github.io/style/#cc).\n",
    "\n",
    "## Higher rank: choose and reach\n",
    "\n",
    "\n",
    "The real `@` has many more tricks up its sleeve, of course. It can also be applied to arrays of any rank, not just vectors. "
   ]
  },
  {
   "cell_type": "markdown",
   "metadata": {},
   "source": [
    "If we look at [Dyalog's specification of `@`](https://help.dyalog.com/latest/#Language/Primitive%20Operators/At.htm) we have\n",
    "\n",
    "```apl\n",
    "R←{X}(f@g)Y\n",
    "```\n",
    "    \n",
    "If `g` is a simple vector, it chooses _major cells_ in Y. If g is nested, it specifies indices for _choose_ or _reach_ indexing. What does that mean, then? One way to think of it is that the g vector behaves just as if it had been inserted between square brackets.\n",
    "\n",
    "The first case is straight-forward: the major cells of an array is basically those given by the first axis of the shape. In the case of a 2-D matrix, its rows:"
   ]
  },
  {
   "cell_type": "code",
   "execution_count": 85,
   "metadata": {},
   "outputs": [
    {
     "data": {
      "text/html": [
       "<span style=\"white-space:pre; font-family: monospace\">┌→───────┐\n",
       "↓¯1 ¯2 ¯3│\n",
       "│ 4  5  6│\n",
       "│¯7 ¯8 ¯9│\n",
       "└~───────┘\n",
       "</span>"
      ]
     },
     "execution_count": 85,
     "metadata": {},
     "output_type": "execute_result"
    }
   ],
   "source": [
    "-@0 2 ⊢ 3 3⍴1 2 3 4 5 6 7 8 9 ⍝ Negate rows 0 and 2: major cells"
   ]
  },
  {
   "cell_type": "markdown",
   "metadata": {},
   "source": [
    "If we want to access individual elements we can use _choose indexing_ -- which is a nested vector of indices:"
   ]
  },
  {
   "cell_type": "code",
   "execution_count": 86,
   "metadata": {},
   "outputs": [
    {
     "data": {
      "text/html": [
       "<span style=\"white-space:pre; font-family: monospace\">┌→──────┐\n",
       "↓¯1 2  3│\n",
       "│ 4 5  6│\n",
       "│ 7 8 ¯9│\n",
       "└~──────┘\n",
       "</span>"
      ]
     },
     "execution_count": 86,
     "metadata": {},
     "output_type": "execute_result"
    }
   ],
   "source": [
    "-@(0 0)(2 2) ⊢ 3 3⍴1 2 3 4 5 6 7 8 9 ⍝ Negate corners of main diagonal by choose indexing"
   ]
  },
  {
   "cell_type": "markdown",
   "metadata": {},
   "source": [
    "We can also access elements that are deeply nested using _reach indexing_ which we met briefly in the [indexing](./indexing.ipynb) section:"
   ]
  },
  {
   "cell_type": "code",
   "execution_count": 18,
   "metadata": {},
   "outputs": [
    {
     "data": {
      "text/html": [
       "<span style=\"white-space:pre; font-family: monospace\">┌─────────┬───────┬─────────┐\n",
       "│┌────┬─┐ │┌───┬─┐│┌────┬─┐ │\n",
       "││Adam│1│ ││Bob│2│││Carl│3│ │\n",
       "│└────┴─┘ │└───┴─┘│└────┴─┘ │\n",
       "├─────────┼───────┼─────────┤\n",
       "│┌─────┬─┐│┌───┬─┐│┌─────┬─┐│\n",
       "││Danni│4│││Eve│5│││Frank│6││\n",
       "│└─────┴─┘│└───┴─┘│└─────┴─┘│\n",
       "└─────────┴───────┴─────────┘\n",
       "</span>"
      ]
     },
     "execution_count": 18,
     "metadata": {},
     "output_type": "execute_result"
    },
    {
     "data": {
      "text/html": [
       "<span style=\"white-space:pre; font-family: monospace\">┌─────────┬───────┬────────────┐\n",
       "│┌───┬─┐  │┌───┬─┐│┌────┬─┐    │\n",
       "││***│1│  ││Bob│2│││Carl│3│    │\n",
       "│└───┴─┘  │└───┴─┘│└────┴─┘    │\n",
       "├─────────┼───────┼────────────┤\n",
       "│┌─────┬─┐│┌───┬─┐│┌─────┬────┐│\n",
       "││Danni│4│││Eve│5│││Frank│¯999││\n",
       "│└─────┴─┘│└───┴─┘│└─────┴────┘│\n",
       "└─────────┴───────┴────────────┘\n",
       "</span>"
      ]
     },
     "execution_count": 18,
     "metadata": {},
     "output_type": "execute_result"
    }
   ],
   "source": [
    "⊢G←2 3⍴('Adam' 1)('Bob' 2)('Carl' 3)('Danni' 4)('Eve' 5)('Frank' 6)\n",
    "'***' ¯999@((0 0)0)((1 2)1) ⊢ G"
   ]
  },
  {
   "cell_type": "markdown",
   "metadata": {},
   "source": [
    "## Examples"
   ]
  },
  {
   "cell_type": "markdown",
   "metadata": {},
   "source": [
    "Here's a random collection of handy `@` expressions. Many more on [APLCart](https://aplcart.info/?q=%40#), too.\n",
    "\n",
    "**Replace dashes with spaces**"
   ]
  },
  {
   "cell_type": "code",
   "execution_count": 6,
   "metadata": {},
   "outputs": [
    {
     "data": {
      "text/html": [
       "<span style=\"white-space:pre; font-family: monospace\">Hello World One Two\n",
       "</span>"
      ]
     },
     "execution_count": 6,
     "metadata": {},
     "output_type": "execute_result"
    }
   ],
   "source": [
    "' '@(=∘'-')⊢'Hello-World-One-Two'"
   ]
  },
  {
   "cell_type": "markdown",
   "metadata": {},
   "source": [
    "**Pad an array with zeros**"
   ]
  },
  {
   "cell_type": "code",
   "execution_count": 5,
   "metadata": {},
   "outputs": [
    {
     "data": {
      "text/html": [
       "<span style=\"white-space:pre; font-family: monospace\">0 0 0 0\n",
       "0 1 1 0\n",
       "0 1 1 0\n",
       "0 0 0 0\n",
       "</span>"
      ]
     },
     "execution_count": 5,
     "metadata": {},
     "output_type": "execute_result"
    }
   ],
   "source": [
    "{⍵@(1+⍳⍴⍵)⊢0⍴⍨2+⍴⍵} 2 2⍴1 1 1 1 "
   ]
  },
  {
   "cell_type": "markdown",
   "metadata": {},
   "source": [
    "**Array search and replace**"
   ]
  },
  {
   "cell_type": "code",
   "execution_count": 4,
   "metadata": {},
   "outputs": [
    {
     "data": {
      "text/html": [
       "<span style=\"white-space:pre; font-family: monospace\">0 5 5\n",
       "8 1 5\n",
       "1 6 3\n",
       "5 9 2\n",
       "5 6 9\n",
       "0 7 5\n",
       "3 0 2\n",
       "4 7 2\n",
       "9 1 0\n",
       "0 7 2\n",
       "</span>"
      ]
     },
     "execution_count": 4,
     "metadata": {},
     "output_type": "execute_result"
    },
    {
     "data": {
      "text/html": [
       "<span style=\"white-space:pre; font-family: monospace\">   0 5   5\n",
       "   8 0   5\n",
       "   0 6 100\n",
       "   5 9  10\n",
       "   5 6   9\n",
       "   0 7   5\n",
       " 100 0  10\n",
       "1000 7  10\n",
       "   9 0   0\n",
       "   0 7  10\n",
       "</span>"
      ]
     },
     "execution_count": 4,
     "metadata": {},
     "output_type": "execute_result"
    }
   ],
   "source": [
    "]DISPLAY array ← ?10 3⍴10\n",
    "]DISPLAY 1 2 3 4 {⍺⍺(⍵⍵⌷⍨∘⊂⍳)@(∊∘⍺⍺)⍵} 0 10 100 1000 ⊢ array "
   ]
  },
  {
   "cell_type": "markdown",
   "metadata": {},
   "source": [
    "**Boolean alternating selection**\n",
    "\n",
    "Here's a creative use of `@` that [Adám Brudzewsky](https://aplwiki.com/wiki/Ad%C3%A1m_Brudzewsky) posted on [APL Orchard](https://chat.stackexchange.com/transcript/message/57882002#57882002).\n",
    "\n",
    "Given two arrays A, B and a boolean filter C, select items from A where C is false and from B where C is true:"
   ]
  },
  {
   "cell_type": "code",
   "execution_count": 14,
   "metadata": {},
   "outputs": [
    {
     "data": {
      "text/html": [
       "<span style=\"white-space:pre; font-family: monospace\">1 22 3 44\n",
       "</span>"
      ]
     },
     "execution_count": 14,
     "metadata": {},
     "output_type": "execute_result"
    }
   ],
   "source": [
    "A←1 2 3 4\n",
    "B←11 22 33 44\n",
    "C←0 1 0 1\n",
    "(C/⍥,B)@{C}A"
   ]
  },
  {
   "cell_type": "markdown",
   "metadata": {},
   "source": [
    "If that looks puzzling (we haven't met the `⍥` operator yet!), for vectors, it's just"
   ]
  },
  {
   "cell_type": "code",
   "execution_count": 15,
   "metadata": {},
   "outputs": [
    {
     "data": {
      "text/html": [
       "<span style=\"white-space:pre; font-family: monospace\">1 22 3 44\n",
       "</span>"
      ]
     },
     "execution_count": 15,
     "metadata": {},
     "output_type": "execute_result"
    }
   ],
   "source": [
    "(C/B)@{C}A"
   ]
  },
  {
   "cell_type": "markdown",
   "metadata": {},
   "source": [
    "All that says is: replace the true spots (as defined by C) in A with the true spots (as defined by C) from B, which we could also do as an assignable indexing expression if we don't mind mutating A:"
   ]
  },
  {
   "cell_type": "code",
   "execution_count": 16,
   "metadata": {},
   "outputs": [],
   "source": [
    "(C/A)←C/B"
   ]
  },
  {
   "cell_type": "code",
   "execution_count": 17,
   "metadata": {},
   "outputs": [
    {
     "data": {
      "text/html": [
       "<span style=\"white-space:pre; font-family: monospace\">1 22 3 44\n",
       "</span>"
      ]
     },
     "execution_count": 17,
     "metadata": {},
     "output_type": "execute_result"
    }
   ],
   "source": [
    "A"
   ]
  }
 ],
 "metadata": {
  "kernelspec": {
   "display_name": "Dyalog APL",
   "language": "apl",
   "name": "dyalog-kernel"
  },
  "language_info": {
   "file_extension": ".apl",
   "mimetype": "text/apl",
   "name": "APL"
  }
 },
 "nbformat": 4,
 "nbformat_minor": 4
}
