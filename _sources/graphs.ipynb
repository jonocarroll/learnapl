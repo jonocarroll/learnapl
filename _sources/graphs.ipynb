{
 "cells": [
  {
   "cell_type": "markdown",
   "metadata": {},
   "source": [
    "# Graphs\n",
    "\n",
    "> All I've got is a red guitar, three chords and the truth. The rest is up to you. --_Bob Dylan_"
   ]
  },
  {
   "cell_type": "code",
   "execution_count": 33,
   "metadata": {},
   "outputs": [],
   "source": [
    "⎕IO ← 0\n",
    "{}⎕SE.UCMD'box on -s=min -t=tree -f=on'\n",
    "{}⎕SE.UCMD'rows on'\n",
    "'span' 'stpath'⎕CY'dfns'"
   ]
  },
  {
   "cell_type": "code",
   "execution_count": 34,
   "metadata": {},
   "outputs": [],
   "source": [
    ":Namespace graph\n",
    "    ⎕io←0\n",
    "    ⍝ https://www.dcode.fr/maze-generator\n",
    "    N←{(⍸⍺)∩(⊂⍵)(+,-)(0 1)(1 0)}\n",
    "\n",
    "    _solve←{\n",
    "        (n g)←{f({{f⍳⊂⍵}¨⍵}¨m∘N¨f←⍸m←~'#'=⍵)}⍺⍺\n",
    "        n[(g ##.span ⍺) ##.stpath ⍵]\n",
    "    }\n",
    "\n",
    "    showpath←{\n",
    "        '⎕'@⍺⊢⍵\n",
    "    }\n",
    "\n",
    ":EndNamespace"
   ]
  },
  {
   "cell_type": "code",
   "execution_count": 4,
   "metadata": {},
   "outputs": [],
   "source": [
    "maze←↑⊃⎕NGET'/Users/stefan/work/dyalog/learnapl/maze-big.txt'1"
   ]
  },
  {
   "cell_type": "code",
   "execution_count": 5,
   "metadata": {},
   "outputs": [],
   "source": [
    "p ← 0 (maze graph._solve) 5004"
   ]
  },
  {
   "cell_type": "code",
   "execution_count": 1,
   "metadata": {},
   "outputs": [
    {
     "data": {
      "text/html": [
       "<span style=\"white-space:pre; font-family: monospace\">done\n",
       "\n",
       "Rebuilding user command cache... done\n",
       "</span>"
      ]
     },
     "execution_count": 1,
     "metadata": {},
     "output_type": "execute_result"
    }
   ],
   "source": [
    "⍝p graph.showpath maze"
   ]
  },
  {
   "cell_type": "markdown",
   "metadata": {},
   "source": [
    "## Sliding Tiles\n",
    "\n",
    "The sliding tiles puzzle has interesting properties -- it's quite a hard graph problem to solve efficiently as the puzzle grows larger. Such solutions require a heuristic search algorithm, such as A*, and some smart heuristics. The graph is very cyclic. It's a 1kju kata on [CodeWars](https://www.codewars.com/kata/5a20eeccee1aae3cbc000090). Here's the end state for a 4×4 version:\n",
    "\n",
    "![tiles](./IMG/slidingtiles.png)\n",
    "\n",
    "https://gsurma.medium.com/sliding-puzzle-solving-search-problem-with-iterative-deepening-a-d7e8c14eba04\n",
    "\n",
    "Let's start with generating the valid moves:\n"
   ]
  },
  {
   "cell_type": "code",
   "execution_count": 35,
   "metadata": {},
   "outputs": [],
   "source": [
    "moves←{{⌽@zero ⍵⊢state}¨(,⍳⍴state)∩(0 1)(1 0)(0 ¯1)(¯1 0)+⊂zero←⊃⍸0=state←⍵}"
   ]
  },
  {
   "cell_type": "code",
   "execution_count": 36,
   "metadata": {},
   "outputs": [
    {
     "data": {
      "text/html": [
       "<span style=\"white-space:pre; font-family: monospace\">12  6  3 4\n",
       " 2  5  7 9\n",
       "13 14 11 1\n",
       "15  0 10 8\n",
       "</span>"
      ]
     },
     "execution_count": 36,
     "metadata": {},
     "output_type": "execute_result"
    },
    {
     "data": {
      "text/html": [
       "<span style=\"white-space:pre; font-family: monospace\">┌──────────┬──────────┬──────────┐\n",
       "│12  6  3 4│12  6  3 4│12  6  3 4│\n",
       "│ 2  5  7 9│ 2  5  7 9│ 2  5  7 9│\n",
       "│13  0 11 1│13 14 11 1│13 14 11 1│\n",
       "│15 14 10 8│ 0 15 10 8│15 10  0 8│\n",
       "└──────────┴──────────┴──────────┘\n",
       "</span>"
      ]
     },
     "execution_count": 36,
     "metadata": {},
     "output_type": "execute_result"
    }
   ],
   "source": [
    "⊢state←4 4⍴?⍨16 ⍝ A random puzzle state. Note: not all states have solutions!\n",
    "moves state"
   ]
  },
  {
   "cell_type": "markdown",
   "metadata": {},
   "source": [
    "Not too much magic there -- we find the location of the zero tile, add the valid offsets (¯1, 0, 1) in x and y, capped by the edges, and use _At_ to apply the reverse function ⌽ to swap places between the 0 tile and each of its valid 4-connected neighbors. Here's what that looks like for rank-1:"
   ]
  },
  {
   "cell_type": "code",
   "execution_count": 38,
   "metadata": {},
   "outputs": [
    {
     "data": {
      "text/html": [
       "<span style=\"white-space:pre; font-family: monospace\">0 1 2 3 4 5 6 7\n",
       "0 1 2 3 6 5 4 7\n",
       "</span>"
      ]
     },
     "execution_count": 38,
     "metadata": {},
     "output_type": "execute_result"
    }
   ],
   "source": [
    "⌽@4 6⊢⎕←⍳8   ⍝ Swap positions 4 and 6"
   ]
  },
  {
   "cell_type": "markdown",
   "metadata": {},
   "source": [
    "So the first thing to try is a breadth-first search. "
   ]
  }
 ],
 "metadata": {
  "kernelspec": {
   "display_name": "Dyalog APL",
   "language": "apl",
   "name": "dyalog-kernel"
  },
  "language_info": {
   "file_extension": ".apl",
   "mimetype": "text/apl",
   "name": "APL"
  }
 },
 "nbformat": 4,
 "nbformat_minor": 4
}
