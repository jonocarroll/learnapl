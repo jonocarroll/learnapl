{
 "cells": [
  {
   "cell_type": "markdown",
   "metadata": {},
   "source": [
    "# Dealing with real data\n",
    "\n",
    "> You want it in one line? Does it have to fit in 80 columns?\n",
    "\\--_Larry Wall_"
   ]
  },
  {
   "cell_type": "markdown",
   "metadata": {},
   "source": [
    "Amazingly, we got all the way to here without once mentioning how to get data in (or out) with less than typing it in. Nor have we dealt with \"real\" data much. Real data is usually messy. Dyalog APL has a rich set of routines to deal with data, either as bytes on disk, or formatted as JSON or CSV (or XML, but let's keep pretending that XML was never actually a thing), or fetching it from a database, or as an HTTP-request. Some of this stuff we won't cover -- if you need it, you're probably capable enough as an APLer to figure it out yourself. \n",
    "\n",
    "Some other resources to consult:\n",
    "\n",
    "* Docs on [⎕NGET](http://help.dyalog.com/18.0/index.htm#Language/System%20Functions/nget.htm), [⎕CSV](http://help.dyalog.com/18.0/index.htm#Language/System%20Functions/csv.htm), [⎕JSON](http://help.dyalog.com/18.0/index.htm#Language/System%20Functions/json.htm) and (if you must) [⎕XML](http://help.dyalog.com/18.0/index.htm#Language/System%20Functions/xml.htm)\n",
    "* Dyalog [webinar](https://dyalog.tv/Webinar/?v=yDpRGaheEH4) on http, `⎕JSON` and `⎕XML`"
   ]
  },
  {
   "cell_type": "code",
   "execution_count": 1,
   "metadata": {
    "tags": [
     "hide-output"
    ]
   },
   "outputs": [
    {
     "data": {
      "text/html": [
       "<span style=\"white-space:pre; font-family: monospace\">Was ON\n",
       "</span>"
      ]
     },
     "execution_count": 1,
     "metadata": {},
     "output_type": "execute_result"
    },
    {
     "data": {
      "text/html": [
       "<span style=\"white-space:pre; font-family: monospace\">Was OFF\n",
       "</span>"
      ]
     },
     "execution_count": 1,
     "metadata": {},
     "output_type": "execute_result"
    }
   ],
   "source": [
    "⎕IO ← 0\n",
    "]box on\n",
    "]rows on"
   ]
  },
  {
   "cell_type": "markdown",
   "metadata": {},
   "source": [
    "## Reading text files: `⎕NGET`\n",
    "\n",
    "The system function [⎕NGET](http://help.dyalog.com/18.0/index.htm#Language/System%20Functions/nget.htm) reads text files from disk:"
   ]
  },
  {
   "cell_type": "code",
   "execution_count": 2,
   "metadata": {},
   "outputs": [
    {
     "data": {
      "text/html": [
       "<span style=\"white-space:pre; font-family: monospace\">┌───────────────┬───────────────┬───────────────┬───────────────┐\n",
       "│1 8 6 9 5 9 5 9│6 3 4 2 8 1 8 2│8 0 7 5 5 1 2 3│6 5 2 9 8 2 6 1│\n",
       "└───────────────┴───────────────┴───────────────┴───────────────┘\n",
       "</span>"
      ]
     },
     "execution_count": 2,
     "metadata": {},
     "output_type": "execute_result"
    }
   ],
   "source": [
    "⊃⎕NGET'/Users/stefan/work/dyalog/file.txt'1"
   ]
  },
  {
   "cell_type": "markdown",
   "metadata": {},
   "source": [
    "We can note two things from that:\n",
    "\n",
    "1. We disclose the result (actually, we pick the first item)\n",
    "2. There is a `1` after the file name\n",
    "\n",
    "Let's explore what happens if we don't do these things."
   ]
  },
  {
   "cell_type": "code",
   "execution_count": 3,
   "metadata": {},
   "outputs": [
    {
     "data": {
      "text/html": [
       "<span style=\"white-space:pre; font-family: monospace\">┌─────────────────────────────────────────────────────────────────┬───────────┬──┐\n",
       "│┌───────────────┬───────────────┬───────────────┬───────────────┐│UTF-8-NOBOM│10│\n",
       "││1 8 6 9 5 9 5 9│6 3 4 2 8 1 8 2│8 0 7 5 5 1 2 3│6 5 2 9 8 2 6 1││           │  │\n",
       "│└───────────────┴───────────────┴───────────────┴───────────────┘│           │  │\n",
       "└─────────────────────────────────────────────────────────────────┴───────────┴──┘\n",
       "</span>"
      ]
     },
     "execution_count": 3,
     "metadata": {},
     "output_type": "execute_result"
    }
   ],
   "source": [
    "⎕NGET'/Users/stefan/work/dyalog/file.txt'1"
   ]
  },
  {
   "cell_type": "markdown",
   "metadata": {},
   "source": [
    "We can see that when we read a file with `⎕NGET` we get back a vector with several elements, the first is the data itself, and the second contains information about the file's encoding. The last one is Dyalog's opinion of what the file's newline separator is. This will vary across operating systems. \n",
    "\n",
    "What happens if we leave out the `1` at the end?"
   ]
  },
  {
   "cell_type": "code",
   "execution_count": 4,
   "metadata": {},
   "outputs": [
    {
     "data": {
      "text/html": [
       "<span style=\"white-space:pre; font-family: monospace\">┌───────────────┬───────────┬──┐\n",
       "│1 8 6 9 5 9 5 9│UTF-8-NOBOM│10│\n",
       "│6 3 4 2 8 1 8 2│           │  │\n",
       "│8 0 7 5 5 1 2 3│           │  │\n",
       "│6 5 2 9 8 2 6 1│           │  │\n",
       "│               │           │  │\n",
       "└───────────────┴───────────┴──┘\n",
       "</span>"
      ]
     },
     "execution_count": 4,
     "metadata": {},
     "output_type": "execute_result"
    }
   ],
   "source": [
    "⎕NGET'/Users/stefan/work/dyalog/file.txt'"
   ]
  },
  {
   "cell_type": "markdown",
   "metadata": {},
   "source": [
    "Leaving out the `1` (or indeed instead passing the default value of `0`) returns a single character vector containing the data:"
   ]
  },
  {
   "cell_type": "code",
   "execution_count": 5,
   "metadata": {},
   "outputs": [
    {
     "data": {
      "text/html": [
       "<span style=\"white-space:pre; font-family: monospace\">64\n",
       "</span>"
      ]
     },
     "execution_count": 5,
     "metadata": {},
     "output_type": "execute_result"
    }
   ],
   "source": [
    "⍴⊃⎕NGET'/Users/stefan/work/dyalog/file.txt'"
   ]
  },
  {
   "cell_type": "markdown",
   "metadata": {},
   "source": [
    "This is probably not what you want in most cases when processing a text file. Note that we've read lines of _characters_. But we can convert them to numbers:"
   ]
  },
  {
   "cell_type": "code",
   "execution_count": 6,
   "metadata": {},
   "outputs": [
    {
     "data": {
      "text/html": [
       "<span style=\"white-space:pre; font-family: monospace\">1 8 6 9 5 9 5 9\n",
       "6 3 4 2 8 1 8 2\n",
       "8 0 7 5 5 1 2 3\n",
       "6 5 2 9 8 2 6 1\n",
       "</span>"
      ]
     },
     "execution_count": 6,
     "metadata": {},
     "output_type": "execute_result"
    }
   ],
   "source": [
    "⍎⍤1⊢↑⊃⎕NGET'/Users/stefan/work/dyalog/file.txt'1 ⍝ Note health warning below!"
   ]
  },
  {
   "cell_type": "markdown",
   "metadata": {},
   "source": [
    "We mixed the vector into an array of rank 2, then applied the [_Hydrant_](http://help.dyalog.com/18.0/index.htm#Language/Symbols/Execute%20Symbol.htm), `⍎` at rank 1 (vectors). _Hydrant_ is a function called  _Execute_, and it takes a string and evaluates it as if it was a little APL program, similar to how [eval()](https://docs.python.org/3/library/functions.html#eval) works in Python and Perl:"
   ]
  },
  {
   "cell_type": "code",
   "execution_count": 7,
   "metadata": {},
   "outputs": [
    {
     "data": {
      "text/html": [
       "<span style=\"white-space:pre; font-family: monospace\">1 8 6 7 5 9 5 9\n",
       "</span>"
      ]
     },
     "execution_count": 7,
     "metadata": {},
     "output_type": "execute_result"
    }
   ],
   "source": [
    "⍎ '1 8 6 7 5 9 5 9'"
   ]
  },
  {
   "cell_type": "markdown",
   "metadata": {},
   "source": [
    "If you have ever seen code written in [PHP](https://www.php.net/manual/en/intro-whatis.php), you know why evaluating strings requires a degree of [caution](https://www.php.net/manual/en/security.database.sql-injection.php) unless you're certain of the provenance. Perl has a [taint](https://perldoc.perl.org/perlsec#Taint-mode) mode to stop bleed-over from untrusted sources, and Python papers over the issue by decree, calling `eval()` un-Pythonic, and Guido-hated.\n",
    "\n",
    "```{tip}\n",
    "Dyalog provides more industry-strength mechanisms for converting strings to numbers in a safe manner, like [verify-fix-input](http://help.dyalog.com/18.0/index.htm#Language/System%20Functions/vfi.htm), `⎕VFI`\n",
    "```\n",
    "\n",
    "Anyway, enough of the yak shaving already.\n",
    "\n",
    "## Reading CSV: `⎕CSV`\n",
    "\n",
    "[CSV](https://en.wikipedia.org/wiki/Comma-separated_values), or _comma-separated values_, is a data format for tabular data. It's [hairier than one might think](http://thomasburette.com/blog/2014/05/25/so-you-want-to-write-your-own-CSV-code/) to write a correct CSV parser. Fortunately, Dyalog provides one for us as the system function [⎕CSV](http://help.dyalog.com/18.0/index.htm#Language/System%20Functions/csv.htm). It can be used to convert data both to and from the CSV format. The `⎕CSV` function has one extremely handy feature: it converts numbers for us, avoiding the hydrant-dance we resorted to above.\n",
    "\n",
    "Consider the following decidedly not-CSV-looking data. It's a section from the data given in Day 2 in the [Advent of Code](https://adventofcode.com/2020/day/2) competition from 2020. Let's assume we've already read from disk using `⎕NGET`:"
   ]
  },
  {
   "cell_type": "code",
   "execution_count": 8,
   "metadata": {},
   "outputs": [],
   "source": [
    "data ← '3-6 s: ssdsssss' '17-19 f: cnffsfffzhfnsffttms' '8-11 c: tzvtwncnwvwttp' '8-10 r: rwrrtrvttrrrr' '1-2 p: zhpjph' '4-6 l: pldnxv'"
   ]
  },
  {
   "cell_type": "markdown",
   "metadata": {},
   "source": [
    "Whilst it's not CSV, it _does_ look tabular. One handy use of `⎕CSV` is to rely on it to make a table from data, and convert columns of numbers. In our case, we separate each item by converting each \"non-word\" character to a comma, and then ask `⎕CSV` to do the conversion:"
   ]
  },
  {
   "cell_type": "code",
   "execution_count": 9,
   "metadata": {},
   "outputs": [
    {
     "data": {
      "text/html": [
       "<span style=\"white-space:pre; font-family: monospace\">┌──┬──┬─┬───────────────────┐\n",
       "│3 │6 │s│ssdsssss           │\n",
       "├──┼──┼─┼───────────────────┤\n",
       "│17│19│f│cnffsfffzhfnsffttms│\n",
       "├──┼──┼─┼───────────────────┤\n",
       "│8 │11│c│tzvtwncnwvwttp     │\n",
       "├──┼──┼─┼───────────────────┤\n",
       "│8 │10│r│rwrrtrvttrrrr      │\n",
       "├──┼──┼─┼───────────────────┤\n",
       "│1 │2 │p│zhpjph             │\n",
       "├──┼──┼─┼───────────────────┤\n",
       "│4 │6 │l│pldnxv             │\n",
       "└──┴──┴─┴───────────────────┘\n",
       "</span>"
      ]
     },
     "execution_count": 9,
     "metadata": {},
     "output_type": "execute_result"
    }
   ],
   "source": [
    "⎕CSV('\\W+'⎕R','⊢data)''4"
   ]
  },
  {
   "cell_type": "markdown",
   "metadata": {},
   "source": [
    "We called `⎕CSV` monadically, with an argument vector containing three items. The first, in our case, is obviously the data itself. The second is called the _data description_, which is used to specify the encoding where necessary. Dyalog's docs tells us:\n",
    "\n",
    "> If omitted or empty, the file encoding is deduced\n",
    "\n",
    "The `4` at the end of that is the _column specifier_, and this is what Dyalog's docs have to say about it:\n",
    "\n",
    "> 4: The field is to be interpreted numeric data but invalid numeric data is tolerated. Empty fields and fields which cannot be converted to numeric values are returned instead as character data."
   ]
  },
  {
   "cell_type": "markdown",
   "metadata": {},
   "source": [
    "We can read files containing CSV data directly with `⎕CSV`, in which case the first element of the argument vector should be a character vector containing the file name. We can also use `⎕CSV` to _write_ .csv files -- consult Dyalog's docs for details."
   ]
  },
  {
   "cell_type": "markdown",
   "metadata": {},
   "source": [
    "## Reading JSON: `⎕JSON`\n",
    "\n",
    "Dyalog also has a function for reading (and writing) JSON, appropriately enough called [⎕JSON](http://help.dyalog.com/18.0/index.htm#Language/System%20Functions/json.htm). The JSON data interchange format crops up everywhere: usually in REST-like APIs as the payload, as config files, as the document format in document-oriented databases. The name JSON is short for _JavaScript Object Notation_, and as one can expect, dealing with JSON in JavaScript is both trivial and convenient. Python's native dictionary and list types - through luck, mostly - map pretty closely to JSON, too, making working with JSON in Python pretty simple.\n",
    "\n",
    "In APL, we have a wealth of different data types: array. JSON doesn't do arrays of rank > 1. This makes a recursively defined format depending on dictionaries, like JSON, potentially more awkward to deal with. In the specific case of Dyalog APL, we do have the _namespace_ which can be persuaded to act a bit like a dictionary. \n",
    "\n",
    "```{warning}\n",
    "Dyalog [notes](http://help.dyalog.com/18.0/index.htm#Language/System%20Functions/json.htm):\n",
    "\n",
    "JSON supports a limited number of data types and there is not a direct correspondence between JSON and APL data structures. In particular:\n",
    "\n",
    "* JSON does not support arrays with rank > 1.\n",
    "* The JSON standard includes Boolean values true and false which are distinct from numeric values 1 and 0, and have no direct APL equivalent.\n",
    "* The JSON5 standard includes numeric constants Infinity, -Infinity, NaN and -NaN which have no direct APL equivalent.\n",
    "* JSON objects are named and these might not be valid names in APL.\n",
    "```\n",
    "\n",
    "Whilst the `⎕JSON` function does a good job given these constraints, working with JSON data (IMHO) in Dyalog always end up feeling a smidge gritty compared with JavaScript or Python. \n",
    "\n",
    "Let's look at some examples:"
   ]
  },
  {
   "cell_type": "code",
   "execution_count": 4,
   "metadata": {},
   "outputs": [],
   "source": [
    "json ← '{\"key\": 1, \"list\": [1, 2, 3, {\"colour\": \"red\", \"shape\": \"oblong\", \"number\": 5}, [98, 43, 77]]}'"
   ]
  },
  {
   "cell_type": "markdown",
   "metadata": {},
   "source": [
    "Yep, that's JSON alright. Let's convert that to APL as vectors and namespaces:"
   ]
  },
  {
   "cell_type": "code",
   "execution_count": 5,
   "metadata": {},
   "outputs": [
    {
     "data": {
      "text/html": [
       "<span style=\"white-space:pre; font-family: monospace\">#.[JSON object]\n",
       "</span>"
      ]
     },
     "execution_count": 5,
     "metadata": {},
     "output_type": "execute_result"
    }
   ],
   "source": [
    "⎕ ← data ← ⎕JSON json"
   ]
  },
  {
   "cell_type": "markdown",
   "metadata": {},
   "source": [
    "Ok, that went through without complaints, and we can see that Dyalog (correctly) thinks that the top level is \"object\". We can now get at the innards of this by attribute names and indices:"
   ]
  },
  {
   "cell_type": "code",
   "execution_count": 12,
   "metadata": {},
   "outputs": [
    {
     "data": {
      "text/html": [
       "<span style=\"white-space:pre; font-family: monospace\">1\n",
       "</span>"
      ]
     },
     "execution_count": 12,
     "metadata": {},
     "output_type": "execute_result"
    },
    {
     "data": {
      "text/html": [
       "<span style=\"white-space:pre; font-family: monospace\">┌─┬─┬─┬─────────────────────────────┬────────┐\n",
       "│1│2│3│#.[JSON object].[JSON object]│98 43 77│\n",
       "└─┴─┴─┴─────────────────────────────┴────────┘\n",
       "</span>"
      ]
     },
     "execution_count": 12,
     "metadata": {},
     "output_type": "execute_result"
    },
    {
     "data": {
      "text/html": [
       "<span style=\"white-space:pre; font-family: monospace\">oblong\n",
       "</span>"
      ]
     },
     "execution_count": 12,
     "metadata": {},
     "output_type": "execute_result"
    }
   ],
   "source": [
    "data.key\n",
    "data.list\n",
    "data.list[3].shape"
   ]
  },
  {
   "cell_type": "markdown",
   "metadata": {},
   "source": [
    "Well, that looks perfectly smooth, right? But the unsmooth bit here is that in a JSON dict, the keys are _strings_, not object instance attributes which is what they end up as in our namespace. If we're reading an unknown bit of JSON data where we don't already know what the layout is, how do we, for example, process each key's value in turn if the keys aren't known to us?\n",
    "\n",
    "We can list all keys in a namespace using the following construct, where `⎕NL` is the [_Name list_](http://help.dyalog.com/18.0/index.htm#Language/System%20Functions/nl.htm) and the `¯2` magic number means that we want a vector back:"
   ]
  },
  {
   "cell_type": "code",
   "execution_count": 13,
   "metadata": {},
   "outputs": [
    {
     "data": {
      "text/html": [
       "<span style=\"white-space:pre; font-family: monospace\">┌───┬────┐\n",
       "│key│list│\n",
       "└───┴────┘\n",
       "</span>"
      ]
     },
     "execution_count": 13,
     "metadata": {},
     "output_type": "execute_result"
    }
   ],
   "source": [
    "data.⎕NL¯2"
   ]
  },
  {
   "cell_type": "markdown",
   "metadata": {},
   "source": [
    "To get the corresponding values, we need to _evaluate_ each such key:"
   ]
  },
  {
   "cell_type": "code",
   "execution_count": 14,
   "metadata": {},
   "outputs": [
    {
     "data": {
      "text/html": [
       "<span style=\"white-space:pre; font-family: monospace\">┌─┬──────────────────────────────────────────────┐\n",
       "│1│┌─┬─┬─┬─────────────────────────────┬────────┐│\n",
       "│ ││1│2│3│#.[JSON object].[JSON object]│98 43 77││\n",
       "│ │└─┴─┴─┴─────────────────────────────┴────────┘│\n",
       "└─┴──────────────────────────────────────────────┘\n",
       "</span>"
      ]
     },
     "execution_count": 14,
     "metadata": {},
     "output_type": "execute_result"
    }
   ],
   "source": [
    "data.(⍎¨⎕NL¯2)"
   ]
  },
  {
   "cell_type": "markdown",
   "metadata": {},
   "source": [
    "Let's say that we want to sum all numbers in the JSON. Here's one way we can achieve that:"
   ]
  },
  {
   "cell_type": "code",
   "execution_count": 2,
   "metadata": {},
   "outputs": [],
   "source": [
    "]dinput\n",
    "Values ← {\n",
    "    keys ← ⍵.⎕NL¯2\n",
    "    values ← keys {0=≢⍺:⍬⋄⍵.(⍎¨⍺)} ⍵ \n",
    "    0=≢⍵.⎕NL¯9:values       ⍝ No nested namespaces: done\n",
    "    values,∊∇¨⍵.(⍎¨⎕NL¯9)   ⍝ Also expand any namespaces we found as values\n",
    "}"
   ]
  },
  {
   "cell_type": "code",
   "execution_count": 16,
   "metadata": {},
   "outputs": [],
   "source": [
    "]dinput\n",
    "JSONSum ← {\n",
    "    {(1=2|⎕DR)⍵}⍵:⍵                    ⍝ Are we a number?\n",
    "    (⍕≡⊢)⍵:0                           ⍝ Are we a string?\n",
    "    {(326=⎕DR⍵)∧(0=≡)⍵} ⍵:+/∇Values ⍵  ⍝ Are we an object?\n",
    "    +/∊∇¨⍵                             ⍝ We're a list\n",
    "}"
   ]
  },
  {
   "cell_type": "code",
   "execution_count": 17,
   "metadata": {},
   "outputs": [
    {
     "data": {
      "text/html": [
       "<span style=\"white-space:pre; font-family: monospace\">230\n",
       "</span>"
      ]
     },
     "execution_count": 17,
     "metadata": {},
     "output_type": "execute_result"
    }
   ],
   "source": [
    "JSONSum data"
   ]
  },
  {
   "cell_type": "markdown",
   "metadata": {},
   "source": [
    "The bits to find the type of each field in `JSONSum` are all things you can just look up on APLCart: monadic [⎕DR](http://help.dyalog.com/18.0/index.htm#Language/System%20Functions/Data%20Representation%20Monadic.htm) means _Data representation_, and you just need to feed it the right magic number."
   ]
  },
  {
   "cell_type": "markdown",
   "metadata": {},
   "source": [
    "There is a lot more to say about the `⎕JSON` function that we won't go into here (we'll see a bit more of it in the next [chapter](./http.ipynb)). It can also convert JSON to a pure array format instead of using namespaces, and it can also be used to convert APL arrays _to_ JSON. The interested reader will have plenty to go at in the Dyalog docs, and Morten's webinar signposted at the top of this chapter."
   ]
  },
  {
   "cell_type": "code",
   "execution_count": null,
   "metadata": {},
   "outputs": [],
   "source": []
  }
 ],
 "metadata": {
  "kernelspec": {
   "display_name": "Dyalog APL",
   "language": "apl",
   "name": "dyalog-kernel"
  },
  "language_info": {
   "file_extension": ".apl",
   "mimetype": "text/apl",
   "name": "APL"
  }
 },
 "nbformat": 4,
 "nbformat_minor": 4
}
