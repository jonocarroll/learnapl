{
 "cells": [
  {
   "cell_type": "markdown",
   "metadata": {},
   "source": [
    "# Too long; didn't read\n",
    "\n",
    "> Don't be afraid to ask questions. Don't be afraid to ask for help when you need it. I do that every day. Asking for help isn't a sign of weakness, it's a sign of strength. It shows you have the courage to admit when you don't know something, and to learn something new. --_Barack Obama_\n",
    "\n",
    "I started this from wanting to write down the few things that would have made my learning easier had I known them from the beginning. Many of those things (inevitably) now seem obvious, and this is probably part of the problem I faced at the time: the simple bits that everyone assumes everyone understands are only simple and obvious once you know them. Given that this book ended up creeping in scope, perhaps we should return to that original aim. What are the top-10 things that you really should take the time to understand from day 1, from practical to theoretical?\n",
    "\n",
    "1. Scalar extension is vital to understand (but also pretty hard to miss).\n",
    "1. Arrays are not \"list of lists\": rank is not depth. Make sure you _really_ understand the difference.\n",
    "1. Corollary: a vector of `n` items is not the same as a `1×n` array.\n",
    "1. Arrays can only contain scalars. This means that everything in an array must have rank 0, and thus higher-rank elements must be enclosed before they can go in an array.\n",
    "1. Cells are not equal to the element(s) they contain. Understand why pick (`⊃`) is different from squad (`⌷`).\n",
    "1. Enclosures are not shown in output by default. Turn on boxing with `]box on -s=min|mid|max`! This also helps with visualising rank. \n",
    "1. Understand the leading axis idea and a lot of other things start to make sense.\n",
    "1. Study the rank (`⍤`) operator early and don't stop until the penny drops.\n",
    "1. RIDE: Shift-ctrl-backspace/return moves through your command history.\n",
    "1. RIDE: Esc 'fixes' a function -- change that immediately to command-s!"
   ]
  },
  {
   "cell_type": "markdown",
   "metadata": {},
   "source": [
    "## Final thoughts\n",
    "\n",
    "Learning APL is a rewarding pursuit. It certainly forced me to reexamine many calcified patterns in my own brain on what programming \"should be like\". It was frustrating at first, feeling that the process of learning a new language was slower than usual. If you can resist the reaction that this is somehow the fault of APL (\"It's unreadable!\"), you'll soon conquer that initial small hump on the learning curve.\n",
    "\n",
    "The other thing that I've found interesting is how many of your established \"best practices\" have evolved in completely different directions for APL. Aaron Hsu talks about this more eloquently than I ever could in his talk on [APL patterns and anti-patterns](https://www.sacrideo.us/apl-style-patterns-and-anti-patterns-in-apl/), but I'd like to highlight the following:\n",
    "\n",
    "> Good APL follows a set of best practices that directly contradict and conflict with traditional programming wisdom. Indeed, APL design patterns appear as Anti-patterns in most other programming languages. --_Aaron Hsu_\n",
    "\n",
    "This cognitive dissonance is one reason why some \"computer people\" _hate_ APL. For me it's one of the main draws: two fingers to [Uncle Bob](http://cleancoder.com/products), the [Gang of Four](https://en.wikipedia.org/wiki/Design_Patterns), and all of their ilk, the buzzkills of the software world.\n",
    "\n",
    "> Writing APL code the same way you write traditional software only defeats both sanity and efficiency. --_Aaron Hsu_\n",
    "\n",
    "### Idioms, not libraries\n",
    "When splitting a string on a delimiter is as easy as"
   ]
  },
  {
   "cell_type": "code",
   "execution_count": 2,
   "metadata": {},
   "outputs": [
    {
     "data": {
      "text/html": [
       "<span style=\"white-space:pre; font-family: monospace\">┌───┬───┬─────┐\n",
       "│one│two│three│\n",
       "└───┴───┴─────┘\n",
       "</span>"
      ]
     },
     "execution_count": 2,
     "metadata": {},
     "output_type": "execute_result"
    }
   ],
   "source": [
    "',' (≠⊆⊢) 'one,two,three'"
   ]
  },
  {
   "cell_type": "markdown",
   "metadata": {},
   "source": [
    "there is no value in having a string library that needs importing and a `stringsplit` function. In fact, avoid naming things if you can, and if you must, only name things so close to their use that the definition can be seen without scrolling.\n",
    "\n",
    "It's kind of the polar opposite of any DRY rule you will have had drilled into you from the beginning. Good APL code reuses short idioms by \"copy & paste\" so as not to obscure functionality. \n",
    "\n",
    "### Implicit is better than explicit (sometimes)\n",
    "\n",
    "If you're a Python programmer indoctrinated to believe in the Zen of Python ball and chain, you're probably cringing. In APL, the tacit style allows you to compress more meaning into the glyph count, like, for example the string split example above. This means that short phrases can be made even shorter, and thus become idioms that can be recognized as whole \"words\". See Aaron Hsu's [Co-dfns](https://github.com/Co-dfns/) project for an awe-inspiring masterclass in what this can look like when you take this approach to its logical conclusion.\n",
    "\n",
    "### Economy of representation is a virtue\n",
    "\n",
    "The fewer keystrokes needed for your implementation, the easier it is to discover bugs by inspection, and the more of the system architecture you can hold in your head. This leads to increased confidence when making changes that these will function as intended in the larger context. \n",
    "\n",
    "Ken wrote the following:\n",
    "\n",
    "> The utility of a language as a tool of thought increases with the range of topics it can treat, but decreases with the amount of vocabulary and the complexity of grammatical rules which the user must keep in mind. Economy of notation is therefore important. Economy requires that a large number of ideas be expressible in terms of a relatively small vocabulary. A fundamental scheme for achieving this is the introduction of grammatical rules by which meaningful phrases and sentences can be constructed by combining elements of the vocabulary. --_Ken Iverson_\n",
    "\n",
    "Somewhere in the mists of time, that idea was forgotten in mainstream languages. Look at your Java, your C++, your Rust, your Go -- even your Python, a language which prides itself on its clean syntax. Why _do_ you have to type all that stuff to get things done?"
   ]
  },
  {
   "cell_type": "markdown",
   "metadata": {},
   "source": [
    "## Acknowledgements \n",
    "\n",
    "![aplorchard](https://aplwiki.com/images/9/98/Me_at_the_APL_Orchard.png)\n",
    "<div>[Illustration by <a href=\"https://chat.stackexchange.com/users/165520/razetime\">Razetime</a> on <a href=\"https://chat.stackexchange.com/transcript/message/55290368#55290368\">APL Orchard</a>]</div>\n",
    "<p><p>\n",
    "\n",
    "I'd like to thank the bunch of mysterious pseudonyms that hang out on the [APL Orchard](https://apl.chat) chat room who patiently answered every question I asked. It's the main reason I persisted with APL. In no particular order, an incomplete list: [Adám](https://chat.stackexchange.com/users/130368/adam), [rikedyp](https://chat.stackexchange.com/users/382943/rikedyp), [RGS](https://chat.stackexchange.com/users/245191/rgs), [ngn](https://chat.stackexchange.com/users/136283/ngn), [Bubbler](https://chat.stackexchange.com/users/337270/bubbler), [rak1507](https://chat.stackexchange.com/users/470812/rak1507), [Marshall](https://chat.stackexchange.com/users/464678/marshall), [dzaima](https://chat.stackexchange.com/users/232772/dzaima), [Razetime](https://chat.stackexchange.com/users/165520/razetime), [Elias Mårtenson](https://chat.stackexchange.com/users/76296/elias-martenson), [Morten Kromberg](https://chat.stackexchange.com/users/354261/morten-kromberg) and many others. I go under the mysterious pseudonym xpqz -- pop in and say hello."
   ]
  },
  {
   "cell_type": "code",
   "execution_count": null,
   "metadata": {},
   "outputs": [],
   "source": []
  }
 ],
 "metadata": {
  "kernelspec": {
   "display_name": "Dyalog APL",
   "language": "apl",
   "name": "dyalog-kernel"
  },
  "language_info": {
   "file_extension": ".apl",
   "mimetype": "text/apl",
   "name": "APL"
  }
 },
 "nbformat": 4,
 "nbformat_minor": 4
}
