{
 "cells": [
  {
   "cell_type": "markdown",
   "metadata": {},
   "source": [
    "# The Rank/Atop operator: `⍤`\n",
    "\n",
    "> An algorithm must be seen to be believed.\n",
    "\\--_Don Knuth_\n",
    "\n",
    "The somewhat startled-looking _Rank_ operator, `⍤`, has a reputation for being one of the harder ones to grasp. It sits on the 'J' key, a handy mnemonic, as it was an invention borrowed from the [J-language](https://www.jsoftware.com/#/). Well, it makes sense to _me_.\n",
    "\n",
    "If `⍤` is given a right operand _function_ it becomes _Atop_. We'll talk about that after we've covered the _Rank_ version.\n",
    "\n",
    "Other resources on _Rank_ and _Atop_:\n",
    "* [APL Wiki](https://aplwiki.com/wiki/Rank_(operator))\n",
    "* Dyalog docs [Rank](https://help.dyalog.com/latest/Content/Language/Primitive%20Operators/Rank.htm), [Atop](https://help.dyalog.com/latest/index.htm#Language/Primitive%20Operators/Atop.htm)\n",
    "* Webinars: [Rank Operator](https://dyalog.tv/Webinar/?v=IBct81IopRk), [Advanced Rank](https://dyalog.tv/Webinar/?v=5wW76XX0kqk), [Rank and Dyadic Transpose](https://dyalog.tv/Webinar/?v=zBqdeDJPPRc)\n",
    "* APL Orchard cultivations: [Basic Rank](https://chat.stackexchange.com/rooms/52405/conversation/lesson-32-basic-use-of-), [Advanced Rank](https://chat.stackexchange.com/rooms/52405/conversation/lesson-33-advanced-use-of-), [Atop and Over](https://chat.stackexchange.com/rooms/52405/conversation/lesson-47-atop--and-over-)\n",
    "* Roger Hui: [Rank Operator: An Idea Worth <s>Stealing</s> Borrowing](https://www.jsoftware.com/papers/rank/)"
   ]
  },
  {
   "cell_type": "code",
   "execution_count": 5,
   "metadata": {
    "tags": [
     "hide-output"
    ]
   },
   "outputs": [
    {
     "data": {
      "text/html": [
       "<span style=\"white-space:pre; font-family: monospace\">Was ON\n",
       "</span>"
      ]
     },
     "execution_count": 5,
     "metadata": {},
     "output_type": "execute_result"
    },
    {
     "data": {
      "text/html": [
       "<span style=\"white-space:pre; font-family: monospace\">Was ON\n",
       "</span>"
      ]
     },
     "execution_count": 5,
     "metadata": {},
     "output_type": "execute_result"
    }
   ],
   "source": [
    "⎕IO ← 0\n",
    "]box on\n",
    "]rows on"
   ]
  },
  {
   "cell_type": "markdown",
   "metadata": {},
   "source": [
    "In essence, the simple use of _Rank_ drills into the argument array and applies its operand to sub-cells of a specified rank only. \n",
    "\n",
    "Consider the following rank 3 array:"
   ]
  },
  {
   "cell_type": "code",
   "execution_count": 2,
   "metadata": {},
   "outputs": [
    {
     "data": {
      "text/html": [
       "<span style=\"white-space:pre; font-family: monospace\">┌┌→───────┐\n",
       "↓↓ 3  0 21│\n",
       "││19 15  9│\n",
       "││24  6 17│\n",
       "││        │\n",
       "││26  8 20│\n",
       "││ 4 14 12│\n",
       "││11 23  5│\n",
       "││        │\n",
       "││18  7  2│\n",
       "││13 16  1│\n",
       "││22 25 10│\n",
       "└└~───────┘\n",
       "</span>"
      ]
     },
     "execution_count": 2,
     "metadata": {},
     "output_type": "execute_result"
    },
    {
     "data": {
      "text/html": [
       "<span style=\"white-space:pre; font-family: monospace\">3\n",
       "</span>"
      ]
     },
     "execution_count": 2,
     "metadata": {},
     "output_type": "execute_result"
    }
   ],
   "source": [
    "]DISPLAY m ← 3 3 3⍴27?27\n",
    "≢⍴m"
   ]
  },
  {
   "cell_type": "markdown",
   "metadata": {},
   "source": [
    "Let's say we want to drop the first row of each layer of this array. In this case, we could use a bracket-axis specification to drop:"
   ]
  },
  {
   "cell_type": "code",
   "execution_count": 5,
   "metadata": {},
   "outputs": [
    {
     "data": {
      "text/html": [
       "<span style=\"white-space:pre; font-family: monospace\">┌┌→───────┐\n",
       "↓↓15  9  6│\n",
       "││11  8 21│\n",
       "││        │\n",
       "││ 3 18 23│\n",
       "││ 5  7 14│\n",
       "││        │\n",
       "││12 10  2│\n",
       "││26  4 19│\n",
       "└└~───────┘\n",
       "</span>"
      ]
     },
     "execution_count": 5,
     "metadata": {},
     "output_type": "execute_result"
    }
   ],
   "source": [
    "1↓[1]m ⍝ Apply drop ↓ to axis 1, i.e. the y-axis, with ⎕IO←0"
   ]
  },
  {
   "cell_type": "markdown",
   "metadata": {},
   "source": [
    "However, this is now `⎕IO` dependent, and the bracket-axis spec has some other undesirable properties, including the fact that it cannot be applied to user-defined functions. \n",
    "\n",
    "The _Rank_ operator allows us to solve this in a different way:"
   ]
  },
  {
   "cell_type": "code",
   "execution_count": 6,
   "metadata": {},
   "outputs": [
    {
     "data": {
      "text/html": [
       "<span style=\"white-space:pre; font-family: monospace\">┌┌→───────┐\n",
       "↓↓15  9  6│\n",
       "││11  8 21│\n",
       "││        │\n",
       "││ 3 18 23│\n",
       "││ 5  7 14│\n",
       "││        │\n",
       "││12 10  2│\n",
       "││26  4 19│\n",
       "└└~───────┘\n",
       "</span>"
      ]
     },
     "execution_count": 6,
     "metadata": {},
     "output_type": "execute_result"
    }
   ],
   "source": [
    "1↓⍤2⊢m"
   ]
  },
  {
   "cell_type": "markdown",
   "metadata": {},
   "source": [
    "You can think of _Rank_ in this case being closer to the problem statement: drop the first major cell of each _sub-cell_ that has a rank one less than the argument. Or: in our 3D array, apply the drop to each of its constituent 2D arrays.\n",
    "\n",
    "Note that _Rank_ doesn't equal _depth_, and this is part of the reason why the _Rank_ operator can be confusing. So given a complex vector that contains a variety of scalars and higher-rank arrays, you can't use the _Rank_ operator to selectively apply a function to, say, just the vectors."
   ]
  },
  {
   "cell_type": "code",
   "execution_count": 3,
   "metadata": {},
   "outputs": [
    {
     "data": {
      "text/html": [
       "<span style=\"white-space:pre; font-family: monospace\">┌─────┬───┬─┐\n",
       "│1 2 3│1 1│1│\n",
       "│     │1 1│ │\n",
       "└─────┴───┴─┘\n",
       "</span>"
      ]
     },
     "execution_count": 3,
     "metadata": {},
     "output_type": "execute_result"
    }
   ],
   "source": [
    "⎕ ← V ← (1 2 3)(2 2⍴1 1 1 1)(1)"
   ]
  },
  {
   "cell_type": "code",
   "execution_count": 4,
   "metadata": {},
   "outputs": [
    {
     "data": {
      "text/html": [
       "<span style=\"white-space:pre; font-family: monospace\">3\n",
       "</span>"
      ]
     },
     "execution_count": 4,
     "metadata": {},
     "output_type": "execute_result"
    }
   ],
   "source": [
    "≢⍤1⊢V ⍝ NOTE: this is wrong!"
   ]
  },
  {
   "cell_type": "markdown",
   "metadata": {},
   "source": [
    "In this case, `V` is of course already a rank 1 array (i.e. a vector). But wait, there is more confusion to be had! The right operand doesn't even have to be a scalar at all.\n",
    "\n",
    "We already saw that if the right operand of `⍤` is a scalar, we are specifying which rank sub cells we want a function to apply to. For dyadic usage, we instead specify which sub-cells of the left argument should be paired up with which sub-cells of the right argument. It takes a while to wrap your head around this.\n",
    "\n",
    "Here's an example:"
   ]
  },
  {
   "cell_type": "code",
   "execution_count": 15,
   "metadata": {},
   "outputs": [
    {
     "data": {
      "text/html": [
       "<span style=\"white-space:pre; font-family: monospace\">┌→──────┐\n",
       "↓1 hello│\n",
       "│2 hello│\n",
       "│3 hello│\n",
       "└+──────┘\n",
       "</span>"
      ]
     },
     "execution_count": 15,
     "metadata": {},
     "output_type": "execute_result"
    }
   ],
   "source": [
    "1 2 3,⍤0 1 ⊢ 'hello'"
   ]
  },
  {
   "cell_type": "markdown",
   "metadata": {},
   "source": [
    "This says that the _left_ argument of the derived function should be paired at rank 0 (that is each element) with the _right_ argument at rank 1 (that is the whole vector in this case). If this feels reminiscent of an outer product, you're not wrong.\n",
    "\n",
    "In other words, _Rank pairs up_ the arguments of the function it derives. We can examine which elements would be paired up by using the following incantation in place of our function:"
   ]
  },
  {
   "cell_type": "code",
   "execution_count": 18,
   "metadata": {},
   "outputs": [],
   "source": [
    "rankpairs ← ⊂⍤,⍥⊂"
   ]
  },
  {
   "cell_type": "markdown",
   "metadata": {},
   "source": [
    "if you know what that means, you probably don't need to read this tutorial. If not, don't worry -- treat it as a debug statement:"
   ]
  },
  {
   "cell_type": "code",
   "execution_count": 19,
   "metadata": {},
   "outputs": [
    {
     "data": {
      "text/html": [
       "<span style=\"white-space:pre; font-family: monospace\">┌→──────────────────────────────────────────┐\n",
       "│ ┌→──────────┐ ┌→──────────┐ ┌→──────────┐ │\n",
       "│ │   ┌→────┐ │ │   ┌→────┐ │ │   ┌→────┐ │ │\n",
       "│ │ 1 │hello│ │ │ 2 │hello│ │ │ 3 │hello│ │ │\n",
       "│ │   └─────┘ │ │   └─────┘ │ │   └─────┘ │ │\n",
       "│ └∊──────────┘ └∊──────────┘ └∊──────────┘ │\n",
       "└∊──────────────────────────────────────────┘\n",
       "</span>"
      ]
     },
     "execution_count": 19,
     "metadata": {},
     "output_type": "execute_result"
    }
   ],
   "source": [
    "\n",
    "1 2 3 rankpairs⍤0 1 ⊢ 'hello'"
   ]
  },
  {
   "cell_type": "markdown",
   "metadata": {},
   "source": [
    "In the section on [array indexing](./indexing.ipynb) earlier, we introduced the concept of _Sane Indexing_ without any further explanation on how it was working. Here it is again, as a [tacit](./tacit.ipynb) function:"
   ]
  },
  {
   "cell_type": "code",
   "execution_count": 20,
   "metadata": {},
   "outputs": [],
   "source": [
    "I←⌷⍨∘⊃⍨⍤0 99 ⍝ Sane indexing, a.k.a select"
   ]
  },
  {
   "cell_type": "markdown",
   "metadata": {},
   "source": [
    "Now that we understand a bit about _Rank_, we can at least make a start in taking that apart. So we have a _Rank_ 0 99 to the right, stating that we should combine the left argument at rank 0 (scalars) with the right argument at \"rank 99\". Rank 99 means \"full rank\", as Dyalog has a max rank of 99. So we should combine \"each scalar\" to the left with \"the whole thing, at whatever rank it happens to be\" to the right."
   ]
  },
  {
   "cell_type": "markdown",
   "metadata": {},
   "source": [
    "The actual indexing is done by the leading _Squad_ (`⌷`). Let's de-selfie the expression and make it a dfn. Although we haven't covered [tacit](./tacit.ipynb) functions yet, we can have the interpreter help us out a bit to see how that expression actually parses:"
   ]
  },
  {
   "cell_type": "code",
   "execution_count": 7,
   "metadata": {},
   "outputs": [
    {
     "data": {
      "text/html": [
       "<span style=\"white-space:pre; font-family: monospace\">Was ON -trains=tree\n",
       "</span>"
      ]
     },
     "execution_count": 7,
     "metadata": {},
     "output_type": "execute_result"
    }
   ],
   "source": [
    "]box on -trains=tree ⍝ Visualise tacit functions as a parse tree"
   ]
  },
  {
   "cell_type": "code",
   "execution_count": 8,
   "metadata": {},
   "outputs": [
    {
     "data": {
      "text/html": [
       "<span style=\"white-space:pre; font-family: monospace\">      ⍤\n",
       "     ┌┴┐\n",
       "     ⍨ 0 99\n",
       "   ┌─┘\n",
       "   ∘\n",
       "  ┌┴┐\n",
       "  ⍨ ⊃\n",
       "┌─┘\n",
       "⌷\n",
       "</span>"
      ]
     },
     "execution_count": 8,
     "metadata": {},
     "output_type": "execute_result"
    }
   ],
   "source": [
    "⌷⍨∘⊃⍨⍤0 99"
   ]
  },
  {
   "cell_type": "markdown",
   "metadata": {},
   "source": [
    "If we separate out the _Rank_ expression, after a bit of head-scratching, we arrive at"
   ]
  },
  {
   "cell_type": "code",
   "execution_count": 39,
   "metadata": {},
   "outputs": [],
   "source": [
    "sane←{(⊃⍺)⌷⍵}"
   ]
  },
  {
   "cell_type": "code",
   "execution_count": 40,
   "metadata": {},
   "outputs": [
    {
     "data": {
      "text/html": [
       "<span style=\"white-space:pre; font-family: monospace\"> \n",
       "d\n",
       "-\n",
       "</span>"
      ]
     },
     "execution_count": 40,
     "metadata": {},
     "output_type": "execute_result"
    }
   ],
   "source": [
    "3 sane 'abcdefg'"
   ]
  },
  {
   "cell_type": "code",
   "execution_count": 41,
   "metadata": {},
   "outputs": [
    {
     "data": {
      "text/html": [
       "<span style=\"white-space:pre; font-family: monospace\">┌→──┐\n",
       "│bcd│\n",
       "└───┘\n",
       "</span>"
      ]
     },
     "execution_count": 41,
     "metadata": {},
     "output_type": "execute_result"
    }
   ],
   "source": [
    "1 2 3 sane⍤0 99⊢'abcdefg'"
   ]
  },
  {
   "cell_type": "markdown",
   "metadata": {},
   "source": [
    "Hopefully, we can now see a bit clearer how it works -- we simply pass the disclosed left argument vector to _Squad_, and _Rank_ does the appropriate combination of left and right: each left element, to the whole (full-rank) of the right."
   ]
  },
  {
   "cell_type": "markdown",
   "metadata": {},
   "source": [
    "Here's another example. Given two integer arrays of the same shape, can we replicate (or compress) the rows of one from the other? We might be excused if we think that we can replicate-reduce, but this doesn't work:"
   ]
  },
  {
   "cell_type": "code",
   "execution_count": 3,
   "metadata": {},
   "outputs": [
    {
     "data": {
      "text/html": [
       "<span style=\"white-space:pre; font-family: monospace\">┌→──────┐\n",
       "↓2 1 1 1│\n",
       "│1 2 1 1│\n",
       "│1 1 2 1│\n",
       "└~──────┘\n",
       "</span>"
      ]
     },
     "execution_count": 3,
     "metadata": {},
     "output_type": "execute_result"
    },
    {
     "data": {
      "text/html": [
       "<span style=\"white-space:pre; font-family: monospace\">┌→──────┐\n",
       "↓1 2 3 4│\n",
       "│1 2 3 4│\n",
       "│1 2 3 4│\n",
       "└~──────┘\n",
       "</span>"
      ]
     },
     "execution_count": 3,
     "metadata": {},
     "output_type": "execute_result"
    }
   ],
   "source": [
    "]DISPLAY A ← 3 4⍴2 1 1 1 1 2 1 1 1 1 2 1\n",
    "]DISPLAY B ← 3 4⍴1 2 3 4 1 2 3 4 1 2 3 4"
   ]
  },
  {
   "cell_type": "markdown",
   "metadata": {},
   "source": [
    "(note: all expressions in the next cell will generate syntax or rank errors)"
   ]
  },
  {
   "cell_type": "code",
   "execution_count": 4,
   "metadata": {},
   "outputs": [
    {
     "name": "stderr",
     "output_type": "stream",
     "text": [
      "SYNTAX ERROR: The function does not take a left argument\n",
      "      A∘//B     ⍝ Nope... SYNTAX ERROR\n",
      "        ∧\n",
      "RANK ERROR\n",
      "      {A/⍵}/B   ⍝ Nope... RANK ERROR\n",
      "        ∧\n",
      "SYNTAX ERROR: The function does not take a left argument\n",
      "      A∘{⍺/⍵}/B ⍝ Nope... SYNTAX ERROR\n",
      "            ∧\n"
     ]
    }
   ],
   "source": [
    "A∘//B     ⍝ Nope... SYNTAX ERROR\n",
    "{A/⍵}/B   ⍝ Nope... RANK ERROR\n",
    "A∘{⍺/⍵}/B ⍝ Nope... SYNTAX ERROR"
   ]
  },
  {
   "cell_type": "markdown",
   "metadata": {},
   "source": [
    "Instead, we need to reach for _Rank_:"
   ]
  },
  {
   "cell_type": "code",
   "execution_count": 9,
   "metadata": {},
   "outputs": [
    {
     "data": {
      "text/html": [
       "<span style=\"white-space:pre; font-family: monospace\">1 1 2 3 4\n",
       "1 2 2 3 4\n",
       "1 2 3 3 4\n",
       "</span>"
      ]
     },
     "execution_count": 9,
     "metadata": {},
     "output_type": "execute_result"
    }
   ],
   "source": [
    "A/⍤1⊢B"
   ]
  },
  {
   "cell_type": "markdown",
   "metadata": {},
   "source": [
    "If we spell it out in plain words, perhaps the use of _Rank_ suggests itself: combine each major cell on the left with the corresponding major cell on the right, and apply the dyadic function \"replicate\". Every time you think \"combine each major cell on the left...\", you should think _Rank_."
   ]
  },
  {
   "cell_type": "markdown",
   "metadata": {},
   "source": [
    "As we've seen elsewhere, APL has a somewhat unholy mix of leading and trailing axis operators, mainly for historical reasons. _Rank_ allows us to stick to the leading axis versions [[Kromberg and Hui](https://dl.acm.org/doi/pdf/10.1145/3386319)]:\n",
    "\n",
    "|Leading axis|Trailling axis|Operation|\n",
    "|:-----------|:-------------|:--------|\n",
    "|(⊖⍤1)⍵      |⌽⍵           |reverse  |\n",
    "|⍺(⊖⍤1)⍵     |⍺⌽⍵           |rotate (scalar ⍺)|\n",
    "|(f⌿⍤1)⍵      |f/⍵           | reduce  |\n",
    "|(f⍀⍤1)⍵      |f\\⍵           | scan |\n",
    "\n",
    "\n",
    "## Rank drills \n",
    "\n",
    "In his paper [APL Excercises](https://www.jsoftware.com/papers/APL_exercises/), Roger Hui sets out the following drills for _Rank_. See if you can predict the results before revealing the answers:"
   ]
  },
  {
   "cell_type": "code",
   "execution_count": 4,
   "metadata": {},
   "outputs": [
    {
     "data": {
      "text/html": [
       "<span style=\"white-space:pre; font-family: monospace\">1 2 3 4 5 6 7 8 9 10 11 12 13 14 15 16 17 18 19 20 21 22 23 24\n",
       "</span>"
      ]
     },
     "execution_count": 4,
     "metadata": {},
     "output_type": "execute_result"
    }
   ],
   "source": [
    ",t←2 3 4⍴⍳24"
   ]
  },
  {
   "cell_type": "code",
   "execution_count": 10,
   "metadata": {
    "tags": [
     "hide-output"
    ]
   },
   "outputs": [
    {
     "data": {
      "text/html": [
       "<span style=\"white-space:pre; font-family: monospace\">1 2 3 4 5 6 7 8 9 10 11 12 13 14 15 16 17 18 19 20 21 22 23 24\n",
       "</span>"
      ]
     },
     "execution_count": 10,
     "metadata": {},
     "output_type": "execute_result"
    },
    {
     "data": {
      "text/html": [
       "<span style=\"white-space:pre; font-family: monospace\">┌→──────────────────────────────────┐\n",
       "↓ 1  2  3  4  5  6  7  8  9 10 11 12│\n",
       "│13 14 15 16 17 18 19 20 21 22 23 24│\n",
       "└~──────────────────────────────────┘\n",
       "</span>"
      ]
     },
     "execution_count": 10,
     "metadata": {},
     "output_type": "execute_result"
    },
    {
     "data": {
      "text/html": [
       "<span style=\"white-space:pre; font-family: monospace\">┌┌→──────────┐\n",
       "↓↓ 1  2  3  4│\n",
       "││ 5  6  7  8│\n",
       "││ 9 10 11 12│\n",
       "││           │\n",
       "││13 14 15 16│\n",
       "││17 18 19 20│\n",
       "││21 22 23 24│\n",
       "└└~──────────┘\n",
       "</span>"
      ]
     },
     "execution_count": 10,
     "metadata": {},
     "output_type": "execute_result"
    }
   ],
   "source": [
    ",⍤3⊢t\n",
    "]DISPLAY ,⍤2⊢t\n",
    "]DISPLAY ,⍤1⊢t"
   ]
  },
  {
   "cell_type": "code",
   "execution_count": 6,
   "metadata": {
    "tags": [
     "hide-output"
    ]
   },
   "outputs": [
    {
     "data": {
      "text/html": [
       "<span style=\"white-space:pre; font-family: monospace\">┌───────────┐\n",
       "│ 1  2  3  4│\n",
       "│ 5  6  7  8│\n",
       "│ 9 10 11 12│\n",
       "│           │\n",
       "│13 14 15 16│\n",
       "│17 18 19 20│\n",
       "│21 22 23 24│\n",
       "└───────────┘\n",
       "</span>"
      ]
     },
     "execution_count": 6,
     "metadata": {},
     "output_type": "execute_result"
    },
    {
     "data": {
      "text/html": [
       "<span style=\"white-space:pre; font-family: monospace\">┌──────────┬───────────┐\n",
       "│1  2  3  4│13 14 15 16│\n",
       "│5  6  7  8│17 18 19 20│\n",
       "│9 10 11 12│21 22 23 24│\n",
       "└──────────┴───────────┘\n",
       "</span>"
      ]
     },
     "execution_count": 6,
     "metadata": {},
     "output_type": "execute_result"
    },
    {
     "data": {
      "text/html": [
       "<span style=\"white-space:pre; font-family: monospace\">┌───────────┬───────────┬───────────┐\n",
       "│1 2 3 4    │5 6 7 8    │9 10 11 12 │\n",
       "├───────────┼───────────┼───────────┤\n",
       "│13 14 15 16│17 18 19 20│21 22 23 24│\n",
       "└───────────┴───────────┴───────────┘\n",
       "</span>"
      ]
     },
     "execution_count": 6,
     "metadata": {},
     "output_type": "execute_result"
    }
   ],
   "source": [
    "⊂⍤3⊢t\n",
    "⊂⍤2⊢t\n",
    "⊂⍤1⊢t"
   ]
  },
  {
   "cell_type": "code",
   "execution_count": 11,
   "metadata": {
    "tags": [
     "hide-output"
    ]
   },
   "outputs": [
    {
     "data": {
      "text/html": [
       "<span style=\"white-space:pre; font-family: monospace\">1 2 3 4 5 6 7 8 9 10 11 12 13 14 15 16 17 18 19 20 21 22 23 24\n",
       "</span>"
      ]
     },
     "execution_count": 11,
     "metadata": {},
     "output_type": "execute_result"
    },
    {
     "data": {
      "text/html": [
       "<span style=\"white-space:pre; font-family: monospace\">┌→──────────────────────────────────┐\n",
       "↓ 1  2  3  4  5  6  7  8  9 10 11 12│\n",
       "│13 14 15 16 17 18 19 20 21 22 23 24│\n",
       "└~──────────────────────────────────┘\n",
       "</span>"
      ]
     },
     "execution_count": 11,
     "metadata": {},
     "output_type": "execute_result"
    },
    {
     "data": {
      "text/html": [
       "<span style=\"white-space:pre; font-family: monospace\">┌┌→──────────┐\n",
       "↓↓ 1  2  3  4│\n",
       "││ 5  6  7  8│\n",
       "││ 9 10 11 12│\n",
       "││           │\n",
       "││13 14 15 16│\n",
       "││17 18 19 20│\n",
       "││21 22 23 24│\n",
       "└└~──────────┘\n",
       "</span>"
      ]
     },
     "execution_count": 11,
     "metadata": {},
     "output_type": "execute_result"
    }
   ],
   "source": [
    "↑ ,¨ ⊂⍤3⊢t\n",
    "]DISPLAY ↑ ,¨ ⊂⍤2⊢t\n",
    "]DISPLAY ↑ ,¨ ⊂⍤1⊢t"
   ]
  },
  {
   "cell_type": "code",
   "execution_count": 8,
   "metadata": {
    "tags": [
     "hide-output"
    ]
   },
   "outputs": [
    {
     "data": {
      "text/html": [
       "<span style=\"white-space:pre; font-family: monospace\">14 16 18 20\n",
       "22 24 26 28\n",
       "30 32 34 36\n",
       "</span>"
      ]
     },
     "execution_count": 8,
     "metadata": {},
     "output_type": "execute_result"
    },
    {
     "data": {
      "text/html": [
       "<span style=\"white-space:pre; font-family: monospace\">15 18 21 24\n",
       "51 54 57 60\n",
       "</span>"
      ]
     },
     "execution_count": 8,
     "metadata": {},
     "output_type": "execute_result"
    },
    {
     "data": {
      "text/html": [
       "<span style=\"white-space:pre; font-family: monospace\">10 26 42\n",
       "58 74 90\n",
       "</span>"
      ]
     },
     "execution_count": 8,
     "metadata": {},
     "output_type": "execute_result"
    }
   ],
   "source": [
    "]DISPLAY +⌿⍤3⊢t\n",
    "]DISPLAY +⌿⍤2⊢t\n",
    "]DISPLAY +⌿⍤1⊢t"
   ]
  },
  {
   "cell_type": "code",
   "execution_count": 12,
   "metadata": {
    "tags": [
     "hide-output"
    ]
   },
   "outputs": [
    {
     "data": {
      "text/html": [
       "<span style=\"white-space:pre; font-family: monospace\">┌┌→──────────┐\n",
       "↓↓13 14 15 16│\n",
       "││17 18 19 20│\n",
       "││21 22 23 24│\n",
       "││           │\n",
       "││ 1  2  3  4│\n",
       "││ 5  6  7  8│\n",
       "││ 9 10 11 12│\n",
       "└└~──────────┘\n",
       "</span>"
      ]
     },
     "execution_count": 12,
     "metadata": {},
     "output_type": "execute_result"
    },
    {
     "data": {
      "text/html": [
       "<span style=\"white-space:pre; font-family: monospace\">┌┌→──────────┐\n",
       "↓↓ 9 10 11 12│\n",
       "││ 5  6  7  8│\n",
       "││ 1  2  3  4│\n",
       "││           │\n",
       "││21 22 23 24│\n",
       "││17 18 19 20│\n",
       "││13 14 15 16│\n",
       "└└~──────────┘\n",
       "</span>"
      ]
     },
     "execution_count": 12,
     "metadata": {},
     "output_type": "execute_result"
    },
    {
     "data": {
      "text/html": [
       "<span style=\"white-space:pre; font-family: monospace\">┌┌→──────────┐\n",
       "↓↓ 4  3  2  1│\n",
       "││ 8  7  6  5│\n",
       "││12 11 10  9│\n",
       "││           │\n",
       "││16 15 14 13│\n",
       "││20 19 18 17│\n",
       "││24 23 22 21│\n",
       "└└~──────────┘\n",
       "</span>"
      ]
     },
     "execution_count": 12,
     "metadata": {},
     "output_type": "execute_result"
    }
   ],
   "source": [
    "]DISPLAY ⊖⍤3⊢t\n",
    "]DISPLAY ⊖⍤2⊢t\n",
    "]DISPLAY ⊖⍤1⊢t"
   ]
  },
  {
   "cell_type": "markdown",
   "metadata": {},
   "source": [
    "If you got all those right, well done -- Roger's paper has got many more for you to pit your wits against."
   ]
  },
  {
   "cell_type": "markdown",
   "metadata": {},
   "source": [
    "## Atop\n",
    "\n",
    "As we mentioned above, from version 18 of Dyalog, `⍤` can also be _Atop_ if given a right operand function instead of array. We'll see more of different kinds of _Atop_ later in the [tacit](./tacit.ipynb) chapter, but for now it's a functional composition rule, stating that (for the dyadic case),\n",
    "```apl\n",
    "X f⍤g Y → f X g Y\n",
    "```\n",
    "\n",
    "It is similar enough to _Jot_, `∘`, to be confusing. Whilst monadic `∘` is an atop, dyadic `∘` is a _beside_. Behold:\n",
    "```apl\n",
    "f∘g X → f(gX) → fgX\n",
    "f⍤g X → f(gX) → fgX\n",
    "X f∘g Y → X f g Y\n",
    "X f⍤g Y → f X g Y\n",
    "```\n",
    "\n",
    "Another way to think about it is that in the dyadic case, the difference between `∘` and `⍤` is which operand function (`f` or `g`) gets the left argument. In the monadic case, _Atop_ is equivalent for `∘` and `⍤`, so it's worth using `⍤` for both monadic and dyadic atops for consistency. \n",
    "\n",
    "Here is a simple example of a dyadic _Atop_,"
   ]
  },
  {
   "cell_type": "code",
   "execution_count": 1,
   "metadata": {},
   "outputs": [
    {
     "data": {
      "text/html": [
       "<span style=\"white-space:pre; font-family: monospace\">¯5 ¯7 ¯9\n",
       "</span>"
      ]
     },
     "execution_count": 1,
     "metadata": {},
     "output_type": "execute_result"
    }
   ],
   "source": [
    "1 2 3 -⍤+ 4 5 6 ⍝ Negate the sum of two vectors"
   ]
  },
  {
   "cell_type": "markdown",
   "metadata": {},
   "source": [
    "which, following the `X f⍤g Y → f X g Y` rule, is the same as"
   ]
  },
  {
   "cell_type": "code",
   "execution_count": 2,
   "metadata": {},
   "outputs": [
    {
     "data": {
      "text/html": [
       "<span style=\"white-space:pre; font-family: monospace\">¯5 ¯7 ¯9\n",
       "</span>"
      ]
     },
     "execution_count": 2,
     "metadata": {},
     "output_type": "execute_result"
    }
   ],
   "source": [
    "-1 2 3+4 5 6 ⍝ Negate the sum of two vectors"
   ]
  },
  {
   "cell_type": "markdown",
   "metadata": {},
   "source": [
    "or, as a tacit formulation (which we'll cover in more detail later),"
   ]
  },
  {
   "cell_type": "code",
   "execution_count": 3,
   "metadata": {},
   "outputs": [
    {
     "data": {
      "text/html": [
       "<span style=\"white-space:pre; font-family: monospace\">¯5 ¯7 ¯9\n",
       "</span>"
      ]
     },
     "execution_count": 3,
     "metadata": {},
     "output_type": "execute_result"
    }
   ],
   "source": [
    "1 2 3 (-+) 4 5 6 ⍝ Negate the sum of two vectors"
   ]
  },
  {
   "cell_type": "code",
   "execution_count": null,
   "metadata": {},
   "outputs": [],
   "source": []
  }
 ],
 "metadata": {
  "kernelspec": {
   "display_name": "Dyalog APL",
   "language": "apl",
   "name": "dyalog-kernel"
  },
  "language_info": {
   "file_extension": ".apl",
   "mimetype": "text/apl",
   "name": "APL"
  }
 },
 "nbformat": 4,
 "nbformat_minor": 4
}
