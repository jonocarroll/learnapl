{
 "cells": [
  {
   "cell_type": "markdown",
   "metadata": {},
   "source": [
    "# The APL Way\n",
    "\n",
    "> Every reader should ask himself periodically “Toward what end, toward what end?”—but do not ask it too often lest you pass up the fun of programming for the constipation of bittersweet philosophy. --_Alan Perlis_\n",
    "\n",
    "Up until now, we've skirted around one of the main advantages of APL -- array-oriented, or _data-parallel_ programming. This feels awkward and unnatural at first, but finding data-parallel approaches to problems is a skill that makes for efficient solutions in other languages, too, not just APL, and libraries such as Python's [NumPy](https://numpy.org/) encourages such solutions (it was inspired by APL, by the way).\n",
    "\n",
    "```{note}\n",
    "In this chapter, we'll be making some comparisons between data-parallel APL and \"loop & branch\" implementations in Python. We chose Python because its syntax is clean and understandable by a large proportion of programmers from other languages, too. In case it's not immediately obvious, no effort has been made to find optimal Python solutions here; indeed, quite the opposite. View the Python examples as pseudocode illustrations of the algorithms, and yes, we're fully aware that one can string together elegant, efficient Python solutions using iterator algebra and comprehensions.\n",
    "```\n",
    "\n",
    "A few pointers -- Richard Park gave a series of webinars on [Thinking in APL](https://dyalog.tv/Webinar/?v=myoK22rq1jk) that you should check out, and Adám Brudzewski gave several interactive Cultivations dedicated to the topic, [Lesson 39 - Array programming techniques](https://chat.stackexchange.com/rooms/52405/conversation/lesson-39-array-programming-techniques) and [Lesson 42 - Array coding style in depth](https://chat.stackexchange.com/rooms/52405/conversation/lesson-42-array-coding-style-in-depth), too."
   ]
  },
  {
   "cell_type": "code",
   "execution_count": 1,
   "metadata": {
    "tags": [
     "hide-output"
    ]
   },
   "outputs": [
    {
     "data": {
      "text/html": [
       "<span style=\"white-space:pre; font-family: monospace\">Was ON -style=min\n",
       "</span>"
      ]
     },
     "execution_count": 1,
     "metadata": {},
     "output_type": "execute_result"
    },
    {
     "data": {
      "text/html": [
       "<span style=\"white-space:pre; font-family: monospace\">Was OFF\n",
       "</span>"
      ]
     },
     "execution_count": 1,
     "metadata": {},
     "output_type": "execute_result"
    }
   ],
   "source": [
    "⎕IO ← 0\n",
    "]box on -s=min\n",
    "]rows on\n",
    "assert←{⍺←'assertion failure' ⋄ 0∊⍵:⍺ ⎕signal 8 ⋄ shy←0}"
   ]
  },
  {
   "cell_type": "markdown",
   "metadata": {},
   "source": [
    "## The power of the Array\n",
    "\n",
    "Several factors super-charge array-oriented programming in APL:\n",
    "\n",
    "1. Many operations on non-nested arrays are fast; _really_ fast, taking advantage of data parallelism in the processor (SIMD).\n",
    "2. By operating on whole arrays, we can -- with a bit of practice -- avoid branches, thus avoiding processor branch-prediction misses.\n",
    "3. Arrays in APL are implemented frugally when it comes to memory, especially Boolean arrays.\n",
    "\n",
    "The helicopter pitch for the simplest case might go something like this. Here's a naive \"loop and branch\" way to pick all elements matching some predicate in Python:\n",
    "\n",
    "```python\n",
    "def select(f, array): \n",
    "    \"\"\"Loop & branch\"\"\"\n",
    "    result = []\n",
    "    for element in array:\n",
    "        if f(element):\n",
    "            result.append(element)\n",
    "    return result\n",
    "```\n",
    "\n",
    "and here's a data-parallel version:\n",
    "```apl\n",
    "elems ← f array ⍝ Boolean mask\n",
    "elems/array     ⍝ Compress; i.e. pick elemets at 1s\n",
    "```\n",
    "\n",
    "Let's say we want to find the odd numbers in a sequence:"
   ]
  },
  {
   "cell_type": "code",
   "execution_count": 6,
   "metadata": {},
   "outputs": [
    {
     "data": {
      "text/html": [
       "<span style=\"white-space:pre; font-family: monospace\">1 3 5 7 9 11 13 15 17 19\n",
       "</span>"
      ]
     },
     "execution_count": 6,
     "metadata": {},
     "output_type": "execute_result"
    }
   ],
   "source": [
    "where ← 2|data ← ⍳20 ⍝ mod-2 for the whole array at once\n",
    "where/data"
   ]
  },
  {
   "cell_type": "markdown",
   "metadata": {},
   "source": [
    "In the APL version, there is no loop, and no branch. The data is simple, and most likely allocated contiguously, and the CPU will be able to process several items in parallel for every cycle without any branch-prediction misses. Of course, with only 20 elements, algorithmic performance is a largely academic concern.\n",
    "\n",
    "We can think of many problems that can be solved using the pattern of a scalar selection function applied to an array. One example, given by Richard Park in his webinar mentioned above, is to pick out all vowels from a string:"
   ]
  },
  {
   "cell_type": "code",
   "execution_count": 7,
   "metadata": {},
   "outputs": [
    {
     "data": {
      "text/html": [
       "<span style=\"white-space:pre; font-family: monospace\">iouaoeoai\n",
       "</span>"
      ]
     },
     "execution_count": 7,
     "metadata": {},
     "output_type": "execute_result"
    }
   ],
   "source": [
    "'aeiou' {(⍵∊⍺)/⍵} 'pick out all vowels from a string'"
   ]
  },
  {
   "cell_type": "markdown",
   "metadata": {},
   "source": [
    "...or for train spotters:"
   ]
  },
  {
   "cell_type": "code",
   "execution_count": 1,
   "metadata": {},
   "outputs": [
    {
     "data": {
      "text/html": [
       "<span style=\"white-space:pre; font-family: monospace\">iouaoeoai\n",
       "</span>"
      ]
     },
     "execution_count": 1,
     "metadata": {},
     "output_type": "execute_result"
    }
   ],
   "source": [
    "'aeiou' (∊⍨⊢⍤/⊢) 'pick out all vowels from a string'"
   ]
  },
  {
   "cell_type": "markdown",
   "metadata": {},
   "source": [
    "It's the same idea as the 'odd numbers' above: create a Boolean mask using set membership (dyadic `∊`) and compress. \n",
    "\n",
    "As an aside, and for the avoidance of any doubt, the _actual_ APL way would be to just intersect the string with the vowels:"
   ]
  },
  {
   "cell_type": "code",
   "execution_count": 1,
   "metadata": {},
   "outputs": [
    {
     "data": {
      "text/html": [
       "<span style=\"white-space:pre; font-family: monospace\">iouaoeoai\n",
       "</span>"
      ]
     },
     "execution_count": 1,
     "metadata": {},
     "output_type": "execute_result"
    }
   ],
   "source": [
    "'aeiou' ∩⍨ 'pick out all vowels from a string'"
   ]
  },
  {
   "cell_type": "markdown",
   "metadata": {},
   "source": [
    "Shorter, faster, array-ier, nicer -- but not the point we wanted to make."
   ]
  },
  {
   "cell_type": "markdown",
   "metadata": {},
   "source": [
    "\n",
    "## Luhn's Algorithm"
   ]
  },
  {
   "cell_type": "markdown",
   "metadata": {},
   "source": [
    "For something meatier, let's look at implementing [Luhn's](https://en.wikipedia.org/wiki/Luhn_algorithm) algorithm, an error-detecting code used for validating credit card numbers. This was used to illustrate array-oriented concepts by Dyalog CTO, [Morten Kromberg](https://aplwiki.com/wiki/Morten_Kromberg), at a [presentation](https://jiotalks.com/watch/204/home/Morten_Kromberg_&_Aaron_Hsu/Pragmatic_Array_Oriented_Functional_Programming) given at JIO. We'll follow Morten's clear explanation of this algorithm:\n",
    "\n",
    "1. Split the credit card number into a _body_ and the last digit, a _checksum_\n",
    "\n",
    "       Card number: 7 9 9 2 7 3 9 8 7 1 3\n",
    "       Body:        7 9 9 2 7 3 9 8 7 1    Checksum: 3\n",
    "       \n",
    "2. Multiply every other digit in the body by 2, starting from the last digit with a 2\n",
    "\n",
    "       Body:        7  9 9 2 7 3 9  8 7 1\n",
    "       Weights:     1  2 1 2 1 2 1  2 1 2\n",
    "                  ×______________________\n",
    "       Products:    7 18 9 4 7 6 9 16 7 2\n",
    "       \n",
    "3. Separate any numbers greater than 9 into their individual digits, and sum columns\n",
    "\n",
    "       Tens:        0 1 0 0 0 0 0 1 0 0\n",
    "       Units:       7 8 9 4 7 6 9 6 7 2\n",
    "                  +____________________\n",
    "       Sum:         7 9 9 4 7 6 9 7 7 2\n",
    "\n",
    "4. Sum the sums\n",
    "\n",
    "       Sum:         7+9+9+4+7+6+9+7+7+2 = 67\n",
    "       \n",
    "5. Sum the _digits_ of this, modulo 10:\n",
    "\n",
    "       Result:      (6+7)%10 = 3\n",
    "\n",
    "If the result equals the checksum, the card number is valid.\n",
    "\n",
    "Here's one way this could be implemented in Python:\n",
    "\n",
    "```python\n",
    "def luhn(cardnum):\n",
    "    checksum = 0\n",
    "    parity = len(cardnum) % 2\n",
    "    for index in range(len(cardnum)-1, -1, -1):\n",
    "        digit = cardnum[index]\n",
    "        if (index + 1) % 2 != parity:\n",
    "            digit *= 2\n",
    "            if digit > 9:\n",
    "                digit -= 9\n",
    "        checksum += digit\n",
    "\n",
    "    return checksum % 10 == 0\n",
    "```\n",
    "\n",
    "It may or may not be clear that the Python implementation follows the algorithm description. We step through the card number backwards making it easier to ensure that we get the factors right, regardless of the number of digits.\n",
    "\n",
    "Now let's implement this in APL. We can follow the algorithm description very closely.\n",
    "\n",
    "**1: Split the credit card number into a _body_ and the last digit, a _checksum_**"
   ]
  },
  {
   "cell_type": "code",
   "execution_count": 3,
   "metadata": {},
   "outputs": [
    {
     "data": {
      "text/html": [
       "<span style=\"white-space:pre; font-family: monospace\">7 9 9 2 7 3 9 8 7 1\n",
       "</span>"
      ]
     },
     "execution_count": 3,
     "metadata": {},
     "output_type": "execute_result"
    },
    {
     "data": {
      "text/html": [
       "<span style=\"white-space:pre; font-family: monospace\">3\n",
       "</span>"
      ]
     },
     "execution_count": 3,
     "metadata": {},
     "output_type": "execute_result"
    }
   ],
   "source": [
    "card ← 7 9 9 2 7 3 9 8 7 1 3\n",
    "\n",
    "⎕ ← body ← (count←¯1+≢card)↑card\n",
    "⎕ ← check ← ⊢/card"
   ]
  },
  {
   "cell_type": "markdown",
   "metadata": {},
   "source": [
    "**2: Multiply every other digit in the body by 2, starting from the last digit with a 2**"
   ]
  },
  {
   "cell_type": "code",
   "execution_count": 5,
   "metadata": {},
   "outputs": [
    {
     "data": {
      "text/html": [
       "<span style=\"white-space:pre; font-family: monospace\">1 2 1 2 1 2 1 2 1 2\n",
       "</span>"
      ]
     },
     "execution_count": 5,
     "metadata": {},
     "output_type": "execute_result"
    },
    {
     "data": {
      "text/html": [
       "<span style=\"white-space:pre; font-family: monospace\">7 18 9 4 7 6 9 16 7 2\n",
       "</span>"
      ]
     },
     "execution_count": 5,
     "metadata": {},
     "output_type": "execute_result"
    }
   ],
   "source": [
    "⎕ ← weights ← count⍴(2|count)⌽1 2\n",
    "⎕ ← products ← body×weights"
   ]
  },
  {
   "cell_type": "markdown",
   "metadata": {},
   "source": [
    "**3, 4. Separate any numbers greater than 9 into their individual digits, and sum**"
   ]
  },
  {
   "cell_type": "code",
   "execution_count": 79,
   "metadata": {},
   "outputs": [
    {
     "data": {
      "text/html": [
       "<span style=\"white-space:pre; font-family: monospace\">┌→──────────────────┐\n",
       "↓0 1 0 0 0 0 0 1 0 0│\n",
       "│7 8 9 4 7 6 9 6 7 2│\n",
       "└~──────────────────┘\n",
       "</span>"
      ]
     },
     "execution_count": 79,
     "metadata": {},
     "output_type": "execute_result"
    },
    {
     "data": {
      "text/html": [
       "<span style=\"white-space:pre; font-family: monospace\">  \n",
       "67\n",
       "  \n",
       "</span>"
      ]
     },
     "execution_count": 79,
     "metadata": {},
     "output_type": "execute_result"
    }
   ],
   "source": [
    "⎕ ← digits ← 0 10⊤products ⍝ We can think of `0 10⊤` as divmod\n",
    "⎕ ← sum ← +⌿,digits        ⍝ By raveling, we save doing sum the sum of cols"
   ]
  },
  {
   "cell_type": "markdown",
   "metadata": {},
   "source": [
    "**5. Digit sum, mod 10**"
   ]
  },
  {
   "cell_type": "code",
   "execution_count": 81,
   "metadata": {},
   "outputs": [
    {
     "data": {
      "text/html": [
       "<span style=\"white-space:pre; font-family: monospace\"> \n",
       "3\n",
       " \n",
       "</span>"
      ]
     },
     "execution_count": 81,
     "metadata": {},
     "output_type": "execute_result"
    }
   ],
   "source": [
    "10|-sum ⍝ Magic"
   ]
  },
  {
   "cell_type": "markdown",
   "metadata": {},
   "source": [
    "If we put all that together, we arrive at Morten's solution:"
   ]
  },
  {
   "cell_type": "code",
   "execution_count": 82,
   "metadata": {},
   "outputs": [],
   "source": [
    "]dinput\n",
    "luhn ← {\n",
    "    check ← ⊢/⍵\n",
    "    body ← (count←¯1+≢⍵)↑⍵\n",
    "    weights ← count⍴(2|count)⌽1 2\n",
    "    digits ← 0 10⊤body×weights\n",
    "    check=10|-+/,digits\n",
    "}"
   ]
  },
  {
   "cell_type": "code",
   "execution_count": 83,
   "metadata": {},
   "outputs": [],
   "source": [
    "assert luhn 7 9 9 2 7 3 9 8 7 1 3"
   ]
  },
  {
   "cell_type": "markdown",
   "metadata": {},
   "source": [
    "The Luhn algorithm was obviously chosen as an ideal fit for a data-parallel implementation. A few things stand out: firstly, the APL implementation follows the algorithm definition very closely, much closer than the Python version. Granted -- and this is an interesting experiment -- you can take the APL approach and implement a Python version following a similar pattern, albeit without array operations. Secondly, the solution is completely free or loops and branches. As Morten also observes, over 10 digits, there is no meaningful performance implication here, but it's not hard to imagine what would happen over a million or more digits."
   ]
  },
  {
   "cell_type": "markdown",
   "metadata": {},
   "source": [
    "## Balancing the Scales\n",
    "\n",
    "This is Problem 8, Phase II from the 2020 Dyalog problem solving competition. You can see the problem statement [here](https://www.dyalog.com/uploads/files/student_competition/2020_problems_phase2.pdf). Obviously, there are spoilers to follow -- if you want to have a crack at it yourself, stop reading here.\n",
    "\n",
    "Our task is to partition a set of numbers into two groups of equal sum if this is possible, or return `⍬` if not. This is a well-known NP-hard problem, called [The Partition Problem](https://en.wikipedia.org/wiki/Partition_problem), and as such has no fast, always correct solutions for the general case. The problem statement indicates that we only need to consider a set of 20 numbers or fewer, which is a bit of a hint on what kind of solution is expected.\n",
    "\n",
    "This problem, in common with many other NP problems, also has a plethora of interesting heuristic solutions: faster algorithms that whilst not guaranteed to always find the optimal solution will either get close, or be correct for a significant subset of the problem domain in a fraction of the time the exhaustive search would take. We'll look at one of these approaches, too, although it probably wasn't what Dyalog wanted in terms of the competition (I might be wrong; I didn't take part at the time).\n",
    "\n",
    "So given that we have a defined upper bound, and that Dyalog wants the solution to be optimal for all inputs up to this bound, and we know this problem to be NP-hard, we're looking at an exhaustive search of some sort. We can also guess that given this is a Dyalog competition problem, whilst the algorithm might be crude, we should be able to exploit APL's fast array processing to implement it efficiently.\n",
    "\n",
    "The algorithm (if we can call it that) is simply to try every possible combination in which the numbers can be put into two separate piles and check if the partition sum equals half the total sum. If we have `n` items in our set, that corresponds to considering all numbers up to `¯1+2*n` in binary (recall  that `*` is exponentiation, not multiplication), and the two sets correspond to those matching the 0 bits and 1 bits respectively. For example, if we have the numbers 1, 1 and 2 we need to consider the following partitions (although we can skip the first and last):\n",
    "\n",
    "    (0: 0 0 0)\n",
    "     1: 0 0 1\n",
    "     2: 0 1 0\n",
    "     3: 0 1 1\n",
    "     4: 1 0 0\n",
    "     5: 1 0 1\n",
    "     6: 1 1 0\n",
    "    (7: 1 1 1)\n",
    "    \n",
    "In this case, the solutions would be either 0 0 1, or its inverse, 1 1 0, corresponding to the partitioning `(1 1)(,2)`.\n",
    "\n",
    "So what are we dealing with here, in terms of the search space? "
   ]
  },
  {
   "cell_type": "code",
   "execution_count": 3,
   "metadata": {},
   "outputs": [
    {
     "data": {
      "text/html": [
       "<span style=\"white-space:pre; font-family: monospace\">1048575\n",
       "</span>"
      ]
     },
     "execution_count": 3,
     "metadata": {},
     "output_type": "execute_result"
    }
   ],
   "source": [
    "¯1+2*20"
   ]
  },
  {
   "cell_type": "markdown",
   "metadata": {},
   "source": [
    "Just over a million or so different partitions to check, which should be manageable. The search space doubles in size for each additional item, which is something alluded to in the [old fable](https://en.wikipedia.org/wiki/Wheat_and_chessboard_problem) about the inventor of Chess:"
   ]
  },
  {
   "cell_type": "code",
   "execution_count": 30,
   "metadata": {},
   "outputs": [
    {
     "data": {
      "text/html": [
       "<span style=\"white-space:pre; font-family: monospace\">2097151 4194303 8388607 16777215 33554431 67108863 134217727 268435455 536870911\n",
       "</span>"
      ]
     },
     "execution_count": 30,
     "metadata": {},
     "output_type": "execute_result"
    }
   ],
   "source": [
    "e←¯1+2∘*⋄e¨21+⍳9"
   ]
  },
  {
   "cell_type": "markdown",
   "metadata": {},
   "source": [
    "To generate all binary combinations for `n` bits, we can use the following incantation (for n=3):"
   ]
  },
  {
   "cell_type": "code",
   "execution_count": 72,
   "metadata": {},
   "outputs": [
    {
     "data": {
      "text/html": [
       "<span style=\"white-space:pre; font-family: monospace\">0 0 0\n",
       "0 0 1\n",
       "0 1 0\n",
       "0 1 1\n",
       "1 0 0\n",
       "1 0 1\n",
       "1 1 0\n",
       "1 1 1\n",
       "</span>"
      ]
     },
     "execution_count": 72,
     "metadata": {},
     "output_type": "execute_result"
    }
   ],
   "source": [
    "⍉2∘⊥⍣¯1⍳2*3"
   ]
  },
  {
   "cell_type": "markdown",
   "metadata": {},
   "source": [
    "Given a Boolean vector, how do we turn that into the two corresponding sets of numbers? There are several ways you can try, for example compress:"
   ]
  },
  {
   "cell_type": "code",
   "execution_count": 32,
   "metadata": {},
   "outputs": [
    {
     "data": {
      "text/html": [
       "<span style=\"white-space:pre; font-family: monospace\">┌───┬─┐\n",
       "│1 1│2│\n",
       "└───┴─┘\n",
       "</span>"
      ]
     },
     "execution_count": 32,
     "metadata": {},
     "output_type": "execute_result"
    },
    {
     "data": {
      "text/html": [
       "<span style=\"white-space:pre; font-family: monospace\">┌─┬───┐\n",
       "│2│1 1│\n",
       "└─┴───┘\n",
       "</span>"
      ]
     },
     "execution_count": 32,
     "metadata": {},
     "output_type": "execute_result"
    }
   ],
   "source": [
    "1 1 0 {(⍺/⍵)(⍵/⍨~⍺)} 1 1 2 ⍝ compress and compress ~\n",
    "1 1 0 {(⍵~v)(v←⍺/⍵)} 1 1 2 ⍝ compress and set difference"
   ]
  },
  {
   "cell_type": "markdown",
   "metadata": {},
   "source": [
    "but we can exploit the fact that we're really interested in the _sums_ of the sets. The sum of the items corresponding to the set bits is really just the bit pattern times the input set, summed:"
   ]
  },
  {
   "cell_type": "code",
   "execution_count": 33,
   "metadata": {},
   "outputs": [
    {
     "data": {
      "text/html": [
       "<span style=\"white-space:pre; font-family: monospace\">2\n",
       "</span>"
      ]
     },
     "execution_count": 33,
     "metadata": {},
     "output_type": "execute_result"
    }
   ],
   "source": [
    "+/1 1 0×1 1 2"
   ]
  },
  {
   "cell_type": "markdown",
   "metadata": {},
   "source": [
    "which we by now hopefully should recognize as an inner product:"
   ]
  },
  {
   "cell_type": "code",
   "execution_count": 34,
   "metadata": {},
   "outputs": [
    {
     "data": {
      "text/html": [
       "<span style=\"white-space:pre; font-family: monospace\">2\n",
       "</span>"
      ]
     },
     "execution_count": 34,
     "metadata": {},
     "output_type": "execute_result"
    }
   ],
   "source": [
    "1 1 0 +.× 1 1 2"
   ]
  },
  {
   "cell_type": "markdown",
   "metadata": {},
   "source": [
    "And of course, inner product can be applied to an array, too:"
   ]
  },
  {
   "cell_type": "code",
   "execution_count": 73,
   "metadata": {},
   "outputs": [
    {
     "data": {
      "text/html": [
       "<span style=\"white-space:pre; font-family: monospace\">0 2 1 3 1 3 2 4\n",
       "</span>"
      ]
     },
     "execution_count": 73,
     "metadata": {},
     "output_type": "execute_result"
    }
   ],
   "source": [
    "patterns ← ⍉2∘⊥⍣¯1⍳2*3\n",
    "patterns +.× 1 1 2"
   ]
  },
  {
   "cell_type": "markdown",
   "metadata": {},
   "source": [
    "We can now draw up a plan for this.\n",
    "\n",
    "1. Our target partition sum is the total divided by two.\n",
    "1. Generate the bit patterns up to `≢⍵`.\n",
    "1. Calculate the sums of the numbers corresponding to the set bits in each pattern\n",
    "1. Find the first point where the partition sum is equal to the target\n",
    "1. Return the corresponding partitioning\n",
    "\n",
    "This translates readily to APL:"
   ]
  },
  {
   "cell_type": "code",
   "execution_count": 2,
   "metadata": {},
   "outputs": [],
   "source": [
    "]dinput\n",
    "Balance ← {\n",
    "    total ← +/⍵\n",
    "    2|total: ⍬             ⍝ Sum must be divisible by 2\n",
    "    psum ← total÷2         ⍝ Our target partition sum\n",
    "    bitp ← ⍉2∘⊥⍣¯1⍳2*≢⍵    ⍝ All possible bit patterns up to ≢⍵\n",
    "    idx ← ⍸<\\psum=bitp+.×⍵ ⍝ First index of partition sum = target\n",
    "    ⍬≡idx: ⍬               ⍝ If we have no 1s, there is no solution\n",
    "    part ← idx⌷bitp        ⍝ Partition corresponding to solution index\n",
    "    (part/⍵)(⍵/⍨~part)     ⍝ Compress input by solution pattern and inverse\n",
    "}"
   ]
  },
  {
   "cell_type": "code",
   "execution_count": 3,
   "metadata": {},
   "outputs": [
    {
     "data": {
      "text/html": [
       "<span style=\"white-space:pre; font-family: monospace\">┌─┬───┐\n",
       "│2│1 1│\n",
       "└─┴───┘\n",
       "</span>"
      ]
     },
     "execution_count": 3,
     "metadata": {},
     "output_type": "execute_result"
    }
   ],
   "source": [
    "Balance 1 1 2"
   ]
  },
  {
   "cell_type": "markdown",
   "metadata": {},
   "source": [
    "and on the full 20-bits:"
   ]
  },
  {
   "cell_type": "code",
   "execution_count": 4,
   "metadata": {},
   "outputs": [
    {
     "data": {
      "text/html": [
       "<span style=\"white-space:pre; font-family: monospace\">┌────────────────────┬────────────────────────────────────┐\n",
       "│99 84 87 76 85 41 93│10 81 98 27 28 5 1 46 63 25 39 78 64│\n",
       "└────────────────────┴────────────────────────────────────┘\n",
       "</span>"
      ]
     },
     "execution_count": 4,
     "metadata": {},
     "output_type": "execute_result"
    }
   ],
   "source": [
    "Balance 10 81 98 27 28 5 1 46 63 99 25 39 84 87 76 85 78 64 41 93"
   ]
  },
  {
   "cell_type": "markdown",
   "metadata": {},
   "source": [
    "To a Python programmer, this approach must seem _incredibly_ counter-intuitive, borderline criminally wasteful. Despite the fact that we only want the first solution (which occurs around bit pattern 1,500ish), we go through the _entire_ search space. In a \"loop and branch\" language, we'd try each candidate pattern in turn, and break once we find the first solution.\n",
    "\n",
    "But the seemingly naive APL solution is quick, even though it will process 2-3 orders of magnitude more patterns than would a scalar solution:"
   ]
  },
  {
   "cell_type": "code",
   "execution_count": 5,
   "metadata": {},
   "outputs": [
    {
     "data": {
      "text/html": [
       "<span style=\"white-space:pre; font-family: monospace\">\n",
       "* Benchmarking \"Balance 10 81 98 27 28 5 1 46 63 99 25 39 84 87 76 85 78 64 41 93\"\n",
       "┌──────────┬────┐\n",
       "│          │(ms)│\n",
       "├──────────┼────┤\n",
       "│CPU (avg):│31  │\n",
       "├──────────┼────┤\n",
       "│Elapsed:  │32  │\n",
       "└──────────┴────┘\n",
       "</span>"
      ]
     },
     "execution_count": 5,
     "metadata": {},
     "output_type": "execute_result"
    }
   ],
   "source": [
    "]runtime \"Balance 10 81 98 27 28 5 1 46 63 99 25 39 84 87 76 85 78 64 41 93\""
   ]
  },
  {
   "cell_type": "markdown",
   "metadata": {},
   "source": [
    "So what's going on here? Well, two things. Firstly, we're hitting the most optimal core of Dyalog APL, its handling of Boolean vectors, using only primitive functions. Secondly, APL is able to vectorise our operations, taking advantage of SIMD operations in the processor. \n",
    "\n",
    "For completeness, let's see how a scalar solution would perform. We can, for example, take a tail-call Scheme-like approach:"
   ]
  },
  {
   "cell_type": "code",
   "execution_count": 6,
   "metadata": {},
   "outputs": [],
   "source": [
    "]dinput\n",
    "BalanceScalar ← {⎕IO←0     \n",
    "    total ← +/⍵\n",
    "    2|total: ⍬             ⍝ Sum must be divisible by 2\n",
    "    psum ← total÷2         ⍝ Our target partition sum\n",
    "    data ← ⍵\n",
    "    bitp ← ↓⍉2∘⊥⍣¯1⍳2*≢⍵   ⍝ Pre-compute the bit patterns\n",
    "    {                      ⍝ Try one sum after the other, halt on first solution\n",
    "        0=⍵: ⍬\n",
    "        patt ← ⍵⊃bitp\n",
    "        psum=patt+.×data: (patt/data)(data/⍨~patt) ⍝ Exit on first solution found\n",
    "        ∇¯1+⍵\n",
    "    } ¯1+≢bitp\n",
    "}"
   ]
  },
  {
   "cell_type": "code",
   "execution_count": 7,
   "metadata": {},
   "outputs": [
    {
     "data": {
      "text/html": [
       "<span style=\"white-space:pre; font-family: monospace\">┌───┬─┐\n",
       "│1 1│2│\n",
       "└───┴─┘\n",
       "</span>"
      ]
     },
     "execution_count": 7,
     "metadata": {},
     "output_type": "execute_result"
    }
   ],
   "source": [
    "BalanceScalar 1 1 2"
   ]
  },
  {
   "cell_type": "markdown",
   "metadata": {},
   "source": [
    "Ok, let's compare:"
   ]
  },
  {
   "cell_type": "code",
   "execution_count": 8,
   "metadata": {},
   "outputs": [],
   "source": [
    "'cmpx'⎕CY'dfns'"
   ]
  },
  {
   "cell_type": "code",
   "execution_count": 9,
   "metadata": {},
   "outputs": [
    {
     "data": {
      "text/html": [
       "<span style=\"white-space:pre; font-family: monospace\">  Balance d       → 2.7E¯2 |   0% ⎕⎕⎕⎕⎕⎕⎕⎕⎕⎕⎕⎕⎕⎕⎕⎕⎕⎕⎕⎕⎕⎕⎕⎕⎕⎕⎕⎕            \n",
       "* BalanceScalar d → 3.9E¯2 | +43% ⎕⎕⎕⎕⎕⎕⎕⎕⎕⎕⎕⎕⎕⎕⎕⎕⎕⎕⎕⎕⎕⎕⎕⎕⎕⎕⎕⎕⎕⎕⎕⎕⎕⎕⎕⎕⎕⎕⎕⎕\n",
       "</span>"
      ]
     },
     "execution_count": 9,
     "metadata": {},
     "output_type": "execute_result"
    }
   ],
   "source": [
    "d←10 81 98 27 28 5 1 46 63 99 25 39 84 87 76 85 78 64 41 93\n",
    "cmpx 'Balance d' 'BalanceScalar d'"
   ]
  },
  {
   "cell_type": "markdown",
   "metadata": {},
   "source": [
    "Ouch. That difference is pretty stark.\n",
    "\n",
    "Dyalog can no longer vectorise, and performance slips considerably. If you take home anything from this chapter, this is the thing to remember."
   ]
  },
  {
   "cell_type": "markdown",
   "metadata": {},
   "source": [
    "However, the brute-force algorithm is of course still crude, even if APL can be quick about it at the specified scale. Add a few more elements, and the unforgiving `O(2^N)` complexity would soon crush us. \n",
    "\n",
    "As I mentioned earlier, there are a number of heuristic algorithms that have a much more benign complexity, at the cost of not being able to guarantee optimal solutions in all cases. One such algorithm is called the [Karmarkar-Karp](https://en.wikipedia.org/wiki/Largest_differencing_method), after its inventors, and has a complexity of `O(N log N)`, but is not guaranteed to find the optimal solution, even if such a solution does exist.\n",
    "\n",
    "In short, the KK algorithm maintains a priority queue of the remaining numbers, and picks the two largest numbers in each iteration, replacing them with their difference until a single number remains -- this represents the final difference between the two partitions. We can construct the corresponding partitions via backtracking. A thorough analysis of this algorithm can be found [here](https://core.ac.uk/download/pdf/82710454.pdf). "
   ]
  },
  {
   "cell_type": "code",
   "execution_count": 10,
   "metadata": {},
   "outputs": [],
   "source": [
    "]dinput\n",
    "KarmarkarKarp ← {\n",
    "    sort ← {⍵[;⍋⍵[0;]]}\n",
    "    (pairs last) ← ⍬ {\n",
    "        2>≢⍉⍵:⍺ (1 0⌷⍵)\n",
    "        (i x)(j y) ← ↓⍉⍵[;0 1]\n",
    "        (⍺,⊂x y)∇sort (2↓⍤1⊢⍵),(i-j) x\n",
    "    } sort ↑(-⍵)(⍵)\n",
    "        \n",
    "    last ⍬ {\n",
    "        (a b) ← ⍺\n",
    "        0=≢⍵: ⍺\n",
    "        pair ← ⊃¯1↑⍵\n",
    "        a∊⍨⊃pair: (a (b,1⊃pair))∇¯1↓⍵\n",
    "        ((a,1⊃pair) b)∇¯1↓⍵\n",
    "    } pairs\n",
    "}"
   ]
  },
  {
   "cell_type": "markdown",
   "metadata": {},
   "source": [
    "In our test case, the KK does return an optimal solution:"
   ]
  },
  {
   "cell_type": "code",
   "execution_count": 11,
   "metadata": {},
   "outputs": [
    {
     "data": {
      "text/html": [
       "<span style=\"white-space:pre; font-family: monospace\">┌────────────────────────────┬────────────────────────────┐\n",
       "│41 85 99 5 93 10 63 27 64 78│1 25 28 76 81 39 46 84 87 98│\n",
       "└────────────────────────────┴────────────────────────────┘\n",
       "</span>"
      ]
     },
     "execution_count": 11,
     "metadata": {},
     "output_type": "execute_result"
    }
   ],
   "source": [
    "KarmarkarKarp 10 81 98 27 28 5 1 46 63 99 25 39 84 87 76 85 78 64 41 93"
   ]
  },
  {
   "cell_type": "code",
   "execution_count": 12,
   "metadata": {},
   "outputs": [
    {
     "data": {
      "text/html": [
       "<span style=\"white-space:pre; font-family: monospace\">  Balance d        → 2.7E¯2 |    0% ⎕⎕⎕⎕⎕⎕⎕⎕⎕⎕⎕⎕⎕⎕⎕⎕⎕⎕⎕⎕⎕⎕⎕⎕⎕⎕⎕⎕⎕⎕⎕⎕⎕⎕⎕⎕⎕⎕⎕⎕\n",
       "* KaramarkarKarp d → 1.3E¯4 | -100%                                         \n",
       "</span>"
      ]
     },
     "execution_count": 12,
     "metadata": {},
     "output_type": "execute_result"
    }
   ],
   "source": [
    "cmpx 'Balance d' 'KarmarkarKarp d'"
   ]
  },
  {
   "cell_type": "markdown",
   "metadata": {},
   "source": [
    "and, unsurprisingly, although completely scalar, it wins hands down. However, it's still a heuristic:"
   ]
  },
  {
   "cell_type": "code",
   "execution_count": 70,
   "metadata": {},
   "outputs": [
    {
     "data": {
      "text/html": [
       "<span style=\"white-space:pre; font-family: monospace\">┌───┬─────┐\n",
       "│7 8│4 5 6│\n",
       "└───┴─────┘\n",
       "</span>"
      ]
     },
     "execution_count": 70,
     "metadata": {},
     "output_type": "execute_result"
    },
    {
     "data": {
      "text/html": [
       "<span style=\"white-space:pre; font-family: monospace\">┌─────┬───┐\n",
       "│4 5 7│6 8│\n",
       "└─────┴───┘\n",
       "</span>"
      ]
     },
     "execution_count": 70,
     "metadata": {},
     "output_type": "execute_result"
    }
   ],
   "source": [
    "Balance 4 5 6 7 8\n",
    "KarmarkarKarp 4 5 6 7 8"
   ]
  },
  {
   "cell_type": "markdown",
   "metadata": {},
   "source": [
    "A thing to note in the KK implementation above: it simply sorts the array at each iteration, instead of using a heap queue. As an exercise for the interested reader, try re-implementing it using a heap. However, and for similar reasons as we saw earlier, you will probably find that APL is likely faster at sorting a simple array than the complexity cost of maintaining a more nested data structure. "
   ]
  },
  {
   "cell_type": "markdown",
   "metadata": {},
   "source": [
    "## Merge\n",
    "\n",
    "Ok, we're on a roll. Problem 6 from the same year was a spin on the old \"mail merge\" concept: given a template file, expand templates with values from a corresponding merge file. For example, given a template of \n",
    "\n",
    "    Hello @firstname@,\n",
    "    You have been selected to test drive a new @carmake@!\n",
    "    \n",
    "with a merge file of\n",
    "```json\n",
    "{\n",
    "    \"firstname\": \"Bob\"\n",
    "    \"carmake\": \"Aston Martin\"\n",
    "}\n",
    "```\n",
    "    \n",
    "the final output should be \n",
    "\n",
    "    Hello Bob,\n",
    "    You have been selected to test drive a new Aston Martin!\n",
    "    \n",
    "A literal `@` is represented by `@@` in the template, and templates with no corresponding match in the merge file should be expanded to `???`.\n",
    "\n",
    "We'll try two different solutions. For the first approach, it's hard not to think of regexes here -- replace \"templates\" matching a defined pattern with corresponding values. \n",
    "\n",
    "Let's look at the two data files first:"
   ]
  },
  {
   "cell_type": "code",
   "execution_count": 108,
   "metadata": {},
   "outputs": [
    {
     "data": {
      "text/html": [
       "<span style=\"white-space:pre; font-family: monospace\">@salutation@ @firstname@ @lastname@;                           \n",
       "Congratulations!  You have won a @prize@ worth over £@value@!  \n",
       "@firstname@, please come to our office to pick up your @prize@.\n",
       "Please feel free to contact us at info@@contest.com.           \n",
       "Your email address in our domain is @firstname@@@contest.com   \n",
       "                                                               \n",
       "</span>"
      ]
     },
     "execution_count": 108,
     "metadata": {},
     "output_type": "execute_result"
    }
   ],
   "source": [
    "template ← '/Users/stefan/template.txt'\n",
    "⊃⎕NGET template"
   ]
  },
  {
   "cell_type": "code",
   "execution_count": 110,
   "metadata": {},
   "outputs": [
    {
     "data": {
      "text/html": [
       "<span style=\"white-space:pre; font-family: monospace\">{                        \n",
       "    \"firstname\":\"Drake\", \n",
       "    \"lastname\":\"Mallard\",\n",
       "    \"prize\":\"yoyo\",      \n",
       "    \"value\":100          \n",
       "}                        \n",
       "                         \n",
       "</span>"
      ]
     },
     "execution_count": 110,
     "metadata": {},
     "output_type": "execute_result"
    }
   ],
   "source": [
    "merge ← '/Users/stefan/merge1.json'\n",
    "⊃⎕NGET merge"
   ]
  },
  {
   "cell_type": "markdown",
   "metadata": {},
   "source": [
    "So our patterns are defined by the keys in the JSON, plus the `@@` for literal `@` and any remaining templates that have no corresponding entry in the merge file, along the lines of `@[^@]+@`. We'll start with reading the JSON data into a namespace and pulling out the keys and values:"
   ]
  },
  {
   "cell_type": "code",
   "execution_count": 112,
   "metadata": {},
   "outputs": [
    {
     "data": {
      "text/html": [
       "<span style=\"white-space:pre; font-family: monospace\">┌─────────┬────────┬─────┬─────┐\n",
       "│firstname│lastname│prize│value│\n",
       "├─────────┼────────┼─────┼─────┤\n",
       "│Drake    │Mallard │yoyo │100  │\n",
       "└─────────┴────────┴─────┴─────┘\n",
       "</span>"
      ]
     },
     "execution_count": 112,
     "metadata": {},
     "output_type": "execute_result"
    }
   ],
   "source": [
    "mrg←⎕JSON⊃⎕NGET merge\n",
    "keys←mrg.⎕NL¯2\n",
    "vals←mrg.(⍎¨#.keys)\n",
    "↑keys vals"
   ]
  },
  {
   "cell_type": "markdown",
   "metadata": {},
   "source": [
    "and our patterns and replacements then become:"
   ]
  },
  {
   "cell_type": "code",
   "execution_count": 116,
   "metadata": {},
   "outputs": [
    {
     "data": {
      "text/html": [
       "<span style=\"white-space:pre; font-family: monospace\">┌───────────┬──────────┬───────┬───────┬──┬───────┐\n",
       "│@firstname@│@lastname@│@prize@│@value@│@@│@[^@]+@│\n",
       "├───────────┼──────────┼───────┼───────┼──┼───────┤\n",
       "│Drake      │Mallard   │yoyo   │100    │@ │???    │\n",
       "└───────────┴──────────┴───────┴───────┴──┴───────┘\n",
       "</span>"
      ]
     },
     "execution_count": 116,
     "metadata": {},
     "output_type": "execute_result"
    }
   ],
   "source": [
    "↑(({'@',(⍕⍵),'@'}¨keys), (⊂'@@'), ⊂'@[^@]+@') ((⍕¨vals), (⊂,'@'), ⊂'???')"
   ]
  },
  {
   "cell_type": "markdown",
   "metadata": {},
   "source": [
    "Putting it all together we get:"
   ]
  },
  {
   "cell_type": "code",
   "execution_count": 123,
   "metadata": {},
   "outputs": [],
   "source": [
    "]dinput\n",
    "Merge ← {\n",
    "    mrg←⎕JSON⊃⎕NGET ⍺\n",
    "    keys←mrg.⎕NL¯2\n",
    "    vals←mrg.(⍎¨#.keys)\n",
    "    \n",
    "    (({'@',(⍕⍵),'@'}¨keys), (⊂'@@'), ⊂'@[^@]+@')⎕R((⍕¨vals), (⊂,'@'), ⊂'???')⊢⊃⎕NGET ⍵\n",
    "}"
   ]
  },
  {
   "cell_type": "code",
   "execution_count": 124,
   "metadata": {},
   "outputs": [
    {
     "data": {
      "text/html": [
       "<span style=\"white-space:pre; font-family: monospace\">??? Drake Mallard;                                    \n",
       "Congratulations!  You have won a yoyo worth over £100!\n",
       "Drake, please come to our office to pick up your yoyo.\n",
       "Please feel free to contact us at info@contest.com.   \n",
       "Your email address in our domain is Drake@contest.com \n",
       "                                                      \n",
       "</span>"
      ]
     },
     "execution_count": 124,
     "metadata": {},
     "output_type": "execute_result"
    }
   ],
   "source": [
    "merge Merge template"
   ]
  },
  {
   "cell_type": "markdown",
   "metadata": {},
   "source": [
    "All well and good, but not very \"array-oriented\" now, is it? Let's remedy that, and forget about cheaty regexes."
   ]
  },
  {
   "cell_type": "markdown",
   "metadata": {},
   "source": [
    "If we partition the data such that each partition begins with `@` we get this:"
   ]
  },
  {
   "cell_type": "code",
   "execution_count": 125,
   "metadata": {},
   "outputs": [
    {
     "data": {
      "text/html": [
       "<span style=\"white-space:pre; font-family: monospace\">┌────┬──────┬─┬──┬────┬─┐\n",
       "│@bbb│@ ccc │@│@ │@ddd│@│\n",
       "└────┴──────┴─┴──┴────┴─┘\n",
       "</span>"
      ]
     },
     "execution_count": 125,
     "metadata": {},
     "output_type": "execute_result"
    }
   ],
   "source": [
    "'@' (=⊂⊢) 'aaaa @bbb@ ccc @@ @ddd@' ⍝ Partitions starting at @"
   ]
  },
  {
   "cell_type": "markdown",
   "metadata": {},
   "source": [
    "in fact, let's drop the leading `@`, too:"
   ]
  },
  {
   "cell_type": "code",
   "execution_count": 6,
   "metadata": {},
   "outputs": [
    {
     "data": {
      "text/html": [
       "<span style=\"white-space:pre; font-family: monospace\">┌───┬─────┬┬─┬───┬┐\n",
       "│bbb│ ccc ││ │ddd││\n",
       "└───┴─────┴┴─┴───┴┘\n",
       "</span>"
      ]
     },
     "execution_count": 6,
     "metadata": {},
     "output_type": "execute_result"
    }
   ],
   "source": [
    "⎕ ← tmpls←'@'(1↓¨=⊂⊢)'aaaa @bbb@ ccc @@ @ddd@' "
   ]
  },
  {
   "cell_type": "markdown",
   "metadata": {},
   "source": [
    "What we have now is a nested vector where every other element is a template. "
   ]
  },
  {
   "cell_type": "markdown",
   "metadata": {},
   "source": [
    "Our replacement values will again come from a namespace"
   ]
  },
  {
   "cell_type": "code",
   "execution_count": 145,
   "metadata": {},
   "outputs": [],
   "source": [
    "(mrg←⎕NS⍬).(bbb ccc ddd) ← 'bees' 'cees' 'dees'"
   ]
  },
  {
   "cell_type": "markdown",
   "metadata": {},
   "source": [
    "and we'll make a little helper function to look up value by key, with the added functionality to return `@` for `` and `???` for non-present keys:"
   ]
  },
  {
   "cell_type": "code",
   "execution_count": 146,
   "metadata": {},
   "outputs": [],
   "source": [
    "]dinput\n",
    "val ← {\n",
    "    0=≢⍵: ,'@'\n",
    "    ~(⊂⍵)∊mrg.⎕NL¯2: '???'\n",
    "    ⍕mrg⍎⍵\n",
    "} "
   ]
  },
  {
   "cell_type": "code",
   "execution_count": 147,
   "metadata": {},
   "outputs": [
    {
     "data": {
      "text/html": [
       "<span style=\"white-space:pre; font-family: monospace\">┌────┬────┬────┬─┬───┐\n",
       "│bees│dees│cees│@│???│\n",
       "└────┴────┴────┴─┴───┘\n",
       "</span>"
      ]
     },
     "execution_count": 147,
     "metadata": {},
     "output_type": "execute_result"
    }
   ],
   "source": [
    "val¨'bbb' 'ddd' 'ccc' '' 'hubba'"
   ]
  },
  {
   "cell_type": "markdown",
   "metadata": {},
   "source": [
    "We can use Dyalog's handy `@` operator to  make the replacements. Recall that the `@` operator can take a right operand function which must return a Boolean vector, which in our case should select every other element, starting with the first:"
   ]
  },
  {
   "cell_type": "code",
   "execution_count": 137,
   "metadata": {},
   "outputs": [
    {
     "data": {
      "text/html": [
       "<span style=\"white-space:pre; font-family: monospace\">┌────┬─────┬─┬─┬────┬┐\n",
       "│bees│ ccc │@│ │dees││\n",
       "└────┴─────┴─┴─┴────┴┘\n",
       "</span>"
      ]
     },
     "execution_count": 137,
     "metadata": {},
     "output_type": "execute_result"
    }
   ],
   "source": [
    "val¨@{1 0 1 0 1 0}⊢tmpls"
   ]
  },
  {
   "cell_type": "markdown",
   "metadata": {},
   "source": [
    "Finally, we'd need to tack on anything prior to the first `@` and enlist."
   ]
  },
  {
   "cell_type": "code",
   "execution_count": 142,
   "metadata": {},
   "outputs": [],
   "source": [
    "]dinput\n",
    "Merge ← {\n",
    "    mrg ← ⎕JSON⊃⎕NGET ⍺\n",
    "    templ ← ⊃⎕NGET ⍵\n",
    "    first ← templ⍳'@'\n",
    "    first>≢templ: templ    ⍝ No templates at all\n",
    "    prefix ← first↑templ\n",
    "    val ← {\n",
    "        0=≢⍵: ,'@'\n",
    "        ~(⊂⍵)∊mrg.⎕NL¯2: '???'\n",
    "        ⍕mrg⍎⍵\n",
    "    }\n",
    "    ∊prefix,val¨@{1 0⍴⍨≢⍵}'@'(1↓¨=⊂⊢)templ\n",
    "}"
   ]
  },
  {
   "cell_type": "code",
   "execution_count": 143,
   "metadata": {},
   "outputs": [
    {
     "data": {
      "text/html": [
       "<span style=\"white-space:pre; font-family: monospace\">??? Drake Mallard;                                    \n",
       "Congratulations!  You have won a yoyo worth over £100!\n",
       "Drake, please come to our office to pick up your yoyo.\n",
       "Please feel free to contact us at info@contest.com.   \n",
       "Your email address in our domain is Drake@contest.com \n",
       "                                                      \n",
       "</span>"
      ]
     },
     "execution_count": 143,
     "metadata": {},
     "output_type": "execute_result"
    }
   ],
   "source": [
    "merge Merge template"
   ]
  },
  {
   "cell_type": "code",
   "execution_count": null,
   "metadata": {},
   "outputs": [],
   "source": []
  },
  {
   "cell_type": "markdown",
   "metadata": {},
   "source": [
    "## Right-align a block of text"
   ]
  },
  {
   "cell_type": "markdown",
   "metadata": {},
   "source": [
    "Let's work through a more comprehensive problem. Here's a tweaked version of one of the Phase 1 tasks from the [Dyalog Problem Solving Competition](https://www.dyalog.com/student-competition.htm), 2021:\n",
    "\n",
    "Write a function that:\n",
    "\n",
    "* has a right argument `T` which is a character scalar, vector or a vector of character vectors\n",
    "* has a left argument `W` which is a positive integer specifying the width of the result\n",
    "* returns a right-aligned character array of shape `((2=≡T)/≢T),W`.\n",
    "* if an element of T has length greater than `W`, truncate it after `W` characters.\n",
    "\n",
    "The challenge here is not resorting to 'eaching' the rows, or employing some creative regexing. So let's treat this as an exercise in array-oriented problem solving.\n",
    "\n",
    "We're given a couple of examples of how the solution should behave for arrays of different ranks:"
   ]
  },
  {
   "cell_type": "code",
   "execution_count": 56,
   "metadata": {},
   "outputs": [
    {
     "data": {
      "text/html": [
       "<span style=\"white-space:pre; font-family: monospace\">┌→─────┐\n",
       "│     ⍒│\n",
       "└──────┘\n",
       "</span>"
      ]
     },
     "execution_count": 56,
     "metadata": {},
     "output_type": "execute_result"
    },
    {
     "data": {
      "text/html": [
       "<span style=\"white-space:pre; font-family: monospace\">┌→─────────┐\n",
       "│    Parade│\n",
       "└──────────┘\n",
       "</span>"
      ]
     },
     "execution_count": 56,
     "metadata": {},
     "output_type": "execute_result"
    },
    {
     "data": {
      "text/html": [
       "<span style=\"white-space:pre; font-family: monospace\">┌→───────┐\n",
       "↓Longer P│\n",
       "│     APL│\n",
       "│  Parade│\n",
       "└────────┘\n",
       "</span>"
      ]
     },
     "execution_count": 56,
     "metadata": {},
     "output_type": "execute_result"
    }
   ],
   "source": [
    "⍝ 6 Align '⍒'\n",
    "'     ⍒'\n",
    "\n",
    "⍝ 10 Align 'Parade'\n",
    "'    Parade'\n",
    "\n",
    "⍝ 8 Align 'Longer Phrase' 'APL' 'Parade'\n",
    "3 8⍴'Longer P     APL  Parade'"
   ]
  },
  {
   "cell_type": "markdown",
   "metadata": {},
   "source": [
    "```{note} \n",
    "The last example above is different from the way the problem was published. For extra points, solve it as it was presented in the competition:\n",
    "\n",
    "    3 8⍴'r Phrase     APL  Parade'\n",
    "```"
   ]
  },
  {
   "cell_type": "markdown",
   "metadata": {},
   "source": [
    "A hint is given in the problem statement on where we could start: we're told what the shape should be of the resulting array: `((2=≡T)/≢T),W`. Given the result shape, we can try the following approach:\n",
    "\n",
    "Figure out the result shape, and squeeze the data into this shape, truncating if we need to. Locate trailing spaces. Prepend a space on each line, and then replicate by the number of trailing spaces.\n",
    "\n",
    "We're given the shape. In order for this to work for character scalars, a character vector, or vector of character vectors, we need to operate on the ravel of the right argument when finding the shape:"
   ]
  },
  {
   "cell_type": "code",
   "execution_count": 57,
   "metadata": {},
   "outputs": [
    {
     "data": {
      "text/html": [
       "<span style=\"white-space:pre; font-family: monospace\">┌→┐\n",
       "│6│\n",
       "└~┘\n",
       "</span>"
      ]
     },
     "execution_count": 57,
     "metadata": {},
     "output_type": "execute_result"
    },
    {
     "data": {
      "text/html": [
       "<span style=\"white-space:pre; font-family: monospace\">┌→─┐\n",
       "│10│\n",
       "└~─┘\n",
       "</span>"
      ]
     },
     "execution_count": 57,
     "metadata": {},
     "output_type": "execute_result"
    },
    {
     "data": {
      "text/html": [
       "<span style=\"white-space:pre; font-family: monospace\">┌→──┐\n",
       "│3 8│\n",
       "└~──┘\n",
       "</span>"
      ]
     },
     "execution_count": 57,
     "metadata": {},
     "output_type": "execute_result"
    }
   ],
   "source": [
    "6 {⍺,⍨(2=≡,⍵)/≢,⍵} '⍋'\n",
    "10 {⍺,⍨(2=≡,⍵)/≢,⍵} 'Parade'\n",
    "8 {⍺,⍨(2=≡,⍵)/≢,⍵} 'Longer Phrase' 'APL' 'Parade'"
   ]
  },
  {
   "cell_type": "markdown",
   "metadata": {},
   "source": [
    "To fit the data into that shape, we need to _Mix_ the ravel (`↑,⍵`) to increase the rank and then _Take_ `⍺` elements, rank 1 (along vectors), and then reshape. Let's explore what this means:"
   ]
  },
  {
   "cell_type": "code",
   "execution_count": 58,
   "metadata": {},
   "outputs": [
    {
     "data": {
      "text/html": [
       "<span style=\"white-space:pre; font-family: monospace\">┌→─┐\n",
       "│10│\n",
       "└~─┘\n",
       "</span>"
      ]
     },
     "execution_count": 58,
     "metadata": {},
     "output_type": "execute_result"
    },
    {
     "data": {
      "text/html": [
       "<span style=\"white-space:pre; font-family: monospace\">┌→─────┐\n",
       "│Parade│\n",
       "└──────┘\n",
       "</span>"
      ]
     },
     "execution_count": 58,
     "metadata": {},
     "output_type": "execute_result"
    },
    {
     "data": {
      "text/html": [
       "<span style=\"white-space:pre; font-family: monospace\">┌→─────────┐\n",
       "│Parade    │\n",
       "└──────────┘\n",
       "</span>"
      ]
     },
     "execution_count": 58,
     "metadata": {},
     "output_type": "execute_result"
    }
   ],
   "source": [
    "data ← 'Parade'\n",
    "⊢sh ← 10 {⍺,⍨(2=≡,⍵)/≢,⍵} data ⍝ Shape\n",
    "↑,data                         ⍝ Mix ravel (no change for a char vector)\n",
    "10↑⍤1⊢↑,data                   ⍝ (over)take, rank-1"
   ]
  },
  {
   "cell_type": "markdown",
   "metadata": {},
   "source": [
    "More interesting to consider is the nested vector case:"
   ]
  },
  {
   "cell_type": "code",
   "execution_count": 59,
   "metadata": {},
   "outputs": [
    {
     "data": {
      "text/html": [
       "<span style=\"white-space:pre; font-family: monospace\">┌→──┐\n",
       "│3 8│\n",
       "└~──┘\n",
       "</span>"
      ]
     },
     "execution_count": 59,
     "metadata": {},
     "output_type": "execute_result"
    },
    {
     "data": {
      "text/html": [
       "<span style=\"white-space:pre; font-family: monospace\">┌→────────────┐\n",
       "↓Longer Phrase│\n",
       "│APL          │\n",
       "│Parade       │\n",
       "└─────────────┘\n",
       "</span>"
      ]
     },
     "execution_count": 59,
     "metadata": {},
     "output_type": "execute_result"
    },
    {
     "data": {
      "text/html": [
       "<span style=\"white-space:pre; font-family: monospace\">┌→───────┐\n",
       "↓Longer P│\n",
       "│APL     │\n",
       "│Parade  │\n",
       "└────────┘\n",
       "</span>"
      ]
     },
     "execution_count": 59,
     "metadata": {},
     "output_type": "execute_result"
    }
   ],
   "source": [
    "data ← 'Longer Phrase' 'APL' 'Parade'\n",
    "⎕ ← sh ← 8 {⍺,⍨(2=≡,⍵)/≢,⍵} data ⍝ Shape\n",
    "↑,data                           ⍝ Mix ravel\n",
    "⎕ ← mat ← 8↑⍤1⊢↑,data            ⍝ (over)take, rank 1"
   ]
  },
  {
   "cell_type": "markdown",
   "metadata": {},
   "source": [
    "So far, so array-oriented! Now we need to find trailing spaces. The equal sign makes for an excellent search function! Where are the spaces?"
   ]
  },
  {
   "cell_type": "code",
   "execution_count": 60,
   "metadata": {},
   "outputs": [
    {
     "data": {
      "text/html": [
       "<span style=\"white-space:pre; font-family: monospace\">┌→──────────────┐\n",
       "↓0 0 0 0 0 0 1 0│\n",
       "│0 0 0 1 1 1 1 1│\n",
       "│0 0 0 0 0 0 1 1│\n",
       "└~──────────────┘\n",
       "</span>"
      ]
     },
     "execution_count": 60,
     "metadata": {},
     "output_type": "execute_result"
    }
   ],
   "source": [
    "' '=mat"
   ]
  },
  {
   "cell_type": "markdown",
   "metadata": {},
   "source": [
    "All well and good, but we need the _trailing_ spaces. A handy technique here is to _and-scan_, which is one of those APLisms that is so obvious (once someone pointed it out to you, you found it on APLCart, or you're a genius). It keeps all 1s from the beginning, and zeros everything  after the first zero:"
   ]
  },
  {
   "cell_type": "code",
   "execution_count": 61,
   "metadata": {},
   "outputs": [
    {
     "data": {
      "text/html": [
       "<span style=\"white-space:pre; font-family: monospace\">┌→──────────────────┐\n",
       "│1 1 1 0 0 0 0 0 0 0│\n",
       "└~──────────────────┘\n",
       "</span>"
      ]
     },
     "execution_count": 61,
     "metadata": {},
     "output_type": "execute_result"
    }
   ],
   "source": [
    "∧\\1 1 1 0 0 0 1 0 1 0"
   ]
  },
  {
   "cell_type": "markdown",
   "metadata": {},
   "source": [
    "but that looks at _leading_ not trailing spaces, so we need to flip, and-scan, flip back:"
   ]
  },
  {
   "cell_type": "code",
   "execution_count": 62,
   "metadata": {},
   "outputs": [
    {
     "data": {
      "text/html": [
       "<span style=\"white-space:pre; font-family: monospace\">┌→──────────────┐\n",
       "↓0 0 0 0 0 0 0 0│\n",
       "│0 0 0 1 1 1 1 1│\n",
       "│0 0 0 0 0 0 1 1│\n",
       "└~──────────────┘\n",
       "</span>"
      ]
     },
     "execution_count": 62,
     "metadata": {},
     "output_type": "execute_result"
    }
   ],
   "source": [
    "⌽∧\\⌽' '=mat   ⍝ We're keeping on arraying"
   ]
  },
  {
   "cell_type": "markdown",
   "metadata": {},
   "source": [
    "Conceptually, we'll add extra spaces at the beginning of each line, the same number as any trailing spaces. In practice, we'll add a single space, and then use a replication vector to clone it the relevant number of times. Recall:"
   ]
  },
  {
   "cell_type": "code",
   "execution_count": 8,
   "metadata": {},
   "outputs": [
    {
     "data": {
      "text/html": [
       "<span style=\"white-space:pre; font-family: monospace\"> ABCDEFGHIK\n",
       "</span>"
      ]
     },
     "execution_count": 8,
     "metadata": {},
     "output_type": "execute_result"
    },
    {
     "data": {
      "text/html": [
       "<span style=\"white-space:pre; font-family: monospace\">5 1 1 1 1 1 1 1 1 1 1\n",
       "</span>"
      ]
     },
     "execution_count": 8,
     "metadata": {},
     "output_type": "execute_result"
    },
    {
     "data": {
      "text/html": [
       "<span style=\"white-space:pre; font-family: monospace\">     ABCDEFGHIK\n",
       "</span>"
      ]
     },
     "execution_count": 8,
     "metadata": {},
     "output_type": "execute_result"
    }
   ],
   "source": [
    "⎕ ← data ← ' ABCDEFGHIK'         ⍝ Note: leading space\n",
    "⎕ ← repl ← 5 1 1 1 1 1 1 1 1 1 1 ⍝ Five spaces, one of everything else\n",
    "repl/data"
   ]
  },
  {
   "cell_type": "code",
   "execution_count": 52,
   "metadata": {},
   "outputs": [
    {
     "data": {
      "text/html": [
       "<span style=\"white-space:pre; font-family: monospace\">┌→────────┐\n",
       "↓ Longer P│\n",
       "│ APL     │\n",
       "│ Parade  │\n",
       "└─────────┘\n",
       "</span>"
      ]
     },
     "execution_count": 52,
     "metadata": {},
     "output_type": "execute_result"
    },
    {
     "data": {
      "text/html": [
       "<span style=\"white-space:pre; font-family: monospace\">┌→──────────────┐\n",
       "↓1 1 1 1 1 1 1 1│\n",
       "│1 1 1 0 0 0 0 0│\n",
       "│1 1 1 1 1 1 0 0│\n",
       "└~──────────────┘\n",
       "</span>"
      ]
     },
     "execution_count": 52,
     "metadata": {},
     "output_type": "execute_result"
    },
    {
     "data": {
      "text/html": [
       "<span style=\"white-space:pre; font-family: monospace\">┌→────┐\n",
       "│0 5 2│\n",
       "└~────┘\n",
       "</span>"
      ]
     },
     "execution_count": 52,
     "metadata": {},
     "output_type": "execute_result"
    },
    {
     "data": {
      "text/html": [
       "<span style=\"white-space:pre; font-family: monospace\">┌→────────────────┐\n",
       "↓0 1 1 1 1 1 1 1 1│\n",
       "│5 1 1 1 0 0 0 0 0│\n",
       "│2 1 1 1 1 1 1 0 0│\n",
       "└~────────────────┘\n",
       "</span>"
      ]
     },
     "execution_count": 52,
     "metadata": {},
     "output_type": "execute_result"
    }
   ],
   "source": [
    "trailing ← ⌽∧\\⌽' '=mat     ⍝ Find trailing spaces, as per above\n",
    "⎕ ← spaced ← ' ',mat       ⍝ Add a space as the first char of each row\n",
    "⎕ ← keepers ← ~trailing    ⍝ Everything not a trailing space\n",
    "⎕ ← padding ← +/trailing   ⍝ Amount of leading padding to be inserted per row\n",
    "⎕ ← repl ← padding,keepers ⍝ Number of replications per character"
   ]
  },
  {
   "cell_type": "markdown",
   "metadata": {},
   "source": [
    "Now what remains is to do the replication and ensure that everything gets the shape it should have. "
   ]
  },
  {
   "cell_type": "code",
   "execution_count": 53,
   "metadata": {},
   "outputs": [
    {
     "data": {
      "text/html": [
       "<span style=\"white-space:pre; font-family: monospace\">┌→───────┐\n",
       "↓Longer P│\n",
       "│     APL│\n",
       "│  Parade│\n",
       "└────────┘\n",
       "</span>"
      ]
     },
     "execution_count": 53,
     "metadata": {},
     "output_type": "execute_result"
    }
   ],
   "source": [
    "repl/⍤1⊢spaced ⍝ Replicate along vectors"
   ]
  },
  {
   "cell_type": "markdown",
   "metadata": {},
   "source": [
    "That's it! Putting it all together, we get the following:"
   ]
  },
  {
   "cell_type": "code",
   "execution_count": 3,
   "metadata": {},
   "outputs": [],
   "source": [
    "]dinput\n",
    "Align ← {\n",
    "    shape ← ⍺,⍨(2=≡,⍵)/≢,⍵  ⍝ Shape, as specified\n",
    "    mat ← ⍺↑⍤1⊢↑,⍵          ⍝ Truncate rank 1\n",
    "    trailing ← ⌽∧\\⌽' '=mat  ⍝ Find trailing spaces\n",
    "    spaced ← ' ',mat        ⍝ Add a space as the first char of each row\n",
    "    keepers ← ~trailing     ⍝ Everything not a trailing space\n",
    "    padding ← +/trailing    ⍝ Amount of leading padding to be inserted per row\n",
    "    repl ← padding,keepers  ⍝ Number of replications per character\n",
    "    repl/⍤1⊢spaced          ⍝ Replicate rank 1\n",
    "}"
   ]
  },
  {
   "cell_type": "code",
   "execution_count": 4,
   "metadata": {},
   "outputs": [
    {
     "data": {
      "text/html": [
       "<span style=\"white-space:pre; font-family: monospace\">┌→─────┐\n",
       "│     ⍋│\n",
       "└──────┘\n",
       "</span>"
      ]
     },
     "execution_count": 4,
     "metadata": {},
     "output_type": "execute_result"
    },
    {
     "data": {
      "text/html": [
       "<span style=\"white-space:pre; font-family: monospace\">┌→─────────┐\n",
       "│    Parade│\n",
       "└──────────┘\n",
       "</span>"
      ]
     },
     "execution_count": 4,
     "metadata": {},
     "output_type": "execute_result"
    },
    {
     "data": {
      "text/html": [
       "<span style=\"white-space:pre; font-family: monospace\">┌→───────┐\n",
       "↓Longer P│\n",
       "│     APL│\n",
       "│  Parade│\n",
       "└────────┘\n",
       "</span>"
      ]
     },
     "execution_count": 4,
     "metadata": {},
     "output_type": "execute_result"
    },
    {
     "data": {
      "text/html": [
       "<span style=\"white-space:pre; font-family: monospace\">┌→───────┐\n",
       "↓       K│\n",
       "│       E│\n",
       "│ Iverson│\n",
       "└────────┘\n",
       "</span>"
      ]
     },
     "execution_count": 4,
     "metadata": {},
     "output_type": "execute_result"
    }
   ],
   "source": [
    "6 Align '⍋'\n",
    "10 Align 'Parade'\n",
    "8 Align 'Longer Phrase' 'APL' 'Parade'\n",
    "8 Align 'K' 'E' 'Iverson'"
   ]
  },
  {
   "cell_type": "markdown",
   "metadata": {},
   "source": [
    "Pretty cool, eh? As an exercise, now shrink that to a one-liner suitable for submitting as a competition entry.\n",
    "\n",
    "Shall we do one more?\n",
    "\n",
    "## FizzBuzz\n",
    "\n",
    "Adám Brudzewski used the classic FizzBuzz problem -- the darling of technical interviewers everywhere -- as an illustration in one of his Cultivation lessons, [Lesson 39 - Array programming techniques](https://chat.stackexchange.com/rooms/52405/conversation/lesson-39-array-programming-techniques).\n",
    "\n",
    "Wikipedia has the following to say about [FizzBuzz](https://en.wikipedia.org/wiki/Fizz_buzz):\n",
    "\n",
    "> Fizz buzz is a group word game for children to teach them about division. Players take turns to count incrementally, replacing any number divisible by three with the word \"fizz\", and any number divisible by five with the word \"buzz\". \n",
    "\n",
    "but most programmers will be familiar with it as a task frequently set as a technical challenge in job interviews. In fact, we've seen an APL version of this already. Right at the beginning it was used as an illustration of a _trad function_.\n",
    "\n",
    "Here's a \"loopy\" version as an APL dfn, for context:"
   ]
  },
  {
   "cell_type": "code",
   "execution_count": 5,
   "metadata": {},
   "outputs": [
    {
     "data": {
      "text/html": [
       "<span style=\"white-space:pre; font-family: monospace\">┌→─────────────────────────────────────────────────────────────────────────────────────────────┐\n",
       "│ ┌→┐ ┌→┐ ┌→───┐ ┌→┐ ┌→───┐ ┌→───┐ ┌→┐ ┌→┐ ┌→───┐ ┌→───┐ ┌→─┐ ┌→───┐ ┌→─┐ ┌→─┐ ┌→───────┐ ┌→─┐ │\n",
       "│ │1│ │2│ │Fizz│ │4│ │Buzz│ │Fizz│ │7│ │8│ │Fizz│ │Buzz│ │11│ │Fizz│ │13│ │14│ │FizzBuzz│ │16│ │\n",
       "│ └~┘ └~┘ └────┘ └~┘ └────┘ └────┘ └~┘ └~┘ └────┘ └────┘ └~─┘ └────┘ └~─┘ └~─┘ └────────┘ └~─┘ │\n",
       "└∊─────────────────────────────────────────────────────────────────────────────────────────────┘\n",
       "</span>"
      ]
     },
     "execution_count": 5,
     "metadata": {},
     "output_type": "execute_result"
    }
   ],
   "source": [
    "{∊(3↑(0=3 5|⍵)∪1)/'Fizz' 'Buzz'⍵}¨1+⍳16"
   ]
  },
  {
   "cell_type": "markdown",
   "metadata": {},
   "source": [
    "Can we do without the `each`, given what we've already learnt? Let's ponder what an array solution might look like. \n",
    "\n",
    "Let's begin by creating a Boolean mask showing the positions of the numbers which are divisible by 3 (the \"fizzes\") and those divisible by 5 (the \"buzzes\"). We can do that as an outer product:"
   ]
  },
  {
   "cell_type": "code",
   "execution_count": 186,
   "metadata": {},
   "outputs": [
    {
     "data": {
      "text/html": [
       "<span style=\"white-space:pre; font-family: monospace\">┌→──────────────────────────────┐\n",
       "↓0 0 1 0 0 1 0 0 1 0 0 1 0 0 1 0│\n",
       "│0 0 0 0 1 0 0 0 0 1 0 0 0 0 1 0│\n",
       "└~──────────────────────────────┘\n",
       "</span>"
      ]
     },
     "execution_count": 186,
     "metadata": {},
     "output_type": "execute_result"
    }
   ],
   "source": [
    "data ← 1+⍳16\n",
    "⎕ ← fizzbuzz ← 0=3 5∘.|data"
   ]
  },
  {
   "cell_type": "markdown",
   "metadata": {},
   "source": [
    "So the columns that have only zeros in them represent the \"numbers\" - the \"non-fizzbuzzy\" bits. Let's add a new row to our matrix to make this clear:"
   ]
  },
  {
   "cell_type": "code",
   "execution_count": 187,
   "metadata": {},
   "outputs": [
    {
     "data": {
      "text/html": [
       "<span style=\"white-space:pre; font-family: monospace\">┌→──────────────────────────────┐\n",
       "↓1 1 0 1 0 0 1 1 0 0 1 0 1 1 0 1│\n",
       "│0 0 1 0 0 1 0 0 1 0 0 1 0 0 1 0│\n",
       "│0 0 0 0 1 0 0 0 0 1 0 0 0 0 1 0│\n",
       "└~──────────────────────────────┘\n",
       "</span>"
      ]
     },
     "execution_count": 187,
     "metadata": {},
     "output_type": "execute_result"
    }
   ],
   "source": [
    "⎕ ← mat ← (⍱⌿⍪⊢)fizzbuzz  ⍝ Tacit for {(⍱⌿⍵)⍪⍵} -- column-wise logical NOR as the new first row"
   ]
  },
  {
   "cell_type": "markdown",
   "metadata": {},
   "source": [
    "If we now multiply the first row by our input numbers, we have the numbers that aren't \"fizzbuzzy\""
   ]
  },
  {
   "cell_type": "code",
   "execution_count": 192,
   "metadata": {},
   "outputs": [
    {
     "data": {
      "text/html": [
       "<span style=\"white-space:pre; font-family: monospace\">┌→────────────────────────────────────────────────────────────────────────────────────┐\n",
       "↓                                                                                     │\n",
       "│ 1 8 0      64 0      0      343 512 0      0      1331 0      2197 2744 0      4096 │\n",
       "│                                                                                     │\n",
       "│     ┌→───┐           ┌→───┐         ┌→───┐             ┌→───┐           ┌→───┐      │\n",
       "│ 0 0 │fizz│ 0  0      │fizz│ 0   0   │fizz│ 0      0    │fizz│ 0    0    │fizz│ 0    │\n",
       "│     └────┘           └────┘         └────┘             └────┘           └────┘      │\n",
       "│               ┌→───┐                       ┌→───┐                       ┌→───┐      │\n",
       "│ 0 0 0      0  │buzz│ 0      0   0   0      │buzz│ 0    0      0    0    │buzz│ 0    │\n",
       "│               └────┘                       └────┘                       └────┘      │\n",
       "└∊────────────────────────────────────────────────────────────────────────────────────┘\n",
       "</span>"
      ]
     },
     "execution_count": 192,
     "metadata": {},
     "output_type": "execute_result"
    }
   ],
   "source": [
    "mat×@0⍨←data ⍝ Check that out! Modified assignment\n",
    "mat"
   ]
  },
  {
   "cell_type": "markdown",
   "metadata": {},
   "source": [
    "Now we substitute all 1s for \"fizz\" in the second row, and for \"buzz\" in the third row:"
   ]
  },
  {
   "cell_type": "code",
   "execution_count": 189,
   "metadata": {},
   "outputs": [
    {
     "data": {
      "text/html": [
       "<span style=\"white-space:pre; font-family: monospace\">┌→───────────────────────────────────────────────────────────────────────┐\n",
       "↓                                                                        │\n",
       "│ 1 2 0      4 0      0      7 8 0      0      11 0      13 14 0      16 │\n",
       "│                                                                        │\n",
       "│     ┌→───┐          ┌→───┐     ┌→───┐           ┌→───┐       ┌→───┐    │\n",
       "│ 0 0 │fizz│ 0 0      │fizz│ 0 0 │fizz│ 0      0  │fizz│ 0  0  │fizz│ 0  │\n",
       "│     └────┘          └────┘     └────┘           └────┘       └────┘    │\n",
       "│              ┌→───┐                   ┌→───┐                 ┌→───┐    │\n",
       "│ 0 0 0      0 │buzz│ 0      0 0 0      │buzz│ 0  0      0  0  │buzz│ 0  │\n",
       "│              └────┘                   └────┘                 └────┘    │\n",
       "└∊───────────────────────────────────────────────────────────────────────┘\n",
       "</span>"
      ]
     },
     "execution_count": 189,
     "metadata": {},
     "output_type": "execute_result"
    }
   ],
   "source": [
    "mat[↓1,⍤0 0⊢⍸1⌷mat]←⊂'fizz'\n",
    "mat[↓2,⍤0 0⊢⍸2⌷mat]←⊂'buzz'\n",
    "mat"
   ]
  },
  {
   "cell_type": "markdown",
   "metadata": {},
   "source": [
    "Merge columns, remove zeros:"
   ]
  },
  {
   "cell_type": "code",
   "execution_count": 190,
   "metadata": {},
   "outputs": [
    {
     "data": {
      "text/html": [
       "<span style=\"white-space:pre; font-family: monospace\">┌→─────────────────────────────────────────────────────────────────────────────────────────────┐\n",
       "│ ┌→┐ ┌→┐ ┌→───┐ ┌→┐ ┌→───┐ ┌→───┐ ┌→┐ ┌→┐ ┌→───┐ ┌→───┐ ┌→─┐ ┌→───┐ ┌→─┐ ┌→─┐ ┌→───────┐ ┌→─┐ │\n",
       "│ │1│ │2│ │fizz│ │4│ │buzz│ │fizz│ │7│ │8│ │fizz│ │buzz│ │11│ │fizz│ │13│ │14│ │fizzbuzz│ │16│ │\n",
       "│ └~┘ └~┘ └────┘ └~┘ └────┘ └────┘ └~┘ └~┘ └────┘ └────┘ └~─┘ └────┘ └~─┘ └~─┘ └────────┘ └~─┘ │\n",
       "└∊─────────────────────────────────────────────────────────────────────────────────────────────┘\n",
       "</span>"
      ]
     },
     "execution_count": 190,
     "metadata": {},
     "output_type": "execute_result"
    }
   ],
   "source": [
    "0~⍨¨,⌿mat"
   ]
  },
  {
   "cell_type": "markdown",
   "metadata": {},
   "source": [
    "Nice. So in this case, is the longer array solution better than the clever loopy one we showed in the beginning? Well, the intention was to demonstrate how to approach solutions in a data-parallel way, but the problem was of a magnitude that probably made this unnecessary. But practice makes perfect."
   ]
  },
  {
   "cell_type": "code",
   "execution_count": null,
   "metadata": {},
   "outputs": [],
   "source": []
  }
 ],
 "metadata": {
  "kernelspec": {
   "display_name": "Dyalog APL",
   "language": "apl",
   "name": "dyalog-kernel"
  },
  "language_info": {
   "file_extension": ".apl",
   "mimetype": "text/apl",
   "name": "APL"
  }
 },
 "nbformat": 4,
 "nbformat_minor": 4
}
