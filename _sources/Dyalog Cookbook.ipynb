{
 "cells": [
  {
   "cell_type": "markdown",
   "metadata": {},
   "source": [
    "## Dyalog recipes\n",
    "\n",
    "To see a correct render of this notebook: https://nbviewer.jupyter.org/github/xpqz/DyalogCookbook/blob/master/Dyalog%20Cookbook.ipynb\n",
    "\n",
    "This notebook contains my notes from learning APL. A lot of these has come from helpful discussions on the APL Orchard Stack Exchange chatroom.\n",
    "\n",
    "APL allows you to configure the index origin, which is to say if arrays and vectors start at index 0 or 1. The default is 1, and in this notebook this is what we use, to avoid confusion. If you're used to 0-indexed languages (C, Java, Python etc) this may grate, but in APL it soon feels natural."
   ]
  },
  {
   "cell_type": "code",
   "execution_count": 9,
   "metadata": {},
   "outputs": [
    {
     "data": {
      "text/html": [
       "<span style=\"white-space:pre; font-family: monospace\">┌→─────────────────────────────────────┐\n",
       "│Was ON -style=min -trains=tree -fns=on│\n",
       "└──────────────────────────────────────┘\n",
       "</span>"
      ]
     },
     "execution_count": 9,
     "metadata": {},
     "output_type": "execute_result"
    }
   ],
   "source": [
    "⎕IO←1 ⍝ one-based indexing (this is the default, but let's be explicit)\n",
    "]box on -style=max -trains=tree -fns=on ⍝ Pass all output through DISPLAY"
   ]
  },
  {
   "cell_type": "markdown",
   "metadata": {},
   "source": [
    "### Regular expressions\n",
    "\n",
    "Dyalog supports the full PCRE syntax via ⎕S and ⎕R\n",
    "\n",
    "See http://archive.vector.org.uk/art10500870"
   ]
  },
  {
   "cell_type": "code",
   "execution_count": 3,
   "metadata": {},
   "outputs": [
    {
     "data": {
      "text/html": [
       "<span style=\"white-space:pre; font-family: monospace\">┌→───────────────────────────────────┐\n",
       "│ ┌→──┐ ┌→──┐ ┌→──┐ ┌→─┐ ┌→──┐ ┌→──┐ │\n",
       "│ │the│ │cat│ │sat│ │on│ │the│ │mat│ │\n",
       "│ └───┘ └───┘ └───┘ └──┘ └───┘ └───┘ │\n",
       "└∊───────────────────────────────────┘\n",
       "</span>"
      ]
     },
     "execution_count": 3,
     "metadata": {},
     "output_type": "execute_result"
    }
   ],
   "source": [
    "⍝ Get all words. The config-string '&' returns the matched string.\n",
    "'\\w+' ⎕S '&' ⊣ 'the cat sat on the mat'"
   ]
  },
  {
   "cell_type": "code",
   "execution_count": 4,
   "metadata": {},
   "outputs": [
    {
     "data": {
      "text/html": [
       "<span style=\"white-space:pre; font-family: monospace\">┌→───────────────────────────────────┐\n",
       "│ ┌→──┐ ┌→──┐ ┌→──┐ ┌→─┐ ┌→──┐ ┌→──┐ │\n",
       "│ │eht│ │tac│ │tas│ │no│ │eht│ │tam│ │\n",
       "│ └───┘ └───┘ └───┘ └──┘ └───┘ └───┘ │\n",
       "└∊───────────────────────────────────┘\n",
       "</span>"
      ]
     },
     "execution_count": 4,
     "metadata": {},
     "output_type": "execute_result"
    }
   ],
   "source": [
    "⍝ Reverse each word\n",
    "'\\w+' ⎕S {⌽⍵.Match} ⊣ 'the cat sat on the mat'"
   ]
  },
  {
   "cell_type": "markdown",
   "metadata": {},
   "source": [
    "Note that ⎕S is a dyadic function that returns a function. Left arg is always the pattern. Right arg is either a transformation function or a config string."
   ]
  },
  {
   "cell_type": "code",
   "execution_count": 5,
   "metadata": {},
   "outputs": [
    {
     "data": {
      "text/html": [
       "<span style=\"white-space:pre; font-family: monospace\">┌→──────────┐\n",
       "│ ┌→──────┐ │\n",
       "│ │abriole│ │\n",
       "│ └───────┘ │\n",
       "└∊──────────┘\n",
       "</span>"
      ]
     },
     "execution_count": 5,
     "metadata": {},
     "output_type": "execute_result"
    }
   ],
   "source": [
    "⍝ Capture groups\n",
    "'c([^t]+)t' ⎕S '\\1' ⊣ 'The cabriolet parked on the road'"
   ]
  },
  {
   "cell_type": "markdown",
   "metadata": {},
   "source": [
    "The config string is used to specify the capture group following Perl conventions, \\1, \\2 etc. To get all captured groups we have to do a little dance:"
   ]
  },
  {
   "cell_type": "code",
   "execution_count": 2,
   "metadata": {},
   "outputs": [
    {
     "data": {
      "text/html": [
       "<span style=\"white-space:pre; font-family: monospace\">┌─────┬───┬───┐\n",
       "│hello│123│456│\n",
       "└─────┴───┴───┘\n",
       "</span>"
      ]
     },
     "execution_count": 2,
     "metadata": {},
     "output_type": "execute_result"
    }
   ],
   "source": [
    "⊃,/'(hello|goodbye)\\s+(\\d+)\\s+(\\d+)'⎕S{⍵.(1↓Lengths↑¨Offsets↓¨⊂Block)} ⊢ 'hello 123 456'"
   ]
  },
  {
   "cell_type": "markdown",
   "metadata": {},
   "source": [
    "We can make that into a handy function:"
   ]
  },
  {
   "cell_type": "code",
   "execution_count": 4,
   "metadata": {},
   "outputs": [],
   "source": [
    "RegexGroups←{⊃,/⍺⎕S{⍵.(1↓Lengths↑¨Offsets↓¨⊂Block)} ⊢ ⍵}"
   ]
  },
  {
   "cell_type": "markdown",
   "metadata": {},
   "source": [
    "The ⎕R function does a replace:"
   ]
  },
  {
   "cell_type": "code",
   "execution_count": 7,
   "metadata": {},
   "outputs": [
    {
     "data": {
      "text/html": [
       "<span style=\"white-space:pre; font-family: monospace\">┌→──────────┐\n",
       "│mSSSSSSSppS│\n",
       "└───────────┘\n",
       "</span>"
      ]
     },
     "execution_count": 7,
     "metadata": {},
     "output_type": "execute_result"
    }
   ],
   "source": [
    "'[si]'⎕R'S' ⊢ 'mississippi'"
   ]
  },
  {
   "cell_type": "code",
   "execution_count": 8,
   "metadata": {},
   "outputs": [
    {
     "data": {
      "text/html": [
       "<span style=\"white-space:pre; font-family: monospace\">┌→──────────┐\n",
       "│miSSissippi│\n",
       "└───────────┘\n",
       "</span>"
      ]
     },
     "execution_count": 8,
     "metadata": {},
     "output_type": "execute_result"
    }
   ],
   "source": [
    "'s'⎕R'S'⍠'ML' 2 ⊢ 'mississippi' ⍝ Set the \"match limit\" to 2, with the variant operator ⍠"
   ]
  },
  {
   "cell_type": "code",
   "execution_count": 9,
   "metadata": {},
   "outputs": [
    {
     "data": {
      "text/html": [
       "<span style=\"white-space:pre; font-family: monospace\">┌→────────────────────────────┐\n",
       "│HELLO ALL PEOPLE IN THE WORLD│\n",
       "└─────────────────────────────┘\n",
       "</span>"
      ]
     },
     "execution_count": 9,
     "metadata": {},
     "output_type": "execute_result"
    }
   ],
   "source": [
    "{⊃('.+' ⎕S '\\u0')⍵} 'Hello All People in The World' ⍝ Upper-case a string"
   ]
  },
  {
   "cell_type": "markdown",
   "metadata": {},
   "source": [
    "Here's a dfn that takes a regex and a string and splits the latter on the former:"
   ]
  },
  {
   "cell_type": "code",
   "execution_count": 10,
   "metadata": {},
   "outputs": [],
   "source": [
    "RegSplit←{⊃{⍵/⍨⍺∨¯1⌽⍺}/↓⍉↑('(.*?)',⍺)'(.*?)$'⎕S{⍵.((~PatternNum)(Lengths[2]↑Offsets[2]↓Block))}⊢⍵}\n",
    "RegSplit2←{(⊢/¨r)↓¨⍵⊂⍨(⍳≢⍵)∊1+⊃¨r←(⍺,'|^')⎕S 0 1⊢⍵} ⍝ faster"
   ]
  },
  {
   "cell_type": "code",
   "execution_count": 11,
   "metadata": {},
   "outputs": [
    {
     "data": {
      "text/html": [
       "<span style=\"white-space:pre; font-family: monospace\">┌→──────────────────────────┐\n",
       "│ ┌→───┐ ┌→─┐ ┌→──────┐ ┌⊖┐ │\n",
       "│ │Here│ │be│ │dragons│ │ │ │\n",
       "│ └────┘ └──┘ └───────┘ └─┘ │\n",
       "└∊──────────────────────────┘\n",
       "</span>"
      ]
     },
     "execution_count": 11,
     "metadata": {},
     "output_type": "execute_result"
    },
    {
     "data": {
      "text/html": [
       "<span style=\"white-space:pre; font-family: monospace\">┌→──────────────────────────┐\n",
       "│ ┌→───┐ ┌→─┐ ┌→──────┐ ┌⊖┐ │\n",
       "│ │Here│ │be│ │dragons│ │ │ │\n",
       "│ └────┘ └──┘ └───────┘ └─┘ │\n",
       "└∊──────────────────────────┘\n",
       "</span>"
      ]
     },
     "execution_count": 11,
     "metadata": {},
     "output_type": "execute_result"
    }
   ],
   "source": [
    "'/+' RegSplit 'Here///be/dragons/'  ⍝ Note empty last item in result\n",
    "'/+' RegSplit2 'Here///be/dragons/'  ⍝ Note empty last item in result"
   ]
  },
  {
   "cell_type": "markdown",
   "metadata": {},
   "source": [
    "Branch reset to use the same sub-pattern name for alternatives"
   ]
  },
  {
   "cell_type": "code",
   "execution_count": 3,
   "metadata": {},
   "outputs": [
    {
     "data": {
      "text/html": [
       "<span style=\"white-space:pre; font-family: monospace\">┌────┬──┐\n",
       "│3557│33│\n",
       "└────┴──┘\n",
       "</span>"
      ]
     },
     "execution_count": 3,
     "metadata": {},
     "output_type": "execute_result"
    }
   ],
   "source": [
    "'(?|.*#(\\d+).*|.*:(\\d\\d)).*'⎕r'\\1'⊢'[1518-02-15 23:58] Guard #3557 begins shift' '[1518-02-16 00:33] falls asleep'"
   ]
  },
  {
   "cell_type": "markdown",
   "metadata": {},
   "source": [
    "## FizzBuzz\n",
    "\n",
    "FizzBuzz is a well-known task sometimes set at interviews for coding jobs. The idea is to consider a sequence o f numbers and print \"FizzBuzz\" if the number is divisible by 3 and 5, \"Buzz\" if divisible by \"5\", \"Fizz\" if divisible by 3 and otherwise just output the number.\n",
    "\n",
    "Here's APL-FizzBuzz, as given in https://rosettacode.org/wiki/FizzBuzz#APL"
   ]
  },
  {
   "cell_type": "code",
   "execution_count": 40,
   "metadata": {},
   "outputs": [
    {
     "data": {
      "text/html": [
       "<span style=\"white-space:pre; font-family: monospace\">┌→───────────────────────────────────────────────────────────────────────────┐\n",
       "│     ┌→───┐   ┌→───┐ ┌→───┐     ┌→───┐ ┌→───┐    ┌→───┐       ┌→───────┐    │\n",
       "│ 1 2 │Fizz│ 4 │Buzz│ │Fizz│ 7 8 │Fizz│ │Buzz│ 11 │Fizz│ 13 14 │FizzBuzz│ 16 │\n",
       "│     └────┘   └────┘ └────┘     └────┘ └────┘    └────┘       └────────┘    │\n",
       "└∊───────────────────────────────────────────────────────────────────────────┘\n",
       "</span>"
      ]
     },
     "execution_count": 40,
     "metadata": {},
     "output_type": "execute_result"
    }
   ],
   "source": [
    "{⊃⍵ 'Fizz' 'Buzz' 'FizzBuzz'[⎕IO++/1 2×0=3 5|⍵]}¨⍳16"
   ]
  },
  {
   "cell_type": "markdown",
   "metadata": {},
   "source": [
    "The indexing function `1++/1 2×0=3 5|⍵` generates 1 for numbers not divisible by either 3 or 5, 2 for divisible by 3, 3 for divisible by 5 and 4 for divisible by 3 and 5. So how does that work?\n",
    "\n",
    "Consider it right to left:"
   ]
  },
  {
   "cell_type": "code",
   "execution_count": 16,
   "metadata": {},
   "outputs": [
    {
     "data": {
      "text/html": [
       "<span style=\"white-space:pre; font-family: monospace\">┌→──────────────────┐\n",
       "│ ┌→──┐ ┌→──┐ ┌→──┐ │\n",
       "│ │1 0│ │2 1│ │0 0│ │\n",
       "│ └~──┘ └~──┘ └~──┘ │\n",
       "└∊──────────────────┘\n",
       "</span>"
      ]
     },
     "execution_count": 16,
     "metadata": {},
     "output_type": "execute_result"
    }
   ],
   "source": [
    "{3 5|⍵}¨10 11 15 ⍝ Return length 2 vector with remainder from div by 3 and 5"
   ]
  },
  {
   "cell_type": "markdown",
   "metadata": {},
   "source": [
    "Next step is to pick out the zeros"
   ]
  },
  {
   "cell_type": "code",
   "execution_count": 17,
   "metadata": {},
   "outputs": [
    {
     "data": {
      "text/html": [
       "<span style=\"white-space:pre; font-family: monospace\">┌→──────────────────┐\n",
       "│ ┌→──┐ ┌→──┐ ┌→──┐ │\n",
       "│ │0 1│ │0 0│ │1 1│ │\n",
       "│ └~──┘ └~──┘ └~──┘ │\n",
       "└∊──────────────────┘\n",
       "</span>"
      ]
     },
     "execution_count": 17,
     "metadata": {},
     "output_type": "execute_result"
    }
   ],
   "source": [
    "{0= 3 5|⍵}¨10 11 15 ⍝ Return length 2 vector with remainder from div by 3 and 5, highlighing zeros"
   ]
  },
  {
   "cell_type": "markdown",
   "metadata": {},
   "source": [
    "...and multiply by 1 and 2 respectively:"
   ]
  },
  {
   "cell_type": "code",
   "execution_count": 18,
   "metadata": {},
   "outputs": [
    {
     "data": {
      "text/html": [
       "<span style=\"white-space:pre; font-family: monospace\">┌→──────────────────┐\n",
       "│ ┌→──┐ ┌→──┐ ┌→──┐ │\n",
       "│ │0 2│ │0 0│ │1 2│ │\n",
       "│ └~──┘ └~──┘ └~──┘ │\n",
       "└∊──────────────────┘\n",
       "</span>"
      ]
     },
     "execution_count": 18,
     "metadata": {},
     "output_type": "execute_result"
    }
   ],
   "source": [
    "{1 2× 0= 3 5| ⍵}¨10 11 15 ⍝ ...multiplied by 1 and 2"
   ]
  },
  {
   "cell_type": "markdown",
   "metadata": {},
   "source": [
    "Now what remains is to sum that up, and add `⎕IO`:"
   ]
  },
  {
   "cell_type": "code",
   "execution_count": 41,
   "metadata": {},
   "outputs": [
    {
     "data": {
      "text/html": [
       "<span style=\"white-space:pre; font-family: monospace\">┌→────┐\n",
       "│3 1 4│\n",
       "└~────┘\n",
       "</span>"
      ]
     },
     "execution_count": 41,
     "metadata": {},
     "output_type": "execute_result"
    }
   ],
   "source": [
    "{⎕IO++/1 2× 0= 3 5|⍵}¨10 11 15 ⍝ ...multiplied by 1 and 2, and summed"
   ]
  },
  {
   "cell_type": "markdown",
   "metadata": {},
   "source": [
    "We can now index into the vector containing our output text, after disclosing:"
   ]
  },
  {
   "cell_type": "code",
   "execution_count": 42,
   "metadata": {},
   "outputs": [
    {
     "data": {
      "text/html": [
       "<span style=\"white-space:pre; font-family: monospace\">┌→────────────────────────────┐\n",
       "│ ┌→───┐ ┌→───┐    ┌→───────┐ │\n",
       "│ │Fizz│ │Buzz│ 11 │FizzBuzz│ │\n",
       "│ └────┘ └────┘    └────────┘ │\n",
       "└∊────────────────────────────┘\n",
       "</span>"
      ]
     },
     "execution_count": 42,
     "metadata": {},
     "output_type": "execute_result"
    }
   ],
   "source": [
    "{⊃⍵ 'Fizz' 'Buzz' 'FizzBuzz'[⎕IO++/ 1 2× 0= 3 5| ⍵]} ¨ 3 10 11 15"
   ]
  },
  {
   "cell_type": "markdown",
   "metadata": {},
   "source": [
    "This version is iterative, as it uses each (`¨`). We can take a radically different approach to take advantage of APL's array operators:"
   ]
  },
  {
   "cell_type": "code",
   "execution_count": 5,
   "metadata": {},
   "outputs": [],
   "source": [
    "]dinput\n",
    "FizzBuzz←{\n",
    "    nums←⍳⍵\n",
    "    mat←(⍱⌿⍪⊢)0=3 5∘.|nums  ⍝ Remainder matrix\n",
    "    mat×@1⍨←nums            ⍝ Multiply first row by the source numbers\n",
    "    mat←(⊂'Fizz')@⊢@2⊢mat   ⍝ Replace any 1s in second row by Fizz\n",
    "    mat←(⊂'Buzz')@⊢@3⊢mat   ⍝ Replace any 1s in third row by Buzz\n",
    "    0~⍨¨,⌿mat               ⍝ Merge downwards and remove any zeros\n",
    "}"
   ]
  },
  {
   "cell_type": "code",
   "execution_count": 6,
   "metadata": {},
   "outputs": [
    {
     "data": {
      "text/html": [
       "<span style=\"white-space:pre; font-family: monospace\">┌→─────────────────────────────────────────────────────────────────────────────────────────────┐\n",
       "│ ┌→┐ ┌→┐ ┌→───┐ ┌→┐ ┌→───┐ ┌→───┐ ┌→┐ ┌→┐ ┌→───┐ ┌→───┐ ┌→─┐ ┌→───┐ ┌→─┐ ┌→─┐ ┌→───────┐ ┌→─┐ │\n",
       "│ │1│ │2│ │Fizz│ │4│ │Buzz│ │Fizz│ │7│ │8│ │Fizz│ │Buzz│ │11│ │Fizz│ │13│ │14│ │FizzBuzz│ │16│ │\n",
       "│ └~┘ └~┘ └────┘ └~┘ └────┘ └────┘ └~┘ └~┘ └────┘ └────┘ └~─┘ └────┘ └~─┘ └~─┘ └────────┘ └~─┘ │\n",
       "└∊─────────────────────────────────────────────────────────────────────────────────────────────┘\n",
       "</span>"
      ]
     },
     "execution_count": 6,
     "metadata": {},
     "output_type": "execute_result"
    }
   ],
   "source": [
    "FizzBuzz 16"
   ]
  },
  {
   "cell_type": "markdown",
   "metadata": {},
   "source": [
    "### Split a string into a vector of a single char and a number\n",
    "\n",
    "E.g 'X1234' gives 'X' 1234 -- via @Adám on APLOrchard"
   ]
  },
  {
   "cell_type": "code",
   "execution_count": 35,
   "metadata": {},
   "outputs": [
    {
     "data": {
      "text/html": [
       "<span style=\"white-space:pre; font-family: monospace\">┌→─────┐\n",
       "│X 1234│\n",
       "└+─────┘\n",
       "</span>"
      ]
     },
     "execution_count": 35,
     "metadata": {},
     "output_type": "execute_result"
    }
   ],
   "source": [
    "1(↑,∘⍎↓)'X1234' ⍝ Drop the first char, evaluate the rest, and catenate the first char."
   ]
  },
  {
   "cell_type": "markdown",
   "metadata": {},
   "source": [
    "Of course, using ⍎ on unfiltered user input can be dangerous. "
   ]
  },
  {
   "cell_type": "code",
   "execution_count": 36,
   "metadata": {},
   "outputs": [
    {
     "data": {
      "text/html": [
       "<span style=\"white-space:pre; font-family: monospace\">┌→─────┐\n",
       "│X 4234│\n",
       "└+─────┘\n",
       "</span>"
      ]
     },
     "execution_count": 36,
     "metadata": {},
     "output_type": "execute_result"
    }
   ],
   "source": [
    "(⊃,∘⍎∩∘⎕D)'X4234' ⍝ safer, but can throw an error."
   ]
  },
  {
   "cell_type": "markdown",
   "metadata": {},
   "source": [
    "Here the [⎕D](http://help.dyalog.com/latest/#Language/System%20Functions/d.htm) is a system variable specifying \"digits\":"
   ]
  },
  {
   "cell_type": "code",
   "execution_count": 37,
   "metadata": {},
   "outputs": [
    {
     "data": {
      "text/html": [
       "<span style=\"white-space:pre; font-family: monospace\">┌→─────────┐\n",
       "│0123456789│\n",
       "└──────────┘\n",
       "</span>"
      ]
     },
     "execution_count": 37,
     "metadata": {},
     "output_type": "execute_result"
    }
   ],
   "source": [
    "⎕D"
   ]
  },
  {
   "cell_type": "markdown",
   "metadata": {},
   "source": [
    "The industrial strength version uses [⎕VFI](http://help.dyalog.com/latest/#Language/System%20Functions/vfi.htm), (Verify and Fix Input) to properly -- and safely -- parse the integer part."
   ]
  },
  {
   "cell_type": "code",
   "execution_count": 45,
   "metadata": {},
   "outputs": [
    {
     "data": {
      "text/html": [
       "<span style=\"white-space:pre; font-family: monospace\">┌→─────┐\n",
       "│X 1234│\n",
       "└+─────┘\n",
       "</span>"
      ]
     },
     "execution_count": 45,
     "metadata": {},
     "output_type": "execute_result"
    }
   ],
   "source": [
    "1(↑,2⊃∘⎕VFI↓)'X1234' "
   ]
  },
  {
   "cell_type": "markdown",
   "metadata": {},
   "source": [
    "Verify and Fix Input, when used dyadically, can be used to split and convert strings:"
   ]
  },
  {
   "cell_type": "code",
   "execution_count": 47,
   "metadata": {},
   "outputs": [
    {
     "data": {
      "text/html": [
       "<span style=\"white-space:pre; font-family: monospace\">┌→───────┐\n",
       "│19 29 21│\n",
       "└~───────┘\n",
       "</span>"
      ]
     },
     "execution_count": 47,
     "metadata": {},
     "output_type": "execute_result"
    }
   ],
   "source": [
    "2⊃'x'⎕VFI'19x29x21'"
   ]
  },
  {
   "cell_type": "markdown",
   "metadata": {},
   "source": [
    "We can see how the first version is derived from a perhaps more obvious starting point:"
   ]
  },
  {
   "cell_type": "code",
   "execution_count": 48,
   "metadata": {},
   "outputs": [
    {
     "data": {
      "text/html": [
       "<span style=\"white-space:pre; font-family: monospace\">┌→─────┐\n",
       "│X 1234│\n",
       "└+─────┘\n",
       "</span>"
      ]
     },
     "execution_count": 48,
     "metadata": {},
     "output_type": "execute_result"
    },
    {
     "data": {
      "text/html": [
       "<span style=\"white-space:pre; font-family: monospace\">┌→─────┐\n",
       "│X 1234│\n",
       "└+─────┘\n",
       "</span>"
      ]
     },
     "execution_count": 48,
     "metadata": {},
     "output_type": "execute_result"
    },
    {
     "data": {
      "text/html": [
       "<span style=\"white-space:pre; font-family: monospace\">┌→─────┐\n",
       "│X 1234│\n",
       "└+─────┘\n",
       "</span>"
      ]
     },
     "execution_count": 48,
     "metadata": {},
     "output_type": "execute_result"
    },
    {
     "data": {
      "text/html": [
       "<span style=\"white-space:pre; font-family: monospace\">┌→─────┐\n",
       "│X 1234│\n",
       "└+─────┘\n",
       "</span>"
      ]
     },
     "execution_count": 48,
     "metadata": {},
     "output_type": "execute_result"
    },
    {
     "data": {
      "text/html": [
       "<span style=\"white-space:pre; font-family: monospace\">┌→─────┐\n",
       "│X 1234│\n",
       "└+─────┘\n",
       "</span>"
      ]
     },
     "execution_count": 48,
     "metadata": {},
     "output_type": "execute_result"
    },
    {
     "data": {
      "text/html": [
       "<span style=\"white-space:pre; font-family: monospace\">┌→─────┐\n",
       "│X 1234│\n",
       "└+─────┘\n",
       "</span>"
      ]
     },
     "execution_count": 48,
     "metadata": {},
     "output_type": "execute_result"
    }
   ],
   "source": [
    "{a←1↑⍵ ⋄ b←⍎1↓⍵ ⋄ a,b} 'X1234' ⍝ Take head, eval tail\n",
    "\n",
    "{(1↑⍵),(⍎1↓⍵)} 'X1234'         ⍝ substitute variables\n",
    "1 {(⍺↑⍵),(⍎⍺↓⍵)} 'X1234'       ⍝ break out 1\n",
    "1 ((⊣↑⊢),(⍎⊣↓⊢)) 'X1234'       ⍝ train\n",
    "1 ((↑),(⍎↓)) 'X1234'           ⍝ simplify\n",
    "1 (↑,∘⍎↓) 'X1234'              ⍝ remove parens"
   ]
  },
  {
   "cell_type": "markdown",
   "metadata": {},
   "source": [
    "### Partition a vector into groups of equal elements\n",
    "\n",
    "Good partition primer on [APLWiki](https://aplwiki.com/wiki/Partition_representations)"
   ]
  },
  {
   "cell_type": "code",
   "execution_count": 51,
   "metadata": {},
   "outputs": [
    {
     "data": {
      "text/html": [
       "<span style=\"white-space:pre; font-family: monospace\">┌→────────────────────────────────────────────┐\n",
       "│ ┌→────────┐ ┌→──┐ ┌→┐ ┌→──────┐ ┌→──┐ ┌→──┐ │\n",
       "│ │1 1 1 1 1│ │2 2│ │1│ │4 4 4 4│ │1 1│ │2 2│ │\n",
       "│ └~────────┘ └~──┘ └~┘ └~──────┘ └~──┘ └~──┘ │\n",
       "└∊────────────────────────────────────────────┘\n",
       "</span>"
      ]
     },
     "execution_count": 51,
     "metadata": {},
     "output_type": "execute_result"
    }
   ],
   "source": [
    "partition←{⍵⊂⍨1,2≠/⍵}\n",
    "partition 1 1 1 1 1 2 2 1 4 4 4 4 1 1 2 2"
   ]
  },
  {
   "cell_type": "markdown",
   "metadata": {},
   "source": [
    "If we need the run lengths, we can just count them up:"
   ]
  },
  {
   "cell_type": "code",
   "execution_count": 52,
   "metadata": {},
   "outputs": [
    {
     "data": {
      "text/html": [
       "<span style=\"white-space:pre; font-family: monospace\">┌→──────────┐\n",
       "│5 2 1 4 2 2│\n",
       "└~──────────┘\n",
       "</span>"
      ]
     },
     "execution_count": 52,
     "metadata": {},
     "output_type": "execute_result"
    }
   ],
   "source": [
    "≢¨partition 1 1 1 1 1 2 2 1 4 4 4 4 1 1 2 2"
   ]
  },
  {
   "cell_type": "markdown",
   "metadata": {},
   "source": [
    "### Match brackets"
   ]
  },
  {
   "cell_type": "code",
   "execution_count": 58,
   "metadata": {},
   "outputs": [
    {
     "data": {
      "text/html": [
       "<span style=\"white-space:pre; font-family: monospace\">┌→────────────────┐\n",
       "│1 2 2 2 2 1 1 1 0│\n",
       "└~────────────────┘\n",
       "</span>"
      ]
     },
     "execution_count": 58,
     "metadata": {},
     "output_type": "execute_result"
    }
   ],
   "source": [
    "{+\\1 ¯1 0['()'⍳⍵]} '((2×3)+4)' "
   ]
  },
  {
   "cell_type": "markdown",
   "metadata": {},
   "source": [
    "Nice! That snippet was supposedly penned by Ken himself. \n",
    "\n",
    "https://forums.dyalog.com/viewtopic.php?f=30&t=1616\n",
    "https://www.jsoftware.com/papers/perlis78.htm\n",
    "\n",
    "How does it work?\n",
    "\n",
    "Well, the expression `'()'⍳⍵` creates a vector of the same length as the argument containing a 1 (or 0, depending on `⎕io`) if the corresponding character is a '(', 2 for ')' and 3 (overflow) for everything else. We then map those values to 1, ¯1 and 0 respectively, and scan-sum over those.\n",
    "\n",
    "Another way, slightly shorter, to achieve the same thing:"
   ]
  },
  {
   "cell_type": "code",
   "execution_count": 59,
   "metadata": {},
   "outputs": [
    {
     "data": {
      "text/html": [
       "<span style=\"white-space:pre; font-family: monospace\">┌→────────────────┐\n",
       "│1 2 2 2 2 1 1 1 0│\n",
       "└~────────────────┘\n",
       "</span>"
      ]
     },
     "execution_count": 59,
     "metadata": {},
     "output_type": "execute_result"
    }
   ],
   "source": [
    "{+\\-⌿'()'∘.=⍵} '((2×3)+4)'  ⍝ Match brackets"
   ]
  },
  {
   "cell_type": "markdown",
   "metadata": {},
   "source": [
    "This version builds a matrix where the two rows are binary masks showing the positions of the respective brackets."
   ]
  },
  {
   "cell_type": "code",
   "execution_count": 60,
   "metadata": {},
   "outputs": [
    {
     "data": {
      "text/html": [
       "<span style=\"white-space:pre; font-family: monospace\">┌→────────────────┐\n",
       "↓1 1 0 0 0 0 0 0 0│\n",
       "│0 0 0 0 0 1 0 0 1│\n",
       "└~────────────────┘\n",
       "</span>"
      ]
     },
     "execution_count": 60,
     "metadata": {},
     "output_type": "execute_result"
    }
   ],
   "source": [
    "'()'∘.='((2×3)+4)'"
   ]
  },
  {
   "cell_type": "markdown",
   "metadata": {},
   "source": [
    "Next step is to subtract row 2 from row 1"
   ]
  },
  {
   "cell_type": "code",
   "execution_count": 61,
   "metadata": {},
   "outputs": [
    {
     "data": {
      "text/html": [
       "<span style=\"white-space:pre; font-family: monospace\">┌→──────────────────┐\n",
       "│1 1 0 0 0 ¯1 0 0 ¯1│\n",
       "└~──────────────────┘\n",
       "</span>"
      ]
     },
     "execution_count": 61,
     "metadata": {},
     "output_type": "execute_result"
    }
   ],
   "source": [
    "-⌿'()'∘.='((2×3)+4)'"
   ]
  },
  {
   "cell_type": "markdown",
   "metadata": {},
   "source": [
    "and then scan-sum"
   ]
  },
  {
   "cell_type": "code",
   "execution_count": 62,
   "metadata": {},
   "outputs": [
    {
     "data": {
      "text/html": [
       "<span style=\"white-space:pre; font-family: monospace\">┌→────────────────┐\n",
       "│1 2 2 2 2 1 1 1 0│\n",
       "└~────────────────┘\n",
       "</span>"
      ]
     },
     "execution_count": 62,
     "metadata": {},
     "output_type": "execute_result"
    }
   ],
   "source": [
    "+\\-⌿'()'∘.='((2×3)+4)'"
   ]
  },
  {
   "cell_type": "markdown",
   "metadata": {},
   "source": [
    "## Stdlib"
   ]
  },
  {
   "cell_type": "code",
   "execution_count": 3,
   "metadata": {},
   "outputs": [],
   "source": [
    "⍝ Zips -- remix is basically zip \n",
    "Zip←↓⍉↑\n",
    "PythonZip←↓∘⍉∘↑(⌊⌿≢¨)↑¨⊢  ⍝ Python's behaviour is to only zip to shortest vector if unmatched\n",
    "PythonZip2←↓(⌊/≢¨)↑⍉∘↑"
   ]
  },
  {
   "cell_type": "code",
   "execution_count": null,
   "metadata": {},
   "outputs": [],
   "source": [
    "NotUnzip←|∘⍳∘≢⊢∘⊂⌸⊢                                    ⍝ 2 Unzip 'dyalog' NB: Not really unzip as such"
   ]
  },
  {
   "cell_type": "code",
   "execution_count": null,
   "metadata": {},
   "outputs": [],
   "source": [
    "Split←≠⊆⊢                                           ⍝ Split string on a char"
   ]
  },
  {
   "cell_type": "code",
   "execution_count": 13,
   "metadata": {},
   "outputs": [],
   "source": [
    "MSplit←(~∊⍨)⊆⊢                                      ⍝ Multi-char split"
   ]
  },
  {
   "cell_type": "code",
   "execution_count": 13,
   "metadata": {},
   "outputs": [],
   "source": [
    "RegSplit←{(⊢/¨r)↓¨⍵⊂⍨(⍳≢⍵)∊1+⊃¨r←(⍺,'|^')⎕S 0 1⊢⍵}  ⍝ Split string on a pattern"
   ]
  },
  {
   "cell_type": "code",
   "execution_count": null,
   "metadata": {},
   "outputs": [],
   "source": [
    "RegexGroups←{⍺⎕S{⍵.(1↓Lengths↑¨Offsets↓¨⊂Block)} ⊢ ⍵} ⍝ Return all capture groups as a vector"
   ]
  },
  {
   "cell_type": "code",
   "execution_count": 14,
   "metadata": {},
   "outputs": [],
   "source": [
    "Range←⊣+∘⍳-⍨                                        ⍝ start Range end, but see dfns.iotag instead"
   ]
  },
  {
   "cell_type": "code",
   "execution_count": null,
   "metadata": {},
   "outputs": [],
   "source": [
    "Replace←' '@(=∘'-')⊢"
   ]
  },
  {
   "cell_type": "code",
   "execution_count": null,
   "metadata": {},
   "outputs": [],
   "source": [
    "Foldl←{↑⍺⍺⍨/(⌽⍵),⊂⍺}                                ⍝ 0 + Foldl 1 2 3 4 5 ⍝ Must give initial accumulator state"
   ]
  },
  {
   "cell_type": "code",
   "execution_count": null,
   "metadata": {},
   "outputs": [],
   "source": [
    "Flatten←{⊃,/,⊆¨⍵}⍣≡"
   ]
  },
  {
   "cell_type": "code",
   "execution_count": null,
   "metadata": {},
   "outputs": [],
   "source": [
    "Filter←{⍵/⍨⍺⍺ ⍵}                                    ⍝ Simple list only: {⍵<10} Filter 1 2 55 27 11 6 5 0"
   ]
  },
  {
   "cell_type": "code",
   "execution_count": null,
   "metadata": {},
   "outputs": [],
   "source": [
    "FilterNested←{⍵/⍨⍺⍺¨⍵}                             "
   ]
  },
  {
   "cell_type": "code",
   "execution_count": null,
   "metadata": {},
   "outputs": [],
   "source": [
    "Pairs←{,⍳⍵ ⍵}"
   ]
  },
  {
   "cell_type": "code",
   "execution_count": null,
   "metadata": {},
   "outputs": [],
   "source": [
    "OverlappingPairs←{{⊂⍵}⌺2 ⊢ ⍵}"
   ]
  },
  {
   "cell_type": "code",
   "execution_count": 15,
   "metadata": {},
   "outputs": [],
   "source": [
    "Balance←{+\\-⌿⍺∘.=⍵}                                 ⍝ '()' Balance '(a+b+(1-c))'"
   ]
  },
  {
   "cell_type": "code",
   "execution_count": null,
   "metadata": {},
   "outputs": [],
   "source": [
    "Normalise←⊢÷+/                                      ⍝ Make vector components sum to 1"
   ]
  },
  {
   "cell_type": "code",
   "execution_count": null,
   "metadata": {},
   "outputs": [],
   "source": [
    "Divisors←{⍵=1:,1⋄∊∘.×/{⍺∘.*0,⍳⍵}⌿2 dfns.pco ⍵}"
   ]
  },
  {
   "cell_type": "code",
   "execution_count": null,
   "metadata": {},
   "outputs": [],
   "source": [
    "DivisiorSum←{×/{(¯1+⍺*⍵+1)÷⍺-1}⌿2 dfns.pco ⍵}       ⍝ A.k.a sigma1"
   ]
  },
  {
   "cell_type": "code",
   "execution_count": null,
   "metadata": {},
   "outputs": [],
   "source": [
    "SortByCol←{⍵[⍋⍵[;⍺];]}                              ⍝ col SortByCol mat"
   ]
  },
  {
   "cell_type": "code",
   "execution_count": null,
   "metadata": {},
   "outputs": [],
   "source": [
    "Convert←{6::⍵⋄⍎⍵}                                   ⍝ Note -- unsafe"
   ]
  },
  {
   "cell_type": "code",
   "execution_count": 1,
   "metadata": {},
   "outputs": [],
   "source": [
    "]dinput\n",
    "Cmb←{                                               ⍝ Find all combinations of N numbers ∊⍳M that sum to M\n",
    "    (num total)←⍵\n",
    "    A←⊃∘.+/(num-1)⍴⊂⍳total\n",
    "    ⊃,/{⍵,¨⍸(total-⍵)=A}¨⍳total\n",
    "}"
   ]
  },
  {
   "cell_type": "code",
   "execution_count": 2,
   "metadata": {},
   "outputs": [],
   "source": [
    "ConvToIdx←∪⍳⊢                                       ⍝ convert strings to IDs"
   ]
  },
  {
   "cell_type": "code",
   "execution_count": null,
   "metadata": {},
   "outputs": [],
   "source": [
    "ConvToDigits←10∘⊥⍣¯1                                ⍝ Split a number into a vector of digits"
   ]
  },
  {
   "cell_type": "code",
   "execution_count": 3,
   "metadata": {},
   "outputs": [],
   "source": [
    "IsNumber←{(1=2|⎕DR)⍵}                               ⍝ Are we numeric?\n",
    "IsString←⍕≡⊢                                        ⍝ Are we a simple character vector?\n",
    "IsNamespace←{(326=⎕DR⍵)}                            ⍝ Are we a reference/object/namespace?"
   ]
  },
  {
   "cell_type": "code",
   "execution_count": null,
   "metadata": {},
   "outputs": [],
   "source": [
    "Substring←⍸⍷                                        ⍝ 'll' (⍸⍷) 'hello' ⍝ 3"
   ]
  },
  {
   "cell_type": "code",
   "execution_count": null,
   "metadata": {},
   "outputs": [],
   "source": [
    "Del←{⍵/⍨0@⍺⊢1⍨¨⍵}                                   ⍝ 2 5 Del ⍳10 ⍝ remove indices ⍺ from array ⍵"
   ]
  },
  {
   "cell_type": "code",
   "execution_count": null,
   "metadata": {},
   "outputs": [],
   "source": [
    "Group←↓⊃¨,∘⊂⌸⊢/¨                                    ⍝ Group vector elements based on first"
   ]
  },
  {
   "cell_type": "code",
   "execution_count": null,
   "metadata": {},
   "outputs": [],
   "source": [
    "GroupSplit←{⍵⊆⍨×≢¨⍵}                                ⍝ Group vector elements separated by empty"
   ]
  },
  {
   "cell_type": "code",
   "execution_count": null,
   "metadata": {},
   "outputs": [],
   "source": [
    "BinaryCombos←{⍉(⍵⍴2)⊤⍳2*⍵}                          ⍝ All binary combinations of ⍵ bits"
   ]
  },
  {
   "cell_type": "code",
   "execution_count": 12,
   "metadata": {},
   "outputs": [],
   "source": [
    "ExtractNumbers←⍎¨∊∘⎕d⊆⊢"
   ]
  },
  {
   "cell_type": "markdown",
   "metadata": {},
   "source": [
    "### Error handling\n",
    "\n",
    "Using error guards"
   ]
  },
  {
   "cell_type": "code",
   "execution_count": 63,
   "metadata": {},
   "outputs": [
    {
     "data": {
      "text/html": [
       "<span style=\"white-space:pre; font-family: monospace\"> \n",
       "4\n",
       " \n",
       "</span>"
      ]
     },
     "execution_count": 63,
     "metadata": {},
     "output_type": "execute_result"
    }
   ],
   "source": [
    "4 {3::'out of bounds' ⋄ ⍺ ⌷ ⍵} 1 2 3 4 5 6 7"
   ]
  },
  {
   "cell_type": "code",
   "execution_count": 64,
   "metadata": {},
   "outputs": [
    {
     "data": {
      "text/html": [
       "<span style=\"white-space:pre; font-family: monospace\">┌→────────────┐\n",
       "│out of bounds│\n",
       "└─────────────┘\n",
       "</span>"
      ]
     },
     "execution_count": 64,
     "metadata": {},
     "output_type": "execute_result"
    }
   ],
   "source": [
    "8 {3::'out of bounds' ⋄ ⍺ ⌷ ⍵} 1 2 3 4 5 6 7"
   ]
  },
  {
   "cell_type": "markdown",
   "metadata": {},
   "source": [
    "Note that the body of an error guard is evaluated _after_ the local envioronment is unwound. This is likely not what you expect if you come from say Python:"
   ]
  },
  {
   "cell_type": "code",
   "execution_count": 5,
   "metadata": {},
   "outputs": [],
   "source": [
    "]dinput\n",
    "F1←{ ⍝ Can you spot the bug?\n",
    "    11::nums\n",
    "    nums←1 ⍺\n",
    "    nums×÷⍵\n",
    "}"
   ]
  },
  {
   "cell_type": "code",
   "execution_count": 6,
   "metadata": {},
   "outputs": [],
   "source": [
    "]dinput\n",
    "F2←{\n",
    "    nums←1 ⍺\n",
    "    0=⍵:nums\n",
    "    nums×÷⍵\n",
    "}"
   ]
  },
  {
   "cell_type": "code",
   "execution_count": 7,
   "metadata": {},
   "outputs": [
    {
     "data": {
      "text/html": [
       "<span style=\"white-space:pre; font-family: monospace\">1 4\n",
       "</span>"
      ]
     },
     "execution_count": 7,
     "metadata": {},
     "output_type": "execute_result"
    }
   ],
   "source": [
    "4 F2 0 ⍝ The expected behaviour"
   ]
  },
  {
   "cell_type": "code",
   "execution_count": 10,
   "metadata": {},
   "outputs": [
    {
     "name": "stderr",
     "output_type": "stream",
     "text": [
      "VALUE ERROR: Undefined name: nums\n",
      "F1[1] 11::nums\n",
      "          ∧\n"
     ]
    }
   ],
   "source": [
    "4 F1 0 ⍝ Throws a perhaps unexpected VALUE ERROR"
   ]
  },
  {
   "cell_type": "markdown",
   "metadata": {},
   "source": [
    "Further, the mere presence of an error guard _disables tail call optimisation_. "
   ]
  },
  {
   "cell_type": "markdown",
   "metadata": {},
   "source": [
    "### Sets\n",
    "\n",
    "Set XOR - union minus intersection, using a train"
   ]
  },
  {
   "cell_type": "code",
   "execution_count": 66,
   "metadata": {},
   "outputs": [
    {
     "data": {
      "text/html": [
       "<span style=\"white-space:pre; font-family: monospace\">┌→────────┐\n",
       "│1 2 3 7 8│\n",
       "└~────────┘\n",
       "</span>"
      ]
     },
     "execution_count": 66,
     "metadata": {},
     "output_type": "execute_result"
    }
   ],
   "source": [
    "⊃(∪~∩)/ (1 2 3 4 5 6) (4 5 6 7 8) ⍝ Elements in ⍺ or ⍵ but not in both"
   ]
  },
  {
   "cell_type": "markdown",
   "metadata": {},
   "source": [
    "### Encode and decode ⊤ ⊥\n",
    "\n",
    "Encode and decode converts between decimal and some encoding vector.\n",
    "\n",
    "Split a number into digits and pad with zeros from the left:"
   ]
  },
  {
   "cell_type": "code",
   "execution_count": 67,
   "metadata": {},
   "outputs": [
    {
     "data": {
      "text/html": [
       "<span style=\"white-space:pre; font-family: monospace\">┌→────────┐\n",
       "│0 0 0 1 2│\n",
       "└~────────┘\n",
       "</span>"
      ]
     },
     "execution_count": 67,
     "metadata": {},
     "output_type": "execute_result"
    }
   ],
   "source": [
    "10 10 10 10 10 ⊤ 12"
   ]
  },
  {
   "cell_type": "markdown",
   "metadata": {},
   "source": [
    "Convert from seconds to H M S:"
   ]
  },
  {
   "cell_type": "code",
   "execution_count": 68,
   "metadata": {},
   "outputs": [
    {
     "data": {
      "text/html": [
       "<span style=\"white-space:pre; font-family: monospace\">┌→────────┐\n",
       "│0 2 21 13│\n",
       "└~────────┘\n",
       "</span>"
      ]
     },
     "execution_count": 68,
     "metadata": {},
     "output_type": "execute_result"
    }
   ],
   "source": [
    "0 24 60 60 ⊤ 8473"
   ]
  },
  {
   "cell_type": "markdown",
   "metadata": {},
   "source": [
    "Decode goes the other way"
   ]
  },
  {
   "cell_type": "code",
   "execution_count": 69,
   "metadata": {},
   "outputs": [
    {
     "data": {
      "text/html": [
       "<span style=\"white-space:pre; font-family: monospace\">    \n",
       "8473\n",
       "    \n",
       "</span>"
      ]
     },
     "execution_count": 69,
     "metadata": {},
     "output_type": "execute_result"
    }
   ],
   "source": [
    "0 24 60 60 ⊥ 0 2 21 13 "
   ]
  },
  {
   "cell_type": "markdown",
   "metadata": {},
   "source": [
    "Sometimes swapped to save some brackets"
   ]
  },
  {
   "cell_type": "code",
   "execution_count": 70,
   "metadata": {},
   "outputs": [
    {
     "data": {
      "text/html": [
       "<span style=\"white-space:pre; font-family: monospace\">┌→────────┐\n",
       "│0 0 0 1 2│\n",
       "└~────────┘\n",
       "</span>"
      ]
     },
     "execution_count": 70,
     "metadata": {},
     "output_type": "execute_result"
    }
   ],
   "source": [
    "12 ⊤⍨ 5⍴10 ⍝ instead of (5⍴10) ⊤ 12"
   ]
  },
  {
   "cell_type": "markdown",
   "metadata": {},
   "source": [
    "We can exploit decode to sum elements of a vector, which faster than the normal +/ approach and a useful trick in trains."
   ]
  },
  {
   "cell_type": "code",
   "execution_count": 71,
   "metadata": {},
   "outputs": [
    {
     "data": {
      "text/html": [
       "<span style=\"white-space:pre; font-family: monospace\">  \n",
       "17\n",
       "  \n",
       "</span>"
      ]
     },
     "execution_count": 71,
     "metadata": {},
     "output_type": "execute_result"
    }
   ],
   "source": [
    "1⊥1 3 2 5 6"
   ]
  },
  {
   "cell_type": "markdown",
   "metadata": {},
   "source": [
    "## Trains\n",
    "\n",
    "Trains are APL's functional composition mechanism.\n",
    "\n",
    "Here are the rules for 2 and 3-carriage trains:\n",
    "\n",
    "```\n",
    "(F G H) x -> (F x) G (H x)\n",
    "(u G H) x -> u G (H x)\n",
    "(G H) x -> G (H x)\n",
    "\n",
    "x (F G H) y -> (x F y) G (x H y)\n",
    "x (u G H) y -> u G (x H y)\n",
    "x (G H) y -> G (x H y)\n",
    "```"
   ]
  },
  {
   "cell_type": "code",
   "execution_count": 55,
   "metadata": {},
   "outputs": [
    {
     "data": {
      "text/html": [
       "<span style=\"white-space:pre; font-family: monospace\">┌→───┐\n",
       "│7 10│\n",
       "└~───┘\n",
       "</span>"
      ]
     },
     "execution_count": 55,
     "metadata": {},
     "output_type": "execute_result"
    }
   ],
   "source": [
    "⍝ Construct a vector of the sum and product of two numbers\n",
    "2 (+,×) 5  ⍝ x (F G H) y -> (x F y) G (x H y)"
   ]
  },
  {
   "cell_type": "markdown",
   "metadata": {},
   "source": [
    "This is a three-function train, consisting of sum, catenate, product. For a three-function train (LMR) in the dyadic case, the execution flow is (⍺ L ⍵) M (⍺ R ⍵) or specifically (2+5),(2×5).\n",
    "\n",
    "Here's another example: split a string on a separator:"
   ]
  },
  {
   "cell_type": "code",
   "execution_count": 73,
   "metadata": {},
   "outputs": [
    {
     "data": {
      "text/html": [
       "<span style=\"white-space:pre; font-family: monospace\">┌→────────────────────┐\n",
       "│ ┌→──┐ ┌→──┐ ┌→────┐ │\n",
       "│ │one│ │two│ │three│ │\n",
       "│ └───┘ └───┘ └─────┘ │\n",
       "└∊────────────────────┘\n",
       "</span>"
      ]
     },
     "execution_count": 73,
     "metadata": {},
     "output_type": "execute_result"
    }
   ],
   "source": [
    "',' (≠⊆⊢) 'one,two,three'"
   ]
  },
  {
   "cell_type": "markdown",
   "metadata": {},
   "source": [
    "Given the execution flow above we have:"
   ]
  },
  {
   "cell_type": "code",
   "execution_count": 74,
   "metadata": {},
   "outputs": [
    {
     "data": {
      "text/html": [
       "<span style=\"white-space:pre; font-family: monospace\">┌→────────────────────┐\n",
       "│ ┌→──┐ ┌→──┐ ┌→────┐ │\n",
       "│ │one│ │two│ │three│ │\n",
       "│ └───┘ └───┘ └─────┘ │\n",
       "└∊────────────────────┘\n",
       "</span>"
      ]
     },
     "execution_count": 74,
     "metadata": {},
     "output_type": "execute_result"
    }
   ],
   "source": [
    "Lhs ← ','≠'one,two,three'  ⍝ Binary match vector\n",
    "Rhs ← ','⊢'one,two,three'  ⍝ Just return the right-hand argument\n",
    "Lhs ⊆ Rhs                  ⍝ Partition based on binary match vector"
   ]
  },
  {
   "cell_type": "markdown",
   "metadata": {},
   "source": [
    "The right-tack ⊢ is used in trains as an identity function to force the correct monadic/dyadic behaviour.\n",
    "\n",
    "Another canonical example is calculating the mean with a three-function monadic train:"
   ]
  },
  {
   "cell_type": "code",
   "execution_count": 75,
   "metadata": {},
   "outputs": [
    {
     "data": {
      "text/html": [
       "<span style=\"white-space:pre; font-family: monospace\">   \n",
       "5.5\n",
       "   \n",
       "</span>"
      ]
     },
     "execution_count": 75,
     "metadata": {},
     "output_type": "execute_result"
    }
   ],
   "source": [
    "(+/÷≢) 3 6 4 9"
   ]
  },
  {
   "cell_type": "markdown",
   "metadata": {},
   "source": [
    "This translates to:"
   ]
  },
  {
   "cell_type": "code",
   "execution_count": 76,
   "metadata": {},
   "outputs": [
    {
     "data": {
      "text/html": [
       "<span style=\"white-space:pre; font-family: monospace\">   \n",
       "5.5\n",
       "   \n",
       "</span>"
      ]
     },
     "execution_count": 76,
     "metadata": {},
     "output_type": "execute_result"
    }
   ],
   "source": [
    "Lhs ← +/ 3 6 4 9   ⍝ Sum \n",
    "Rhs ← ≢ 3 6 4 9    ⍝ Count\n",
    "Lhs ÷ Rhs          ⍝ Mean"
   ]
  },
  {
   "cell_type": "markdown",
   "metadata": {},
   "source": [
    "Set XOR using a union-not-intersect train"
   ]
  },
  {
   "cell_type": "code",
   "execution_count": 77,
   "metadata": {},
   "outputs": [
    {
     "data": {
      "text/html": [
       "<span style=\"white-space:pre; font-family: monospace\">┌→────────┐\n",
       "│1 2 3 7 8│\n",
       "└~────────┘\n",
       "</span>"
      ]
     },
     "execution_count": 77,
     "metadata": {},
     "output_type": "execute_result"
    }
   ],
   "source": [
    "⊃(∪~∩)/ (1 2 3 4 5 6) (4 5 6 7 8)"
   ]
  },
  {
   "cell_type": "markdown",
   "metadata": {},
   "source": [
    "Here's a longer example: generate an integer range"
   ]
  },
  {
   "cell_type": "code",
   "execution_count": 79,
   "metadata": {},
   "outputs": [
    {
     "data": {
      "text/html": [
       "<span style=\"white-space:pre; font-family: monospace\">┌→────────┐\n",
       "│5 6 7 8 9│\n",
       "└~────────┘\n",
       "</span>"
      ]
     },
     "execution_count": 79,
     "metadata": {},
     "output_type": "execute_result"
    }
   ],
   "source": [
    "¯1+5 (⊣+∘⍳-⍨) 10"
   ]
  },
  {
   "cell_type": "markdown",
   "metadata": {},
   "source": [
    "and an even longer, splitting a vector in n parts by unzipping:"
   ]
  },
  {
   "cell_type": "code",
   "execution_count": 80,
   "metadata": {},
   "outputs": [
    {
     "data": {
      "text/html": [
       "<span style=\"white-space:pre; font-family: monospace\">┌→─────────────┐\n",
       "│ ┌→───┐ ┌→──┐ │\n",
       "│ │daoe│ │ylg│ │\n",
       "│ └────┘ └───┘ │\n",
       "└∊─────────────┘\n",
       "</span>"
      ]
     },
     "execution_count": 80,
     "metadata": {},
     "output_type": "execute_result"
    }
   ],
   "source": [
    "2 (|∘⍳∘≢⊢∘⊂⌸⊢) 'dyaloge'"
   ]
  },
  {
   "cell_type": "markdown",
   "metadata": {},
   "source": [
    "The following tactit groups pairs based on the first component of each pair:"
   ]
  },
  {
   "cell_type": "code",
   "execution_count": 1,
   "metadata": {},
   "outputs": [
    {
     "data": {
      "text/html": [
       "<span style=\"white-space:pre; font-family: monospace\">Rebuilding user command cache... done\n",
       "</span>"
      ]
     },
     "execution_count": 1,
     "metadata": {},
     "output_type": "execute_result"
    },
    {
     "data": {
      "text/html": [
       "<span style=\"white-space:pre; font-family: monospace\">┌───────┬─────┬─────┬───────┬─────┐\n",
       "│┌─┬───┐│┌─┬─┐│┌─┬─┐│┌─┬───┐│┌─┬─┐│\n",
       "││5│3 6│││7│5│││4│7│││1│8 2│││2│4││\n",
       "│└─┴───┘│└─┴─┘│└─┴─┘│└─┴───┘│└─┴─┘│\n",
       "└───────┴─────┴─────┴───────┴─────┘\n",
       "</span>"
      ]
     },
     "execution_count": 1,
     "metadata": {},
     "output_type": "execute_result"
    }
   ],
   "source": [
    "m←(5 3)(5 6)(7 5)(4 7)(1 8)(2 4)(1 2)\n",
    "(↓⊃¨,∘⊂⌸⊢/¨)m"
   ]
  },
  {
   "cell_type": "markdown",
   "metadata": {},
   "source": [
    "Let's unwind that one in steps. Step 1: separate the tacit expression into individual functions, taking into account operators:\n",
    "\n",
    "    (↓) (⊃¨) (,∘⊂⌸) (⊢/¨)\n",
    "    \n",
    "Step 2: convert to dfn by considering first any 3-trains from the right:\n",
    "\n",
    "    { (⊃¯⍵) (,∘⊂⌸) ⊢/¨⍵ }\n",
    "    \n",
    "The middle bit is idiomatic use of key that can also be written as `{⍺⍵}⌸`. So we're looking at a left argument which is simply a vector of all first components of the pairs, and a right argument which is the last component of every pair, applied to the dyadic key, which groups the right arg based on the unique elements in the left.\n",
    "\n",
    "Step 3: as we've only a remaining `↓`, it's simply applied to the result."
   ]
  },
  {
   "cell_type": "markdown",
   "metadata": {},
   "source": [
    "## Tack tricks\n",
    "\n",
    "Left (⊣) and right (⊢) tacks return the argument they point to."
   ]
  },
  {
   "cell_type": "code",
   "execution_count": 81,
   "metadata": {},
   "outputs": [
    {
     "data": {
      "text/html": [
       "<span style=\"white-space:pre; font-family: monospace\">┌→───┐\n",
       "│Left│\n",
       "└────┘\n",
       "┌→────┐\n",
       "│Right│\n",
       "└─────┘\n",
       "</span>"
      ]
     },
     "execution_count": 81,
     "metadata": {},
     "output_type": "execute_result"
    }
   ],
   "source": [
    "'Left'⊣'Right' ⋄ 'Left'⊢'Right'"
   ]
  },
  {
   "cell_type": "markdown",
   "metadata": {},
   "source": [
    "We saw earlier their place in trains to refer to left or right arguments."
   ]
  },
  {
   "cell_type": "code",
   "execution_count": 82,
   "metadata": {},
   "outputs": [
    {
     "data": {
      "text/html": [
       "<span style=\"white-space:pre; font-family: monospace\">┌→────────────────────┐\n",
       "│ ┌→──┐ ┌→──┐ ┌→────┐ │\n",
       "│ │one│ │two│ │three│ │\n",
       "│ └───┘ └───┘ └─────┘ │\n",
       "└∊────────────────────┘\n",
       "</span>"
      ]
     },
     "execution_count": 82,
     "metadata": {},
     "output_type": "execute_result"
    }
   ],
   "source": [
    "',' (≠⊆⊢) 'one,two,three'"
   ]
  },
  {
   "cell_type": "markdown",
   "metadata": {},
   "source": [
    "Another use is when we want to return a value after first mutating it."
   ]
  },
  {
   "cell_type": "code",
   "execution_count": 83,
   "metadata": {},
   "outputs": [
    {
     "data": {
      "text/html": [
       "<span style=\"white-space:pre; font-family: monospace\">┌→──────────┐\n",
       "│10 10 3 4 5│\n",
       "└~──────────┘\n",
       "</span>"
      ]
     },
     "execution_count": 83,
     "metadata": {},
     "output_type": "execute_result"
    }
   ],
   "source": [
    "mem ← 1 2 3 4 5\n",
    "mem ⊣ mem[1 2] ← 10 10"
   ]
  },
  {
   "cell_type": "markdown",
   "metadata": {},
   "source": [
    "We can also use tacks to pick the first or last column of a matrix. This is a Dyalog [idiom](https://help.dyalog.com/17.1/#Language/Defined%20Functions%20and%20Operators/Idiom%20Recognition/Idiom%20List.htm)\n",
    "meaning it's highly optimised."
   ]
  },
  {
   "cell_type": "code",
   "execution_count": 84,
   "metadata": {},
   "outputs": [
    {
     "data": {
      "text/html": [
       "<span style=\"white-space:pre; font-family: monospace\">┌→────┐\n",
       "↓1 2 3│\n",
       "│4 5 6│\n",
       "└~────┘\n",
       "</span>"
      ]
     },
     "execution_count": 84,
     "metadata": {},
     "output_type": "execute_result"
    },
    {
     "data": {
      "text/html": [
       "<span style=\"white-space:pre; font-family: monospace\">┌→──┐\n",
       "│1 4│\n",
       "└~──┘\n",
       "</span>"
      ]
     },
     "execution_count": 84,
     "metadata": {},
     "output_type": "execute_result"
    },
    {
     "data": {
      "text/html": [
       "<span style=\"white-space:pre; font-family: monospace\">┌→──┐\n",
       "│3 6│\n",
       "└~──┘\n",
       "</span>"
      ]
     },
     "execution_count": 84,
     "metadata": {},
     "output_type": "execute_result"
    }
   ],
   "source": [
    "⎕←m←2 3⍴1 2 3 4 5 6 7 8 9\n",
    "⎕←first←⊣/m\n",
    "⎕←last←⊢/m"
   ]
  },
  {
   "cell_type": "markdown",
   "metadata": {},
   "source": [
    "## Indexing\n",
    "\n",
    "There are several ways of indexing into arrays and vectors. Crucially, elements of vectors and matrices are always scalars, but a scalar can be a boxed-up vector or matrix.\n",
    "\n",
    "Indexing with [] or ⌷ returns the box, not the element, although if the element is a simple scalar, it's the same thing."
   ]
  },
  {
   "cell_type": "code",
   "execution_count": 85,
   "metadata": {},
   "outputs": [
    {
     "data": {
      "text/html": [
       "<span style=\"white-space:pre; font-family: monospace\"> \n",
       "5\n",
       " \n",
       "</span>"
      ]
     },
     "execution_count": 85,
     "metadata": {},
     "output_type": "execute_result"
    },
    {
     "data": {
      "text/html": [
       "<span style=\"white-space:pre; font-family: monospace\">┌→──┐\n",
       "│5 2│\n",
       "└~──┘\n",
       "</span>"
      ]
     },
     "execution_count": 85,
     "metadata": {},
     "output_type": "execute_result"
    },
    {
     "data": {
      "text/html": [
       "<span style=\"white-space:pre; font-family: monospace\"> \n",
       "3\n",
       " \n",
       "</span>"
      ]
     },
     "execution_count": 85,
     "metadata": {},
     "output_type": "execute_result"
    }
   ],
   "source": [
    "v←⍳10\n",
    "v[5]\n",
    "v[5 2]\n",
    "3⌷v"
   ]
  },
  {
   "cell_type": "code",
   "execution_count": 86,
   "metadata": {},
   "outputs": [
    {
     "data": {
      "text/html": [
       "<span style=\"white-space:pre; font-family: monospace\">┌─────────┐\n",
       "│ ┌→────┐ │\n",
       "│ │1 2 3│ │\n",
       "│ └~────┘ │\n",
       "└∊────────┘\n",
       "</span>"
      ]
     },
     "execution_count": 86,
     "metadata": {},
     "output_type": "execute_result"
    }
   ],
   "source": [
    "v←(1 2 3)(4 5 6)(7 8 9)\n",
    "v[1]  ⍝ Return the box at element 1"
   ]
  },
  {
   "cell_type": "markdown",
   "metadata": {},
   "source": [
    "To get to the boxed element, we need to either disclose, or pick:"
   ]
  },
  {
   "cell_type": "code",
   "execution_count": 87,
   "metadata": {},
   "outputs": [
    {
     "data": {
      "text/html": [
       "<span style=\"white-space:pre; font-family: monospace\">┌→────┐\n",
       "│1 2 3│\n",
       "└~────┘\n",
       "</span>"
      ]
     },
     "execution_count": 87,
     "metadata": {},
     "output_type": "execute_result"
    },
    {
     "data": {
      "text/html": [
       "<span style=\"white-space:pre; font-family: monospace\">┌→────┐\n",
       "│1 2 3│\n",
       "└~────┘\n",
       "</span>"
      ]
     },
     "execution_count": 87,
     "metadata": {},
     "output_type": "execute_result"
    }
   ],
   "source": [
    "⊃v[1]  ⍝ Open box (disclose)\n",
    "1⊃v    ⍝ Pick element at 1"
   ]
  },
  {
   "cell_type": "markdown",
   "metadata": {},
   "source": [
    "The same box-unbox rules also apply to mutation:"
   ]
  },
  {
   "cell_type": "code",
   "execution_count": 90,
   "metadata": {},
   "outputs": [
    {
     "name": "stderr",
     "output_type": "stream",
     "text": [
      "LENGTH ERROR\n",
      "      v[2]←1 2 3 ⍝ Will fail with LENGTH ERROR, as value isn't boxed.\n",
      "          ∧\n"
     ]
    }
   ],
   "source": [
    "v[2]←1 2 3 ⍝ Will fail with LENGTH ERROR, as value isn't boxed."
   ]
  },
  {
   "cell_type": "markdown",
   "metadata": {},
   "source": [
    "Instead we need to explicitly enclose the new vector:"
   ]
  },
  {
   "cell_type": "code",
   "execution_count": 92,
   "metadata": {},
   "outputs": [
    {
     "data": {
      "text/html": [
       "<span style=\"white-space:pre; font-family: monospace\">┌→────────────────────────┐\n",
       "│ ┌→────┐ ┌→────┐ ┌→────┐ │\n",
       "│ │1 2 3│ │1 2 3│ │7 8 9│ │\n",
       "│ └~────┘ └~────┘ └~────┘ │\n",
       "└∊────────────────────────┘\n",
       "</span>"
      ]
     },
     "execution_count": 92,
     "metadata": {},
     "output_type": "execute_result"
    }
   ],
   "source": [
    "v[2]←⊂1 2 3\n",
    "v"
   ]
  },
  {
   "cell_type": "markdown",
   "metadata": {},
   "source": [
    "### Set values with @\n",
    "The `@` operator is very powerful and can be applied in several ways. In the simples case, we can give a list of values and a list of indexes where to set them. This creates a new copy of the right argument, with the new values.\n",
    "\n",
    "See https://stackoverflow.com/questions/64259704/apl-arrays-element-replacement-and-multiplication"
   ]
  },
  {
   "cell_type": "code",
   "execution_count": 97,
   "metadata": {},
   "outputs": [
    {
     "data": {
      "text/html": [
       "<span style=\"white-space:pre; font-family: monospace\">┌→──────────────┐\n",
       "│1 2 9 9 5 6 7 8│\n",
       "└~──────────────┘\n",
       "</span>"
      ]
     },
     "execution_count": 97,
     "metadata": {},
     "output_type": "execute_result"
    },
    {
     "data": {
      "text/html": [
       "<span style=\"white-space:pre; font-family: monospace\">┌→──────────────┐\n",
       "│1 2 3 4 5 6 7 8│\n",
       "└~──────────────┘\n",
       "</span>"
      ]
     },
     "execution_count": 97,
     "metadata": {},
     "output_type": "execute_result"
    }
   ],
   "source": [
    "9 9 @ 3 4 ⊢ vec←1 2 3 4 5 6 7 8             ⍝ Note -- no mutation\n",
    "vec "
   ]
  },
  {
   "cell_type": "markdown",
   "metadata": {},
   "source": [
    "Contrast this to direct assignment, which mutates in place:"
   ]
  },
  {
   "cell_type": "code",
   "execution_count": 98,
   "metadata": {},
   "outputs": [
    {
     "data": {
      "text/html": [
       "<span style=\"white-space:pre; font-family: monospace\">┌→──────────────┐\n",
       "│1 2 3 8 8 6 7 8│\n",
       "└~──────────────┘\n",
       "</span>"
      ]
     },
     "execution_count": 98,
     "metadata": {},
     "output_type": "execute_result"
    }
   ],
   "source": [
    "vec ⊣ vec[4 5] ← 8 8          ⍝ Note -- direct assignment mutates v"
   ]
  },
  {
   "cell_type": "markdown",
   "metadata": {},
   "source": [
    "The @ operator can also apply functions which modify the values in several different ways. The monadic case"
   ]
  },
  {
   "cell_type": "code",
   "execution_count": 99,
   "metadata": {},
   "outputs": [
    {
     "data": {
      "text/html": [
       "<span style=\"white-space:pre; font-family: monospace\">┌→──────────────────┐\n",
       "│10 ¯20 30 40 ¯50 60│\n",
       "└~──────────────────┘\n",
       "</span>"
      ]
     },
     "execution_count": 99,
     "metadata": {},
     "output_type": "execute_result"
    }
   ],
   "source": [
    "(-@2 5)10 20 30 40 50 60  ⍝ Apply monadic - at positions 2 and 5"
   ]
  },
  {
   "cell_type": "markdown",
   "metadata": {},
   "source": [
    "Similarly, we can apply dyads:"
   ]
  },
  {
   "cell_type": "code",
   "execution_count": 100,
   "metadata": {},
   "outputs": [
    {
     "data": {
      "text/html": [
       "<span style=\"white-space:pre; font-family: monospace\">┌→────────────────┐\n",
       "│10 27 30 40 57 60│\n",
       "└~────────────────┘\n",
       "</span>"
      ]
     },
     "execution_count": 100,
     "metadata": {},
     "output_type": "execute_result"
    }
   ],
   "source": [
    "7(+@2 5)10 20 30 40 50 60 "
   ]
  },
  {
   "cell_type": "code",
   "execution_count": null,
   "metadata": {},
   "outputs": [],
   "source": [
    "'x'@(∊∘⎕A)'Hello World' ⍝ Replace all uppercase letters with 'x'. ⎕A gives the uppercase letters."
   ]
  },
  {
   "cell_type": "markdown",
   "metadata": {},
   "source": [
    "We can also apply `@` with a function that returns a binary vector when applied to the right argument of the derived function, e.g:"
   ]
  },
  {
   "cell_type": "code",
   "execution_count": 17,
   "metadata": {},
   "outputs": [
    {
     "data": {
      "text/html": [
       "<span style=\"white-space:pre; font-family: monospace\">┌→────────┐\n",
       "│* 2 * 4 *│\n",
       "└+────────┘\n",
       "</span>"
      ]
     },
     "execution_count": 17,
     "metadata": {},
     "output_type": "execute_result"
    }
   ],
   "source": [
    "'*'@(2∘|) 1 2 3 4 5     ⍝ Replace odds with '*'"
   ]
  },
  {
   "cell_type": "markdown",
   "metadata": {},
   "source": [
    "or as simple as"
   ]
  },
  {
   "cell_type": "code",
   "execution_count": 19,
   "metadata": {},
   "outputs": [
    {
     "data": {
      "text/html": [
       "<span style=\"white-space:pre; font-family: monospace\">┌→────────┐\n",
       "│* 2 * 4 *│\n",
       "└+────────┘\n",
       "</span>"
      ]
     },
     "execution_count": 19,
     "metadata": {},
     "output_type": "execute_result"
    }
   ],
   "source": [
    "'*'@{1 0 1 0 1}1 2 3 4 5"
   ]
  },
  {
   "cell_type": "markdown",
   "metadata": {},
   "source": [
    "For a more involved example, let's write an expression that given a vector of values and a vector of row indices appends values to a column in the argument matrix:"
   ]
  },
  {
   "cell_type": "code",
   "execution_count": 33,
   "metadata": {},
   "outputs": [],
   "source": [
    "mat←↑{(⍵ 1) (0 0)}¨3+⍳5  ⍝ Start state: a 5x2 matrix, columns are vectors\n",
    "vals←⍳5                ⍝ Values to append to the first column\n",
    "rows←?⍨5               ⍝ ...of these rows"
   ]
  },
  {
   "cell_type": "code",
   "execution_count": 49,
   "metadata": {},
   "outputs": [
    {
     "data": {
      "text/html": [
       "<span style=\"white-space:pre; font-family: monospace\">┌→──────────────┐\n",
       "↓ ┌→────┐ ┌→──┐ │\n",
       "│ │4 1 5│ │0 0│ │\n",
       "│ └~────┘ └~──┘ │\n",
       "│ ┌→────┐ ┌→──┐ │\n",
       "│ │5 1 1│ │0 0│ │\n",
       "│ └~────┘ └~──┘ │\n",
       "│ ┌→────┐ ┌→──┐ │\n",
       "│ │6 1 3│ │0 0│ │\n",
       "│ └~────┘ └~──┘ │\n",
       "│ ┌→────┐ ┌→──┐ │\n",
       "│ │7 1 4│ │0 0│ │\n",
       "│ └~────┘ └~──┘ │\n",
       "│ ┌→────┐ ┌→──┐ │\n",
       "│ │8 1 2│ │0 0│ │\n",
       "│ └~────┘ └~──┘ │\n",
       "└∊──────────────┘\n",
       "</span>"
      ]
     },
     "execution_count": 49,
     "metadata": {},
     "output_type": "execute_result"
    }
   ],
   "source": [
    "(,¨∘vals)@(rows,¨1)⊢mat"
   ]
  },
  {
   "cell_type": "markdown",
   "metadata": {},
   "source": [
    "How does this work? The right arg of `@` fleshes out the list of row indices to include the column we target:"
   ]
  },
  {
   "cell_type": "code",
   "execution_count": 35,
   "metadata": {},
   "outputs": [
    {
     "data": {
      "text/html": [
       "<span style=\"white-space:pre; font-family: monospace\">┌→────────┐\n",
       "│2 5 3 4 1│\n",
       "└~────────┘\n",
       "</span>"
      ]
     },
     "execution_count": 35,
     "metadata": {},
     "output_type": "execute_result"
    },
    {
     "data": {
      "text/html": [
       "<span style=\"white-space:pre; font-family: monospace\">┌→──────────────────────────────┐\n",
       "│ ┌→──┐ ┌→──┐ ┌→──┐ ┌→──┐ ┌→──┐ │\n",
       "│ │2 1│ │5 1│ │3 1│ │4 1│ │1 1│ │\n",
       "│ └~──┘ └~──┘ └~──┘ └~──┘ └~──┘ │\n",
       "└∊──────────────────────────────┘\n",
       "</span>"
      ]
     },
     "execution_count": 35,
     "metadata": {},
     "output_type": "execute_result"
    }
   ],
   "source": [
    "rows\n",
    "rows,¨1"
   ]
  },
  {
   "cell_type": "markdown",
   "metadata": {},
   "source": [
    "This gives us a complete set of row-col pairs. Let's look at the tacit left argument. It's parsed like so\n",
    "\n",
    "```\n",
    "   ∘               \n",
    "  ┌┴┐              \n",
    "  ¨ vals\n",
    "┌─┘                \n",
    ",                  \n",
    "```\n",
    "which is just `{⍵,¨vals}` as an explicit dfn."
   ]
  },
  {
   "cell_type": "code",
   "execution_count": 36,
   "metadata": {},
   "outputs": [
    {
     "data": {
      "text/html": [
       "<span style=\"white-space:pre; font-family: monospace\">┌→────────────────────────────────────────┐\n",
       "│ ┌→────┐ ┌→────┐ ┌→────┐ ┌→────┐ ┌→────┐ │\n",
       "│ │5 1 1│ │8 1 2│ │6 1 3│ │7 1 4│ │4 1 5│ │\n",
       "│ └~────┘ └~────┘ └~────┘ └~────┘ └~────┘ │\n",
       "└∊────────────────────────────────────────┘\n",
       "</span>"
      ]
     },
     "execution_count": 36,
     "metadata": {},
     "output_type": "execute_result"
    }
   ],
   "source": [
    "{⍵,¨vals} mat[rows,¨1]"
   ]
  },
  {
   "cell_type": "markdown",
   "metadata": {},
   "source": [
    "Finally, `@` inserts everything back."
   ]
  },
  {
   "cell_type": "markdown",
   "metadata": {},
   "source": [
    "Let's look at some types of 'search & replace'. Given an array, some specific values and corresponding replacement values"
   ]
  },
  {
   "cell_type": "code",
   "execution_count": 4,
   "metadata": {},
   "outputs": [],
   "source": [
    "array←?10 3⍴10\n",
    "specific←1 2 3 4\n",
    "replacements←0 10 100 1000"
   ]
  },
  {
   "cell_type": "code",
   "execution_count": 5,
   "metadata": {},
   "outputs": [
    {
     "data": {
      "text/html": [
       "<span style=\"white-space:pre; font-family: monospace\">1000 100 1000\n",
       "  10   0    5\n",
       " 100  10   10\n",
       "  10  10    5\n",
       "   9   8   10\n",
       "1000  10   10\n",
       "   6   8   10\n",
       "  10   0   10\n",
       "   9  10   10\n",
       "   9   9   10\n",
       "</span>"
      ]
     },
     "execution_count": 5,
     "metadata": {},
     "output_type": "execute_result"
    }
   ],
   "source": [
    "{replacements[specific⍳⍵]}@{⍵∊specific} array"
   ]
  },
  {
   "cell_type": "markdown",
   "metadata": {},
   "source": [
    "So this is the `(f@g)Y` form of `@`. See all forms in [APLCart](https://aplcart.info/?q=%40%20primitive#). The right-hand function should return a binary map indicating which positions in the argument array are to be changed. The left-hand function is given each corresponding value as `⍵`, and should return the new value.\n",
    "\n",
    "An alternative formulation mirroring the way that `⎕R` works is:"
   ]
  },
  {
   "cell_type": "code",
   "execution_count": 7,
   "metadata": {},
   "outputs": [
    {
     "data": {
      "text/html": [
       "<span style=\"white-space:pre; font-family: monospace\">1000 100 1000\n",
       "  10   0    5\n",
       " 100  10   10\n",
       "  10  10    5\n",
       "   9   8   10\n",
       "1000  10   10\n",
       "   6   8   10\n",
       "  10   0   10\n",
       "   9  10   10\n",
       "   9   9   10\n",
       "</span>"
      ]
     },
     "execution_count": 7,
     "metadata": {},
     "output_type": "execute_result"
    }
   ],
   "source": [
    "Repl←{⍺⍺(⍵⍵⌷⍨∘⊂⍳)@(∊∘⍺⍺)⍵}\n",
    "specific Repl replacements ⊢ array"
   ]
  },
  {
   "cell_type": "markdown",
   "metadata": {},
   "source": [
    "See https://aplcart.info/?q=search-and-replace#"
   ]
  },
  {
   "cell_type": "markdown",
   "metadata": {},
   "source": [
    "We can pick columns any number of ways:"
   ]
  },
  {
   "cell_type": "code",
   "execution_count": 21,
   "metadata": {},
   "outputs": [
    {
     "data": {
      "text/html": [
       "<span style=\"white-space:pre; font-family: monospace\">┌→───────┐\n",
       "↓1 2  1 2│\n",
       "│2 1  6 2│\n",
       "│9 9 10 1│\n",
       "└~───────┘\n",
       "</span>"
      ]
     },
     "execution_count": 21,
     "metadata": {},
     "output_type": "execute_result"
    }
   ],
   "source": [
    "⎕←mat←3 4⍴?⍳12"
   ]
  },
  {
   "cell_type": "code",
   "execution_count": 29,
   "metadata": {},
   "outputs": [
    {
     "data": {
      "text/html": [
       "<span style=\"white-space:pre; font-family: monospace\">┌→──┐\n",
       "↓1 2│\n",
       "│2 1│\n",
       "│9 9│\n",
       "└~──┘\n",
       "</span>"
      ]
     },
     "execution_count": 29,
     "metadata": {},
     "output_type": "execute_result"
    },
    {
     "data": {
      "text/html": [
       "<span style=\"white-space:pre; font-family: monospace\">┌→──┐\n",
       "↓1 2│\n",
       "│2 1│\n",
       "│9 9│\n",
       "└~──┘\n",
       "</span>"
      ]
     },
     "execution_count": 29,
     "metadata": {},
     "output_type": "execute_result"
    },
    {
     "data": {
      "text/html": [
       "<span style=\"white-space:pre; font-family: monospace\">┌→──┐\n",
       "↓1 2│\n",
       "│2 1│\n",
       "│9 9│\n",
       "└~──┘\n",
       "</span>"
      ]
     },
     "execution_count": 29,
     "metadata": {},
     "output_type": "execute_result"
    }
   ],
   "source": [
    "2↑⍤1⊢mat        ⍝ Two first, as proper columns\n",
    "mat[;1 2]       ⍝ Brackets, as proper columns\n",
    "(⊂1 2)⌷[2]mat   ⍝ Using squad ⌷, somewhat clumsily"
   ]
  },
  {
   "cell_type": "markdown",
   "metadata": {},
   "source": [
    "First location of element:"
   ]
  },
  {
   "cell_type": "code",
   "execution_count": 27,
   "metadata": {},
   "outputs": [
    {
     "data": {
      "text/html": [
       "<span style=\"white-space:pre; font-family: monospace\">2\n",
       "</span>"
      ]
     },
     "execution_count": 27,
     "metadata": {},
     "output_type": "execute_result"
    }
   ],
   "source": [
    "keys←(0 0)(0 1)(3 2)\n",
    "keys ⍳ (⊂0 1)"
   ]
  },
  {
   "cell_type": "markdown",
   "metadata": {},
   "source": [
    "Bind argument to a lookup function for an immutable \"hash table\":"
   ]
  },
  {
   "cell_type": "code",
   "execution_count": 15,
   "metadata": {},
   "outputs": [
    {
     "data": {
      "text/html": [
       "<span style=\"white-space:pre; font-family: monospace\"> \n",
       "4\n",
       " \n",
       "</span>"
      ]
     },
     "execution_count": 15,
     "metadata": {},
     "output_type": "execute_result"
    }
   ],
   "source": [
    "find←keys∘⍳\n",
    "find ⊂0 9"
   ]
  },
  {
   "cell_type": "markdown",
   "metadata": {},
   "source": [
    "## Products\n",
    "\n",
    "Cartesian product"
   ]
  },
  {
   "cell_type": "code",
   "execution_count": 105,
   "metadata": {},
   "outputs": [
    {
     "data": {
      "text/html": [
       "<span style=\"white-space:pre; font-family: monospace\">┌→──────────────────────────────────────────────────────┐\n",
       "│ ┌→──┐ ┌→──┐ ┌→──┐ ┌→──┐ ┌→──┐ ┌→──┐ ┌→──┐ ┌→──┐ ┌→──┐ │\n",
       "│ │1 1│ │1 2│ │1 3│ │2 1│ │2 2│ │2 3│ │3 1│ │3 2│ │3 3│ │\n",
       "│ └~──┘ └~──┘ └~──┘ └~──┘ └~──┘ └~──┘ └~──┘ └~──┘ └~──┘ │\n",
       "└∊──────────────────────────────────────────────────────┘\n",
       "</span>"
      ]
     },
     "execution_count": 105,
     "metadata": {},
     "output_type": "execute_result"
    }
   ],
   "source": [
    "pairs ← {,(⍳⍵)∘.,⍳⍵}  ⍝ Python [[x, y] for x in range(1,n+1) for y in range(1,n+1)]\n",
    "pairs 3"
   ]
  },
  {
   "cell_type": "markdown",
   "metadata": {},
   "source": [
    "or an alternative formulation, using iota. Think of the arguments to iota as defining the shape of the result:"
   ]
  },
  {
   "cell_type": "code",
   "execution_count": 106,
   "metadata": {},
   "outputs": [
    {
     "data": {
      "text/html": [
       "<span style=\"white-space:pre; font-family: monospace\">┌→──────────────────────────────────────────────────────┐\n",
       "│ ┌→──┐ ┌→──┐ ┌→──┐ ┌→──┐ ┌→──┐ ┌→──┐ ┌→──┐ ┌→──┐ ┌→──┐ │\n",
       "│ │1 1│ │1 2│ │1 3│ │2 1│ │2 2│ │2 3│ │3 1│ │3 2│ │3 3│ │\n",
       "│ └~──┘ └~──┘ └~──┘ └~──┘ └~──┘ └~──┘ └~──┘ └~──┘ └~──┘ │\n",
       "└∊──────────────────────────────────────────────────────┘\n",
       "</span>"
      ]
     },
     "execution_count": 106,
     "metadata": {},
     "output_type": "execute_result"
    }
   ],
   "source": [
    "pairs ← {,⍳⍵ ⍵}\n",
    "pairs 3"
   ]
  },
  {
   "cell_type": "markdown",
   "metadata": {},
   "source": [
    "To pair the elements of two equal-length vectors, we can do:"
   ]
  },
  {
   "cell_type": "code",
   "execution_count": 50,
   "metadata": {},
   "outputs": [
    {
     "data": {
      "text/html": [
       "<span style=\"white-space:pre; font-family: monospace\">┌→────────────────────────┐\n",
       "│ ┌→──┐ ┌→──┐ ┌→──┐ ┌→──┐ │\n",
       "│ │1 5│ │2 6│ │3 7│ │4 8│ │\n",
       "│ └~──┘ └~──┘ └~──┘ └~──┘ │\n",
       "└∊────────────────────────┘\n",
       "</span>"
      ]
     },
     "execution_count": 50,
     "metadata": {},
     "output_type": "execute_result"
    }
   ],
   "source": [
    "1 2 3 4,¨5 6 7 8"
   ]
  },
  {
   "cell_type": "markdown",
   "metadata": {},
   "source": [
    "or"
   ]
  },
  {
   "cell_type": "code",
   "execution_count": 51,
   "metadata": {},
   "outputs": [
    {
     "data": {
      "text/html": [
       "<span style=\"white-space:pre; font-family: monospace\">┌→────────────────────────┐\n",
       "│ ┌→──┐ ┌→──┐ ┌→──┐ ┌→──┐ │\n",
       "│ │1 5│ │2 6│ │3 7│ │4 8│ │\n",
       "│ └~──┘ └~──┘ └~──┘ └~──┘ │\n",
       "└∊────────────────────────┘\n",
       "</span>"
      ]
     },
     "execution_count": 51,
     "metadata": {},
     "output_type": "execute_result"
    }
   ],
   "source": [
    "↓⍉↑(1 2 3 4)(5 6 7 8)"
   ]
  },
  {
   "cell_type": "markdown",
   "metadata": {},
   "source": [
    "Primes between 1 and 100, but see fast prime sieve `pco` in `dfns`."
   ]
  },
  {
   "cell_type": "code",
   "execution_count": 107,
   "metadata": {},
   "outputs": [
    {
     "data": {
      "text/html": [
       "<span style=\"white-space:pre; font-family: monospace\">┌→─────────────────────────────────────────────────────────────────────┐\n",
       "│2 3 5 7 11 13 17 19 23 29 31 37 41 43 47 53 59 61 67 71 73 79 83 89 97│\n",
       "└~─────────────────────────────────────────────────────────────────────┘\n",
       "</span>"
      ]
     },
     "execution_count": 107,
     "metadata": {},
     "output_type": "execute_result"
    }
   ],
   "source": [
    "(~R∊R∘.×R)/R←1↓⍳100"
   ]
  },
  {
   "cell_type": "markdown",
   "metadata": {},
   "source": [
    "## Composition (Currying)\n",
    "\n",
    "We can curry a dyadic function down to a monadic function by fixing either left or right argument:"
   ]
  },
  {
   "cell_type": "code",
   "execution_count": 108,
   "metadata": {},
   "outputs": [],
   "source": [
    "sum←{⍺+⍵}\n",
    "add5←5∘sum"
   ]
  },
  {
   "cell_type": "code",
   "execution_count": 109,
   "metadata": {},
   "outputs": [
    {
     "data": {
      "text/html": [
       "<span style=\"white-space:pre; font-family: monospace\">  \n",
       "12\n",
       "  \n",
       "</span>"
      ]
     },
     "execution_count": 109,
     "metadata": {},
     "output_type": "execute_result"
    }
   ],
   "source": [
    "add5 7"
   ]
  },
  {
   "cell_type": "code",
   "execution_count": 110,
   "metadata": {},
   "outputs": [
    {
     "data": {
      "text/html": [
       "<span style=\"white-space:pre; font-family: monospace\">┌→───────────────┐\n",
       "│6 7 8 9 10 11 12│\n",
       "└~───────────────┘\n",
       "</span>"
      ]
     },
     "execution_count": 110,
     "metadata": {},
     "output_type": "execute_result"
    }
   ],
   "source": [
    "add5 1 2 3 4 5 6 7"
   ]
  },
  {
   "cell_type": "markdown",
   "metadata": {},
   "source": [
    "## Shape and Rank\n",
    "\n",
    "Pair consecutive elements in a vector"
   ]
  },
  {
   "cell_type": "code",
   "execution_count": 111,
   "metadata": {},
   "outputs": [
    {
     "data": {
      "text/html": [
       "<span style=\"white-space:pre; font-family: monospace\">┌→───────────────────────────────┐\n",
       "│ ┌→──┐ ┌→──┐ ┌→──┐ ┌→──┐ ┌→───┐ │\n",
       "│ │1 2│ │3 4│ │5 6│ │7 8│ │9 10│ │\n",
       "│ └~──┘ └~──┘ └~──┘ └~──┘ └~───┘ │\n",
       "└∊───────────────────────────────┘\n",
       "</span>"
      ]
     },
     "execution_count": 111,
     "metadata": {},
     "output_type": "execute_result"
    }
   ],
   "source": [
    "{⊂⍵}⌺(⍪2 2) ⊢ ⍳10"
   ]
  },
  {
   "cell_type": "code",
   "execution_count": 112,
   "metadata": {},
   "outputs": [
    {
     "data": {
      "text/html": [
       "<span style=\"white-space:pre; font-family: monospace\">┌→───────────────────────────────┐\n",
       "│ ┌→──┐ ┌→──┐ ┌→──┐ ┌→──┐ ┌→───┐ │\n",
       "│ │1 2│ │3 4│ │5 6│ │7 8│ │9 10│ │\n",
       "│ └~──┘ └~──┘ └~──┘ └~──┘ └~───┘ │\n",
       "└∊───────────────────────────────┘\n",
       "</span>"
      ]
     },
     "execution_count": 112,
     "metadata": {},
     "output_type": "execute_result"
    }
   ],
   "source": [
    ",⌿⍉5 2 ⍴ ⍳10"
   ]
  },
  {
   "cell_type": "code",
   "execution_count": 113,
   "metadata": {},
   "outputs": [
    {
     "data": {
      "text/html": [
       "<span style=\"white-space:pre; font-family: monospace\">┌→───────────────────────────────┐\n",
       "│ ┌→──┐ ┌→──┐ ┌→──┐ ┌→──┐ ┌→───┐ │\n",
       "│ │1 2│ │3 4│ │5 6│ │7 8│ │9 10│ │\n",
       "│ └~──┘ └~──┘ └~──┘ └~──┘ └~───┘ │\n",
       "└∊───────────────────────────────┘\n",
       "</span>"
      ]
     },
     "execution_count": 113,
     "metadata": {},
     "output_type": "execute_result"
    }
   ],
   "source": [
    "↓5 2 ⍴ ⍳10"
   ]
  },
  {
   "cell_type": "markdown",
   "metadata": {},
   "source": [
    "Overlapping pairs"
   ]
  },
  {
   "cell_type": "code",
   "execution_count": 54,
   "metadata": {},
   "outputs": [
    {
     "data": {
      "text/html": [
       "<span style=\"white-space:pre; font-family: monospace\">┌→───────────────────────────────────────────────────────┐\n",
       "│ ┌→──┐ ┌→──┐ ┌→──┐ ┌→──┐ ┌→──┐ ┌→──┐ ┌→──┐ ┌→──┐ ┌→───┐ │\n",
       "│ │1 2│ │2 3│ │3 4│ │4 5│ │5 6│ │6 7│ │7 8│ │8 9│ │9 10│ │\n",
       "│ └~──┘ └~──┘ └~──┘ └~──┘ └~──┘ └~──┘ └~──┘ └~──┘ └~───┘ │\n",
       "└∊───────────────────────────────────────────────────────┘\n",
       "</span>"
      ]
     },
     "execution_count": 54,
     "metadata": {},
     "output_type": "execute_result"
    }
   ],
   "source": [
    "{⊂⍵}⌺2 ⊢ ⍳10"
   ]
  },
  {
   "cell_type": "markdown",
   "metadata": {},
   "source": [
    "## Folds\n",
    "\n",
    "The reduce operator / folds R-L. It's possible to define a fold operator that works L-R. All this does is to prepend the accumulator, and reverse the array we're folding before applying the normal fold."
   ]
  },
  {
   "cell_type": "code",
   "execution_count": 114,
   "metadata": {},
   "outputs": [],
   "source": [
    "foldl←{↑⍺⍺⍨/(⌽⍵),⊂⍺}"
   ]
  },
  {
   "cell_type": "code",
   "execution_count": 115,
   "metadata": {},
   "outputs": [
    {
     "data": {
      "text/html": [
       "<span style=\"white-space:pre; font-family: monospace\">  \n",
       "15\n",
       "  \n",
       "</span>"
      ]
     },
     "execution_count": 115,
     "metadata": {},
     "output_type": "execute_result"
    }
   ],
   "source": [
    "0 + foldl 1 2 3 4 5 ⍝ Must give initial accumulator state"
   ]
  },
  {
   "cell_type": "markdown",
   "metadata": {},
   "source": [
    "Note that this operator (and many others) exists in the standard Dyalog workspace [dfns](https://dfns.dyalog.com/s_foldl.htm), which can be imported as ⎕CY 'dfns'"
   ]
  },
  {
   "cell_type": "markdown",
   "metadata": {},
   "source": [
    "## On ranges\n",
    "\n",
    "In Python, for example, you can specify a [range](https://docs.python.org/3/library/functions.html#func-range) as `range(start, end)` which gives an iterator from start to end-1. In Dyalog there isn't a direct equivalent, but one can be made from the iota operator."
   ]
  },
  {
   "cell_type": "code",
   "execution_count": 116,
   "metadata": {},
   "outputs": [
    {
     "data": {
      "text/html": [
       "<span style=\"white-space:pre; font-family: monospace\">┌→────────┐\n",
       "│5 6 7 8 9│\n",
       "└~────────┘\n",
       "</span>"
      ]
     },
     "execution_count": 116,
     "metadata": {},
     "output_type": "execute_result"
    }
   ],
   "source": [
    "¯1+5 {⍺↓⍳⍵} 10   ⍝ Wasteful, as generating from ⎕IO"
   ]
  },
  {
   "cell_type": "code",
   "execution_count": 117,
   "metadata": {},
   "outputs": [
    {
     "data": {
      "text/html": [
       "<span style=\"white-space:pre; font-family: monospace\">┌→────────┐\n",
       "│5 6 7 8 9│\n",
       "└~────────┘\n",
       "</span>"
      ]
     },
     "execution_count": 117,
     "metadata": {},
     "output_type": "execute_result"
    }
   ],
   "source": [
    "¯1+5 (⊣↓∘⍳) 10   ⍝ The abobve as a train"
   ]
  },
  {
   "cell_type": "code",
   "execution_count": 118,
   "metadata": {},
   "outputs": [
    {
     "data": {
      "text/html": [
       "<span style=\"white-space:pre; font-family: monospace\">┌→────────┐\n",
       "│5 6 7 8 9│\n",
       "└~────────┘\n",
       "</span>"
      ]
     },
     "execution_count": 118,
     "metadata": {},
     "output_type": "execute_result"
    }
   ],
   "source": [
    "¯1+5 {⍺+⍳⍵-⍺} 10 ⍝ Better!"
   ]
  },
  {
   "cell_type": "code",
   "execution_count": 119,
   "metadata": {},
   "outputs": [
    {
     "data": {
      "text/html": [
       "<span style=\"white-space:pre; font-family: monospace\">┌→────────┐\n",
       "│5 6 7 8 9│\n",
       "└~────────┘\n",
       "</span>"
      ]
     },
     "execution_count": 119,
     "metadata": {},
     "output_type": "execute_result"
    }
   ],
   "source": [
    "¯1+5 (⊣+∘⍳-⍨) 10 ⍝ The above as a train"
   ]
  },
  {
   "cell_type": "code",
   "execution_count": 1,
   "metadata": {},
   "outputs": [
    {
     "data": {
      "text/html": [
       "<span style=\"white-space:pre; font-family: monospace\">Rebuilding user command cache... done\n",
       "</span>"
      ]
     },
     "execution_count": 1,
     "metadata": {},
     "output_type": "execute_result"
    },
    {
     "data": {
      "text/html": [
       "<span style=\"white-space:pre; font-family: monospace\">12 9 6 3\n",
       "</span>"
      ]
     },
     "execution_count": 1,
     "metadata": {},
     "output_type": "execute_result"
    }
   ],
   "source": [
    "'iotag'⎕CY'dfns' ⍝ iotag -- generalised iota\n",
    "12 iotag 3 3 ⍝ 12 downto 3, step 3"
   ]
  },
  {
   "cell_type": "markdown",
   "metadata": {},
   "source": [
    "## Stencils\n",
    "\n",
    "Pick out 3x3 regions of a larger matrix. The stencil takes a function to the left and a shape to the right and returns a monad.\n",
    "\n",
    "This from https://chat.stackexchange.com/rooms/52405/conversation/lesson-5-even-more-apl-operators--"
   ]
  },
  {
   "cell_type": "code",
   "execution_count": 120,
   "metadata": {},
   "outputs": [
    {
     "data": {
      "text/html": [
       "<span style=\"white-space:pre; font-family: monospace\">┌→─────┐\n",
       "↓ABCDEF│\n",
       "│GHIJKL│\n",
       "│MNOPQR│\n",
       "│STUVWX│\n",
       "└──────┘\n",
       "</span>"
      ]
     },
     "execution_count": 120,
     "metadata": {},
     "output_type": "execute_result"
    },
    {
     "data": {
      "text/html": [
       "<span style=\"white-space:pre; font-family: monospace\">┌→────────────────────────────────────┐\n",
       "↓ ┌→──┐ ┌→──┐ ┌→──┐ ┌→──┐ ┌→──┐ ┌→──┐ │\n",
       "│ ↓   │ ↓   │ ↓   │ ↓   │ ↓   │ ↓   │ │\n",
       "│ │ AB│ │ABC│ │BCD│ │CDE│ │DEF│ │EF │ │\n",
       "│ │ GH│ │GHI│ │HIJ│ │IJK│ │JKL│ │KL │ │\n",
       "│ └───┘ └───┘ └───┘ └───┘ └───┘ └───┘ │\n",
       "│ ┌→──┐ ┌→──┐ ┌→──┐ ┌→──┐ ┌→──┐ ┌→──┐ │\n",
       "│ ↓ AB│ ↓ABC│ ↓BCD│ ↓CDE│ ↓DEF│ ↓EF │ │\n",
       "│ │ GH│ │GHI│ │HIJ│ │IJK│ │JKL│ │KL │ │\n",
       "│ │ MN│ │MNO│ │NOP│ │OPQ│ │PQR│ │QR │ │\n",
       "│ └───┘ └───┘ └───┘ └───┘ └───┘ └───┘ │\n",
       "│ ┌→──┐ ┌→──┐ ┌→──┐ ┌→──┐ ┌→──┐ ┌→──┐ │\n",
       "│ ↓ GH│ ↓GHI│ ↓HIJ│ ↓IJK│ ↓JKL│ ↓KL │ │\n",
       "│ │ MN│ │MNO│ │NOP│ │OPQ│ │PQR│ │QR │ │\n",
       "│ │ ST│ │STU│ │TUV│ │UVW│ │VWX│ │WX │ │\n",
       "│ └───┘ └───┘ └───┘ └───┘ └───┘ └───┘ │\n",
       "│ ┌→──┐ ┌→──┐ ┌→──┐ ┌→──┐ ┌→──┐ ┌→──┐ │\n",
       "│ ↓ MN│ ↓MNO│ ↓NOP│ ↓OPQ│ ↓PQR│ ↓QR │ │\n",
       "│ │ ST│ │STU│ │TUV│ │UVW│ │VWX│ │WX │ │\n",
       "│ │   │ │   │ │   │ │   │ │   │ │   │ │\n",
       "│ └───┘ └───┘ └───┘ └───┘ └───┘ └───┘ │\n",
       "└∊────────────────────────────────────┘\n",
       "</span>"
      ]
     },
     "execution_count": 120,
     "metadata": {},
     "output_type": "execute_result"
    }
   ],
   "source": [
    "⎕←letters ← 4 6⍴⎕A\n",
    "{⊂⍵}⌺3 3 ⊢ letters     ⍝ Enclose the selected window"
   ]
  },
  {
   "cell_type": "markdown",
   "metadata": {},
   "source": [
    "The padding is defined by ⍺ in the operand function:"
   ]
  },
  {
   "cell_type": "code",
   "execution_count": 121,
   "metadata": {},
   "outputs": [
    {
     "data": {
      "text/html": [
       "<span style=\"white-space:pre; font-family: monospace\">┌→───────────────────────────────────────────┐\n",
       "↓ ┌→──┐  ┌→──┐  ┌→──┐  ┌→──┐  ┌→──┐  ┌→───┐  │\n",
       "│ │1 1│  │1 0│  │1 0│  │1 0│  │1 0│  │1 ¯1│  │\n",
       "│ └~──┘  └~──┘  └~──┘  └~──┘  └~──┘  └~───┘  │\n",
       "│ ┌→──┐  ┌→──┐  ┌→──┐  ┌→──┐  ┌→──┐  ┌→───┐  │\n",
       "│ │0 1│  │0 0│  │0 0│  │0 0│  │0 0│  │0 ¯1│  │\n",
       "│ └~──┘  └~──┘  └~──┘  └~──┘  └~──┘  └~───┘  │\n",
       "│ ┌→──┐  ┌→──┐  ┌→──┐  ┌→──┐  ┌→──┐  ┌→───┐  │\n",
       "│ │0 1│  │0 0│  │0 0│  │0 0│  │0 0│  │0 ¯1│  │\n",
       "│ └~──┘  └~──┘  └~──┘  └~──┘  └~──┘  └~───┘  │\n",
       "│ ┌→───┐ ┌→───┐ ┌→───┐ ┌→───┐ ┌→───┐ ┌→────┐ │\n",
       "│ │¯1 1│ │¯1 0│ │¯1 0│ │¯1 0│ │¯1 0│ │¯1 ¯1│ │\n",
       "│ └~───┘ └~───┘ └~───┘ └~───┘ └~───┘ └~────┘ │\n",
       "└∊───────────────────────────────────────────┘\n",
       "</span>"
      ]
     },
     "execution_count": 121,
     "metadata": {},
     "output_type": "execute_result"
    }
   ],
   "source": [
    "({⊂⍺}⌺3 3) ⊢ letters"
   ]
  },
  {
   "cell_type": "code",
   "execution_count": 122,
   "metadata": {},
   "outputs": [
    {
     "data": {
      "text/html": [
       "<span style=\"white-space:pre; font-family: monospace\">┌→──────────────────────────────────┐\n",
       "↓ ┌→─┐ ┌→──┐ ┌→──┐ ┌→──┐ ┌→──┐ ┌→─┐ │\n",
       "│ ↓AB│ ↓ABC│ ↓BCD│ ↓CDE│ ↓DEF│ ↓EF│ │\n",
       "│ │GH│ │GHI│ │HIJ│ │IJK│ │JKL│ │KL│ │\n",
       "│ └──┘ └───┘ └───┘ └───┘ └───┘ └──┘ │\n",
       "│ ┌→─┐ ┌→──┐ ┌→──┐ ┌→──┐ ┌→──┐ ┌→─┐ │\n",
       "│ ↓AB│ ↓ABC│ ↓BCD│ ↓CDE│ ↓DEF│ ↓EF│ │\n",
       "│ │GH│ │GHI│ │HIJ│ │IJK│ │JKL│ │KL│ │\n",
       "│ │MN│ │MNO│ │NOP│ │OPQ│ │PQR│ │QR│ │\n",
       "│ └──┘ └───┘ └───┘ └───┘ └───┘ └──┘ │\n",
       "│ ┌→─┐ ┌→──┐ ┌→──┐ ┌→──┐ ┌→──┐ ┌→─┐ │\n",
       "│ ↓GH│ ↓GHI│ ↓HIJ│ ↓IJK│ ↓JKL│ ↓KL│ │\n",
       "│ │MN│ │MNO│ │NOP│ │OPQ│ │PQR│ │QR│ │\n",
       "│ │ST│ │STU│ │TUV│ │UVW│ │VWX│ │WX│ │\n",
       "│ └──┘ └───┘ └───┘ └───┘ └───┘ └──┘ │\n",
       "│ ┌→─┐ ┌→──┐ ┌→──┐ ┌→──┐ ┌→──┐ ┌→─┐ │\n",
       "│ ↓MN│ ↓MNO│ ↓NOP│ ↓OPQ│ ↓PQR│ ↓QR│ │\n",
       "│ │ST│ │STU│ │TUV│ │UVW│ │VWX│ │WX│ │\n",
       "│ └──┘ └───┘ └───┘ └───┘ └───┘ └──┘ │\n",
       "└∊──────────────────────────────────┘\n",
       "</span>"
      ]
     },
     "execution_count": 122,
     "metadata": {},
     "output_type": "execute_result"
    }
   ],
   "source": [
    "({⊂⍺↓⍵}⌺3 3) ⊢ letters"
   ]
  },
  {
   "cell_type": "markdown",
   "metadata": {},
   "source": [
    "## Key"
   ]
  },
  {
   "cell_type": "code",
   "execution_count": 123,
   "metadata": {},
   "outputs": [
    {
     "data": {
      "text/html": [
       "<span style=\"white-space:pre; font-family: monospace\">┌→──────────┐\n",
       "↓M 1        │\n",
       "│i 2  5 8 11│\n",
       "│s 3  4 6  7│\n",
       "│p 9 10     │\n",
       "└+──────────┘\n",
       "</span>"
      ]
     },
     "execution_count": 123,
     "metadata": {},
     "output_type": "execute_result"
    }
   ],
   "source": [
    "{⍺,⍵}⌸'Mississippi'  ⍝ Show indexes of items, by item"
   ]
  },
  {
   "cell_type": "code",
   "execution_count": 124,
   "metadata": {},
   "outputs": [
    {
     "data": {
      "text/html": [
       "<span style=\"white-space:pre; font-family: monospace\">┌→──┐\n",
       "↓M 1│\n",
       "│i 4│\n",
       "│s 4│\n",
       "│p 2│\n",
       "└+──┘\n",
       "</span>"
      ]
     },
     "execution_count": 124,
     "metadata": {},
     "output_type": "execute_result"
    }
   ],
   "source": [
    "{⍺,≢⍵}⌸'Mississippi' ⍝ Frequencies"
   ]
  },
  {
   "cell_type": "markdown",
   "metadata": {},
   "source": [
    "...or as tacit"
   ]
  },
  {
   "cell_type": "code",
   "execution_count": 125,
   "metadata": {},
   "outputs": [
    {
     "data": {
      "text/html": [
       "<span style=\"white-space:pre; font-family: monospace\">┌→──┐\n",
       "↓M 1│\n",
       "│i 4│\n",
       "│s 4│\n",
       "│p 2│\n",
       "└+──┘\n",
       "</span>"
      ]
     },
     "execution_count": 125,
     "metadata": {},
     "output_type": "execute_result"
    }
   ],
   "source": [
    "(,∘≢⌸)'Mississippi'"
   ]
  },
  {
   "cell_type": "markdown",
   "metadata": {},
   "source": [
    "Pick the most frequent item, returning all if several"
   ]
  },
  {
   "cell_type": "code",
   "execution_count": 126,
   "metadata": {},
   "outputs": [
    {
     "data": {
      "text/html": [
       "<span style=\"white-space:pre; font-family: monospace\">┌→─┐\n",
       "│is│\n",
       "└──┘\n",
       "</span>"
      ]
     },
     "execution_count": 126,
     "metadata": {},
     "output_type": "execute_result"
    }
   ],
   "source": [
    "{(⊣/m)/⍨frq⍷⍨frq⌷⍨⊃⍒frq←⊢/m←(,∘≢⌸)⍵} 'Mississippi' ⍝ Most frequent"
   ]
  },
  {
   "cell_type": "markdown",
   "metadata": {},
   "source": [
    "## Sliding Tiles example\n",
    "\n",
    "With ample help from @ngn on APL Orchard."
   ]
  },
  {
   "cell_type": "code",
   "execution_count": 127,
   "metadata": {},
   "outputs": [],
   "source": [
    "]dinput\n",
    "moves←{\n",
    "     d←(0 1)(1 0)(0 ¯1)(¯1 0)      ⍝ Move offsets\n",
    "     m←⍵\n",
    "     {⌽@i ⍵⊢m}¨(,⍳⍴m)∩d+⊂i←⊃⍸0=m\n",
    " }"
   ]
  },
  {
   "cell_type": "code",
   "execution_count": 130,
   "metadata": {},
   "outputs": [
    {
     "data": {
      "text/html": [
       "<span style=\"white-space:pre; font-family: monospace\">┌→──────────────────────────────────────────┐\n",
       "│ ┌→──────────┐ ┌→──────────┐ ┌→──────────┐ │\n",
       "│ ↓ 3  0  2  8│ ↓ 3  2  8  0│ ↓ 3  2  5  8│ │\n",
       "│ │11 15  5  7│ │11 15  5  7│ │11 15  0  7│ │\n",
       "│ │13 10  9 12│ │13 10  9 12│ │13 10  9 12│ │\n",
       "│ │ 1  4 14  6│ │ 1  4 14  6│ │ 1  4 14  6│ │\n",
       "│ └~──────────┘ └~──────────┘ └~──────────┘ │\n",
       "└∊──────────────────────────────────────────┘\n",
       "</span>"
      ]
     },
     "execution_count": 130,
     "metadata": {},
     "output_type": "execute_result"
    }
   ],
   "source": [
    "state←¯1+4 4⍴?⍨16\n",
    "moves state"
   ]
  },
  {
   "cell_type": "markdown",
   "metadata": {},
   "source": [
    "A lot to decode here. The `i` expression gives the row-col of the 0 element:"
   ]
  },
  {
   "cell_type": "code",
   "execution_count": 131,
   "metadata": {},
   "outputs": [
    {
     "data": {
      "text/html": [
       "<span style=\"white-space:pre; font-family: monospace\">┌→──────────┐\n",
       "↓ 3  2  0  8│\n",
       "│11 15  5  7│\n",
       "│13 10  9 12│\n",
       "│ 1  4 14  6│\n",
       "└~──────────┘\n",
       "┌→──┐\n",
       "│1 3│\n",
       "└~──┘\n",
       "</span>"
      ]
     },
     "execution_count": 131,
     "metadata": {},
     "output_type": "execute_result"
    }
   ],
   "source": [
    "state ⋄ ⊃⍸0=state"
   ]
  },
  {
   "cell_type": "markdown",
   "metadata": {},
   "source": [
    "Adding the offsets gives all potential moves:"
   ]
  },
  {
   "cell_type": "code",
   "execution_count": 132,
   "metadata": {},
   "outputs": [
    {
     "data": {
      "text/html": [
       "<span style=\"white-space:pre; font-family: monospace\">┌→────────────────────────┐\n",
       "│ ┌→──┐ ┌→──┐ ┌→──┐ ┌→──┐ │\n",
       "│ │1 4│ │2 3│ │1 2│ │0 3│ │\n",
       "│ └~──┘ └~──┘ └~──┘ └~──┘ │\n",
       "└∊────────────────────────┘\n",
       "</span>"
      ]
     },
     "execution_count": 132,
     "metadata": {},
     "output_type": "execute_result"
    }
   ],
   "source": [
    "d←(0 1)(1 0)(0 ¯1)(¯1 0)\n",
    "d+⊂i←⊃⍸0=state                ⍝ disclose-enclose as we want the enclosed version later"
   ]
  },
  {
   "cell_type": "markdown",
   "metadata": {},
   "source": [
    "Given the rank of m we can generate all valid coordinate pairs"
   ]
  },
  {
   "cell_type": "code",
   "execution_count": 133,
   "metadata": {},
   "outputs": [
    {
     "data": {
      "text/html": [
       "<span style=\"white-space:pre; font-family: monospace\">┌→────────────────────────────────────────────────────────────────────────────────────────────────┐\n",
       "│ ┌→──┐ ┌→──┐ ┌→──┐ ┌→──┐ ┌→──┐ ┌→──┐ ┌→──┐ ┌→──┐ ┌→──┐ ┌→──┐ ┌→──┐ ┌→──┐ ┌→──┐ ┌→──┐ ┌→──┐ ┌→──┐ │\n",
       "│ │1 1│ │1 2│ │1 3│ │1 4│ │2 1│ │2 2│ │2 3│ │2 4│ │3 1│ │3 2│ │3 3│ │3 4│ │4 1│ │4 2│ │4 3│ │4 4│ │\n",
       "│ └~──┘ └~──┘ └~──┘ └~──┘ └~──┘ └~──┘ └~──┘ └~──┘ └~──┘ └~──┘ └~──┘ └~──┘ └~──┘ └~──┘ └~──┘ └~──┘ │\n",
       "└∊────────────────────────────────────────────────────────────────────────────────────────────────┘\n",
       "</span>"
      ]
     },
     "execution_count": 133,
     "metadata": {},
     "output_type": "execute_result"
    }
   ],
   "source": [
    ",⍳⍴state"
   ]
  },
  {
   "cell_type": "markdown",
   "metadata": {},
   "source": [
    "and then discard the moves that falls out of range as an intersection:"
   ]
  },
  {
   "cell_type": "code",
   "execution_count": 134,
   "metadata": {},
   "outputs": [
    {
     "data": {
      "text/html": [
       "<span style=\"white-space:pre; font-family: monospace\">┌→──────────────────┐\n",
       "│ ┌→──┐ ┌→──┐ ┌→──┐ │\n",
       "│ │1 2│ │1 4│ │2 3│ │\n",
       "│ └~──┘ └~──┘ └~──┘ │\n",
       "└∊──────────────────┘\n",
       "</span>"
      ]
     },
     "execution_count": 134,
     "metadata": {},
     "output_type": "execute_result"
    }
   ],
   "source": [
    "(,⍳⍴state)∩d+⊂i←⊃⍸0=state"
   ]
  },
  {
   "cell_type": "markdown",
   "metadata": {},
   "source": [
    "We now map `{⌽@i ⍵⊢m}` over the list of valid moves. How does that work?"
   ]
  },
  {
   "cell_type": "code",
   "execution_count": 135,
   "metadata": {},
   "outputs": [
    {
     "data": {
      "text/html": [
       "<span style=\"white-space:pre; font-family: monospace\">┌→──────────────────────────────────────────┐\n",
       "│ ┌→──────────┐ ┌→──────────┐ ┌→──────────┐ │\n",
       "│ ↓ 3  0  2  8│ ↓ 3  2  8  0│ ↓ 3  2  5  8│ │\n",
       "│ │11 15  5  7│ │11 15  5  7│ │11 15  0  7│ │\n",
       "│ │13 10  9 12│ │13 10  9 12│ │13 10  9 12│ │\n",
       "│ │ 1  4 14  6│ │ 1  4 14  6│ │ 1  4 14  6│ │\n",
       "│ └~──────────┘ └~──────────┘ └~──────────┘ │\n",
       "└∊──────────────────────────────────────────┘\n",
       "</span>"
      ]
     },
     "execution_count": 135,
     "metadata": {},
     "output_type": "execute_result"
    }
   ],
   "source": [
    "{⌽@i ⍵⊢state}¨(,⍳⍴state)∩d+⊂i←⊃⍸0=state"
   ]
  },
  {
   "cell_type": "markdown",
   "metadata": {},
   "source": [
    "The dyadic `@` glyph in this case applies the reverse function `⌽` on the set of indexes given to its right argument. For example, if we want to switch the elements at (1 1) and (1 2) in m, we could say:"
   ]
  },
  {
   "cell_type": "code",
   "execution_count": 137,
   "metadata": {},
   "outputs": [
    {
     "data": {
      "text/html": [
       "<span style=\"white-space:pre; font-family: monospace\">┌→──────────┐\n",
       "↓ 3  2  0  8│\n",
       "│11 15  5  7│\n",
       "│13 10  9 12│\n",
       "│ 1  4 14  6│\n",
       "└~──────────┘\n",
       "┌→──────────┐\n",
       "↓ 2  3  0  8│\n",
       "│11 15  5  7│\n",
       "│13 10  9 12│\n",
       "│ 1  4 14  6│\n",
       "└~──────────┘\n",
       "</span>"
      ]
     },
     "execution_count": 137,
     "metadata": {},
     "output_type": "execute_result"
    }
   ],
   "source": [
    "state ⋄ (⌽@(1 1) (1 2)) state"
   ]
  },
  {
   "cell_type": "markdown",
   "metadata": {},
   "source": [
    "Using the right-tack `⊢` we can drop the brackets."
   ]
  },
  {
   "cell_type": "code",
   "execution_count": 138,
   "metadata": {},
   "outputs": [
    {
     "data": {
      "text/html": [
       "<span style=\"white-space:pre; font-family: monospace\">┌→──────────┐\n",
       "↓ 2  3  0  8│\n",
       "│11 15  5  7│\n",
       "│13 10  9 12│\n",
       "│ 1  4 14  6│\n",
       "└~──────────┘\n",
       "</span>"
      ]
     },
     "execution_count": 138,
     "metadata": {},
     "output_type": "execute_result"
    }
   ],
   "source": [
    "⌽@(1 1) (1 2) ⊢ state"
   ]
  },
  {
   "cell_type": "markdown",
   "metadata": {},
   "source": [
    "## A heap implemented as a Leftist Tree\n",
    "\n",
    "A heap is a data structure that can be implemented as a Leftist Tree, which lends itself naturally to a recursive implementation.\n",
    "\n",
    "https://en.wikipedia.org/wiki/Leftist_tree\n",
    "http://typeocaml.com/2015/03/12/heap-leftist-tree/\n",
    "\n",
    "Here is a partial port of the OCaml version."
   ]
  },
  {
   "cell_type": "code",
   "execution_count": 9,
   "metadata": {},
   "outputs": [],
   "source": [
    "]dinput\n",
    "Pop←{ ⍝ Pop off smallest element from a leftist tree ⍵\n",
    "    0=≢⍵:⍬\n",
    "    (value left right)←1↓⍵\n",
    "    (left Merge right) value\n",
    "}"
   ]
  },
  {
   "cell_type": "code",
   "execution_count": 10,
   "metadata": {},
   "outputs": [],
   "source": [
    "]dinput\n",
    "Push←{ ⍝ Insert item ⍵ into leftist tree ⍺, returning the resulting tree\n",
    "    ⍺←⍬              ⍝ default to init\n",
    "    1 ⍵ ⍬ ⍬ Merge ⍺ \n",
    "}"
   ]
  },
  {
   "cell_type": "code",
   "execution_count": 11,
   "metadata": {},
   "outputs": [],
   "source": [
    "]dinput\n",
    "Merge←{ ⍝ Merge leftist trees ⍺ and ⍵\n",
    "    0=≢⍺:⍵ ⋄ 0=≢⍵:⍺                                 ⍝ If either is a leaf, return the other\n",
    "    (key left right)←1↓⍺\n",
    "    key>(⎕IO+1)⊃⍵:⍵∇⍺                               ⍝ Flip to ensure smallest is root of merged\n",
    "    merged←right∇⍵                                  ⍝ Merge rightwards\n",
    "    leftRank←⊃left ⋄ mergedRank←⊃merged\n",
    "    leftRank≥⊃merged:(1+mergedRank) key left merged ⍝ Right is shorter\n",
    "    (1+leftRank) key merged left                    ⍝ Left is shorter; make it the new right\n",
    "}"
   ]
  },
  {
   "cell_type": "code",
   "execution_count": 12,
   "metadata": {},
   "outputs": [
    {
     "data": {
      "text/html": [
       "<span style=\"white-space:pre; font-family: monospace\">┌─┬─┬─────────────────────┬────────┐\n",
       "│2│2│┌─┬─┬───────┬───────┐│┌─┬──┬┬┐│\n",
       "│ │ ││2│3│┌─┬─┬┬┐│┌─┬─┬┬┐│││1│10││││\n",
       "│ │ ││ │ ││1│6│││││1│9│││││└─┴──┴┴┘│\n",
       "│ │ ││ │ │└─┴─┴┴┘│└─┴─┴┴┘││        │\n",
       "│ │ │└─┴─┴───────┴───────┘│        │\n",
       "└─┴─┴─────────────────────┴────────┘\n",
       "</span>"
      ]
     },
     "execution_count": 12,
     "metadata": {},
     "output_type": "execute_result"
    }
   ],
   "source": [
    "⍝ Example given in http://typeocaml.com/2015/03/12/heap-leftist-tree/\n",
    "h←Push 2\n",
    "h Push←10\n",
    "h Push←9\n",
    "\n",
    "s←Push 3\n",
    "s Push←6\n",
    "\n",
    "h Merge s"
   ]
  },
  {
   "cell_type": "markdown",
   "metadata": {},
   "source": [
    "More compact, and a more natural fit for APL. Note that the Leftist Tree has slightly different performance characteristics to the standard heap. "
   ]
  },
  {
   "cell_type": "markdown",
   "metadata": {},
   "source": [
    "## Strings\n",
    "\n",
    "Lower/upper-case a string"
   ]
  },
  {
   "cell_type": "code",
   "execution_count": 34,
   "metadata": {},
   "outputs": [
    {
     "data": {
      "text/html": [
       "<span style=\"white-space:pre; font-family: monospace\">┌→────────────────────────────┐\n",
       "│hello all people in the world│\n",
       "└─────────────────────────────┘\n",
       "</span>"
      ]
     },
     "execution_count": 34,
     "metadata": {},
     "output_type": "execute_result"
    }
   ],
   "source": [
    "(819⌶) 'Hello All People in The World'   ⍝ NOTE: deprecated in Dyalog 18.X in favour of ⎕C"
   ]
  },
  {
   "cell_type": "code",
   "execution_count": 35,
   "metadata": {},
   "outputs": [
    {
     "data": {
      "text/html": [
       "<span style=\"white-space:pre; font-family: monospace\">┌→────────────────────────────┐\n",
       "│HELLO ALL PEOPLE IN THE WORLD│\n",
       "└─────────────────────────────┘\n",
       "</span>"
      ]
     },
     "execution_count": 35,
     "metadata": {},
     "output_type": "execute_result"
    }
   ],
   "source": [
    "1(819⌶) 'Hello All People in The World'  ⍝ NOTE: deprecated in Dyalog 18.X in favour of ⎕C"
   ]
  },
  {
   "cell_type": "markdown",
   "metadata": {},
   "source": [
    "We can also use regular expressions, of course:"
   ]
  },
  {
   "cell_type": "code",
   "execution_count": 36,
   "metadata": {},
   "outputs": [
    {
     "data": {
      "text/html": [
       "<span style=\"white-space:pre; font-family: monospace\">┌→────────────────────────────┐\n",
       "│HELLO ALL PEOPLE IN THE WORLD│\n",
       "└─────────────────────────────┘\n",
       "</span>"
      ]
     },
     "execution_count": 36,
     "metadata": {},
     "output_type": "execute_result"
    }
   ],
   "source": [
    "{⊃('.+' ⎕S '\\u0')⍵} 'Hello All People in The World'"
   ]
  },
  {
   "cell_type": "markdown",
   "metadata": {},
   "source": [
    "As we saw earlier, we can split a string on a regex pattern:"
   ]
  },
  {
   "cell_type": "code",
   "execution_count": 37,
   "metadata": {},
   "outputs": [],
   "source": [
    "RegSplit←{(⊢/¨r)↓¨⍵⊂⍨(⍳≢⍵)∊1+⊃¨r←(⍺,'|^')⎕S 0 1⊢⍵}"
   ]
  },
  {
   "cell_type": "code",
   "execution_count": 38,
   "metadata": {},
   "outputs": [
    {
     "data": {
      "text/html": [
       "<span style=\"white-space:pre; font-family: monospace\">┌→──────────────────────────┐\n",
       "│ ┌→───┐ ┌→─┐ ┌→──────┐ ┌⊖┐ │\n",
       "│ │here│ │be│ │dragons│ │ │ │\n",
       "│ └────┘ └──┘ └───────┘ └─┘ │\n",
       "└∊──────────────────────────┘\n",
       "</span>"
      ]
     },
     "execution_count": 38,
     "metadata": {},
     "output_type": "execute_result"
    }
   ],
   "source": [
    "'/+' RegSplit 'here/////be/dragons/'"
   ]
  },
  {
   "cell_type": "markdown",
   "metadata": {},
   "source": [
    "...or simply on a separator char"
   ]
  },
  {
   "cell_type": "code",
   "execution_count": 39,
   "metadata": {},
   "outputs": [
    {
     "data": {
      "text/html": [
       "<span style=\"white-space:pre; font-family: monospace\">┌→──────────────────────────────┐\n",
       "│ ┌→────┐ ┌→────┐ ┌→──┐ ┌→────┐ │\n",
       "│ │hello│ │world│ │out│ │there│ │\n",
       "│ └─────┘ └─────┘ └───┘ └─────┘ │\n",
       "└∊──────────────────────────────┘\n",
       "</span>"
      ]
     },
     "execution_count": 39,
     "metadata": {},
     "output_type": "execute_result"
    }
   ],
   "source": [
    "' ' (≠⊆⊢) 'hello world out there'"
   ]
  },
  {
   "cell_type": "markdown",
   "metadata": {},
   "source": [
    "### Binary operations\n",
    "\n",
    "Convert a decimal number to binary:"
   ]
  },
  {
   "cell_type": "code",
   "execution_count": 15,
   "metadata": {},
   "outputs": [
    {
     "data": {
      "text/html": [
       "<span style=\"white-space:pre; font-family: monospace\">┌→──────────┐\n",
       "│1 1 0 1 1 0│\n",
       "└~──────────┘\n",
       "</span>"
      ]
     },
     "execution_count": 15,
     "metadata": {},
     "output_type": "execute_result"
    },
    {
     "data": {
      "text/html": [
       "<span style=\"white-space:pre; font-family: monospace\">┌→──────────────────────────────┐\n",
       "│0 0 0 0 0 0 0 0 0 0 1 1 0 1 1 0│\n",
       "└~──────────────────────────────┘\n",
       "</span>"
      ]
     },
     "execution_count": 15,
     "metadata": {},
     "output_type": "execute_result"
    }
   ],
   "source": [
    "(2∘⊥⍣¯1) 54\n",
    "(16⍴2)⊤54      ⍝ Fixed number of bits"
   ]
  },
  {
   "cell_type": "markdown",
   "metadata": {},
   "source": [
    "Binary to decimal:"
   ]
  },
  {
   "cell_type": "code",
   "execution_count": 17,
   "metadata": {},
   "outputs": [
    {
     "data": {
      "text/html": [
       "<span style=\"white-space:pre; font-family: monospace\">  \n",
       "54\n",
       "  \n",
       "</span>"
      ]
     },
     "execution_count": 17,
     "metadata": {},
     "output_type": "execute_result"
    }
   ],
   "source": [
    "2⊥0 0 0 0 0 0 0 0 0 0 1 1 0 1 1 0"
   ]
  },
  {
   "cell_type": "markdown",
   "metadata": {},
   "source": [
    "The boolean functions ∨∧⍲⍱≠~ etc all work as expected on binary vectors"
   ]
  },
  {
   "cell_type": "code",
   "execution_count": 9,
   "metadata": {},
   "outputs": [
    {
     "data": {
      "text/html": [
       "<span style=\"white-space:pre; font-family: monospace\">┌→──────────┐\n",
       "│0 0 0 0 1 0│\n",
       "└~──────────┘\n",
       "</span>"
      ]
     },
     "execution_count": 9,
     "metadata": {},
     "output_type": "execute_result"
    }
   ],
   "source": [
    "0 0 0 0 1 0 ∧ 1 1 0 1 1 0 "
   ]
  },
  {
   "cell_type": "markdown",
   "metadata": {},
   "source": [
    "To right, and left shift we can use the following:"
   ]
  },
  {
   "cell_type": "code",
   "execution_count": 10,
   "metadata": {},
   "outputs": [],
   "source": [
    "Lshift←{(≢⍺)↑⍵↓⍺}\n",
    "Rshift←{(-≢⍺)↑(-⍵)↓⍺}"
   ]
  },
  {
   "cell_type": "code",
   "execution_count": 12,
   "metadata": {},
   "outputs": [
    {
     "data": {
      "text/html": [
       "<span style=\"white-space:pre; font-family: monospace\">┌→──────────┐\n",
       "│0 0 1 1 0 1│\n",
       "└~──────────┘\n",
       "</span>"
      ]
     },
     "execution_count": 12,
     "metadata": {},
     "output_type": "execute_result"
    },
    {
     "data": {
      "text/html": [
       "<span style=\"white-space:pre; font-family: monospace\">┌→──────────┐\n",
       "│0 1 1 0 0 0│\n",
       "└~──────────┘\n",
       "</span>"
      ]
     },
     "execution_count": 12,
     "metadata": {},
     "output_type": "execute_result"
    }
   ],
   "source": [
    "1 1 0 1 1 0 Rshift 2\n",
    "1 1 0 1 1 0 Lshift 2"
   ]
  },
  {
   "cell_type": "markdown",
   "metadata": {},
   "source": [
    "### TODO UNSORTED"
   ]
  },
  {
   "cell_type": "markdown",
   "metadata": {},
   "source": [
    "83 ¯1⎕MAP filename ⍝ read raw bytes\n",
    "{⍺⎕UCS¨⍨⊂'-\\w+$'⎕R''⊢⍵}/2↑⎕NGET 'data/2015/08.txt' 1 ⍝ read raw bytes\n",
    "\n",
    "(∪⍳⊢)Y ⍝ convert strings to IDs\n",
    "a⌹a=a  average\n",
    "(⍕≡⊢)Y ⍝ is Y simple character array?\n",
    "(1=2|⎕DR)Y ⍝ is Y all numeric\n",
    "\n",
    "v←{A←⊃∘.+/3⍴⊂⍳100 ⋄ ⊃,/{⍵,¨⍸(100-⍵)=A}¨⍳100}⍬ ⍝ stars & bars\n",
    "\n",
    "best⊣⍣(~value<best)←value  ⍝ if value < best then best=value"
   ]
  },
  {
   "cell_type": "markdown",
   "metadata": {},
   "source": [
    "### JSON\n",
    "\n",
    "Parse a JSON-string into nested namespaces where needed:"
   ]
  },
  {
   "cell_type": "code",
   "execution_count": 32,
   "metadata": {},
   "outputs": [
    {
     "data": {
      "text/html": [
       "<span style=\"white-space:pre; font-family: monospace\">               \n",
       "#.[JSON object]\n",
       "               \n",
       "</span>"
      ]
     },
     "execution_count": 32,
     "metadata": {},
     "output_type": "execute_result"
    }
   ],
   "source": [
    "JSONSTR←'{\"key11\":\"value11\",\"key12\":{\"key121\":\"value121\"},\"key13\":[1,2,3]}'\n",
    "⎕←data←⎕JSON JSONSTR"
   ]
  },
  {
   "cell_type": "markdown",
   "metadata": {},
   "source": [
    "This contains the names of simple keys and the names of references (dicts) as separate entries in the namespace:"
   ]
  },
  {
   "cell_type": "code",
   "execution_count": 35,
   "metadata": {},
   "outputs": [
    {
     "data": {
      "text/html": [
       "<span style=\"white-space:pre; font-family: monospace\">┌→────────────────┐\n",
       "│ ┌→────┐ ┌→────┐ │\n",
       "│ │key11│ │key13│ │\n",
       "│ └─────┘ └─────┘ │\n",
       "└∊────────────────┘\n",
       "</span>"
      ]
     },
     "execution_count": 35,
     "metadata": {},
     "output_type": "execute_result"
    },
    {
     "data": {
      "text/html": [
       "<span style=\"white-space:pre; font-family: monospace\">┌→────────┐\n",
       "│ ┌→────┐ │\n",
       "│ │key12│ │\n",
       "│ └─────┘ │\n",
       "└∊────────┘\n",
       "</span>"
      ]
     },
     "execution_count": 35,
     "metadata": {},
     "output_type": "execute_result"
    }
   ],
   "source": [
    "data.(⎕NL ¯2)  ⍝ Simple keys\n",
    "data.(⎕NL ¯9)  ⍝ Object references"
   ]
  },
  {
   "cell_type": "markdown",
   "metadata": {},
   "source": [
    "Negating the argument to ⎕NL simply means return as a nested vector, rather than as an array.\n",
    "\n",
    "To get the corresponding values, we simply execute the entries returned by ⎕NL:"
   ]
  },
  {
   "cell_type": "code",
   "execution_count": 38,
   "metadata": {},
   "outputs": [
    {
     "data": {
      "text/html": [
       "<span style=\"white-space:pre; font-family: monospace\">┌→──────────────────┐\n",
       "│ ┌→──────┐ ┌→────┐ │\n",
       "│ │value11│ │1 2 3│ │\n",
       "│ └───────┘ └~────┘ │\n",
       "└∊──────────────────┘\n",
       "</span>"
      ]
     },
     "execution_count": 38,
     "metadata": {},
     "output_type": "execute_result"
    },
    {
     "data": {
      "text/html": [
       "<span style=\"white-space:pre; font-family: monospace\">┌→──────────────────────────────┐\n",
       "│ #.[JSON object].[JSON object] │\n",
       "└#──────────────────────────────┘\n",
       "</span>"
      ]
     },
     "execution_count": 38,
     "metadata": {},
     "output_type": "execute_result"
    }
   ],
   "source": [
    "⎕←simpleValues←data.(⍎¨⎕NL ¯2)\n",
    "⎕←objectValues←data.(⍎¨⎕NL ¯9)"
   ]
  },
  {
   "cell_type": "code",
   "execution_count": 5,
   "metadata": {},
   "outputs": [],
   "source": [
    "⍝ CHECK: (↑⍣≡0∘⎕JSON)Y\n",
    "⍝ (1⎕JSON{1<≢⍴⍵:∇¨⊂⍤¯1⊢⍵ ⋄ ⍵})Y apl->json"
   ]
  },
  {
   "cell_type": "markdown",
   "metadata": {},
   "source": [
    "### Namespaces\n",
    "\n",
    "Namespaces is the way to create objects, records or structs in Dyalog."
   ]
  },
  {
   "cell_type": "code",
   "execution_count": 41,
   "metadata": {},
   "outputs": [],
   "source": [
    "a←⎕NS''  ⍝ Create an anonymous namespace                 "
   ]
  },
  {
   "cell_type": "code",
   "execution_count": 43,
   "metadata": {},
   "outputs": [
    {
     "data": {
      "text/html": [
       "<span style=\"white-space:pre; font-family: monospace\">┌→─────┐\n",
       "│Stefan│\n",
       "└──────┘\n",
       "┌→──────┐\n",
       "│Bristol│\n",
       "└───────┘\n",
       "</span>"
      ]
     },
     "execution_count": 43,
     "metadata": {},
     "output_type": "execute_result"
    }
   ],
   "source": [
    "a.(Name City)← 'Stefan' 'Bristol'  ⍝ Assign two fields\n",
    "a.Name ⋄ a.City"
   ]
  },
  {
   "cell_type": "markdown",
   "metadata": {},
   "source": [
    "### Introspection and typing"
   ]
  },
  {
   "cell_type": "code",
   "execution_count": 44,
   "metadata": {},
   "outputs": [],
   "source": [
    "IsNumber←{(1=2|⎕DR)⍵}                     ⍝ Are we a number?\n",
    "IsString←⍕≡⊢                              ⍝ Are we a string?\n",
    "IsNamespace←{(326=⎕DR⍵)}                  ⍝ Are we a reference/object/namespace?"
   ]
  },
  {
   "cell_type": "markdown",
   "metadata": {},
   "source": [
    "### Performance comparisons"
   ]
  },
  {
   "cell_type": "code",
   "execution_count": 16,
   "metadata": {},
   "outputs": [
    {
     "data": {
      "text/html": [
       "<span style=\"white-space:pre; font-family: monospace\">┌→────────────────────────────────────────────────────────────────────────────┐\n",
       "↓                                                                             │\n",
       "│  vs,¨⍨@1⍤0 1@rs⊢b  → 2.7E¯2 |   0% ⎕⎕⎕⎕⎕⎕⎕⎕⎕⎕⎕⎕⎕⎕⎕⎕⎕⎕⎕⎕⎕⎕⎕⎕⎕⎕⎕⎕⎕⎕⎕⎕⎕⎕⎕⎕⎕⎕⎕⎕ │\n",
       "│  (,¨∘vs)@(rs,¨1)⊢b → 4.8E¯3 | -82% ⎕⎕⎕⎕⎕⎕⎕                                  │\n",
       "└─────────────────────────────────────────────────────────────────────────────┘\n",
       "</span>"
      ]
     },
     "execution_count": 16,
     "metadata": {},
     "output_type": "execute_result"
    }
   ],
   "source": [
    "b←↑{(⍵ 1) (0 0)}¨⍳10000\n",
    "vs←⍳10000\n",
    "rs←?⍨10000\n",
    "\n",
    "]runtime -c \"vs,¨⍨@1⍤0 1@rs⊢b\" \"(,¨∘vs)@(rs,¨1)⊢b\""
   ]
  },
  {
   "cell_type": "markdown",
   "metadata": {},
   "source": [
    "### Grouping\n",
    "\n",
    "Given a vector of integer pairs:\n",
    "\n",
    "    m1←(5 3)(5 6)(7 5)(4 7)(1 8)(2 4)(1 2)\n",
    "\n",
    "Group based on the first element of each pair to produce:\n",
    "\n",
    "    m2←(5 (3 6))(7 (,5)) (4 (,7)) (1 (8 2)) (2 (,4))\n",
    "    \n",
    "Method 1: sort, and partition-enclose:"
   ]
  },
  {
   "cell_type": "code",
   "execution_count": 2,
   "metadata": {},
   "outputs": [
    {
     "data": {
      "text/html": [
       "<span style=\"white-space:pre; font-family: monospace\">┌───────┬─────┬─────┬───────┬─────┐\n",
       "│┌─┬───┐│┌─┬─┐│┌─┬─┐│┌─┬───┐│┌─┬─┐│\n",
       "││1│8 2│││2│4│││4│7│││5│3 6│││7│5││\n",
       "│└─┴───┘│└─┴─┘│└─┴─┘│└─┴───┘│└─┴─┘│\n",
       "└───────┴─────┴─────┴───────┴─────┘\n",
       "</span>"
      ]
     },
     "execution_count": 2,
     "metadata": {},
     "output_type": "execute_result"
    }
   ],
   "source": [
    "m1←(5 3)(5 6)(7 5)(4 7)(1 8)(2 4)(1 2)\n",
    "data←(↑m1)[⍋(↑m1)[;1];]\n",
    "k←⊣/data\n",
    "↓⍉↑(∪k)(k⊆⊢/data)"
   ]
  },
  {
   "cell_type": "markdown",
   "metadata": {},
   "source": [
    "Method 2: use key:"
   ]
  },
  {
   "cell_type": "code",
   "execution_count": 3,
   "metadata": {},
   "outputs": [
    {
     "data": {
      "text/html": [
       "<span style=\"white-space:pre; font-family: monospace\">┌───────┬─────┬─────┬───────┬─────┐\n",
       "│┌─┬───┐│┌─┬─┐│┌─┬─┐│┌─┬───┐│┌─┬─┐│\n",
       "││5│3 6│││7│5│││4│7│││1│8 2│││2│4││\n",
       "│└─┴───┘│└─┴─┘│└─┴─┘│└─┴───┘│└─┴─┘│\n",
       "└───────┴─────┴─────┴───────┴─────┘\n",
       "</span>"
      ]
     },
     "execution_count": 3,
     "metadata": {},
     "output_type": "execute_result"
    }
   ],
   "source": [
    "(⊃¨{⊂⍺⍵}⌸⊢/¨)m1"
   ]
  },
  {
   "cell_type": "markdown",
   "metadata": {},
   "source": [
    "or more tacitly,"
   ]
  },
  {
   "cell_type": "code",
   "execution_count": 4,
   "metadata": {},
   "outputs": [
    {
     "data": {
      "text/html": [
       "<span style=\"white-space:pre; font-family: monospace\">┌───────┬─────┬─────┬───────┬─────┐\n",
       "│┌─┬───┐│┌─┬─┐│┌─┬─┐│┌─┬───┐│┌─┬─┐│\n",
       "││5│3 6│││7│5│││4│7│││1│8 2│││2│4││\n",
       "│└─┴───┘│└─┴─┘│└─┴─┘│└─┴───┘│└─┴─┘│\n",
       "└───────┴─────┴─────┴───────┴─────┘\n",
       "</span>"
      ]
     },
     "execution_count": 4,
     "metadata": {},
     "output_type": "execute_result"
    }
   ],
   "source": [
    "(↓⊃¨,∘⊂⌸⊢/¨)m1"
   ]
  },
  {
   "cell_type": "markdown",
   "metadata": {},
   "source": [
    "### Odd one out\n",
    "\n",
    "Given a simple vector where all items are equal, bar one, find the index of the odd one out."
   ]
  },
  {
   "cell_type": "code",
   "execution_count": 14,
   "metadata": {},
   "outputs": [],
   "source": [
    "vect←243 243 243 243 251 243 243"
   ]
  },
  {
   "cell_type": "markdown",
   "metadata": {},
   "source": [
    "Naively, use key `⌸` to make the histogram, find the location of the single 1 in the counts column, pick the corresponding value and then locate the index in the vector:"
   ]
  },
  {
   "cell_type": "code",
   "execution_count": 16,
   "metadata": {},
   "outputs": [
    {
     "data": {
      "text/html": [
       "<span style=\"white-space:pre; font-family: monospace\">5\n",
       "</span>"
      ]
     },
     "execution_count": 16,
     "metadata": {},
     "output_type": "execute_result"
    }
   ],
   "source": [
    "hist←{⍺,≢⍵}⌸d\n",
    "oneIndex←hist[;2]⍳1\n",
    "oddVal←hist[oneIndex;1]\n",
    "vect⍳oddVal"
   ]
  },
  {
   "cell_type": "markdown",
   "metadata": {},
   "source": [
    "We can compress this basic approach by doing more work in the key operand:"
   ]
  },
  {
   "cell_type": "code",
   "execution_count": 17,
   "metadata": {},
   "outputs": [
    {
     "data": {
      "text/html": [
       "<span style=\"white-space:pre; font-family: monospace\">5\n",
       "</span>"
      ]
     },
     "execution_count": 17,
     "metadata": {},
     "output_type": "execute_result"
    }
   ],
   "source": [
    "∊{⊂⍵/⍨1=≢⍵}⌸vect"
   ]
  },
  {
   "cell_type": "markdown",
   "metadata": {},
   "source": [
    "This finds the places where the count is 1 and emits the corresponding index. Recall that the `⍵` in the operand is a set of indexes for each unique element:"
   ]
  },
  {
   "cell_type": "code",
   "execution_count": 18,
   "metadata": {},
   "outputs": [
    {
     "data": {
      "text/html": [
       "<span style=\"white-space:pre; font-family: monospace\">┌───┬───────────┐\n",
       "│243│1 2 3 4 6 7│\n",
       "├───┼───────────┤\n",
       "│251│5          │\n",
       "└───┴───────────┘\n",
       "</span>"
      ]
     },
     "execution_count": 18,
     "metadata": {},
     "output_type": "execute_result"
    }
   ],
   "source": [
    "{⍺ ⍵}⌸vect"
   ]
  },
  {
   "cell_type": "markdown",
   "metadata": {},
   "source": [
    "A different approach is to reduce the indices with intersect `∩`:"
   ]
  },
  {
   "cell_type": "code",
   "execution_count": 19,
   "metadata": {},
   "outputs": [
    {
     "data": {
      "text/html": [
       "<span style=\"white-space:pre; font-family: monospace\">5\n",
       "</span>"
      ]
     },
     "execution_count": 19,
     "metadata": {},
     "output_type": "execute_result"
    }
   ],
   "source": [
    "∊{∩/⍵}⌸vect"
   ]
  },
  {
   "cell_type": "markdown",
   "metadata": {},
   "source": [
    "It's perhaps not obvious how this works. We know that the elements of `⍵` will be unique, so the reduction will always be empty, unless the vector contains a single element:"
   ]
  },
  {
   "cell_type": "code",
   "execution_count": 9,
   "metadata": {},
   "outputs": [
    {
     "data": {
      "text/html": [
       "<span style=\"white-space:pre; font-family: monospace\">\n",
       "</span>"
      ]
     },
     "execution_count": 9,
     "metadata": {},
     "output_type": "execute_result"
    }
   ],
   "source": [
    "∊∩/1 2 3 4 6 7"
   ]
  },
  {
   "cell_type": "code",
   "execution_count": 10,
   "metadata": {},
   "outputs": [
    {
     "data": {
      "text/html": [
       "<span style=\"white-space:pre; font-family: monospace\">5\n",
       "</span>"
      ]
     },
     "execution_count": 10,
     "metadata": {},
     "output_type": "execute_result"
    }
   ],
   "source": [
    "∊∩/5"
   ]
  },
  {
   "cell_type": "markdown",
   "metadata": {},
   "source": [
    "A completely different approach is to look for elements in the vector that differs from both its neighbours, wrapping around at the edges:"
   ]
  },
  {
   "cell_type": "code",
   "execution_count": 20,
   "metadata": {},
   "outputs": [
    {
     "data": {
      "text/html": [
       "<span style=\"white-space:pre; font-family: monospace\">5\n",
       "</span>"
      ]
     },
     "execution_count": 20,
     "metadata": {},
     "output_type": "execute_result"
    }
   ],
   "source": [
    "⍸{⍵∧1⌽⍵}∘{⍵≠¯1⌽⍵}vect"
   ]
  },
  {
   "cell_type": "markdown",
   "metadata": {},
   "source": [
    "Another suggestion from the APLOrchard:"
   ]
  },
  {
   "cell_type": "code",
   "execution_count": 22,
   "metadata": {},
   "outputs": [
    {
     "data": {
      "text/html": [
       "<span style=\"white-space:pre; font-family: monospace\">5\n",
       "</span>"
      ]
     },
     "execution_count": 22,
     "metadata": {},
     "output_type": "execute_result"
    }
   ],
   "source": [
    "(1⍳⍨1⊥∘.=⍨)vect"
   ]
  },
  {
   "cell_type": "code",
   "execution_count": 24,
   "metadata": {},
   "outputs": [],
   "source": [
    "assert←{⍺←'assertion failure' ⋄ 0∊⍵:⍺ ⎕signal 8 ⋄ shy←0}"
   ]
  },
  {
   "cell_type": "markdown",
   "metadata": {},
   "source": [
    "Index of smallest element"
   ]
  },
  {
   "cell_type": "code",
   "execution_count": 3,
   "metadata": {},
   "outputs": [
    {
     "data": {
      "text/html": [
       "<span style=\"white-space:pre; font-family: monospace\">6\n",
       "</span>"
      ]
     },
     "execution_count": 3,
     "metadata": {},
     "output_type": "execute_result"
    },
    {
     "data": {
      "text/html": [
       "<span style=\"white-space:pre; font-family: monospace\">6\n",
       "</span>"
      ]
     },
     "execution_count": 3,
     "metadata": {},
     "output_type": "execute_result"
    }
   ],
   "source": [
    "elems⍳⌊/elems←6 2 8 9 3 1 10 15\n",
    "⊃⍋elems"
   ]
  },
  {
   "cell_type": "markdown",
   "metadata": {},
   "source": [
    "### Partition a matrix into non-overlapping sub-matrices -- and re-merge"
   ]
  },
  {
   "cell_type": "code",
   "execution_count": 18,
   "metadata": {},
   "outputs": [
    {
     "data": {
      "text/html": [
       "<span style=\"white-space:pre; font-family: monospace\">┌───┬───┬─────┬─────┐\n",
       "│0 1│2 3│ 8  9│10 11│\n",
       "│4 5│6 7│12 13│14 15│\n",
       "└───┴───┴─────┴─────┘\n",
       "</span>"
      ]
     },
     "execution_count": 18,
     "metadata": {},
     "output_type": "execute_result"
    }
   ],
   "source": [
    "⊢∘⊂⌺(2 2⍴2 2)⊢4 4⍴⍳16"
   ]
  },
  {
   "cell_type": "code",
   "execution_count": 20,
   "metadata": {},
   "outputs": [
    {
     "data": {
      "text/html": [
       "<span style=\"white-space:pre; font-family: monospace\">┌───────────┬───────────┬───────────┬───────────┐\n",
       "│ 1  2  3   │ 4  5  6   │ 7  8  9   │10 11 12   │\n",
       "│13 14 15   │16 17 18   │19 20 21   │22 23 24   │\n",
       "│25 26 27   │28 29 30   │31 32 33   │34 35 36   │\n",
       "├───────────┼───────────┼───────────┼───────────┤\n",
       "│37 38 39   │40 41 42   │43 44 45   │46 47 48   │\n",
       "│49 50 51   │52 53 54   │55 56 57   │58 59 60   │\n",
       "│61 62 63   │64 65 66   │67 68 69   │70 71 72   │\n",
       "├───────────┼───────────┼───────────┼───────────┤\n",
       "│73 74 75   │ 76  77  78│ 79  80  81│ 82  83  84│\n",
       "│85 86 87   │ 88  89  90│ 91  92  93│ 94  95  96│\n",
       "│97 98 99   │100 101 102│103 104 105│106 107 108│\n",
       "├───────────┼───────────┼───────────┼───────────┤\n",
       "│109 110 111│112 113 114│115 116 117│118 119 120│\n",
       "│121 122 123│124 125 126│127 128 129│130 131 132│\n",
       "│133 134 135│136 137 138│139 140 141│142 143 144│\n",
       "└───────────┴───────────┴───────────┴───────────┘\n",
       "</span>"
      ]
     },
     "execution_count": 20,
     "metadata": {},
     "output_type": "execute_result"
    }
   ],
   "source": [
    "1 1↓⊢∘⊂⌺(2 2⍴3 3)⊢0⍪0⍪0,0,12 12⍴⍳144"
   ]
  },
  {
   "cell_type": "code",
   "execution_count": 11,
   "metadata": {},
   "outputs": [
    {
     "data": {
      "text/html": [
       "<span style=\"white-space:pre; font-family: monospace\">┌─────┬─────┐\n",
       "│1 2  │3 4  │\n",
       "│5 6  │7 8  │\n",
       "├─────┼─────┤\n",
       "│ 9 10│11 12│\n",
       "│13 14│15 16│\n",
       "└─────┴─────┘\n",
       "</span>"
      ]
     },
     "execution_count": 11,
     "metadata": {},
     "output_type": "execute_result"
    }
   ],
   "source": [
    "⎕IO←1 ⋄ 2 2 {⊂[2×⍳≢⍴⍵]⍵⍴⍨∊⍺,¨⍨⍺÷⍨⍴⍵} 4 4 ⍴ ⍳16"
   ]
  },
  {
   "cell_type": "code",
   "execution_count": 9,
   "metadata": {},
   "outputs": [
    {
     "data": {
      "text/html": [
       "<span style=\"white-space:pre; font-family: monospace\">┌────────┬────────┐\n",
       "│ 1  2  3│ 4  5  6│\n",
       "│ 7  8  9│10 11 12│\n",
       "│13 14 15│16 17 18│\n",
       "├────────┼────────┤\n",
       "│19 20 21│22 23 24│\n",
       "│25 26 27│28 29 30│\n",
       "│31 32 33│34 35 36│\n",
       "└────────┴────────┘\n",
       "</span>"
      ]
     },
     "execution_count": 9,
     "metadata": {},
     "output_type": "execute_result"
    }
   ],
   "source": [
    "⊂⍤2⊢1 3 2 4⍉2 3 2 3⍴6 6⍴⍳36"
   ]
  },
  {
   "cell_type": "markdown",
   "metadata": {},
   "source": [
    "To merge sub-matrices back to the original state:"
   ]
  },
  {
   "cell_type": "code",
   "execution_count": 25,
   "metadata": {},
   "outputs": [
    {
     "data": {
      "text/html": [
       "<span style=\"white-space:pre; font-family: monospace\">  1   2   3   4   5   6   7   8   9  10  11  12\n",
       " 13  14  15  16  17  18  19  20  21  22  23  24\n",
       " 25  26  27  28  29  30  31  32  33  34  35  36\n",
       " 37  38  39  40  41  42  43  44  45  46  47  48\n",
       " 49  50  51  52  53  54  55  56  57  58  59  60\n",
       " 61  62  63  64  65  66  67  68  69  70  71  72\n",
       " 73  74  75  76  77  78  79  80  81  82  83  84\n",
       " 85  86  87  88  89  90  91  92  93  94  95  96\n",
       " 97  98  99 100 101 102 103 104 105 106 107 108\n",
       "109 110 111 112 113 114 115 116 117 118 119 120\n",
       "121 122 123 124 125 126 127 128 129 130 131 132\n",
       "133 134 135 136 137 138 139 140 141 142 143 144\n",
       "</span>"
      ]
     },
     "execution_count": 25,
     "metadata": {},
     "output_type": "execute_result"
    }
   ],
   "source": [
    "m←1 1↓⊢∘⊂⌺(2 2⍴3 3)⊢0⍪0⍪0,0,12 12⍴⍳144\n",
    "Merge←{((⍴×⍴∘⊃)⍴1 3 2 4⍉↑)⍵}\n",
    "Merge m"
   ]
  },
  {
   "cell_type": "markdown",
   "metadata": {},
   "source": [
    "### Neighbourhoods"
   ]
  },
  {
   "cell_type": "code",
   "execution_count": 21,
   "metadata": {},
   "outputs": [],
   "source": [
    "v←⍸×3 3 ⍴ 5 0 4 0 0 3 0 2 0 ⍝ All non-zero coord pairs\n",
    "n4←{⍺∩⍵(+,-)(0 1)(1 0)}\n",
    "n8←{⍺∩⍵(+,-)(0 1)(1 0)(¯1 1)(1 1)}\n",
    "Move←{('NESW'⍳⍵)⊃(¯1 0)(0 1)(1 0)(0 ¯1)}"
   ]
  },
  {
   "cell_type": "code",
   "execution_count": 23,
   "metadata": {},
   "outputs": [
    {
     "data": {
      "text/html": [
       "<span style=\"white-space:pre; font-family: monospace\">┌───┐\n",
       "│1 3│\n",
       "└───┘\n",
       "</span>"
      ]
     },
     "execution_count": 23,
     "metadata": {},
     "output_type": "execute_result"
    }
   ],
   "source": [
    "v n4 ⊂2 3"
   ]
  },
  {
   "cell_type": "code",
   "execution_count": 1,
   "metadata": {},
   "outputs": [
    {
     "data": {
      "text/html": [
       "<span style=\"white-space:pre; font-family: monospace\">done\n",
       "\n",
       "Rebuilding user command cache... done\n",
       "</span>"
      ]
     },
     "execution_count": 1,
     "metadata": {},
     "output_type": "execute_result"
    }
   ],
   "source": [
    "alupsert←{(k v)←⍵⋄3::⍺ alpush k v⋄⍺ alset k v} ⍝ Modify if present\n",
    "algetd←{3::¯1↑⍵⋄⍺ alget (⊃⍵)}                  ⍝ Get if present, else return given default"
   ]
  },
  {
   "cell_type": "markdown",
   "metadata": {},
   "source": [
    "Atop: One way to look at f∘g vs f⍤g is that when given a left argument, ∘ gives it to the left-hand function and ⍤ gives it to the right-hand function. Other than that, they are equivalent\n",
    "\n",
    "Another way to look at f∘g vs f⍤g is simply choosing order of the first two tokens: X f∘g Y computes X f g Y and X f⍤g Y computes f X g Y\n",
    " \n",
    "Over: So, remember how f∘g preprocesses the right argument of f using g?\n",
    "One way to look at Over is simply as preprocessing all arguments of f using g.\n",
    "\"All\" as in _both or the only_.\n",
    "\n",
    "So again f⍥g Y is the same as f⍤g Y and f∘g Y. The difference is again when we do a dyadic application.\n",
    "\n",
    "So while X f∘g Y is X f(g Y) we have X f⍥g Y be (g X)f(g Y).\n",
    "\n",
    "One of my favourites lately is ,⍥⊂ which I prefer over {⍺ ⍵}"
   ]
  },
  {
   "cell_type": "code",
   "execution_count": 4,
   "metadata": {},
   "outputs": [
    {
     "data": {
      "text/html": [
       "<span style=\"white-space:pre; font-family: monospace\">┌───────────────┐\n",
       "│2020 11 08 1132│\n",
       "└───────────────┘\n",
       "</span>"
      ]
     },
     "execution_count": 4,
     "metadata": {},
     "output_type": "execute_result"
    }
   ],
   "source": [
    "'YYYY DD MM hhmm'(1200⌶)1⎕DT⊂2020 08 11 11 32 ⍝ Dyalog 18 date time"
   ]
  },
  {
   "cell_type": "markdown",
   "metadata": {},
   "source": [
    "### Constrain a set of coordinates to a rectangle"
   ]
  },
  {
   "cell_type": "code",
   "execution_count": 6,
   "metadata": {},
   "outputs": [],
   "source": [
    "⎕io←0\n",
    "YMIN←0 ⋄ YMAX←50 ⋄ XMIN←0 ⋄ XMAX←50\n",
    "c←(23 43)(78 34)(¯45 34)"
   ]
  },
  {
   "cell_type": "code",
   "execution_count": 7,
   "metadata": {},
   "outputs": [
    {
     "data": {
      "text/html": [
       "<span style=\"white-space:pre; font-family: monospace\">1 0 0\n",
       "</span>"
      ]
     },
     "execution_count": 7,
     "metadata": {},
     "output_type": "execute_result"
    }
   ],
   "source": [
    "⊃∧/0=(YMIN YMAX) (XMIN XMAX)⍸¨↓⍉↑c"
   ]
  },
  {
   "cell_type": "code",
   "execution_count": 8,
   "metadata": {},
   "outputs": [
    {
     "data": {
      "text/html": [
       "<span style=\"white-space:pre; font-family: monospace\">1 0 0\n",
       "</span>"
      ]
     },
     "execution_count": 8,
     "metadata": {},
     "output_type": "execute_result"
    }
   ],
   "source": [
    "(⊢≡YMIN XMIN⌈YMAX XMAX⌊⊢)¨c          ⍝ Slower"
   ]
  },
  {
   "cell_type": "markdown",
   "metadata": {},
   "source": [
    "## Noddy hash table"
   ]
  },
  {
   "cell_type": "code",
   "execution_count": 12,
   "metadata": {},
   "outputs": [],
   "source": [
    "Hash←{keys←(1500⌶),⍺⋄vals←,⍵⋄{⍵⊣⍵.(Vals Keys Default)←vals keys ⍬}⎕NS''}\n",
    "In←{⍺∊⍵.Keys}"
   ]
  },
  {
   "cell_type": "code",
   "execution_count": 13,
   "metadata": {},
   "outputs": [],
   "source": [
    "]dinput\n",
    "Get←{\n",
    "    ~⍵ In ⍺:⍺.Default\n",
    "    ⍺.Vals[⍺.Keys⍳⍵]\n",
    "}"
   ]
  },
  {
   "cell_type": "code",
   "execution_count": 14,
   "metadata": {},
   "outputs": [],
   "source": [
    "]dinput\n",
    "Set←{ ⍝ Upsert ht ⍺ with kv pair ⍵. ⍝ Returns 1 if this is a new key; 0 otherwise.\n",
    "    ht←⍺\n",
    "    (k v)←⍵\n",
    "    i←ht.Keys⍳⊂k\n",
    "    i=≢ht.Keys:1⊣ht.Keys,←⊂k⊣ht.Vals,←v ⍝ New key\n",
    "    ht.Vals[i]←v                        ⍝ Replace existing\n",
    "    0\n",
    "}"
   ]
  },
  {
   "cell_type": "code",
   "execution_count": 15,
   "metadata": {},
   "outputs": [],
   "source": [
    "]dinput\n",
    "Append←{ ⍝ Append a value to those belonging to the key. If new key, insert kv pair\n",
    "    ht←⍺\n",
    "    (k v)←⍵\n",
    "    i←ht.Keys⍳⊂k\n",
    "    i=≢ht.Keys:1⊣ht.Keys,←⊂k⊣ht.Vals,←v ⍝ New key\n",
    "    ht.Vals[i],←v                       ⍝ Append to existing\n",
    "    0\n",
    "}"
   ]
  },
  {
   "cell_type": "markdown",
   "metadata": {},
   "source": [
    "### Space ship compares (<=>)"
   ]
  },
  {
   "cell_type": "code",
   "execution_count": 8,
   "metadata": {},
   "outputs": [],
   "source": [
    "ssc1←{⊃¯1 0 1[⍸⍺(<,=,>)⍵]}\n",
    "ssc2←>-<\n",
    "ssc3←×-"
   ]
  },
  {
   "cell_type": "markdown",
   "metadata": {},
   "source": [
    "### Tuples"
   ]
  },
  {
   "cell_type": "code",
   "execution_count": 9,
   "metadata": {},
   "outputs": [],
   "source": [
    "tuples←{↓(⍺÷⍨≢⍵) ⍺⍴⍵} ⍝ errors if not equally dividable\n",
    "tuples←{⍵⊂⍨(≢⍵)⍴⍺↑1}\n",
    "tuples←⊢⊂⍨≢⍤⊢⍴⊣↑≢"
   ]
  },
  {
   "cell_type": "markdown",
   "metadata": {},
   "source": [
    "### Indices of unique"
   ]
  },
  {
   "cell_type": "code",
   "execution_count": 10,
   "metadata": {},
   "outputs": [
    {
     "data": {
      "text/html": [
       "<span style=\"white-space:pre; font-family: monospace\">1 3 5 6 7\n",
       "</span>"
      ]
     },
     "execution_count": 10,
     "metadata": {},
     "output_type": "execute_result"
    }
   ],
   "source": [
    "⍸≠ 1 1 2 1 3 4 5 2 1"
   ]
  },
  {
   "cell_type": "markdown",
   "metadata": {},
   "source": [
    "### Namespace as dict"
   ]
  },
  {
   "cell_type": "code",
   "execution_count": 1,
   "metadata": {},
   "outputs": [
    {
     "data": {
      "text/html": [
       "<span style=\"white-space:pre; font-family: monospace\">done\n",
       "</span>"
      ]
     },
     "execution_count": 1,
     "metadata": {},
     "output_type": "execute_result"
    }
   ],
   "source": [
    "_Gets←{⍎'⍺⍺.',⍺,'←⍵'⊣⍺⍺}"
   ]
  },
  {
   "cell_type": "code",
   "execution_count": 3,
   "metadata": {},
   "outputs": [
    {
     "data": {
      "text/html": [
       "<span style=\"white-space:pre; font-family: monospace\">world\n",
       "</span>"
      ]
     },
     "execution_count": 3,
     "metadata": {},
     "output_type": "execute_result"
    },
    {
     "data": {
      "text/html": [
       "<span style=\"white-space:pre; font-family: monospace\">world\n",
       "</span>"
      ]
     },
     "execution_count": 3,
     "metadata": {},
     "output_type": "execute_result"
    }
   ],
   "source": [
    "ns←⎕ns''\n",
    "'hello'(ns _Gets)'world'\n",
    "ns.hello\n",
    "ns⍎'hello'"
   ]
  },
  {
   "cell_type": "markdown",
   "metadata": {},
   "source": [
    "### Mapping between 2D and 1D coordinates"
   ]
  },
  {
   "cell_type": "markdown",
   "metadata": {},
   "source": [
    "When you flatten (,⍵) a matrix m with shape ⍴m its set of coordinates changes from ⍳⍴m to ⍳×/⍴m. They become simply the indices of a vector. The mapping between the two can be done with k←(⍴m)⊥i j and its inverse i j←(⍴m)⊤k, where i j are a pair of indices in m, and k is an index in ,m"
   ]
  },
  {
   "cell_type": "code",
   "execution_count": 3,
   "metadata": {},
   "outputs": [
    {
     "data": {
      "text/html": [
       "<span style=\"white-space:pre; font-family: monospace\">1  7 14  9 13\n",
       "2 12  4  3 15\n",
       "5  8  6 10 11\n",
       "</span>"
      ]
     },
     "execution_count": 3,
     "metadata": {},
     "output_type": "execute_result"
    }
   ],
   "source": [
    "⊢m←3 5 ⍴15?15"
   ]
  },
  {
   "cell_type": "code",
   "execution_count": 4,
   "metadata": {},
   "outputs": [
    {
     "data": {
      "text/html": [
       "<span style=\"white-space:pre; font-family: monospace\">1 7 14 9 13 2 12 4 3 15 5 8 6 10 11\n",
       "</span>"
      ]
     },
     "execution_count": 4,
     "metadata": {},
     "output_type": "execute_result"
    }
   ],
   "source": [
    "⊢ravel←,m"
   ]
  },
  {
   "cell_type": "code",
   "execution_count": 6,
   "metadata": {},
   "outputs": [
    {
     "data": {
      "text/html": [
       "<span style=\"white-space:pre; font-family: monospace\">9\n",
       "</span>"
      ]
     },
     "execution_count": 6,
     "metadata": {},
     "output_type": "execute_result"
    }
   ],
   "source": [
    "⊢k←(⍴m)⊥1 4 ⍝ 2D to 1D"
   ]
  },
  {
   "cell_type": "code",
   "execution_count": 7,
   "metadata": {},
   "outputs": [
    {
     "data": {
      "text/html": [
       "<span style=\"white-space:pre; font-family: monospace\">3\n",
       "</span>"
      ]
     },
     "execution_count": 7,
     "metadata": {},
     "output_type": "execute_result"
    }
   ],
   "source": [
    "k⊃ravel"
   ]
  },
  {
   "cell_type": "code",
   "execution_count": 8,
   "metadata": {},
   "outputs": [
    {
     "data": {
      "text/html": [
       "<span style=\"white-space:pre; font-family: monospace\">1 4\n",
       "</span>"
      ]
     },
     "execution_count": 8,
     "metadata": {},
     "output_type": "execute_result"
    }
   ],
   "source": [
    "⊢i j←(⍴m)⊤k ⍝ 1D to 2D"
   ]
  },
  {
   "cell_type": "code",
   "execution_count": 10,
   "metadata": {},
   "outputs": [
    {
     "data": {
      "text/html": [
       "<span style=\"white-space:pre; font-family: monospace\">9\n",
       "</span>"
      ]
     },
     "execution_count": 10,
     "metadata": {},
     "output_type": "execute_result"
    }
   ],
   "source": [
    "m[⊂i j]"
   ]
  },
  {
   "cell_type": "markdown",
   "metadata": {},
   "source": [
    "### Generalised padding\n",
    "\n",
    "Center a matrix of rank n in a larger matrix of rank n+1."
   ]
  },
  {
   "cell_type": "code",
   "execution_count": 14,
   "metadata": {},
   "outputs": [
    {
     "data": {
      "text/html": [
       "<span style=\"white-space:pre; font-family: monospace\">0 1 0\n",
       "0 0 1\n",
       "1 1 1\n",
       "</span>"
      ]
     },
     "execution_count": 14,
     "metadata": {},
     "output_type": "execute_result"
    }
   ],
   "source": [
    "⊢d←3 3⍴0 1 0 0 0 1 1 1 1"
   ]
  },
  {
   "cell_type": "code",
   "execution_count": 16,
   "metadata": {},
   "outputs": [],
   "source": [
    "Pad←{(-⍵+⍵+⍴⍺)↑(⍵+⍴⍺)↑⍺}"
   ]
  },
  {
   "cell_type": "code",
   "execution_count": 17,
   "metadata": {},
   "outputs": [
    {
     "data": {
      "text/html": [
       "<span style=\"white-space:pre; font-family: monospace\">0 0 0 0 0 0 0 0 0 0 0 0 0\n",
       "0 0 0 0 0 0 0 0 0 0 0 0 0\n",
       "0 0 0 0 0 0 0 0 0 0 0 0 0\n",
       "0 0 0 0 0 0 0 0 0 0 0 0 0\n",
       "0 0 0 0 0 0 0 0 0 0 0 0 0\n",
       "0 0 0 0 0 0 1 0 0 0 0 0 0\n",
       "0 0 0 0 0 0 0 1 0 0 0 0 0\n",
       "0 0 0 0 0 1 1 1 0 0 0 0 0\n",
       "0 0 0 0 0 0 0 0 0 0 0 0 0\n",
       "0 0 0 0 0 0 0 0 0 0 0 0 0\n",
       "0 0 0 0 0 0 0 0 0 0 0 0 0\n",
       "0 0 0 0 0 0 0 0 0 0 0 0 0\n",
       "0 0 0 0 0 0 0 0 0 0 0 0 0\n",
       "</span>"
      ]
     },
     "execution_count": 17,
     "metadata": {},
     "output_type": "execute_result"
    }
   ],
   "source": [
    "d Pad 5"
   ]
  },
  {
   "cell_type": "markdown",
   "metadata": {},
   "source": [
    "Here's a different approach:"
   ]
  },
  {
   "cell_type": "code",
   "execution_count": 18,
   "metadata": {},
   "outputs": [],
   "source": [
    "Pad2←{⍵@(1+⍳⍴⍵)⊢0⍴⍨2+⍴⍵} ⍝ https://aplcart.info/?q=surround%20array#"
   ]
  },
  {
   "cell_type": "code",
   "execution_count": 19,
   "metadata": {},
   "outputs": [
    {
     "data": {
      "text/html": [
       "<span style=\"white-space:pre; font-family: monospace\">0 1 2 3 0\n",
       "</span>"
      ]
     },
     "execution_count": 19,
     "metadata": {},
     "output_type": "execute_result"
    }
   ],
   "source": [
    "Pad2 1 2 3"
   ]
  },
  {
   "cell_type": "code",
   "execution_count": 20,
   "metadata": {},
   "outputs": [
    {
     "data": {
      "text/html": [
       "<span style=\"white-space:pre; font-family: monospace\">0 0 0 0 0\n",
       "0 0 1 0 0\n",
       "0 0 0 1 0\n",
       "0 1 1 1 0\n",
       "0 0 0 0 0\n",
       "</span>"
      ]
     },
     "execution_count": 20,
     "metadata": {},
     "output_type": "execute_result"
    }
   ],
   "source": [
    "Pad2 d"
   ]
  },
  {
   "cell_type": "code",
   "execution_count": 21,
   "metadata": {},
   "outputs": [
    {
     "data": {
      "text/html": [
       "<span style=\"white-space:pre; font-family: monospace\">0 0 0 0 0 0 0 0 0 0 0 0 0\n",
       "0 0 0 0 0 0 0 0 0 0 0 0 0\n",
       "0 0 0 0 0 0 0 0 0 0 0 0 0\n",
       "0 0 0 0 0 0 0 0 0 0 0 0 0\n",
       "0 0 0 0 0 0 0 0 0 0 0 0 0\n",
       "0 0 0 0 0 0 1 0 0 0 0 0 0\n",
       "0 0 0 0 0 0 0 1 0 0 0 0 0\n",
       "0 0 0 0 0 1 1 1 0 0 0 0 0\n",
       "0 0 0 0 0 0 0 0 0 0 0 0 0\n",
       "0 0 0 0 0 0 0 0 0 0 0 0 0\n",
       "0 0 0 0 0 0 0 0 0 0 0 0 0\n",
       "0 0 0 0 0 0 0 0 0 0 0 0 0\n",
       "0 0 0 0 0 0 0 0 0 0 0 0 0\n",
       "</span>"
      ]
     },
     "execution_count": 21,
     "metadata": {},
     "output_type": "execute_result"
    }
   ],
   "source": [
    "Pad2⍣5⊢d"
   ]
  },
  {
   "cell_type": "code",
   "execution_count": 22,
   "metadata": {},
   "outputs": [
    {
     "data": {
      "text/html": [
       "<span style=\"white-space:pre; font-family: monospace\">0 0 0 0 0\n",
       "0 0 0 0 0\n",
       "0 0 0 0 0\n",
       "0 0 0 0 0\n",
       "0 0 0 0 0\n",
       "         \n",
       "0 0 0 0 0\n",
       "0 0 1 0 0\n",
       "0 0 0 1 0\n",
       "0 1 1 1 0\n",
       "0 0 0 0 0\n",
       "         \n",
       "0 0 0 0 0\n",
       "0 0 0 0 0\n",
       "0 0 0 0 0\n",
       "0 0 0 0 0\n",
       "0 0 0 0 0\n",
       "</span>"
      ]
     },
     "execution_count": 22,
     "metadata": {},
     "output_type": "execute_result"
    }
   ],
   "source": [
    "Pad2 (↑,∘⊂)d ⍝ Increase rank first"
   ]
  },
  {
   "cell_type": "markdown",
   "metadata": {},
   "source": [
    "### TODO\n",
    "@voidhawk on AoC Day16"
   ]
  },
  {
   "cell_type": "code",
   "execution_count": null,
   "metadata": {},
   "outputs": [],
   "source": [
    "⎕IO←1 ⍝ voidhawk\n",
    "p←(⊢⊆⍨0≠≢¨)⊃⎕NGET'data/2020/day16.txt'1\n",
    "ds←{⍎¨⍵(∊⊆⊣)⎕D}\n",
    "rs←ds¨⊃p ⋄ yt ot←{↑ds¨1↓⍵⊃p}¨2 3\n",
    "ir←{a b c d←⍵ ⋄ ((d≥⍺)∧c≤⍺)∨(b≥⍺)∧a≤⍺}\n",
    "+/ot[⍸~e←∨/ot∘.ir rs] ⍝ part 1\n",
    "m←∧⌿rs∘.ir⍨yt⍪ot⌿⍨∧/e\n",
    "×/6↑(,yt)⌷⍨⊂⍋(⊂⍋⍋+/m)⌷∊~⍨\\⍸¨↓m[⍋+/m;] ⍝ part 2"
   ]
  },
  {
   "cell_type": "markdown",
   "metadata": {},
   "source": [
    "### Corners of 2D Array"
   ]
  },
  {
   "cell_type": "code",
   "execution_count": 3,
   "metadata": {},
   "outputs": [
    {
     "data": {
      "text/html": [
       "<span style=\"white-space:pre; font-family: monospace\">4 3 1\n",
       "9 7 5\n",
       "8 2 6\n",
       "</span>"
      ]
     },
     "execution_count": 3,
     "metadata": {},
     "output_type": "execute_result"
    },
    {
     "data": {
      "text/html": [
       "<span style=\"white-space:pre; font-family: monospace\">4 1\n",
       "8 6\n",
       "</span>"
      ]
     },
     "execution_count": 3,
     "metadata": {},
     "output_type": "execute_result"
    }
   ],
   "source": [
    "⊢m←3 3⍴9?9\n",
    "{↑(⊣/⍵)(⊢/⍵)}⍣2⊢m"
   ]
  },
  {
   "cell_type": "code",
   "execution_count": 4,
   "metadata": {},
   "outputs": [
    {
     "data": {
      "text/html": [
       "<span style=\"white-space:pre; font-family: monospace\">      ⍤    \n",
       "     ┌┴┐   \n",
       "     ⍨ 0 99\n",
       "   ┌─┘     \n",
       "   ∘       \n",
       "  ┌┴┐      \n",
       "  ⍨ ⊃      \n",
       "┌─┘        \n",
       "⌷          \n",
       "</span>"
      ]
     },
     "execution_count": 4,
     "metadata": {},
     "output_type": "execute_result"
    }
   ],
   "source": [
    "⌷⍨∘⊃⍨⍤0 99 ⍝ Sane indexing"
   ]
  },
  {
   "cell_type": "code",
   "execution_count": 5,
   "metadata": {},
   "outputs": [
    {
     "data": {
      "text/html": [
       "<span style=\"white-space:pre; font-family: monospace\">┌─┼───┐      \n",
       "⊢ ⍨ ┌─┼───┐  \n",
       "┌─┘ 1 , ┌─┼─┐\n",
       "⊂       2 / ⊢\n",
       "        ┌─┘  \n",
       "        ≠    \n",
       "</span>"
      ]
     },
     "execution_count": 5,
     "metadata": {},
     "output_type": "execute_result"
    }
   ],
   "source": [
    "(⊢⊂⍨1,2≠/⊢) ⍝ map of changes"
   ]
  },
  {
   "cell_type": "code",
   "execution_count": null,
   "metadata": {},
   "outputs": [],
   "source": [
    "(∨.∧⍨∨⊢)⍣≡ ⍝ Transitive closure on APL Cart?"
   ]
  }
 ],
 "metadata": {
  "kernelspec": {
   "display_name": "Dyalog APL",
   "language": "apl",
   "name": "dyalog-kernel"
  },
  "language_info": {
   "file_extension": ".apl",
   "mimetype": "text/apl",
   "name": "APL"
  }
 },
 "nbformat": 4,
 "nbformat_minor": 2
}
