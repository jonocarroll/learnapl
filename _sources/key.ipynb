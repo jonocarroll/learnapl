{
 "cells": [
  {
   "cell_type": "markdown",
   "metadata": {},
   "source": [
    "# The Key operator: `⌸`"
   ]
  },
  {
   "cell_type": "markdown",
   "metadata": {},
   "source": [
    "> Overemphasis of efficiency leads to an unfortunate circularity in design: for reasons of efficiency early programming languages reflected the characteristics of the early computers, and each generation of computers reflects the needs of the programming languages of the preceding generation. --_Kenneth E. Iverson_"
   ]
  },
  {
   "cell_type": "code",
   "execution_count": 7,
   "metadata": {
    "tags": [
     "hide-output"
    ]
   },
   "outputs": [
    {
     "data": {
      "text/html": [
       "<span style=\"white-space:pre; font-family: monospace\">Was ON\n",
       "</span>"
      ]
     },
     "execution_count": 7,
     "metadata": {},
     "output_type": "execute_result"
    },
    {
     "data": {
      "text/html": [
       "<span style=\"white-space:pre; font-family: monospace\">Was OFF\n",
       "</span>"
      ]
     },
     "execution_count": 7,
     "metadata": {},
     "output_type": "execute_result"
    }
   ],
   "source": [
    "⎕IO ← 0\n",
    "]box on\n",
    "]rows on"
   ]
  },
  {
   "cell_type": "markdown",
   "metadata": {},
   "source": [
    "The monadic operator _Key_ (`⌸`) groups things. It can, for example, be used to generate histograms, or if you are so inclined, you can think of it as similar to SQL's [GROUP BY](https://en.wikipedia.org/wiki/Group_by_(SQL)) clause. \n",
    "\n",
    "Other resources on _Key_:\n",
    "\n",
    "* Dyalog [docs](http://help.dyalog.com/18.0/index.htm#Language/Primitive%20Operators/Key.htm)\n",
    "* APL Orchard [cultivation](https://chat.stackexchange.com/rooms/52405/conversation/lesson-5-even-more-apl-operators--) (also covering _Stencil_)\n",
    "\n",
    "The function derived by _Key_ is ambivalent (can be called either monadically or dyadically). The operand function can be any dyadic function returning a value. \n",
    "\n",
    "Let's look at the derived function, when called monadically:"
   ]
  },
  {
   "cell_type": "code",
   "execution_count": 8,
   "metadata": {},
   "outputs": [
    {
     "data": {
      "text/html": [
       "<span style=\"white-space:pre; font-family: monospace\">┌──────┬─────┐\n",
       "│┌────┐│0 2 4│\n",
       "││bill││     │\n",
       "│└────┘│     │\n",
       "├──────┼─────┤\n",
       "│┌───┐ │1 5  │\n",
       "││bob│ │     │\n",
       "│└───┘ │     │\n",
       "├──────┼─────┤\n",
       "│┌────┐│3 6  │\n",
       "││eric││     │\n",
       "│└────┘│     │\n",
       "├──────┼─────┤\n",
       "│┌───┐ │7    │\n",
       "││sue│ │     │\n",
       "│└───┘ │     │\n",
       "└──────┴─────┘\n",
       "</span>"
      ]
     },
     "execution_count": 8,
     "metadata": {},
     "output_type": "execute_result"
    }
   ],
   "source": [
    "{⍺⍵}⌸ 'bill' 'bob' 'bill' 'eric' 'bill' 'bob' 'eric' 'sue'"
   ]
  },
  {
   "cell_type": "markdown",
   "metadata": {},
   "source": [
    "In this case, the operator function is called with each unique element from the argument array in turn as the left argument, and a vector of indices where they occur. If we wanted this to be a histogram, all we need to to is:"
   ]
  },
  {
   "cell_type": "code",
   "execution_count": 9,
   "metadata": {},
   "outputs": [
    {
     "data": {
      "text/html": [
       "<span style=\"white-space:pre; font-family: monospace\">┌──────┬─┐\n",
       "│┌────┐│3│\n",
       "││bill││ │\n",
       "│└────┘│ │\n",
       "├──────┼─┤\n",
       "│┌───┐ │2│\n",
       "││bob│ │ │\n",
       "│└───┘ │ │\n",
       "├──────┼─┤\n",
       "│┌────┐│2│\n",
       "││eric││ │\n",
       "│└────┘│ │\n",
       "├──────┼─┤\n",
       "│┌───┐ │1│\n",
       "││sue│ │ │\n",
       "│└───┘ │ │\n",
       "└──────┴─┘\n",
       "</span>"
      ]
     },
     "execution_count": 9,
     "metadata": {},
     "output_type": "execute_result"
    }
   ],
   "source": [
    "{⍺ (≢⍵)}⌸ 'bill' 'bob' 'bill' 'eric' 'bill' 'bob' 'eric' 'sue'"
   ]
  },
  {
   "cell_type": "markdown",
   "metadata": {},
   "source": [
    "In the dyadic form, _Key_ takes each unique element to the left, and groups the corresponding elements from the right. In other words, the following two formulations do the same thing:"
   ]
  },
  {
   "cell_type": "code",
   "execution_count": 10,
   "metadata": {},
   "outputs": [
    {
     "data": {
      "text/html": [
       "<span style=\"white-space:pre; font-family: monospace\">┌──────┬─────┐\n",
       "│┌────┐│0 2 4│\n",
       "││bill││     │\n",
       "│└────┘│     │\n",
       "├──────┼─────┤\n",
       "│┌───┐ │1 5  │\n",
       "││bob│ │     │\n",
       "│└───┘ │     │\n",
       "├──────┼─────┤\n",
       "│┌────┐│3 6  │\n",
       "││eric││     │\n",
       "│└────┘│     │\n",
       "├──────┼─────┤\n",
       "│┌───┐ │7    │\n",
       "││sue│ │     │\n",
       "│└───┘ │     │\n",
       "└──────┴─────┘\n",
       "</span>"
      ]
     },
     "execution_count": 10,
     "metadata": {},
     "output_type": "execute_result"
    },
    {
     "data": {
      "text/html": [
       "<span style=\"white-space:pre; font-family: monospace\">┌──────┬─────┐\n",
       "│┌────┐│0 2 4│\n",
       "││bill││     │\n",
       "│└────┘│     │\n",
       "├──────┼─────┤\n",
       "│┌───┐ │1 5  │\n",
       "││bob│ │     │\n",
       "│└───┘ │     │\n",
       "├──────┼─────┤\n",
       "│┌────┐│3 6  │\n",
       "││eric││     │\n",
       "│└────┘│     │\n",
       "├──────┼─────┤\n",
       "│┌───┐ │7    │\n",
       "││sue│ │     │\n",
       "│└───┘ │     │\n",
       "└──────┴─────┘\n",
       "</span>"
      ]
     },
     "execution_count": 10,
     "metadata": {},
     "output_type": "execute_result"
    }
   ],
   "source": [
    "names ← 'bill' 'bob' 'bill' 'eric' 'bill' 'bob' 'eric' 'sue'\n",
    "{⍺⍵}⌸ names\n",
    "names {⍺⍵}⌸ ⍳≢names"
   ]
  },
  {
   "cell_type": "markdown",
   "metadata": {},
   "source": [
    "Let's look at a slightly more involved example. Here are the Rugby Union Gallagher English Premiership results for Jan, 2021, home fixtures only. The 0-0 games were COVID cancellations. "
   ]
  },
  {
   "cell_type": "code",
   "execution_count": 20,
   "metadata": {},
   "outputs": [],
   "source": [
    "results ← 'London Irish,31-22' 'Wasps,17-49' 'Gloucester,26-31' 'Worcester Warriors,17-21' 'Bristol,48-3' 'Leicester Tigers,15-25' 'Harlequins,27-27' 'Newcastle Falcons,22-10' 'Exeter Chiefs,7-20' 'Northampton Saints,0-0' 'Bath,44-52' 'Sale,20-13' 'London Irish,0-0' 'Leicester Tigers,36-31' 'Wasps,34-5' 'Gloucester,19-22' 'Bristol,29-17' 'Worcester Warriors,0-0'"
   ]
  },
  {
   "cell_type": "markdown",
   "metadata": {},
   "source": [
    "We'll do some quick and dirty slicing and dicing to separate team names from results."
   ]
  },
  {
   "cell_type": "code",
   "execution_count": 21,
   "metadata": {},
   "outputs": [],
   "source": [
    "table ← ⎕CSV ('-'⎕R','⊢results)''4\n",
    "teams ← ⊣/table\n",
    "scores ← table[;1 2]"
   ]
  },
  {
   "cell_type": "markdown",
   "metadata": {},
   "source": [
    "which gives us"
   ]
  },
  {
   "cell_type": "code",
   "execution_count": 27,
   "metadata": {},
   "outputs": [
    {
     "data": {
      "text/html": [
       "<span style=\"white-space:pre; font-family: monospace\">┌────────────┬─────────────────┬─────────────┬──────────────────┬───────┬──────────────────┐\n",
       "│London Irish│Wasps            │Gloucester   │Worcester Warriors│Bristol│Leicester Tigers  │\n",
       "├────────────┼─────────────────┼─────────────┼──────────────────┼───────┼──────────────────┤\n",
       "│Harlequins  │Newcastle Falcons│Exeter Chiefs│Northampton Saints│Bath   │Sale              │\n",
       "├────────────┼─────────────────┼─────────────┼──────────────────┼───────┼──────────────────┤\n",
       "│London Irish│Leicester Tigers │Wasps        │Gloucester        │Bristol│Worcester Warriors│\n",
       "└────────────┴─────────────────┴─────────────┴──────────────────┴───────┴──────────────────┘\n",
       "</span>"
      ]
     },
     "execution_count": 27,
     "metadata": {},
     "output_type": "execute_result"
    }
   ],
   "source": [
    "3 6⍴teams"
   ]
  },
  {
   "cell_type": "markdown",
   "metadata": {},
   "source": [
    "and"
   ]
  },
  {
   "cell_type": "code",
   "execution_count": 28,
   "metadata": {},
   "outputs": [
    {
     "data": {
      "text/html": [
       "<span style=\"white-space:pre; font-family: monospace\">┌─────┬─────┬─────┬─────┬─────┬─────┐\n",
       "│31 22│17 49│26 31│17 21│48 3 │15 25│\n",
       "├─────┼─────┼─────┼─────┼─────┼─────┤\n",
       "│27 27│22 10│7 20 │0 0  │44 52│20 13│\n",
       "├─────┼─────┼─────┼─────┼─────┼─────┤\n",
       "│0 0  │36 31│34 5 │19 22│29 17│0 0  │\n",
       "└─────┴─────┴─────┴─────┴─────┴─────┘\n",
       "</span>"
      ]
     },
     "execution_count": 28,
     "metadata": {},
     "output_type": "execute_result"
    }
   ],
   "source": [
    "3 6⍴↓scores"
   ]
  },
  {
   "cell_type": "markdown",
   "metadata": {},
   "source": [
    "To illustrate the similarity with SQL's `GROUP BY`, by using dyadic _Key_, we can group the scores under each team:"
   ]
  },
  {
   "cell_type": "code",
   "execution_count": 19,
   "metadata": {},
   "outputs": [
    {
     "data": {
      "text/html": [
       "<span style=\"white-space:pre; font-family: monospace\">┌────────────────────┬─────┐\n",
       "│┌────────────┐      │31 22│\n",
       "││London Irish│      │ 0  0│\n",
       "│└────────────┘      │     │\n",
       "├────────────────────┼─────┤\n",
       "│┌─────┐             │17 49│\n",
       "││Wasps│             │34  5│\n",
       "│└─────┘             │     │\n",
       "├────────────────────┼─────┤\n",
       "│┌──────────┐        │26 31│\n",
       "││Gloucester│        │19 22│\n",
       "│└──────────┘        │     │\n",
       "├────────────────────┼─────┤\n",
       "│┌──────────────────┐│17 21│\n",
       "││Worcester Warriors││ 0  0│\n",
       "│└──────────────────┘│     │\n",
       "├────────────────────┼─────┤\n",
       "│┌───────┐           │48  3│\n",
       "││Bristol│           │29 17│\n",
       "│└───────┘           │     │\n",
       "├────────────────────┼─────┤\n",
       "│┌────────────────┐  │15 25│\n",
       "││Leicester Tigers│  │36 31│\n",
       "│└────────────────┘  │     │\n",
       "├────────────────────┼─────┤\n",
       "│┌──────────┐        │27 27│\n",
       "││Harlequins│        │     │\n",
       "│└──────────┘        │     │\n",
       "├────────────────────┼─────┤\n",
       "│┌─────────────────┐ │22 10│\n",
       "││Newcastle Falcons│ │     │\n",
       "│└─────────────────┘ │     │\n",
       "├────────────────────┼─────┤\n",
       "│┌─────────────┐     │7 20 │\n",
       "││Exeter Chiefs│     │     │\n",
       "│└─────────────┘     │     │\n",
       "├────────────────────┼─────┤\n",
       "│┌──────────────────┐│0 0  │\n",
       "││Northampton Saints││     │\n",
       "│└──────────────────┘│     │\n",
       "├────────────────────┼─────┤\n",
       "│┌────┐              │44 52│\n",
       "││Bath│              │     │\n",
       "│└────┘              │     │\n",
       "├────────────────────┼─────┤\n",
       "│┌────┐              │20 13│\n",
       "││Sale│              │     │\n",
       "│└────┘              │     │\n",
       "└────────────────────┴─────┘\n",
       "</span>"
      ]
     },
     "execution_count": 19,
     "metadata": {},
     "output_type": "execute_result"
    }
   ],
   "source": [
    "teams {⍺⍵}⌸ scores"
   ]
  },
  {
   "cell_type": "markdown",
   "metadata": {},
   "source": [
    "One more example. Given a vector, return the most frequent element, or if there are several, return all of those:"
   ]
  },
  {
   "cell_type": "code",
   "execution_count": 7,
   "metadata": {},
   "outputs": [
    {
     "data": {
      "text/html": [
       "<span style=\"white-space:pre; font-family: monospace\">is\n",
       "</span>"
      ]
     },
     "execution_count": 7,
     "metadata": {},
     "output_type": "execute_result"
    }
   ],
   "source": [
    "{⍵⌷⍨⊂0~⍨⊢/0,⊢⌸⍵} 'Mississippi' ⍝ Most frequent from APLCart"
   ]
  },
  {
   "cell_type": "markdown",
   "metadata": {},
   "source": [
    "Ouch. \n",
    "\n",
    "A lot of stuff there we haven't seen yet, and rather 'golfy'. Let's unpick it, and see how far we get. From the right we first have our _Key_:"
   ]
  },
  {
   "cell_type": "code",
   "execution_count": 4,
   "metadata": {},
   "outputs": [
    {
     "data": {
      "text/html": [
       "<span style=\"white-space:pre; font-family: monospace\">1  0 0  0\n",
       "2  5 8 11\n",
       "3  4 6  7\n",
       "9 10 0  0\n",
       "</span>"
      ]
     },
     "execution_count": 4,
     "metadata": {},
     "output_type": "execute_result"
    }
   ],
   "source": [
    "⊢⌸ 'Mississippi'"
   ]
  },
  {
   "cell_type": "markdown",
   "metadata": {},
   "source": [
    "That's just the indices of each unique element in turn, as if we'd written"
   ]
  },
  {
   "cell_type": "code",
   "execution_count": 5,
   "metadata": {},
   "outputs": [
    {
     "data": {
      "text/html": [
       "<span style=\"white-space:pre; font-family: monospace\">1  0 0  0\n",
       "2  5 8 11\n",
       "3  4 6  7\n",
       "9 10 0  0\n",
       "</span>"
      ]
     },
     "execution_count": 5,
     "metadata": {},
     "output_type": "execute_result"
    }
   ],
   "source": [
    "{⍵}⌸ 'Mississippi'"
   ]
  },
  {
   "cell_type": "markdown",
   "metadata": {},
   "source": [
    "We then prepend a 0 column"
   ]
  },
  {
   "cell_type": "code",
   "execution_count": 9,
   "metadata": {},
   "outputs": [
    {
     "data": {
      "text/html": [
       "<span style=\"white-space:pre; font-family: monospace\">0 1  0 0  0\n",
       "0 2  5 8 11\n",
       "0 3  4 6  7\n",
       "0 9 10 0  0\n",
       "</span>"
      ]
     },
     "execution_count": 9,
     "metadata": {},
     "output_type": "execute_result"
    }
   ],
   "source": [
    "0,⊢⌸ 'Mississippi'"
   ]
  },
  {
   "cell_type": "markdown",
   "metadata": {},
   "source": [
    "Why is this? It doesn't seem to be necessary?"
   ]
  },
  {
   "cell_type": "code",
   "execution_count": 10,
   "metadata": {},
   "outputs": [
    {
     "data": {
      "text/html": [
       "<span style=\"white-space:pre; font-family: monospace\">is\n",
       "</span>"
      ]
     },
     "execution_count": 10,
     "metadata": {},
     "output_type": "execute_result"
    }
   ],
   "source": [
    "{⍵⌷⍨⊂0~⍨⊢/⊢⌸⍵} 'Mississippi'"
   ]
  },
  {
   "cell_type": "markdown",
   "metadata": {},
   "source": [
    "This is just guarding against a special case -- should the function be passed an empty argument, we don't want to error:"
   ]
  },
  {
   "cell_type": "code",
   "execution_count": 11,
   "metadata": {},
   "outputs": [
    {
     "name": "stderr",
     "output_type": "stream",
     "text": [
      "DOMAIN ERROR\n",
      "      {⍵⌷⍨⊂0~⍨⊢/⊢⌸⍵}'' ⍝ Note: DOMAIN ERROR\n",
      "              ∧\n"
     ]
    }
   ],
   "source": [
    "{⍵⌷⍨⊂0~⍨⊢/⊢⌸⍵} '' ⍝ Note: DOMAIN ERROR"
   ]
  },
  {
   "cell_type": "markdown",
   "metadata": {},
   "source": [
    "whereas with the prepended zeros it does the right thing:"
   ]
  },
  {
   "cell_type": "code",
   "execution_count": 16,
   "metadata": {},
   "outputs": [
    {
     "data": {
      "text/html": [
       "<span style=\"white-space:pre; font-family: monospace\">\n",
       "</span>"
      ]
     },
     "execution_count": 16,
     "metadata": {},
     "output_type": "execute_result"
    }
   ],
   "source": [
    "{⍵⌷⍨⊂0~⍨⊢/0,⊢⌸⍵} ''"
   ]
  },
  {
   "cell_type": "markdown",
   "metadata": {},
   "source": [
    "Anyway. After prepending a zero-col, we pick the _last_ column:"
   ]
  },
  {
   "cell_type": "code",
   "execution_count": 14,
   "metadata": {},
   "outputs": [
    {
     "data": {
      "text/html": [
       "<span style=\"white-space:pre; font-family: monospace\">0 11 7 0\n",
       "</span>"
      ]
     },
     "execution_count": 14,
     "metadata": {},
     "output_type": "execute_result"
    }
   ],
   "source": [
    "⊢/0,⊢⌸ 'Mississippi'"
   ]
  },
  {
   "cell_type": "markdown",
   "metadata": {},
   "source": [
    "This is how we can find the most frequent element(s) without any sorting -- the vector(s) of indices of the most frequent elements will be the longest, and hence the non-zero elements in the last column will be corresponding to the last occurrence of the most frequent elements. We need to exclude the zeros first:"
   ]
  },
  {
   "cell_type": "code",
   "execution_count": 15,
   "metadata": {},
   "outputs": [
    {
     "data": {
      "text/html": [
       "<span style=\"white-space:pre; font-family: monospace\">11 7\n",
       "</span>"
      ]
     },
     "execution_count": 15,
     "metadata": {},
     "output_type": "execute_result"
    }
   ],
   "source": [
    "0~⍨⊢/⊢⌸ 'Mississippi'"
   ]
  },
  {
   "cell_type": "markdown",
   "metadata": {},
   "source": [
    "and then enclose and index:"
   ]
  },
  {
   "cell_type": "code",
   "execution_count": 17,
   "metadata": {},
   "outputs": [
    {
     "data": {
      "text/html": [
       "<span style=\"white-space:pre; font-family: monospace\">is\n",
       "</span>"
      ]
     },
     "execution_count": 17,
     "metadata": {},
     "output_type": "execute_result"
    }
   ],
   "source": [
    "{⍵⌷⍨⊂0~⍨⊢/0,⊢⌸⍵} 'Mississippi'"
   ]
  },
  {
   "cell_type": "markdown",
   "metadata": {},
   "source": [
    "Pretty cool, eh? But there is one gotcha here -- "
   ]
  },
  {
   "cell_type": "code",
   "execution_count": 19,
   "metadata": {},
   "outputs": [
    {
     "data": {
      "text/html": [
       "<span style=\"white-space:pre; font-family: monospace\">bc\n",
       "</span>"
      ]
     },
     "execution_count": 19,
     "metadata": {},
     "output_type": "execute_result"
    }
   ],
   "source": [
    "{⍵⌷⍨⊂0~⍨⊢/0,⊢⌸⍵}'abc'"
   ]
  },
  {
   "cell_type": "markdown",
   "metadata": {},
   "source": [
    "If the argument array contains only unique cells, we get the wrong result if we run under `⎕IO←0`. Set it to 1 and it works:"
   ]
  },
  {
   "cell_type": "code",
   "execution_count": 20,
   "metadata": {},
   "outputs": [
    {
     "data": {
      "text/html": [
       "<span style=\"white-space:pre; font-family: monospace\">abc\n",
       "</span>"
      ]
     },
     "execution_count": 20,
     "metadata": {},
     "output_type": "execute_result"
    }
   ],
   "source": [
    "{⎕IO←1⋄⍵⌷⍨⊂0~⍨⊢/0,⊢⌸⍵}'abc'"
   ]
  },
  {
   "cell_type": "markdown",
   "metadata": {},
   "source": [
    "This is, of course, to do with the excluding of zeros from the last column. Unfortunately, as we rely on 0 being the [fill item](help.dyalog.com/18.0/index.htm#Language/Introduction/Variables/Prototypes%20and%20Fill%20Items.htm) for the array, so sadly we can't prepend, say, a negative number instead of 0 for ⎕IO-independence:"
   ]
  },
  {
   "cell_type": "code",
   "execution_count": 23,
   "metadata": {},
   "outputs": [
    {
     "data": {
      "text/html": [
       "<span style=\"white-space:pre; font-family: monospace\">abc\n",
       "</span>"
      ]
     },
     "execution_count": 23,
     "metadata": {},
     "output_type": "execute_result"
    },
    {
     "data": {
      "text/html": [
       "<span style=\"white-space:pre; font-family: monospace\">MisM\n",
       "</span>"
      ]
     },
     "execution_count": 23,
     "metadata": {},
     "output_type": "execute_result"
    }
   ],
   "source": [
    "{⍵⌷⍨⊂¯1~⍨⊢/¯1,⊢⌸⍵}'abc' ⍝ Whilst this works....\n",
    "{⍵⌷⍨⊂¯1~⍨⊢/¯1,⊢⌸⍵}'Mississippi' ⍝ This breaks!"
   ]
  },
  {
   "cell_type": "markdown",
   "metadata": {},
   "source": [
    "Here are some drills on _Key_, suggested by Roger Hui in his [APL Exercises](https://www.jsoftware.com/papers/APL_exercises/). Try to work out in your head what the answers are before you reveal:"
   ]
  },
  {
   "cell_type": "code",
   "execution_count": 2,
   "metadata": {
    "tags": [
     "hide-output"
    ]
   },
   "outputs": [
    {
     "data": {
      "text/html": [
       "<span style=\"white-space:pre; font-family: monospace\">┌─┬───────────────────┐\n",
       "│S│1                  │\n",
       "├─┼───────────────────┤\n",
       "│u│2 33               │\n",
       "├─┼───────────────────┤\n",
       "│p│3 23               │\n",
       "├─┼───────────────────┤\n",
       "│e│4 21               │\n",
       "├─┼───────────────────┤\n",
       "│r│5 11               │\n",
       "├─┼───────────────────┤\n",
       "│c│6 20 30            │\n",
       "├─┼───────────────────┤\n",
       "│a│7 12 25            │\n",
       "├─┼───────────────────┤\n",
       "│l│8 15 26            │\n",
       "├─┼───────────────────┤\n",
       "│i│9 14 16 19 24 27 31│\n",
       "├─┼───────────────────┤\n",
       "│f│10                 │\n",
       "├─┼───────────────────┤\n",
       "│g│13                 │\n",
       "├─┼───────────────────┤\n",
       "│s│17 34              │\n",
       "├─┼───────────────────┤\n",
       "│t│18                 │\n",
       "├─┼───────────────────┤\n",
       "│x│22                 │\n",
       "├─┼───────────────────┤\n",
       "│d│28                 │\n",
       "├─┼───────────────────┤\n",
       "│o│29 32              │\n",
       "└─┴───────────────────┘\n",
       "</span>"
      ]
     },
     "execution_count": 2,
     "metadata": {},
     "output_type": "execute_result"
    },
    {
     "data": {
      "text/html": [
       "<span style=\"white-space:pre; font-family: monospace\">S 1\n",
       "u 2\n",
       "p 2\n",
       "e 2\n",
       "r 2\n",
       "c 3\n",
       "a 3\n",
       "l 3\n",
       "i 7\n",
       "f 1\n",
       "g 1\n",
       "s 2\n",
       "t 1\n",
       "x 1\n",
       "d 1\n",
       "o 2\n",
       "</span>"
      ]
     },
     "execution_count": 2,
     "metadata": {},
     "output_type": "execute_result"
    },
    {
     "data": {
      "text/html": [
       "<span style=\"white-space:pre; font-family: monospace\">1 2 2 2 2 3 3 3 7 1 1 2 1 1 1 2\n",
       "</span>"
      ]
     },
     "execution_count": 2,
     "metadata": {},
     "output_type": "execute_result"
    },
    {
     "data": {
      "text/html": [
       "<span style=\"white-space:pre; font-family: monospace\">Supercalifgstxdo\n",
       "</span>"
      ]
     },
     "execution_count": 2,
     "metadata": {},
     "output_type": "execute_result"
    }
   ],
   "source": [
    "x ← 'Supercalifragilisticexpialidocious'\n",
    "\n",
    "{⍺⍵}⌸x\n",
    "{⍺ (≢⍵)}⌸x\n",
    "{≢⍵}⌸x\n",
    "{⍺}⌸x"
   ]
  },
  {
   "cell_type": "code",
   "execution_count": 5,
   "metadata": {
    "tags": [
     "hide-output"
    ]
   },
   "outputs": [
    {
     "data": {
      "text/html": [
       "<span style=\"white-space:pre; font-family: monospace\">┌─┬─────┐\n",
       "│a│11 12│\n",
       "├─┼─────┤\n",
       "│b│13 14│\n",
       "├─┼─────┤\n",
       "│c│15 16│\n",
       "├─┼─────┤\n",
       "│d│17 18│\n",
       "├─┼─────┤\n",
       "│e│19 20│\n",
       "├─┼─────┤\n",
       "│f│21 22│\n",
       "├─┼─────┤\n",
       "│g│23 24│\n",
       "├─┼─────┤\n",
       "│h│25 26│\n",
       "├─┼─────┤\n",
       "│i│27 28│\n",
       "├─┼─────┤\n",
       "│j│29 30│\n",
       "├─┼─────┤\n",
       "│k│31 32│\n",
       "└─┴─────┘\n",
       "</span>"
      ]
     },
     "execution_count": 5,
     "metadata": {},
     "output_type": "execute_result"
    },
    {
     "data": {
      "text/html": [
       "<span style=\"white-space:pre; font-family: monospace\">a 1\n",
       "b 1\n",
       "c 1\n",
       "d 1\n",
       "e 1\n",
       "f 1\n",
       "g 1\n",
       "h 1\n",
       "i 1\n",
       "j 1\n",
       "k 1\n",
       "</span>"
      ]
     },
     "execution_count": 5,
     "metadata": {},
     "output_type": "execute_result"
    },
    {
     "data": {
      "text/html": [
       "<span style=\"white-space:pre; font-family: monospace\">1 1 1 1 1 1 1 1 1 1 1\n",
       "</span>"
      ]
     },
     "execution_count": 5,
     "metadata": {},
     "output_type": "execute_result"
    },
    {
     "data": {
      "text/html": [
       "<span style=\"white-space:pre; font-family: monospace\">abcdefghijk\n",
       "</span>"
      ]
     },
     "execution_count": 5,
     "metadata": {},
     "output_type": "execute_result"
    },
    {
     "data": {
      "text/html": [
       "<span style=\"white-space:pre; font-family: monospace\">a 23\n",
       "b 27\n",
       "c 31\n",
       "d 35\n",
       "e 39\n",
       "f 43\n",
       "g 47\n",
       "h 51\n",
       "i 55\n",
       "j 59\n",
       "k 63\n",
       "</span>"
      ]
     },
     "execution_count": 5,
     "metadata": {},
     "output_type": "execute_result"
    },
    {
     "data": {
      "text/html": [
       "<span style=\"white-space:pre; font-family: monospace\">a 12\n",
       "b 14\n",
       "c 16\n",
       "d 18\n",
       "e 20\n",
       "f 22\n",
       "g 24\n",
       "h 26\n",
       "i 28\n",
       "j 30\n",
       "k 32\n",
       "</span>"
      ]
     },
     "execution_count": 5,
     "metadata": {},
     "output_type": "execute_result"
    },
    {
     "data": {
      "text/html": [
       "<span style=\"white-space:pre; font-family: monospace\">a 11\n",
       "b 13\n",
       "c 15\n",
       "d 17\n",
       "e 19\n",
       "f 21\n",
       "g 23\n",
       "h 25\n",
       "i 27\n",
       "j 29\n",
       "k 31\n",
       "</span>"
      ]
     },
     "execution_count": 5,
     "metadata": {},
     "output_type": "execute_result"
    }
   ],
   "source": [
    "x ← 'abcdefghijk'\n",
    "y ← 10+11 2⍴⍳22\n",
    "\n",
    "x{⍺⍵}⌸y\n",
    "x{⍺ (≢⍵)}⌸y\n",
    "x{≢⍵}⌸y\n",
    "x{⍺}⌸y\n",
    "x{⍺(+/,⍵)}⌸y\n",
    "x{⍺(⌈/,⍵)}⌸y\n",
    "x{⍺(⌊/,⍵)}⌸y"
   ]
  }
 ],
 "metadata": {
  "kernelspec": {
   "display_name": "Dyalog APL",
   "language": "apl",
   "name": "dyalog-kernel"
  },
  "language_info": {
   "file_extension": ".apl",
   "mimetype": "text/apl",
   "name": "APL"
  }
 },
 "nbformat": 4,
 "nbformat_minor": 4
}
