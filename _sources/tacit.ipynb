{
 "cells": [
  {
   "cell_type": "markdown",
   "metadata": {},
   "source": [
    "\n",
    "# Trainspotting\n",
    "\n",
    "> Simplicity and elegance are unpopular because they require hard work and discipline to achieve and education to be appreciated. -- _Edsger Dijkstra_\n",
    "\n",
    "_Tacit_ is the _third_ way to write code in Dyalog APL, after dfns, and _traditional_ (which we're not covering). The tacit style, also sometimes called _point-free_, was taken from the J language, which originated the concept. Tacit code can be made super-terse, and is best reserved for short snippets only. APL _idioms_ -- short, efficient, and ultra-optimised bits of code, are often expressed in tacit. You'll find that pretty much everything on [APLCart](https://aplcart.info/?w) is written in tacit, and as you start working on improving your [Code Golf](https://codegolf.stackexchange.com) handicap, tacit is an essential skill.\n",
    "\n",
    "We can look at tacit programming in APL as a little embedded DSL for functional composition, complete with its own grammar. The rules of this grammar are actually quite simple, but learning how to read and write tacit functions takes a lot of practice, even for those well-versed in the rest of APL.\n",
    "\n",
    "References for tacit programming: \n",
    "\n",
    "* [APL Wiki](https://aplwiki.com/wiki/Tacit_programming)\n",
    "* [Cultivation](https://chat.stackexchange.com/rooms/52405/conversation/lesson-23-transcribing-to-and-reading-trains)\n",
    "* [Dyalog webinar](https://www.youtube.com/watch?v=Enlh5qwwDuY%3Ft%3D440)\n",
    "* [dfns](http://dfns.dyalog.com/n_tacit.htm) page on dfn to tacit translation\n",
    "\n",
    "The word _tacit_ means implicit, and refers to a function where there is no explicit mention of its arguments. In a tacit function, then, you'll see no `⍺` and `⍵` as you would in a dfn. Instead a set of rules decide how the components of a tacit function interact with the arguments.\n",
    "\n",
    "This time, in our prelude, we'll use the `-trains=tree -fns=on` arguments to `]box` which helps with showing the structure of tacit functions."
   ]
  },
  {
   "cell_type": "code",
   "execution_count": 1,
   "metadata": {
    "tags": [
     "hide-output"
    ]
   },
   "outputs": [
    {
     "data": {
      "text/html": [
       "<span style=\"white-space:pre; font-family: monospace\">Was ON -style=min -trains=tree -fns=on\n",
       "</span>"
      ]
     },
     "execution_count": 1,
     "metadata": {},
     "output_type": "execute_result"
    },
    {
     "data": {
      "text/html": [
       "<span style=\"white-space:pre; font-family: monospace\">Was OFF\n",
       "</span>"
      ]
     },
     "execution_count": 1,
     "metadata": {},
     "output_type": "execute_result"
    }
   ],
   "source": [
    "⎕IO ← 0\n",
    "]box on -style=min -trains=tree -fns=on\n",
    "]rows on\n",
    "assert←{⍺←'assertion failure' ⋄ 0∊⍵:⍺ ⎕signal 8 ⋄ shy←0}"
   ]
  },
  {
   "cell_type": "markdown",
   "metadata": {},
   "source": [
    "## The tacit rules: atop\n",
    "\n",
    "A tacit function is wrapped in parentheses, `( ... )`, and is governed by a set of rules. Let's begin with the easiest one, the _monadic atop_. An _atop_, also known as a _2-train_, is a combination of two functions:\n",
    "\n",
    "    (f g)Y → f g Y\n",
    "\n",
    "This states that the tacit function `(f g)`, comprising the monadic functions `f` and `g`, simply corresponds to the sequence `f g` applied to an argument array `Y`. Well, that seems... obvious? We can try it:"
   ]
  },
  {
   "cell_type": "code",
   "execution_count": 1,
   "metadata": {},
   "outputs": [
    {
     "data": {
      "text/html": [
       "<span style=\"white-space:pre; font-family: monospace\">1 2 3\n",
       "4 5 6\n",
       "7 8 9\n",
       "</span>"
      ]
     },
     "execution_count": 1,
     "metadata": {},
     "output_type": "execute_result"
    },
    {
     "data": {
      "text/html": [
       "<span style=\"white-space:pre; font-family: monospace\">¯1 ¯4 ¯7\n",
       "¯2 ¯5 ¯8\n",
       "¯3 ¯6 ¯9\n",
       "</span>"
      ]
     },
     "execution_count": 1,
     "metadata": {},
     "output_type": "execute_result"
    },
    {
     "data": {
      "text/html": [
       "<span style=\"white-space:pre; font-family: monospace\">¯1 ¯4 ¯7\n",
       "¯2 ¯5 ¯8\n",
       "¯3 ¯6 ¯9\n",
       "</span>"
      ]
     },
     "execution_count": 1,
     "metadata": {},
     "output_type": "execute_result"
    }
   ],
   "source": [
    "⎕ ← Y ← 3 3⍴⍳9\n",
    "(-⍉)Y ⍝ Tacit\n",
    "-⍉Y   ⍝ Explicit \"beside\""
   ]
  },
  {
   "cell_type": "markdown",
   "metadata": {},
   "source": [
    "Yes, it's understandable if you're scratching your head, wondering \"what's the point of that then?\". It pays to think of it as a means of creating a derived function. Doing \n",
    "\n",
    "```apl\n",
    "-⍉Y\n",
    "```\n",
    "is _two_ operations, whereas \n",
    "```apl\n",
    "(-⍉)Y\n",
    "```\n",
    "is the application of a single, derived function. \n",
    "\n",
    "But the main purpose of the monadic atop rule is to serve as a building block in more complex tacit functions, as we shall discover shortly. \n",
    "\n",
    "Let's move on to the dyadic version of atop instead:\n",
    "\n",
    "    X (f g) Y → f X g Y\n",
    "    \n",
    "Here, the dyadic tacit function `(f g)` combines the _monadic_ function `f` and the dyadic function `g`. Let's say we want to tally the elements that are left if you remove all elements from array A from those in B:"
   ]
  },
  {
   "cell_type": "code",
   "execution_count": 7,
   "metadata": {},
   "outputs": [
    {
     "data": {
      "text/html": [
       "<span style=\"white-space:pre; font-family: monospace\"> \n",
       "4\n",
       " \n",
       "</span>"
      ]
     },
     "execution_count": 7,
     "metadata": {},
     "output_type": "execute_result"
    }
   ],
   "source": [
    "B ← 1 2 3 4 5 6 7\n",
    "A ← 3 2 6\n",
    "≢ B ~ A"
   ]
  },
  {
   "cell_type": "markdown",
   "metadata": {},
   "source": [
    "There we can see the `f X g Y` pattern. Let's try the tacit version, a dyadic _atop_:"
   ]
  },
  {
   "cell_type": "code",
   "execution_count": 8,
   "metadata": {},
   "outputs": [
    {
     "data": {
      "text/html": [
       "<span style=\"white-space:pre; font-family: monospace\"> \n",
       "4\n",
       " \n",
       "</span>"
      ]
     },
     "execution_count": 8,
     "metadata": {},
     "output_type": "execute_result"
    }
   ],
   "source": [
    "B (≢~) A"
   ]
  },
  {
   "cell_type": "markdown",
   "metadata": {},
   "source": [
    "There's also a monadic version of the atop rule:\n",
    "\n",
    "    (f g)Y → f g Y"
   ]
  },
  {
   "cell_type": "markdown",
   "metadata": {},
   "source": [
    "Again, hard to see the utility yet, perhaps. \n",
    "\n",
    "## The tacit rules: fork\n",
    "\n",
    "Let's keep going! Here's our first _fork_ (also known as a 3-train) -- a tacit combination of _three_ functions:\n",
    "\n",
    "    X (f g h) Y → (X f Y) g (X h Y)\n",
    "\n",
    "This is perhaps the simplest tacit rule that one can see applications for. Consider the three-way compare (sometimes called \"spaceship\") operator, `a <=> b` that some languages (like Perl or Ruby) offer. It returns a negative value if a < b, 0 if a == b and a positive value if a > b. APL has no such thing, but we can cook up a tacit function using the fork rule:"
   ]
  },
  {
   "cell_type": "code",
   "execution_count": 12,
   "metadata": {},
   "outputs": [],
   "source": [
    "cmp ← >-<"
   ]
  },
  {
   "cell_type": "code",
   "execution_count": 15,
   "metadata": {},
   "outputs": [
    {
     "data": {
      "text/html": [
       "<span style=\"white-space:pre; font-family: monospace\">  \n",
       "¯1\n",
       "  \n",
       "</span>"
      ]
     },
     "execution_count": 15,
     "metadata": {},
     "output_type": "execute_result"
    },
    {
     "data": {
      "text/html": [
       "<span style=\"white-space:pre; font-family: monospace\"> \n",
       "0\n",
       " \n",
       "</span>"
      ]
     },
     "execution_count": 15,
     "metadata": {},
     "output_type": "execute_result"
    },
    {
     "data": {
      "text/html": [
       "<span style=\"white-space:pre; font-family: monospace\"> \n",
       "1\n",
       " \n",
       "</span>"
      ]
     },
     "execution_count": 15,
     "metadata": {},
     "output_type": "execute_result"
    }
   ],
   "source": [
    "1 cmp 2\n",
    "1 cmp 1\n",
    "2 cmp 1"
   ]
  },
  {
   "cell_type": "markdown",
   "metadata": {},
   "source": [
    "Let's look at the rule application to see why it works:\n",
    "\n",
    "    (a > b) - (a < b) ⍝ using the fork rule: (X f Y) g (X h Y)\n",
    "    \n",
    "Once you learn to see this pattern, it really crops up frequently. Why is it called a \"fork\"? Well, if we have specified `]box on` with `-trains=tree` we can ask the interpreter to show us its parse of the tacit function:"
   ]
  },
  {
   "cell_type": "code",
   "execution_count": 16,
   "metadata": {},
   "outputs": [
    {
     "data": {
      "text/html": [
       "<span style=\"white-space:pre; font-family: monospace\">┌─┼─┐\n",
       "&gt; - &lt;\n",
       "</span>"
      ]
     },
     "execution_count": 16,
     "metadata": {},
     "output_type": "execute_result"
    }
   ],
   "source": [
    "cmp"
   ]
  },
  {
   "cell_type": "markdown",
   "metadata": {},
   "source": [
    "Very much a fork, or trident. As an aside, you can actually achieve the same thing with one symbol fewer:"
   ]
  },
  {
   "cell_type": "code",
   "execution_count": 4,
   "metadata": {},
   "outputs": [],
   "source": [
    "cmp ← ×- ⍝ Try it!"
   ]
  },
  {
   "cell_type": "markdown",
   "metadata": {},
   "source": [
    "Let's look at a few more examples. A common problem is to split a string into substrings, dividing on some separator character. Here's one way you can achieve that, using a dfn:"
   ]
  },
  {
   "cell_type": "code",
   "execution_count": 17,
   "metadata": {},
   "outputs": [],
   "source": [
    "Split ← {⍵⊆⍨⍺≠⍵}"
   ]
  },
  {
   "cell_type": "code",
   "execution_count": 18,
   "metadata": {},
   "outputs": [
    {
     "data": {
      "text/html": [
       "<span style=\"white-space:pre; font-family: monospace\">┌→──────────────────────────────────────────────────────────────────────────┐\n",
       "│ ┌→┐ ┌→─────┐ ┌→──────┐ ┌→─┐ ┌→─┐ ┌→────┐ ┌→┐ ┌→─────┐ ┌→───┐ ┌→─────────┐ │\n",
       "│ │A│ │common│ │problem│ │is│ │to│ │split│ │a│ │string│ │into│ │substrings│ │\n",
       "│ └─┘ └──────┘ └───────┘ └──┘ └──┘ └─────┘ └─┘ └──────┘ └────┘ └──────────┘ │\n",
       "└∊──────────────────────────────────────────────────────────────────────────┘\n",
       "</span>"
      ]
     },
     "execution_count": 18,
     "metadata": {},
     "output_type": "execute_result"
    }
   ],
   "source": [
    "' ' Split 'A common problem is to split a string into substrings'"
   ]
  },
  {
   "cell_type": "markdown",
   "metadata": {},
   "source": [
    "Let's rework that into a tacit formulation instead, taking it step by step. First, let's flip that selfie and put in some parentheses for emphasis:"
   ]
  },
  {
   "cell_type": "code",
   "execution_count": 20,
   "metadata": {},
   "outputs": [],
   "source": [
    "Split ← {(⍺≠⍵) ⊆ (⍵)}"
   ]
  },
  {
   "cell_type": "markdown",
   "metadata": {},
   "source": [
    "So that _almost_ matches the fork pattern `(X f Y) g (X h Y)`, but not quite. The last part makes no reference to `⍺`. Let's address that with a tack-trick:"
   ]
  },
  {
   "cell_type": "code",
   "execution_count": 21,
   "metadata": {},
   "outputs": [],
   "source": [
    "Split ← {(⍺≠⍵) ⊆ (⍺⊢⍵)}"
   ]
  },
  {
   "cell_type": "markdown",
   "metadata": {},
   "source": [
    "To recap, the tacks (`⊣⊢`) are functions that just return the value they're \"pointing\" to:"
   ]
  },
  {
   "cell_type": "code",
   "execution_count": 25,
   "metadata": {},
   "outputs": [
    {
     "data": {
      "text/html": [
       "<span style=\"white-space:pre; font-family: monospace\"> \n",
       "3\n",
       " \n",
       "</span>"
      ]
     },
     "execution_count": 25,
     "metadata": {},
     "output_type": "execute_result"
    },
    {
     "data": {
      "text/html": [
       "<span style=\"white-space:pre; font-family: monospace\"> \n",
       "5\n",
       " \n",
       "</span>"
      ]
     },
     "execution_count": 25,
     "metadata": {},
     "output_type": "execute_result"
    },
    {
     "data": {
      "text/html": [
       "<span style=\"white-space:pre; font-family: monospace\"> \n",
       "2\n",
       " \n",
       "</span>"
      ]
     },
     "execution_count": 25,
     "metadata": {},
     "output_type": "execute_result"
    }
   ],
   "source": [
    "2⊢3\n",
    "⊢5\n",
    "2⊣3"
   ]
  },
  {
   "cell_type": "markdown",
   "metadata": {},
   "source": [
    "They are very useful when writing tacit functions, as we've just seen. We now have a dfn body that matches the fork rule, and we can write it tacitly as:"
   ]
  },
  {
   "cell_type": "code",
   "execution_count": 24,
   "metadata": {},
   "outputs": [],
   "source": [
    "Split ← ≠⊆⊢"
   ]
  },
  {
   "cell_type": "code",
   "execution_count": 26,
   "metadata": {},
   "outputs": [
    {
     "data": {
      "text/html": [
       "<span style=\"white-space:pre; font-family: monospace\">┌→────────────────────────────────────────────────┐\n",
       "│ ┌→─┐ ┌→─────┐ ┌→────┐ ┌→───┐ ┌→──┐ ┌→───┐ ┌→──┐ │\n",
       "│ │It│ │should│ │still│ │work│ │the│ │same│ │way│ │\n",
       "│ └──┘ └──────┘ └─────┘ └────┘ └───┘ └────┘ └───┘ │\n",
       "└∊────────────────────────────────────────────────┘\n",
       "</span>"
      ]
     },
     "execution_count": 26,
     "metadata": {},
     "output_type": "execute_result"
    }
   ],
   "source": [
    "' ' Split 'It should still work the same way'"
   ]
  },
  {
   "cell_type": "markdown",
   "metadata": {},
   "source": [
    "Ok, let's try another one, this time going the other way. Here's a fork that scales a vector of numbers such that its components sum to 1:"
   ]
  },
  {
   "cell_type": "code",
   "execution_count": 27,
   "metadata": {},
   "outputs": [],
   "source": [
    "UnitSum ← ⊢÷+/"
   ]
  },
  {
   "cell_type": "code",
   "execution_count": 28,
   "metadata": {},
   "outputs": [
    {
     "data": {
      "text/html": [
       "<span style=\"white-space:pre; font-family: monospace\">┌→─────────────────────────────────────────────────────┐\n",
       "│0.047619 0.0952381 0.142857 0.190476 0.238095 0.285714│\n",
       "└~─────────────────────────────────────────────────────┘\n",
       "</span>"
      ]
     },
     "execution_count": 28,
     "metadata": {},
     "output_type": "execute_result"
    }
   ],
   "source": [
    "UnitSum 1 2 3 4 5 6"
   ]
  },
  {
   "cell_type": "markdown",
   "metadata": {},
   "source": [
    "What is the corresponding explicit dfn?\n",
    "\n",
    "The complication here is that we now have an operator involved: a reduction. Recall that operators take one (or two) function(s) and return a _derived function_ that can then be applied to arguments in turn. So let's think of the sum-reduction as a single function. Using spaces to make this clearer we get:"
   ]
  },
  {
   "cell_type": "code",
   "execution_count": 29,
   "metadata": {},
   "outputs": [],
   "source": [
    "UnitSum ← ⊢ ÷ +/"
   ]
  },
  {
   "cell_type": "markdown",
   "metadata": {},
   "source": [
    "We know already that the fork itself is monadic, meaning that the `f` and the `h` functions must both be monadic, and the `g` function dyadic. The tack becomes just `⍵` and the sum-reduction we just need to give an argument:"
   ]
  },
  {
   "cell_type": "code",
   "execution_count": 30,
   "metadata": {},
   "outputs": [],
   "source": [
    "UnitSum ← {⍵÷+/⍵}"
   ]
  },
  {
   "cell_type": "code",
   "execution_count": 31,
   "metadata": {},
   "outputs": [
    {
     "data": {
      "text/html": [
       "<span style=\"white-space:pre; font-family: monospace\">┌→─────────────────────────────────────────────────────┐\n",
       "│0.047619 0.0952381 0.142857 0.190476 0.238095 0.285714│\n",
       "└~─────────────────────────────────────────────────────┘\n",
       "</span>"
      ]
     },
     "execution_count": 31,
     "metadata": {},
     "output_type": "execute_result"
    }
   ],
   "source": [
    "UnitSum 1 2 3 4 5 6"
   ]
  },
  {
   "cell_type": "markdown",
   "metadata": {},
   "source": [
    "That last example -- a monadic fork -- can be formalised as:\n",
    "\n",
    "    (f g h)Y → (f Y) g (h Y)\n",
    "    \n",
    "There are, in fact, two more fork-varieties, beyond the two we've already seen. They differ in how the consitutent functions are applied (monadically or dyadically):\n",
    "\n",
    "    X(Z g h)Y → Z g X h Y ⍝ h dyad, g dyad, derived dyad\n",
    "    (X g h)Y  → X g h Y   ⍝ h modad, g dyad, derived monad"
   ]
  },
  {
   "cell_type": "markdown",
   "metadata": {},
   "source": [
    "## Summary: forks and atops\n",
    "\n",
    "For completeness, then -- here are all the rules of the tacit grammar in one place:\n",
    "\n",
    "| Tacit       | Type | Explicit           |\n",
    "|:------------|:-----|:-------------------|\n",
    "| `X(Z g h)Y` | Fork |`Z g X h Y`         |\n",
    "| `X(f g h)Y` | Fork |`(X f Y) g (X h Y)` |\n",
    "| `(X g h)Y`  | Fork |`X g h Y`           |\n",
    "| `(f g h)Y`  | Fork |`(f Y) g (h Y)`     |\n",
    "| `X(f g)Y`   | Atop |`f X g Y`           |\n",
    "| `(f g)Y`    | Atop |`f g Y`             |"
   ]
  },
  {
   "cell_type": "markdown",
   "metadata": {},
   "source": [
    "## Forks atop forks"
   ]
  },
  {
   "cell_type": "markdown",
   "metadata": {},
   "source": [
    "This is where the real fun begins. We can string together longer tacit functions by combining forks and atops. Some consideration should be given to comprehensibility here. Long stretches of tacit code requires more effort to understand than the corresponding explicit formulation.\n",
    "\n",
    "As our tacit rules indicate, barring the presence of parentheses, a combination of three functions is a fork, and two functions is an atop. If we have _more_ than three functions, we start reading from the right, making groups of threes and twos, and combine _those_ using the fork and atop rules. \n",
    "\n",
    "From Dyalog's [docs](http://help.dyalog.com/18.0/index.htm#Language/Introduction/Trains.htm): \n",
    "\n",
    "> ...in the absence of parentheses, a sequence of an odd number of functions resolves to a 3-train (fork) and an even-numbered sequence resolves to a 2-train (atop)\n",
    "\n",
    "So how long is too long a train? It depends on the \"carriages\". The example given in Dyalog's docs above is a good point:"
   ]
  },
  {
   "cell_type": "code",
   "execution_count": 33,
   "metadata": {},
   "outputs": [
    {
     "data": {
      "text/html": [
       "<span style=\"white-space:pre; font-family: monospace\">┌→───────┐\n",
       "│3 12 4 8│\n",
       "└~───────┘\n",
       "</span>"
      ]
     },
     "execution_count": 33,
     "metadata": {},
     "output_type": "execute_result"
    }
   ],
   "source": [
    "6 (⌽+,-,×,÷) 2"
   ]
  },
  {
   "cell_type": "markdown",
   "metadata": {},
   "source": [
    "That's 8 constituent functions. We'll prise it apart in a bit, but looking at it, it's pretty clear what the intention is: find the sum, difference, product and ratio of two numbers, and reverse the list.\n",
    "\n",
    "As always, let's look at the parse:"
   ]
  },
  {
   "cell_type": "code",
   "execution_count": 34,
   "metadata": {},
   "outputs": [
    {
     "data": {
      "text/html": [
       "<span style=\"white-space:pre; font-family: monospace\">┌─┴─┐          \n",
       "⌽ ┌─┼───┐      \n",
       "  + , ┌─┼───┐  \n",
       "      - , ┌─┼─┐\n",
       "          × , ÷\n",
       "</span>"
      ]
     },
     "execution_count": 34,
     "metadata": {},
     "output_type": "execute_result"
    }
   ],
   "source": [
    "⌽+,-,×,÷"
   ]
  },
  {
   "cell_type": "markdown",
   "metadata": {},
   "source": [
    "So reading right to left, down to up, we have three forks and an atop. Let's resolve them from the right:"
   ]
  },
  {
   "cell_type": "code",
   "execution_count": 35,
   "metadata": {},
   "outputs": [],
   "source": [
    "f1 ← ×,÷ ⍝ ...fork, (6×2),(6÷2)"
   ]
  },
  {
   "cell_type": "code",
   "execution_count": 37,
   "metadata": {},
   "outputs": [
    {
     "data": {
      "text/html": [
       "<span style=\"white-space:pre; font-family: monospace\">┌→───────┐\n",
       "│3 12 4 8│\n",
       "└~───────┘\n",
       "</span>"
      ]
     },
     "execution_count": 37,
     "metadata": {},
     "output_type": "execute_result"
    }
   ],
   "source": [
    "⎕ ← r ← 6 (⌽+,-,f1) 2 ⍝ does it still work?\n",
    "assert r≡6 (⌽+,-,×,÷) 2"
   ]
  },
  {
   "cell_type": "markdown",
   "metadata": {},
   "source": [
    "The next fork is now"
   ]
  },
  {
   "cell_type": "code",
   "execution_count": 38,
   "metadata": {},
   "outputs": [],
   "source": [
    "f2 ← -,f1 ⍝ ...fork: (6-2),f1 → (6-2),(6×2),(6÷2)"
   ]
  },
  {
   "cell_type": "code",
   "execution_count": 40,
   "metadata": {},
   "outputs": [
    {
     "data": {
      "text/html": [
       "<span style=\"white-space:pre; font-family: monospace\">┌→───────┐\n",
       "│3 12 4 8│\n",
       "└~───────┘\n",
       "</span>"
      ]
     },
     "execution_count": 40,
     "metadata": {},
     "output_type": "execute_result"
    }
   ],
   "source": [
    "6 (⌽+,f2) 2 "
   ]
  },
  {
   "cell_type": "markdown",
   "metadata": {},
   "source": [
    "and the final fork is more of the same:"
   ]
  },
  {
   "cell_type": "code",
   "execution_count": 41,
   "metadata": {},
   "outputs": [],
   "source": [
    "f3 ← +,f2 ⍝ (6+2),(6-2),(6×2),(6÷2)"
   ]
  },
  {
   "cell_type": "code",
   "execution_count": 42,
   "metadata": {},
   "outputs": [
    {
     "data": {
      "text/html": [
       "<span style=\"white-space:pre; font-family: monospace\">┌→───────┐\n",
       "│3 12 4 8│\n",
       "└~───────┘\n",
       "</span>"
      ]
     },
     "execution_count": 42,
     "metadata": {},
     "output_type": "execute_result"
    }
   ],
   "source": [
    "6 (⌽f3) 2 "
   ]
  },
  {
   "cell_type": "markdown",
   "metadata": {},
   "source": [
    "And finally, the atop, which moves the left argument to between the functions and removes the brackets:"
   ]
  },
  {
   "cell_type": "code",
   "execution_count": 43,
   "metadata": {},
   "outputs": [
    {
     "data": {
      "text/html": [
       "<span style=\"white-space:pre; font-family: monospace\">┌→───────┐\n",
       "│3 12 4 8│\n",
       "└~───────┘\n",
       "</span>"
      ]
     },
     "execution_count": 43,
     "metadata": {},
     "output_type": "execute_result"
    }
   ],
   "source": [
    "⌽ 6 f3 2"
   ]
  },
  {
   "cell_type": "markdown",
   "metadata": {},
   "source": [
    "or, fully explicit:"
   ]
  },
  {
   "cell_type": "code",
   "execution_count": 88,
   "metadata": {},
   "outputs": [
    {
     "data": {
      "text/html": [
       "<span style=\"white-space:pre; font-family: monospace\">┌→───────┐\n",
       "│3 12 4 8│\n",
       "└~───────┘\n",
       "</span>"
      ]
     },
     "execution_count": 88,
     "metadata": {},
     "output_type": "execute_result"
    }
   ],
   "source": [
    "6 {⌽(⍺+⍵),(⍺-⍵),(⍺×⍵),⍺÷⍵} 2"
   ]
  },
  {
   "cell_type": "markdown",
   "metadata": {},
   "source": [
    "## Complicating factors\n",
    "\n",
    "Using the method outlined above, you can usually untangle reasonably-sized trains that others have composed:\n",
    "\n",
    "* Use `]box on -style=mid -trains=tree -fns=on` to visualise the parse tree for the train\n",
    "* Follow the pattern indicated by the tree, and resolve forks and atops (R→L) using The Rules\n",
    "\n",
    "However, certain factors make this more complicated:\n",
    "\n",
    "* Mid-train parentheses to alter order of precedence\n",
    "* Binding strengths -- operators bind tighter than functions\n",
    "* Jots & tacks, if overused. \n",
    "\n",
    "A handy tacit function is finding the min and max of an array, which we can use to demonstrate the operator binding:"
   ]
  },
  {
   "cell_type": "code",
   "execution_count": 46,
   "metadata": {},
   "outputs": [
    {
     "data": {
      "text/html": [
       "<span style=\"white-space:pre; font-family: monospace\">┌→───┐\n",
       "│0 12│\n",
       "└~───┘\n",
       "</span>"
      ]
     },
     "execution_count": 46,
     "metadata": {},
     "output_type": "execute_result"
    }
   ],
   "source": [
    "minmax ← ⌊/,⌈/\n",
    "minmax 7 2 3 8 0 9 12"
   ]
  },
  {
   "cell_type": "markdown",
   "metadata": {},
   "source": [
    "This is a single fork: "
   ]
  },
  {
   "cell_type": "code",
   "execution_count": 47,
   "metadata": {},
   "outputs": [
    {
     "data": {
      "text/html": [
       "<span style=\"white-space:pre; font-family: monospace\">  ┌─┼─┐\n",
       "  / , /\n",
       "┌─┘ ┌─┘\n",
       "⌊   ⌈  \n",
       "</span>"
      ]
     },
     "execution_count": 47,
     "metadata": {},
     "output_type": "execute_result"
    }
   ],
   "source": [
    "minmax"
   ]
  },
  {
   "cell_type": "markdown",
   "metadata": {},
   "source": [
    "So we can see that we need to start by letting the reduces bind first to form the derived functions that make up the fork. Ok, that wasn't too bad. What about this one?"
   ]
  },
  {
   "cell_type": "code",
   "execution_count": 65,
   "metadata": {},
   "outputs": [
    {
     "data": {
      "text/html": [
       "<span style=\"white-space:pre; font-family: monospace\">┌─┴─┐        \n",
       "⊢ ┌─┼───┐    \n",
       "  ⊢ ∧ ┌─┴─┐  \n",
       "      ⍀ ┌─┼─┐\n",
       "    ┌─┘ ⍀ = ⊢\n",
       "    ∧ ┌─┘    \n",
       "      ∨      \n",
       "</span>"
      ]
     },
     "execution_count": 65,
     "metadata": {},
     "output_type": "execute_result"
    }
   ],
   "source": [
    "⎕ ← ones ← ⊢∧(∧⍀∨⍀=⊢) ⍝ Hat tip to Adám Brudzewski for the suggestion"
   ]
  },
  {
   "cell_type": "markdown",
   "metadata": {},
   "source": [
    "Top marks if you can say what that even does. Before we get into that, we can see that the parenthesis have affected the \"groups of three from the right\" parse. We're now looking at a fork-atop-fork, two operators and two tacks. All non-specific religious holidays came at once.\n",
    "\n",
    "This function preserves the first uninterrupted sequence of 1s in a vector:"
   ]
  },
  {
   "cell_type": "code",
   "execution_count": 66,
   "metadata": {},
   "outputs": [
    {
     "data": {
      "text/html": [
       "<span style=\"white-space:pre; font-family: monospace\">┌→──────────────────────────┐\n",
       "│0 0 1 1 1 0 0 0 0 0 0 0 0 0│\n",
       "└~──────────────────────────┘\n",
       "</span>"
      ]
     },
     "execution_count": 66,
     "metadata": {},
     "output_type": "execute_result"
    }
   ],
   "source": [
    "ones 0 0 1 1 1 0 0 0 1 0 1 1 1 0"
   ]
  },
  {
   "cell_type": "markdown",
   "metadata": {},
   "source": [
    "Let's untangle the parse tree, bottom-up, right-left. The first fork is "
   ]
  },
  {
   "cell_type": "code",
   "execution_count": 67,
   "metadata": {},
   "outputs": [
    {
     "data": {
      "text/html": [
       "<span style=\"white-space:pre; font-family: monospace\">┌─┴─┐  \n",
       "⊢ ┌─┼─┐\n",
       "  ⍀ = ⊢\n",
       "┌─┘    \n",
       "∨      \n",
       "</span>"
      ]
     },
     "execution_count": 67,
     "metadata": {},
     "output_type": "execute_result"
    }
   ],
   "source": [
    "⎕ ← f1 ← ∨⍀ = ⊢ ⍝ ...monadic fork, giving a dfn equivalent: {(∨⍀⍵)=⍵}"
   ]
  },
  {
   "cell_type": "code",
   "execution_count": 68,
   "metadata": {},
   "outputs": [
    {
     "data": {
      "text/html": [
       "<span style=\"white-space:pre; font-family: monospace\">┌→──────────────────────────┐\n",
       "│0 0 1 1 1 0 0 0 0 0 0 0 0 0│\n",
       "└~──────────────────────────┘\n",
       "</span>"
      ]
     },
     "execution_count": 68,
     "metadata": {},
     "output_type": "execute_result"
    }
   ],
   "source": [
    "⎕ ← r ← (⊢∧(∧⍀f1)) 0 0 1 1 1 0 0 0 1 0 1 1 1 0\n",
    "assert r≡ones 0 0 1 1 1 0 0 0 1 0 1 1 1 0 ⍝ still works!"
   ]
  },
  {
   "cell_type": "markdown",
   "metadata": {},
   "source": [
    "Now let's tackle the atop, which is just applying the and-scan to the fork:"
   ]
  },
  {
   "cell_type": "code",
   "execution_count": 69,
   "metadata": {},
   "outputs": [
    {
     "data": {
      "text/html": [
       "<span style=\"white-space:pre; font-family: monospace\">┌─┴─┐    \n",
       "⊢ ┌─┴─┐  \n",
       "  ⍀ ┌─┼─┐\n",
       "┌─┘ ⍀ = ⊢\n",
       "∧ ┌─┘    \n",
       "  ∨      \n",
       "</span>"
      ]
     },
     "execution_count": 69,
     "metadata": {},
     "output_type": "execute_result"
    }
   ],
   "source": [
    "⎕ ← a1 ← ∧⍀f1"
   ]
  },
  {
   "cell_type": "code",
   "execution_count": 70,
   "metadata": {},
   "outputs": [
    {
     "data": {
      "text/html": [
       "<span style=\"white-space:pre; font-family: monospace\">┌→──────────────────────────┐\n",
       "│0 0 1 1 1 0 0 0 0 0 0 0 0 0│\n",
       "└~──────────────────────────┘\n",
       "</span>"
      ]
     },
     "execution_count": 70,
     "metadata": {},
     "output_type": "execute_result"
    }
   ],
   "source": [
    "(⊢∧a1) 0 0 1 1 1 0 0 0 1 0 1 1 1 0"
   ]
  },
  {
   "cell_type": "markdown",
   "metadata": {},
   "source": [
    "and there we have a monadic fork:"
   ]
  },
  {
   "cell_type": "code",
   "execution_count": 71,
   "metadata": {},
   "outputs": [
    {
     "data": {
      "text/html": [
       "<span style=\"white-space:pre; font-family: monospace\">┌→──────────────────────────┐\n",
       "│0 0 1 1 1 0 0 0 0 0 0 0 0 0│\n",
       "└~──────────────────────────┘\n",
       "</span>"
      ]
     },
     "execution_count": 71,
     "metadata": {},
     "output_type": "execute_result"
    }
   ],
   "source": [
    "{⍵∧a1 ⍵} 0 0 1 1 1 0 0 0 1 0 1 1 1 0"
   ]
  },
  {
   "cell_type": "markdown",
   "metadata": {},
   "source": [
    "We can now fully untangle it if we want:"
   ]
  },
  {
   "cell_type": "code",
   "execution_count": 73,
   "metadata": {},
   "outputs": [
    {
     "data": {
      "text/html": [
       "<span style=\"white-space:pre; font-family: monospace\">┌→──────────────────────────┐\n",
       "│0 0 1 1 1 0 0 0 0 0 0 0 0 0│\n",
       "└~──────────────────────────┘\n",
       "</span>"
      ]
     },
     "execution_count": 73,
     "metadata": {},
     "output_type": "execute_result"
    }
   ],
   "source": [
    "{⍵∧∧⍀(∨⍀⍵)=⍵} 0 0 1 1 1 0 0 0 1 0 1 1 1 0"
   ]
  },
  {
   "cell_type": "markdown",
   "metadata": {},
   "source": [
    "So now we can compare the tacit and explicit forms of the same function:"
   ]
  },
  {
   "cell_type": "code",
   "execution_count": 74,
   "metadata": {},
   "outputs": [],
   "source": [
    "tacit ← ⊢∧(∧⍀∨⍀=⊢)\n",
    "expl  ← {⍵∧∧⍀(∨⍀⍵)=⍵}"
   ]
  },
  {
   "cell_type": "markdown",
   "metadata": {},
   "source": [
    "Which one is \"better\"? Yes, the tacit formulation is shorter by three glyphs. _Readability_ is a slippery concept which depends on the skill and experience of the reader, but at least to _this_ reader, without going through the above deconstruction exercise, I could not have told you how the tacit function worked. In the explicit formulation -- to _my_ eyes at least -- the algorithm is more visible.\n",
    "\n",
    "Let's work through a couple more, back and forth. If you haven't already, do check out Richard Park's most excellent [webinar](https://dyalog.tv/Webinar/?v=Enlh5qwwDuY) on the topic, too. \n",
    "\n",
    "```{note}\n",
    "Working through examples this way, whilst somewhat tedious, is the only way to learn. Eventually it clicks. If this all feels a bit dry, skip to the next chapter and keep coming back here in small doses. \n",
    "```\n",
    "Here's a tacit phrase which groups pairs of elements based on the first:"
   ]
  },
  {
   "cell_type": "code",
   "execution_count": 6,
   "metadata": {},
   "outputs": [
    {
     "data": {
      "text/html": [
       "<span style=\"white-space:pre; font-family: monospace\">┌───┬───┬───┬───┬───┬───┬───┐\n",
       "│5 3│5 6│7 5│4 7│1 8│2 4│1 2│\n",
       "└───┴───┴───┴───┴───┴───┴───┘\n",
       "┌───────┬─────┬─────┬───────┬─────┐\n",
       "│┌─┬───┐│┌─┬─┐│┌─┬─┐│┌─┬───┐│┌─┬─┐│\n",
       "││5│3 6│││7│5│││4│7│││1│8 2│││2│4││\n",
       "│└─┴───┘│└─┴─┘│└─┴─┘│└─┴───┘│└─┴─┘│\n",
       "└───────┴─────┴─────┴───────┴─────┘\n",
       "</span>"
      ]
     },
     "execution_count": 6,
     "metadata": {},
     "output_type": "execute_result"
    }
   ],
   "source": [
    "group ← ↓⊃¨,∘⊂⌸⊢/¨ ⍝ Group pairs based on first element\n",
    "group ⎕←(5 3)(5 6)(7 5)(4 7)(1 8)(2 4)(1 2)"
   ]
  },
  {
   "cell_type": "markdown",
   "metadata": {},
   "source": [
    "Let's look at the parse tree:"
   ]
  },
  {
   "cell_type": "code",
   "execution_count": 7,
   "metadata": {},
   "outputs": [
    {
     "data": {
      "text/html": [
       "<span style=\"white-space:pre; font-family: monospace\">┌──┴──┐    \n",
       "↓ ┌───┼───┐\n",
       "  ¨   ⌸   ¨\n",
       "┌─┘ ┌─┘ ┌─┘\n",
       "⊃   ∘   ⊢/ \n",
       "   ┌┴┐     \n",
       "   , ⊂     \n",
       "</span>"
      ]
     },
     "execution_count": 7,
     "metadata": {},
     "output_type": "execute_result"
    }
   ],
   "source": [
    "group"
   ]
  },
  {
   "cell_type": "markdown",
   "metadata": {},
   "source": [
    "Yikes... but actually, it looks worse than it is -- it's a single fork, with an atop. The sprinkling of operators make it look more complicated than it is. So, bit by bit as indicated by the tree, starting with the _Key_ (`⌸`):"
   ]
  },
  {
   "cell_type": "code",
   "execution_count": 31,
   "metadata": {},
   "outputs": [
    {
     "data": {
      "text/html": [
       "<span style=\"white-space:pre; font-family: monospace\">   ⌸\n",
       " ┌─┘\n",
       " ∘  \n",
       "┌┴┐ \n",
       ", ⊂ \n",
       "</span>"
      ]
     },
     "execution_count": 31,
     "metadata": {},
     "output_type": "execute_result"
    }
   ],
   "source": [
    "key ← ⎕←,∘⊂⌸"
   ]
  },
  {
   "cell_type": "markdown",
   "metadata": {},
   "source": [
    "Looks correct. If we substitute into the original definition, we get"
   ]
  },
  {
   "cell_type": "code",
   "execution_count": 32,
   "metadata": {},
   "outputs": [
    {
     "data": {
      "text/html": [
       "<span style=\"white-space:pre; font-family: monospace\">┌──┴──┐    \n",
       "↓ ┌───┼───┐\n",
       "  ¨   ⌸   ¨\n",
       "┌─┘ ┌─┘ ┌─┘\n",
       "⊃   ∘   ⊢/ \n",
       "   ┌┴┐     \n",
       "   , ⊂     \n",
       "</span>"
      ]
     },
     "execution_count": 32,
     "metadata": {},
     "output_type": "execute_result"
    }
   ],
   "source": [
    "↓⊃¨key⊢/¨"
   ]
  },
  {
   "cell_type": "markdown",
   "metadata": {},
   "source": [
    "Yep. Still the same. Now for the left and right tines:"
   ]
  },
  {
   "cell_type": "code",
   "execution_count": 33,
   "metadata": {},
   "outputs": [
    {
     "data": {
      "text/html": [
       "<span style=\"white-space:pre; font-family: monospace\">┌──┴──┐    \n",
       "↓ ┌───┼───┐\n",
       "  ¨   ⌸   ¨\n",
       "┌─┘ ┌─┘ ┌─┘\n",
       "⊃   ∘   ⊢/ \n",
       "   ┌┴┐     \n",
       "   , ⊂     \n",
       "</span>"
      ]
     },
     "execution_count": 33,
     "metadata": {},
     "output_type": "execute_result"
    }
   ],
   "source": [
    "discloseAll ← ⊃¨\n",
    "mergeLasts ← ⊢/¨\n",
    "↓discloseAll key mergeLasts"
   ]
  },
  {
   "cell_type": "markdown",
   "metadata": {},
   "source": [
    "We can now translate to a dfn:"
   ]
  },
  {
   "cell_type": "code",
   "execution_count": 34,
   "metadata": {},
   "outputs": [
    {
     "data": {
      "text/html": [
       "<span style=\"white-space:pre; font-family: monospace\">┌───────┬─────┬─────┬───────┬─────┐\n",
       "│┌─┬───┐│┌─┬─┐│┌─┬─┐│┌─┬───┐│┌─┬─┐│\n",
       "││5│3 6│││7│5│││4│7│││1│8 2│││2│4││\n",
       "│└─┴───┘│└─┴─┘│└─┴─┘│└─┴───┘│└─┴─┘│\n",
       "└───────┴─────┴─────┴───────┴─────┘\n",
       "</span>"
      ]
     },
     "execution_count": 34,
     "metadata": {},
     "output_type": "execute_result"
    }
   ],
   "source": [
    "{↓(discloseAll ⍵) key (mergeLasts ⍵)}  (5 3)(5 6)(7 5)(4 7)(1 8)(2 4)(1 2)"
   ]
  },
  {
   "cell_type": "code",
   "execution_count": 35,
   "metadata": {},
   "outputs": [
    {
     "data": {
      "text/html": [
       "<span style=\"white-space:pre; font-family: monospace\">┌───────┬─────┬─────┬───────┬─────┐\n",
       "│┌─┬───┐│┌─┬─┐│┌─┬─┐│┌─┬───┐│┌─┬─┐│\n",
       "││5│3 6│││7│5│││4│7│││1│8 2│││2│4││\n",
       "│└─┴───┘│└─┴─┘│└─┴─┘│└─┴───┘│└─┴─┘│\n",
       "└───────┴─────┴─────┴───────┴─────┘\n",
       "</span>"
      ]
     },
     "execution_count": 35,
     "metadata": {},
     "output_type": "execute_result"
    }
   ],
   "source": [
    "{↓(⊃¨⍵) ,∘⊂⌸ ⊢/¨⍵} (5 3)(5 6)(7 5)(4 7)(1 8)(2 4)(1 2)"
   ]
  },
  {
   "cell_type": "markdown",
   "metadata": {},
   "source": [
    "The operand to _Key_ is a derived function. We could expand that, too, if we want to be purist:"
   ]
  },
  {
   "cell_type": "code",
   "execution_count": 36,
   "metadata": {},
   "outputs": [
    {
     "data": {
      "text/html": [
       "<span style=\"white-space:pre; font-family: monospace\">┌───────┬─────┬─────┬───────┬─────┐\n",
       "│┌─┬───┐│┌─┬─┐│┌─┬─┐│┌─┬───┐│┌─┬─┐│\n",
       "││5│3 6│││7│5│││4│7│││1│8 2│││2│4││\n",
       "│└─┴───┘│└─┴─┘│└─┴─┘│└─┴───┘│└─┴─┘│\n",
       "└───────┴─────┴─────┴───────┴─────┘\n",
       "</span>"
      ]
     },
     "execution_count": 36,
     "metadata": {},
     "output_type": "execute_result"
    }
   ],
   "source": [
    "{↓(⊃¨⍵) {⍺,⊂⍵}⌸ ⊢/¨⍵} (5 3)(5 6)(7 5)(4 7)(1 8)(2 4)(1 2)"
   ]
  },
  {
   "cell_type": "markdown",
   "metadata": {},
   "source": [
    "Here's another one. What does this even do?"
   ]
  },
  {
   "cell_type": "code",
   "execution_count": 79,
   "metadata": {},
   "outputs": [
    {
     "data": {
      "text/html": [
       "<span style=\"white-space:pre; font-family: monospace\">┌→─────────────┐\n",
       "│ ┌→───┐ ┌→──┐ │\n",
       "│ │daoe│ │ylg│ │\n",
       "│ └────┘ └───┘ │\n",
       "└∊─────────────┘\n",
       "</span>"
      ]
     },
     "execution_count": 79,
     "metadata": {},
     "output_type": "execute_result"
    }
   ],
   "source": [
    "2 (|∘⍳∘≢⊢∘⊂⌸⊢) 'dyaloge'"
   ]
  },
  {
   "cell_type": "markdown",
   "metadata": {},
   "source": [
    "Another thing we can do that may or may not be useful is to ask the interpreter to give us a parethesised expression instead of the parse tree."
   ]
  },
  {
   "cell_type": "code",
   "execution_count": 2,
   "metadata": {},
   "outputs": [
    {
     "data": {
      "text/html": [
       "<span style=\"white-space:pre; font-family: monospace\">Was ON -style=min -trains=tree -fns=on\n",
       "</span>"
      ]
     },
     "execution_count": 2,
     "metadata": {},
     "output_type": "execute_result"
    }
   ],
   "source": [
    "]box on -style=mid -trains=parens -fns=on"
   ]
  },
  {
   "cell_type": "code",
   "execution_count": 40,
   "metadata": {},
   "outputs": [
    {
     "data": {
      "text/html": [
       "<span style=\"white-space:pre; font-family: monospace\">((|∘⍳)∘≢)((⊢∘⊂)⌸)⊢\n",
       "</span>"
      ]
     },
     "execution_count": 40,
     "metadata": {},
     "output_type": "execute_result"
    }
   ],
   "source": [
    "|∘⍳∘≢⊢∘⊂⌸⊢"
   ]
  },
  {
   "cell_type": "markdown",
   "metadata": {},
   "source": [
    "Some say that's an easier start than the tree. Take your pick. Following the steps above you should land on:"
   ]
  },
  {
   "cell_type": "code",
   "execution_count": 44,
   "metadata": {},
   "outputs": [
    {
     "data": {
      "text/html": [
       "<span style=\"white-space:pre; font-family: monospace\">┌→─────────────┐\n",
       "│ ┌→───┐ ┌→──┐ │\n",
       "│ │daoe│ │ylg│ │\n",
       "│ └────┘ └───┘ │\n",
       "└∊─────────────┘\n",
       "</span>"
      ]
     },
     "execution_count": 44,
     "metadata": {},
     "output_type": "execute_result"
    }
   ],
   "source": [
    "2 {(⍺|⍳≢⍵) {⊂⍵}⌸ ⍵} 'dyaloge'"
   ]
  },
  {
   "cell_type": "markdown",
   "metadata": {},
   "source": [
    "This one draws a bar chart:"
   ]
  },
  {
   "cell_type": "code",
   "execution_count": 3,
   "metadata": {},
   "outputs": [
    {
     "data": {
      "text/html": [
       "<span style=\"white-space:pre; font-family: monospace\">┌→────────┐\n",
       "↓⎕⎕⎕      │\n",
       "│         │\n",
       "│⎕⎕⎕⎕⎕⎕⎕⎕⎕│\n",
       "│⎕⎕⎕⎕⎕⎕   │\n",
       "│⎕⎕       │\n",
       "│⎕⎕⎕⎕⎕⎕⎕  │\n",
       "│⎕⎕⎕⎕⎕⎕   │\n",
       "└─────────┘\n",
       "</span>"
      ]
     },
     "execution_count": 3,
     "metadata": {},
     "output_type": "execute_result"
    }
   ],
   "source": [
    "]DISPLAY (↑⍴¨∘'⎕')3 0 9 6 2 7 6"
   ]
  },
  {
   "cell_type": "markdown",
   "metadata": {},
   "source": [
    "which is just"
   ]
  },
  {
   "cell_type": "code",
   "execution_count": 4,
   "metadata": {},
   "outputs": [
    {
     "data": {
      "text/html": [
       "<span style=\"white-space:pre; font-family: monospace\">┌→────────┐\n",
       "↓⎕⎕⎕      │\n",
       "│         │\n",
       "│⎕⎕⎕⎕⎕⎕⎕⎕⎕│\n",
       "│⎕⎕⎕⎕⎕⎕   │\n",
       "│⎕⎕       │\n",
       "│⎕⎕⎕⎕⎕⎕⎕  │\n",
       "│⎕⎕⎕⎕⎕⎕   │\n",
       "└─────────┘\n",
       "</span>"
      ]
     },
     "execution_count": 4,
     "metadata": {},
     "output_type": "execute_result"
    }
   ],
   "source": [
    "]DISPLAY ↑{⍵⍴'⎕'}¨3 0 9 6 2 7 6"
   ]
  },
  {
   "cell_type": "markdown",
   "metadata": {},
   "source": [
    "Let's try a couple of harder ones. This one removes leading, trailing and repeated stretches of `⍺` from `⍵`:"
   ]
  },
  {
   "cell_type": "code",
   "execution_count": 85,
   "metadata": {},
   "outputs": [
    {
     "data": {
      "text/html": [
       "<span style=\"white-space:pre; font-family: monospace\">┌→──────────┐\n",
       "│hello world│\n",
       "└───────────┘\n",
       "</span>"
      ]
     },
     "execution_count": 85,
     "metadata": {},
     "output_type": "execute_result"
    }
   ],
   "source": [
    "trim ← 1↓,⊢⍤/⍨1(⊢∨⌽)0,≠\n",
    "' ' trim '        hello     world     '"
   ]
  },
  {
   "cell_type": "code",
   "execution_count": 5,
   "metadata": {},
   "outputs": [
    {
     "data": {
      "text/html": [
       "<span style=\"white-space:pre; font-family: monospace\">Was ON -style=mid -trains=tree -fns=on\n",
       "</span>"
      ]
     },
     "execution_count": 5,
     "metadata": {},
     "output_type": "execute_result"
    }
   ],
   "source": [
    "]box on -style=mid -trains=tree -fns=on ⍝ I'm a tree guy!"
   ]
  },
  {
   "cell_type": "code",
   "execution_count": 88,
   "metadata": {},
   "outputs": [
    {
     "data": {
      "text/html": [
       "<span style=\"white-space:pre; font-family: monospace\">┌─┼───┐              \n",
       "1 ↓ ┌─┼─────┐        \n",
       "    , ⍨ ┌───┼─────┐  \n",
       "    ┌─┘ 1 ┌─┼─┐ ┌─┼─┐\n",
       "    ⍤     ⊢ ∨ ⌽ 0 , ≠\n",
       "   ┌┴┐               \n",
       "   ⊢ /               \n",
       "</span>"
      ]
     },
     "execution_count": 88,
     "metadata": {},
     "output_type": "execute_result"
    }
   ],
   "source": [
    "trim"
   ]
  },
  {
   "cell_type": "markdown",
   "metadata": {},
   "source": [
    "No fewer than _five_ forks! The other thing to note is the use of `⍤` here which in fact is _not_ _Rank_. When `⍤` is used with a right _function_ operand, it becomes [_Atop_](http://help.dyalog.com/18.0/index.htm#Language/Primitive%20Operators/Atop.htm), not _Rank_ (which takes a right _array_ operand).\n",
    "\n",
    "The tacit phrase `⊢⍤f` is a trick to force `f` to be parsed as a function, rather than as an operator for glyphs that can be either. In our case, `⊢⍤/⍨` is just `{⍵/⍺}`. With that we may be able to skip a few intermediate steps:"
   ]
  },
  {
   "cell_type": "code",
   "execution_count": 90,
   "metadata": {},
   "outputs": [],
   "source": [
    "f ← {1{⍵∨⍺⌽⍵}⍺{0,⍺≠⍵}⍵}\n",
    "g ← {⍵/⍺}     \n",
    "trimdfn ← {1↓(⍺,⍵)g⍺f⍵}"
   ]
  },
  {
   "cell_type": "code",
   "execution_count": 91,
   "metadata": {},
   "outputs": [
    {
     "data": {
      "text/html": [
       "<span style=\"white-space:pre; font-family: monospace\">┌→──────────┐\n",
       "│hello world│\n",
       "└───────────┘\n",
       "</span>"
      ]
     },
     "execution_count": 91,
     "metadata": {},
     "output_type": "execute_result"
    }
   ],
   "source": [
    "' ' trimdfn '        hello     world     '"
   ]
  },
  {
   "cell_type": "markdown",
   "metadata": {},
   "source": [
    "Expanding that out we can make a few simplifications, arriving at the resaonably compact"
   ]
  },
  {
   "cell_type": "code",
   "execution_count": 95,
   "metadata": {},
   "outputs": [],
   "source": [
    "trim ← {1↓(x∨1⌽x←0,⍺≠⍵)/⍺,⍵}"
   ]
  },
  {
   "cell_type": "code",
   "execution_count": 96,
   "metadata": {},
   "outputs": [
    {
     "data": {
      "text/html": [
       "<span style=\"white-space:pre; font-family: monospace\">┌→──────────┐\n",
       "│hello world│\n",
       "└───────────┘\n",
       "</span>"
      ]
     },
     "execution_count": 96,
     "metadata": {},
     "output_type": "execute_result"
    }
   ],
   "source": [
    "' ' trim '        hello     world     '"
   ]
  },
  {
   "cell_type": "markdown",
   "metadata": {},
   "source": [
    "How about going the other way? We've done some already. A pretty comprehensive guide to the mechanical process of translating a dfn to its tacit equivalent can be found in the [docs](http://dfns.dyalog.com/n_tacit.htm) for the dfns workspace, mentioned at the top of this chapter.\n",
    "\n",
    "Here's a noddy dfn that takes a string consisting of a leading letter and some digits, and returns a 2-element vector with the letter and the number:"
   ]
  },
  {
   "cell_type": "code",
   "execution_count": 70,
   "metadata": {},
   "outputs": [
    {
     "data": {
      "text/html": [
       "<span style=\"white-space:pre; font-family: monospace\">┌→─────┐\n",
       "│X 1234│\n",
       "└+─────┘\n",
       "</span>"
      ]
     },
     "execution_count": 70,
     "metadata": {},
     "output_type": "execute_result"
    }
   ],
   "source": [
    "{(1↑⍵),⍎1↓⍵} 'X1234'"
   ]
  },
  {
   "cell_type": "markdown",
   "metadata": {},
   "source": [
    "There's clearly a fork in there, but also an atop. This should pose little difficulty, right? Change the braces for parantheses, and omegas for right-tack, but we need to delineate the eval call:"
   ]
  },
  {
   "cell_type": "code",
   "execution_count": 71,
   "metadata": {},
   "outputs": [
    {
     "data": {
      "text/html": [
       "<span style=\"white-space:pre; font-family: monospace\">┌→─────┐\n",
       "│X 1234│\n",
       "└+─────┘\n",
       "</span>"
      ]
     },
     "execution_count": 71,
     "metadata": {},
     "output_type": "execute_result"
    }
   ],
   "source": [
    "((1↑⊢),(⍎(1↓⊢))) 'X1234'"
   ]
  },
  {
   "cell_type": "markdown",
   "metadata": {},
   "source": [
    "We can do more here. Both left and right tines of the fork share a `1`. We can make that a left argument, so in our case a _left_ tack:"
   ]
  },
  {
   "cell_type": "code",
   "execution_count": 72,
   "metadata": {},
   "outputs": [
    {
     "data": {
      "text/html": [
       "<span style=\"white-space:pre; font-family: monospace\">┌→─────┐\n",
       "│X 1234│\n",
       "└+─────┘\n",
       "</span>"
      ]
     },
     "execution_count": 72,
     "metadata": {},
     "output_type": "execute_result"
    }
   ],
   "source": [
    "1 ((⊣↑⊢),(⍎(⊣↓⊢))) 'X1234'"
   ]
  },
  {
   "cell_type": "markdown",
   "metadata": {},
   "source": [
    "but the pattern `⊣f⊢` is just `f`, which also lets us remove some parentheses:"
   ]
  },
  {
   "cell_type": "code",
   "execution_count": 73,
   "metadata": {},
   "outputs": [
    {
     "data": {
      "text/html": [
       "<span style=\"white-space:pre; font-family: monospace\">┌→─────┐\n",
       "│X 1234│\n",
       "└+─────┘\n",
       "</span>"
      ]
     },
     "execution_count": 73,
     "metadata": {},
     "output_type": "execute_result"
    }
   ],
   "source": [
    "1 (↑,(⍎↓)) 'X1234'"
   ]
  },
  {
   "cell_type": "markdown",
   "metadata": {},
   "source": [
    "We can actually remove the inner parantheses, too, by a bit of sleight of hand:"
   ]
  },
  {
   "cell_type": "code",
   "execution_count": 74,
   "metadata": {},
   "outputs": [
    {
     "data": {
      "text/html": [
       "<span style=\"white-space:pre; font-family: monospace\">┌→─────┐\n",
       "│X 1234│\n",
       "└+─────┘\n",
       "</span>"
      ]
     },
     "execution_count": 74,
     "metadata": {},
     "output_type": "execute_result"
    }
   ],
   "source": [
    "1 (↑,∘⍎↓) 'X1234'"
   ]
  },
  {
   "cell_type": "markdown",
   "metadata": {},
   "source": [
    "but these two trains -- whilst doing the same thing -- parse differently:"
   ]
  },
  {
   "cell_type": "code",
   "execution_count": 77,
   "metadata": {},
   "outputs": [
    {
     "data": {
      "text/html": [
       "<span style=\"white-space:pre; font-family: monospace\">┌─┼──┐ \n",
       "↑ , ┌┴┐\n",
       "    ⍎ ↓\n",
       "</span>"
      ]
     },
     "execution_count": 77,
     "metadata": {},
     "output_type": "execute_result"
    },
    {
     "data": {
      "text/html": [
       "<span style=\"white-space:pre; font-family: monospace\">┌─┼─┐\n",
       "↑ ∘ ↓\n",
       " ┌┴┐ \n",
       " , ⍎ \n",
       "</span>"
      ]
     },
     "execution_count": 77,
     "metadata": {},
     "output_type": "execute_result"
    }
   ],
   "source": [
    "↑,(⍎↓)\n",
    "↑,∘⍎↓"
   ]
  },
  {
   "cell_type": "markdown",
   "metadata": {},
   "source": [
    "In other words, we made a derived function with jot: `,∘⍎`. That turned out well: the tacit version is shorter than the explicit, and no less readable.\n",
    "\n",
    "A few more?\n",
    "\n",
    "This dfn takes a rational to the right and tries to compute a vector representing the corresponding fraction:"
   ]
  },
  {
   "cell_type": "code",
   "execution_count": 6,
   "metadata": {},
   "outputs": [
    {
     "data": {
      "text/html": [
       "<span style=\"white-space:pre; font-family: monospace\">3 4\n",
       "</span>"
      ]
     },
     "execution_count": 6,
     "metadata": {},
     "output_type": "execute_result"
    }
   ],
   "source": [
    "{(1∧⍵)÷1,⍵} 0.75"
   ]
  },
  {
   "cell_type": "markdown",
   "metadata": {},
   "source": [
    "A fork, with both tines also being forks."
   ]
  },
  {
   "cell_type": "code",
   "execution_count": 7,
   "metadata": {},
   "outputs": [
    {
     "data": {
      "text/html": [
       "<span style=\"white-space:pre; font-family: monospace\">3 4\n",
       "</span>"
      ]
     },
     "execution_count": 7,
     "metadata": {},
     "output_type": "execute_result"
    }
   ],
   "source": [
    "f1 ← {1∧⍵}\n",
    "f2 ← {1,⍵}\n",
    "{(f1 ⍵) ÷ f2 ⍵} 0.75"
   ]
  },
  {
   "cell_type": "markdown",
   "metadata": {},
   "source": [
    "We can convert the tine forks directly by swapping `⍵` for `⊢` and `{}` for `()`:"
   ]
  },
  {
   "cell_type": "code",
   "execution_count": 9,
   "metadata": {},
   "outputs": [
    {
     "data": {
      "text/html": [
       "<span style=\"white-space:pre; font-family: monospace\">3 4\n",
       "</span>"
      ]
     },
     "execution_count": 9,
     "metadata": {},
     "output_type": "execute_result"
    }
   ],
   "source": [
    "((1∧⊢)÷1,⊢) 0.75"
   ]
  },
  {
   "cell_type": "markdown",
   "metadata": {},
   "source": [
    "This one shifts a vector of numbers the specified number of steps to the left, padding with zeros on the right:"
   ]
  },
  {
   "cell_type": "code",
   "execution_count": 11,
   "metadata": {},
   "outputs": [
    {
     "data": {
      "text/html": [
       "<span style=\"white-space:pre; font-family: monospace\">3 4 5 6 7 8 9 0 0 0\n",
       "</span>"
      ]
     },
     "execution_count": 11,
     "metadata": {},
     "output_type": "execute_result"
    }
   ],
   "source": [
    "3 {⍺↓⍵,⍺↑0} ⍳10"
   ]
  },
  {
   "cell_type": "markdown",
   "metadata": {},
   "source": [
    "Looks easy, right? Tempting to to jump to the conclusion that this is a fork on _Catenate_, `f,g` -- it's not.\n",
    "\n",
    "The complication is the take at the end, which has an array right argument which isn't allowed in a train: we need to _Commute_ that one. So starting from the right, we have a dyadic function as `⍺↑0`, preceded by `⍵,`. So that's our first fork of the form `⊢,f`:"
   ]
  },
  {
   "cell_type": "code",
   "execution_count": 19,
   "metadata": {},
   "outputs": [
    {
     "data": {
      "text/html": [
       "<span style=\"white-space:pre; font-family: monospace\">┌─┼───┐  \n",
       "⊢ , ┌─┼─┐\n",
       "    0 ⍨ ⊣\n",
       "    ┌─┘  \n",
       "    ↑    \n",
       "</span>"
      ]
     },
     "execution_count": 19,
     "metadata": {},
     "output_type": "execute_result"
    }
   ],
   "source": [
    "⊢,0↑⍨⊣"
   ]
  },
  {
   "cell_type": "markdown",
   "metadata": {},
   "source": [
    "Before that we have `⍺↑` which together with what we already did also makes a fork, this time `⊣↑g`:"
   ]
  },
  {
   "cell_type": "code",
   "execution_count": 26,
   "metadata": {},
   "outputs": [
    {
     "data": {
      "text/html": [
       "<span style=\"white-space:pre; font-family: monospace\">┌─┴─┐          \n",
       "⊢ ┌─┼───┐      \n",
       "  ⊣ ↓ ┌─┼───┐  \n",
       "      ⊢ , ┌─┼─┐\n",
       "          0 ⍨ ⊣\n",
       "          ┌─┘  \n",
       "          ↑    \n",
       "</span>"
      ]
     },
     "execution_count": 26,
     "metadata": {},
     "output_type": "execute_result"
    }
   ],
   "source": [
    "⎕ ← shift ← ⊣↓⊢,0↑⍨⊣"
   ]
  },
  {
   "cell_type": "code",
   "execution_count": 23,
   "metadata": {},
   "outputs": [
    {
     "data": {
      "text/html": [
       "<span style=\"white-space:pre; font-family: monospace\">3 4 5 6 7 8 9 0 0 0\n",
       "</span>"
      ]
     },
     "execution_count": 23,
     "metadata": {},
     "output_type": "execute_result"
    }
   ],
   "source": [
    "3 shift ⍳10"
   ]
  },
  {
   "cell_type": "markdown",
   "metadata": {},
   "source": [
    "Note that again it's tempting to say that `⊣f⊢` is just `f` like we did earlier, but that makes the same slip as we started with -- they don't belong to one fork:"
   ]
  },
  {
   "cell_type": "code",
   "execution_count": 25,
   "metadata": {},
   "outputs": [
    {
     "data": {
      "text/html": [
       "<span style=\"white-space:pre; font-family: monospace\">┌─┼───┐  \n",
       "↓ , ┌─┼─┐\n",
       "    0 ⍨ ⊣\n",
       "    ┌─┘  \n",
       "    ↑    \n",
       "</span>"
      ]
     },
     "execution_count": 25,
     "metadata": {},
     "output_type": "execute_result"
    }
   ],
   "source": [
    "↓,0↑⍨⊣"
   ]
  },
  {
   "cell_type": "markdown",
   "metadata": {},
   "source": [
    "## Shuffle the array\n",
    "\n",
    "The [LeetCode problem 1470](https://leetcode.com/problems/shuffle-the-array/) was posed as a [chat mini challenge](https://chat.stackexchange.com/transcript/message/57968695#57968695) on APL Orchard to produce a tacit solution, and some elegant solutions were presented. Let's look at that problem.\n",
    "\n",
    "The task is to take a vector of length `2n`, and essentially zip the first half with the second, and flatten:\n",
    "\n",
    "    Input: nums = [1,2,3,4,4,3,2,1], n = 4\n",
    "    Output: [1,4,2,3,3,2,4,1]\n",
    "    \n",
    "A dfn formulation is pretty straight-forward:"
   ]
  },
  {
   "cell_type": "code",
   "execution_count": 28,
   "metadata": {},
   "outputs": [
    {
     "data": {
      "text/html": [
       "<span style=\"white-space:pre; font-family: monospace\">1 4 2 3 3 2 4 1\n",
       "</span>"
      ]
     },
     "execution_count": 28,
     "metadata": {},
     "output_type": "execute_result"
    }
   ],
   "source": [
    "4 {,⍉2⍺⍴⍵} 1 2 3 4 4 3 2 1"
   ]
  },
  {
   "cell_type": "markdown",
   "metadata": {},
   "source": [
    "which is reshape to `2 n`, _Transpose_, _Ravel_ -- in fact, it's kind of how we said it: \"zip the first half with the second, and flatten\". However, that particular dfn doesn't lend itself nicely to a tacit formulation. APL Orchard user [@rak1507](https://chat.stackexchange.com/users/470812/rak1507) proposed the following gem:"
   ]
  },
  {
   "cell_type": "code",
   "execution_count": 4,
   "metadata": {},
   "outputs": [
    {
     "data": {
      "text/html": [
       "<span style=\"white-space:pre; font-family: monospace\">1 4 2 3 3 2 4 1\n",
       "</span>"
      ]
     },
     "execution_count": 4,
     "metadata": {},
     "output_type": "execute_result"
    }
   ],
   "source": [
    "4 (∊↑,¨↓) 1 2 3 4 4 3 2 1"
   ]
  },
  {
   "cell_type": "markdown",
   "metadata": {},
   "source": [
    "Remarkably clever, but kinda obvious (once you've seen it). This relies on _Catenate each_ `,¨` as the (almost) \"zip\" instead of `,⍉`:"
   ]
  },
  {
   "cell_type": "code",
   "execution_count": 5,
   "metadata": {},
   "outputs": [
    {
     "data": {
      "text/html": [
       "<span style=\"white-space:pre; font-family: monospace\">┌───┬───┬───┬───┐\n",
       "│1 4│2 3│3 2│4 1│\n",
       "└───┴───┴───┴───┘\n",
       "</span>"
      ]
     },
     "execution_count": 5,
     "metadata": {},
     "output_type": "execute_result"
    }
   ],
   "source": [
    "1 2 3 4 ,¨ 4 3 2 1"
   ]
  },
  {
   "cell_type": "markdown",
   "metadata": {},
   "source": [
    "The actual formulation is the tacit version of"
   ]
  },
  {
   "cell_type": "code",
   "execution_count": 6,
   "metadata": {},
   "outputs": [
    {
     "data": {
      "text/html": [
       "<span style=\"white-space:pre; font-family: monospace\">1 4 2 3 3 2 4 1\n",
       "</span>"
      ]
     },
     "execution_count": 6,
     "metadata": {},
     "output_type": "execute_result"
    }
   ],
   "source": [
    "4 {∊(⍺↑⍵),¨(⍺↓⍵)} 1 2 3 4 4 3 2 1"
   ]
  },
  {
   "cell_type": "code",
   "execution_count": 7,
   "metadata": {},
   "outputs": [
    {
     "data": {
      "text/html": [
       "<span style=\"white-space:pre; font-family: monospace\">┌─┴─┐  \n",
       "∊ ┌─┼─┐\n",
       "  ↑ ¨ ↓\n",
       "  ┌─┘  \n",
       "  ,    \n",
       "</span>"
      ]
     },
     "execution_count": 7,
     "metadata": {},
     "output_type": "execute_result"
    }
   ],
   "source": [
    "(∊↑,¨↓)"
   ]
  },
  {
   "cell_type": "markdown",
   "metadata": {},
   "source": [
    "Nice. But wait, there's more. [Adám's](https://aplwiki.com/wiki/Ad%C3%A1m_Brudzewsky) version takes a wholly different approach, and do note the way the function takes its arguments, which is key to how this works:"
   ]
  },
  {
   "cell_type": "code",
   "execution_count": 19,
   "metadata": {},
   "outputs": [
    {
     "data": {
      "text/html": [
       "<span style=\"white-space:pre; font-family: monospace\">1 4 2 3 3 2 4 1\n",
       "</span>"
      ]
     },
     "execution_count": 19,
     "metadata": {},
     "output_type": "execute_result"
    }
   ],
   "source": [
    "(,∘⍉2@0⍴⊃) (1 2 3 4 4 3 2 1) 4"
   ]
  },
  {
   "cell_type": "markdown",
   "metadata": {},
   "source": [
    "Not obvious how that works, right? Let's look at the parse tree:"
   ]
  },
  {
   "cell_type": "code",
   "execution_count": 20,
   "metadata": {},
   "outputs": [
    {
     "data": {
      "text/html": [
       "<span style=\"white-space:pre; font-family: monospace\"> ┌──┴──┐  \n",
       " ∘   ┌─┼─┐\n",
       "┌┴┐  @ ⍴ ⊃\n",
       ", ⍉ ┌┴┐   \n",
       "    2 0   \n",
       "</span>"
      ]
     },
     "execution_count": 20,
     "metadata": {},
     "output_type": "execute_result"
    }
   ],
   "source": [
    ",∘⍉2@0⍴⊃"
   ]
  },
  {
   "cell_type": "markdown",
   "metadata": {},
   "source": [
    "The interesting bit is the fork `2@0⍴⊃`, so let's look at that:"
   ]
  },
  {
   "cell_type": "code",
   "execution_count": 21,
   "metadata": {},
   "outputs": [
    {
     "data": {
      "text/html": [
       "<span style=\"white-space:pre; font-family: monospace\"> ┌─┼─┐\n",
       " @ ⍴ ⊃\n",
       "┌┴┐   \n",
       "2 0   \n",
       "</span>"
      ]
     },
     "execution_count": 21,
     "metadata": {},
     "output_type": "execute_result"
    }
   ],
   "source": [
    "2@0⍴⊃"
   ]
  },
  {
   "cell_type": "code",
   "execution_count": 16,
   "metadata": {},
   "outputs": [
    {
     "data": {
      "text/html": [
       "<span style=\"white-space:pre; font-family: monospace\">1 2 3 4\n",
       "4 3 2 1\n",
       "</span>"
      ]
     },
     "execution_count": 16,
     "metadata": {},
     "output_type": "execute_result"
    }
   ],
   "source": [
    "(2@0⍴⊃) (1 2 3 4 4 3 2 1) 4"
   ]
  },
  {
   "cell_type": "markdown",
   "metadata": {},
   "source": [
    "Aha. Yes, there's the \"fold in half\" -- but how _does that work_? The middle tine is clearly the reshape, and the right tine picks the first element, which makes sense, but what of the left tine?"
   ]
  },
  {
   "cell_type": "code",
   "execution_count": 18,
   "metadata": {},
   "outputs": [
    {
     "data": {
      "text/html": [
       "<span style=\"white-space:pre; font-family: monospace\">2 4\n",
       "</span>"
      ]
     },
     "execution_count": 18,
     "metadata": {},
     "output_type": "execute_result"
    }
   ],
   "source": [
    "2@0 ⊢ (1 2 3 4 4 3 2 1) 4"
   ]
  },
  {
   "cell_type": "markdown",
   "metadata": {},
   "source": [
    "Wow. Did the penny drop? I think that qualifies as a code-golfer's trick shot. \n",
    "\n",
    "Other suggestions were:"
   ]
  },
  {
   "cell_type": "code",
   "execution_count": 25,
   "metadata": {},
   "outputs": [
    {
     "data": {
      "text/html": [
       "<span style=\"white-space:pre; font-family: monospace\">1 4 2 3 3 2 4 1\n",
       "</span>"
      ]
     },
     "execution_count": 25,
     "metadata": {},
     "output_type": "execute_result"
    },
    {
     "data": {
      "text/html": [
       "<span style=\"white-space:pre; font-family: monospace\">1 4 2 3 3 2 4 1\n",
       "</span>"
      ]
     },
     "execution_count": 25,
     "metadata": {},
     "output_type": "execute_result"
    }
   ],
   "source": [
    "((⍋≢⍴(⍳.5×≢))⊃¨⊂) 1 2 3 4 4 3 2 1 ⍝ Author: @Razetime -- no need for the length\n",
    "(⊢⌷⍨∘⊂∘⍋∘⍋2|⍳∘≢)  1 2 3 4 4 3 2 1 ⍝ Author: @rak1507  -- no need for the length"
   ]
  },
  {
   "cell_type": "markdown",
   "metadata": {},
   "source": [
    "Feel free to untangle those at your leisure."
   ]
  },
  {
   "cell_type": "code",
   "execution_count": null,
   "metadata": {},
   "outputs": [],
   "source": []
  }
 ],
 "metadata": {
  "kernelspec": {
   "display_name": "Dyalog APL",
   "language": "apl",
   "name": "dyalog-kernel"
  },
  "language_info": {
   "file_extension": ".apl",
   "mimetype": "text/apl",
   "name": "APL"
  }
 },
 "nbformat": 4,
 "nbformat_minor": 4
}
