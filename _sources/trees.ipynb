{
 "cells": [
  {
   "cell_type": "markdown",
   "id": "f93a2e27",
   "metadata": {},
   "source": [
    "# Trees and graphs\n",
    "\n",
    "Trees and graphs are important data structures, underpinning a great deal of disparate computing applications, ranging from databases, search, routing, navigation etc. At first blush, might not seem like good candidates for APL's array-based processing. We could, of course, represent such structures in APL like we'd do in any other language, but we'd not play to APL's strengths. Let's look at some options."
   ]
  },
  {
   "cell_type": "code",
   "execution_count": 62,
   "id": "b98ec47d",
   "metadata": {},
   "outputs": [
    {
     "data": {
      "text/html": [
       "<span style=\"white-space:pre; font-family: monospace\">┌→────────────────┐\n",
       "│Was ON -style=min│\n",
       "└─────────────────┘\n",
       "</span>"
      ]
     },
     "execution_count": 62,
     "metadata": {},
     "output_type": "execute_result"
    }
   ],
   "source": [
    "⎕IO←0\n",
    "]box on -s=max"
   ]
  },
  {
   "cell_type": "markdown",
   "id": "a366ee80",
   "metadata": {},
   "source": [
    "## Trees\n",
    "\n",
    "A _tree_ is a structure consisting of _nodes_, each holding some information payload, and each of which has exactly 1 parent node, and 0 or more child-nodes. We can stipulate the existence of 0 or 1 _root nodes_, where the parent node is the root node itself.\n",
    "\n",
    "We know by now that \"flat is fast\" when it comes to APL. We will strive to keep the tree _structure_ separate from its content. Here's a binary tree (each node has a maximum of two children):\n",
    "\n",
    "```\n",
    "      A\n",
    "     / \\\n",
    "    B   C\n",
    "   /    |\\\n",
    "  D     E F\n",
    "       /\n",
    "      G\n",
    "```\n",
    "We can represent this in APL with two vectors, one containing the payloads (the capital letters denoting the nodes in our diagram) and another mapping node index to parent:"
   ]
  },
  {
   "cell_type": "code",
   "execution_count": 15,
   "id": "c6996bfd",
   "metadata": {},
   "outputs": [],
   "source": [
    "nodes←'ABCDEFG'\n",
    "parents←0 0 0 1 2 2 4"
   ]
  },
  {
   "cell_type": "markdown",
   "id": "7ea00cb4",
   "metadata": {},
   "source": [
    "This representation has a couple of advantages. Firstly, the structure is flat, regardless of the number of child nodes a node can have. Secondly, adding nodes anywhere in the tree is an append-only operation. Let's say we wanted to add another node `H` under the `B` node:"
   ]
  },
  {
   "cell_type": "code",
   "execution_count": 16,
   "id": "095739d0",
   "metadata": {},
   "outputs": [],
   "source": [
    "nodes←'ABCDEFGH'\n",
    "parents←0 0 0 1 2 2 4 1  ⍝ Add H node"
   ]
  },
  {
   "cell_type": "markdown",
   "id": "13ac590a",
   "metadata": {},
   "source": [
    "A common operation on trees (and, indeed, graphs) is to find _paths_ between nodes. Let's say we want to find the sequence of nodes visited when traveling from the root node (`A`) to the node denoted by `G`. We'd go `ACEG`. This becomes a matter of starting at the target node, `G`, and jumping to its parent, `E`, then its parent, `C` and finally its parent is the root `A`. We then reverse the sequence. How can we do this in APL?\n",
    "\n",
    "Step 1 is to find the index of the target node. That's easy:"
   ]
  },
  {
   "cell_type": "code",
   "execution_count": 17,
   "id": "765980cd",
   "metadata": {},
   "outputs": [
    {
     "data": {
      "text/html": [
       "<span style=\"white-space:pre; font-family: monospace\">6\n",
       "</span>"
      ]
     },
     "execution_count": 17,
     "metadata": {},
     "output_type": "execute_result"
    }
   ],
   "source": [
    "target←⎕←nodes⍳'G'"
   ]
  },
  {
   "cell_type": "markdown",
   "id": "d7566f0b",
   "metadata": {},
   "source": [
    "Step 2 is to repeatedly visit the parents until the parent node stops changing (we know the root's parent is itself). This sounds easy, too, right? Surely, that's the power operator with a fixed-point, `{something}⍣≡target`? \n",
    "\n",
    "Almost. Unfortunately, the fixed-point only returns the _final_ answer:"
   ]
  },
  {
   "cell_type": "code",
   "execution_count": 18,
   "id": "7b7599b3",
   "metadata": {},
   "outputs": [
    {
     "data": {
      "text/html": [
       "<span style=\"white-space:pre; font-family: monospace\">0\n",
       "</span>"
      ]
     },
     "execution_count": 18,
     "metadata": {},
     "output_type": "execute_result"
    }
   ],
   "source": [
    "{⌊⍵÷2}⍣≡32   ⍝ Repeatedly integer-divide 32 by 2 until it no longer changes, 32 16 8 4 2 1 0"
   ]
  },
  {
   "cell_type": "markdown",
   "id": "195ea7af",
   "metadata": {},
   "source": [
    "Getting something that accumulates each intermediate value requires a bit of effort. Fortunately, we can pick the expression directly from [APLCart](https://aplcart.info/?q=scan%20power#):"
   ]
  },
  {
   "cell_type": "code",
   "execution_count": 19,
   "id": "e6bee204",
   "metadata": {},
   "outputs": [],
   "source": [
    "∆←{⍺←⊢ ⋄ r⊣⍺ ⍺⍺{⍺←⊢ ⋄ r,∘⊂←⍺ ⍺⍺ ⍵}⍣⍵⍵⊃r←⊂⍵}  ⍝ power-scan"
   ]
  },
  {
   "cell_type": "markdown",
   "id": "3caadc65",
   "metadata": {},
   "source": [
    "We'll hang that off a spare \"glyph\" so we can pretend this functionality is built-in. Let's see if it works:"
   ]
  },
  {
   "cell_type": "code",
   "execution_count": 20,
   "id": "aaa360bb",
   "metadata": {},
   "outputs": [
    {
     "data": {
      "text/html": [
       "<span style=\"white-space:pre; font-family: monospace\">6 4 2 0\n",
       "</span>"
      ]
     },
     "execution_count": 20,
     "metadata": {},
     "output_type": "execute_result"
    }
   ],
   "source": [
    "idx←⎕←{⍵⊃parents}∆{⍺=0}target"
   ]
  },
  {
   "cell_type": "markdown",
   "id": "52d8660a",
   "metadata": {},
   "source": [
    "Looks right - the first element is the target itself, and the last element is the root. Let's get the full path in terms of the node names:"
   ]
  },
  {
   "cell_type": "code",
   "execution_count": 21,
   "id": "e15a9879",
   "metadata": {},
   "outputs": [
    {
     "data": {
      "text/html": [
       "<span style=\"white-space:pre; font-family: monospace\">ACEG\n",
       "</span>"
      ]
     },
     "execution_count": 21,
     "metadata": {},
     "output_type": "execute_result"
    }
   ],
   "source": [
    "⊖nodes[idx]"
   ]
  },
  {
   "cell_type": "markdown",
   "id": "1c5ff40d",
   "metadata": {},
   "source": [
    "We can now combine this into a handy operator,"
   ]
  },
  {
   "cell_type": "code",
   "execution_count": 42,
   "id": "e5b9056a",
   "metadata": {},
   "outputs": [],
   "source": [
    "_path←{⊖⍺⍺∘{⍵⊃⍺}∆{⍺=0}⍵}"
   ]
  },
  {
   "cell_type": "code",
   "execution_count": 46,
   "id": "08c2d900",
   "metadata": {},
   "outputs": [
    {
     "data": {
      "text/html": [
       "<span style=\"white-space:pre; font-family: monospace\">0 2 4 6\n",
       "</span>"
      ]
     },
     "execution_count": 46,
     "metadata": {},
     "output_type": "execute_result"
    },
    {
     "data": {
      "text/html": [
       "<span style=\"white-space:pre; font-family: monospace\">ACEG\n",
       "</span>"
      ]
     },
     "execution_count": 46,
     "metadata": {},
     "output_type": "execute_result"
    }
   ],
   "source": [
    "p←⎕←(parents _path) nodes⍳'G'\n",
    "nodes[p]"
   ]
  },
  {
   "cell_type": "markdown",
   "id": "5a2b5ddd",
   "metadata": {},
   "source": [
    "Next up, we'll need a way to visit all nodes under a given node. This is called a _traversal_, and can be done in many ways. Let's start with a _breadth-first traversal_. Here's our tree again:\n",
    "\n",
    "```\n",
    "      A\n",
    "     / \\\n",
    "    B   C\n",
    "   /    |\\\n",
    "  D     E F\n",
    "       /\n",
    "      G\n",
    "```\n",
    "A breadth-first traversal starting at `C` would yield `C EF G`. A full traversal from the root would give us `A BC DEF G`. \n",
    "\n",
    "For this we can utilise our handy _power-scan_ operator, `∆`, again. This time, in each iteration we need to find all children, in turn, or if we flip that around, all nodes which have _me_ as their parent. We could use the _find_ built-in, `⍷`, for that, or an outer product,\n",
    "\n",
    "\n",
    "TODO wordle←∧/∊"
   ]
  },
  {
   "cell_type": "code",
   "execution_count": 90,
   "id": "10ae6710",
   "metadata": {},
   "outputs": [
    {
     "data": {
      "text/html": [
       "<span style=\"white-space:pre; font-family: monospace\">┌→─┐\n",
       "│EF│\n",
       "└──┘\n",
       "</span>"
      ]
     },
     "execution_count": 90,
     "metadata": {},
     "output_type": "execute_result"
    },
    {
     "data": {
      "text/html": [
       "<span style=\"white-space:pre; font-family: monospace\">┌→─┐\n",
       "│EF│\n",
       "└──┘\n",
       "</span>"
      ]
     },
     "execution_count": 90,
     "metadata": {},
     "output_type": "execute_result"
    }
   ],
   "source": [
    "C←nodes⍳'C'\n",
    "nodes[⍸C⍷parents]\n",
    "nodes[⍸C∘.=parents]"
   ]
  },
  {
   "cell_type": "markdown",
   "id": "cf4989dc",
   "metadata": {},
   "source": [
    "We'll use the outer product, as it's convenient if we want to look up several nodes at once."
   ]
  },
  {
   "cell_type": "code",
   "execution_count": 68,
   "id": "17f278e8",
   "metadata": {},
   "outputs": [],
   "source": [
    "nodes←'ABCDEFG'          ⍝ Here's our tree again\n",
    "parents←0 0 0 1 2 2 4"
   ]
  },
  {
   "cell_type": "markdown",
   "id": "f491a7b1",
   "metadata": {},
   "source": [
    "Let's concoct an operator again. A slight complication is that we need to exclude the zero index to avoid an infinite loop if we're starting from the root:"
   ]
  },
  {
   "cell_type": "code",
   "execution_count": 87,
   "id": "511259ca",
   "metadata": {},
   "outputs": [],
   "source": [
    "_bft←{¯1↓⍺⍺∘{0~⍨⍸∨⌿⍵∘.=⍺}∆{0=≢⍺},⍵}"
   ]
  },
  {
   "cell_type": "code",
   "execution_count": 88,
   "id": "2e8da468",
   "metadata": {},
   "outputs": [
    {
     "data": {
      "text/html": [
       "<span style=\"white-space:pre; font-family: monospace\">┌→──────────────┐\n",
       "│ ┌→┐ ┌→──┐ ┌→┐ │\n",
       "│ │2│ │4 5│ │6│ │\n",
       "│ └~┘ └~──┘ └~┘ │\n",
       "└∊──────────────┘\n",
       "</span>"
      ]
     },
     "execution_count": 88,
     "metadata": {},
     "output_type": "execute_result"
    },
    {
     "data": {
      "text/html": [
       "<span style=\"white-space:pre; font-family: monospace\">┌→─────────────┐\n",
       "│ ┌→┐ ┌→─┐ ┌→┐ │\n",
       "│ │C│ │EF│ │G│ │\n",
       "│ └─┘ └──┘ └─┘ │\n",
       "└∊─────────────┘\n",
       "</span>"
      ]
     },
     "execution_count": 88,
     "metadata": {},
     "output_type": "execute_result"
    },
    {
     "data": {
      "text/html": [
       "<span style=\"white-space:pre; font-family: monospace\">┌→──────────────────────┐\n",
       "│ ┌→┐ ┌→──┐ ┌→────┐ ┌→┐ │\n",
       "│ │0│ │1 2│ │3 4 5│ │6│ │\n",
       "│ └~┘ └~──┘ └~────┘ └~┘ │\n",
       "└∊──────────────────────┘\n",
       "</span>"
      ]
     },
     "execution_count": 88,
     "metadata": {},
     "output_type": "execute_result"
    },
    {
     "data": {
      "text/html": [
       "<span style=\"white-space:pre; font-family: monospace\">┌→───────────────────┐\n",
       "│ ┌→┐ ┌→─┐ ┌→──┐ ┌→┐ │\n",
       "│ │A│ │BC│ │DEF│ │G│ │\n",
       "│ └─┘ └──┘ └───┘ └─┘ │\n",
       "└∊───────────────────┘\n",
       "</span>"
      ]
     },
     "execution_count": 88,
     "metadata": {},
     "output_type": "execute_result"
    }
   ],
   "source": [
    "p←⎕←(parents _bft)nodes⍳'C'\n",
    "{nodes[⍵]}¨p\n",
    "p←⎕←(parents _bft)nodes⍳'A'\n",
    "{nodes[⍵]}¨p"
   ]
  },
  {
   "cell_type": "markdown",
   "id": "4e3e1b5d",
   "metadata": {},
   "source": [
    "What about a _depth_ first traversal? Assuming we process children left to right, the above tree would, from the root, yield a node order of `A B D C E G F`. In the binary tree case, we'd say \n",
    "\n",
    "1. Visit node\n",
    "2. Depth-first traversal of left child, if present\n",
    "3. Depth-first traversal of right child, if present\n",
    "\n",
    "which lends itself naturally to a recursive formulation:"
   ]
  },
  {
   "cell_type": "code",
   "execution_count": 76,
   "id": "b4e439e5",
   "metadata": {},
   "outputs": [],
   "source": [
    "_dftr←{⍺←⍬⋄0=≢⍵:⍺⋄(⍺,⊃⍵)∇(0~⍨⍸⍺⍺⍷⍨⊃⍵),1↓⍵}   ⍝ right arg to ∇ is a stack"
   ]
  },
  {
   "cell_type": "code",
   "execution_count": 77,
   "id": "27900864",
   "metadata": {},
   "outputs": [
    {
     "data": {
      "text/html": [
       "<span style=\"white-space:pre; font-family: monospace\">┌→──────┐\n",
       "│ABDCEGF│\n",
       "└───────┘\n",
       "</span>"
      ]
     },
     "execution_count": 77,
     "metadata": {},
     "output_type": "execute_result"
    }
   ],
   "source": [
    "nodes[(parents _dftr) nodes⍳'A']"
   ]
  },
  {
   "cell_type": "markdown",
   "id": "db1c3b01",
   "metadata": {},
   "source": [
    "Obviously, the difference between depth-first and breadth-first is just the order in which we process the remaining nodes. A recursive formulation of the `_bft` operator above is simply"
   ]
  },
  {
   "cell_type": "code",
   "execution_count": 93,
   "id": "57405eb3",
   "metadata": {},
   "outputs": [],
   "source": [
    "_bftr←{⍺←⍬⋄0=≢⍵:⍺⋄(⍺,⊃⍵)∇(1↓⍵),0~⍨⍸⍺⍺⍷⍨⊃⍵}  ⍝ right arg to ∇ is a queue"
   ]
  },
  {
   "cell_type": "code",
   "execution_count": 94,
   "id": "e1e7e3f9",
   "metadata": {},
   "outputs": [
    {
     "data": {
      "text/html": [
       "<span style=\"white-space:pre; font-family: monospace\">┌→──────┐\n",
       "│ABCDEFG│\n",
       "└───────┘\n",
       "</span>"
      ]
     },
     "execution_count": 94,
     "metadata": {},
     "output_type": "execute_result"
    }
   ],
   "source": [
    "nodes[(parents _bftr)nodes⍳'A']"
   ]
  },
  {
   "cell_type": "code",
   "execution_count": null,
   "id": "e609cfd8",
   "metadata": {},
   "outputs": [],
   "source": []
  }
 ],
 "metadata": {
  "kernelspec": {
   "display_name": "Dyalog APL",
   "language": "apl",
   "name": "dyalog-kernel"
  },
  "language_info": {
   "file_extension": ".apl",
   "mimetype": "text/apl",
   "name": "APL"
  }
 },
 "nbformat": 4,
 "nbformat_minor": 5
}
